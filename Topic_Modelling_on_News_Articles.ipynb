{
  "cells": [
    {
      "cell_type": "markdown",
      "metadata": {
        "id": "view-in-github",
        "colab_type": "text"
      },
      "source": [
        "<a href=\"https://colab.research.google.com/github/Prasad-Khedkar/Topic_Modelling_on_News_Articles/blob/main/Topic_Modelling_on_News_Articles.ipynb\" target=\"_parent\"><img src=\"https://colab.research.google.com/assets/colab-badge.svg\" alt=\"Open In Colab\"/></a>"
      ]
    },
    {
      "cell_type": "code",
      "execution_count": 1,
      "id": "90daa692",
      "metadata": {
        "id": "90daa692"
      },
      "outputs": [],
      "source": [
        "import pandas as pd\n",
        "import os"
      ]
    },
    {
      "cell_type": "code",
      "source": [
        "from google.colab import drive\n",
        "drive.mount('/content/drive')"
      ],
      "metadata": {
        "colab": {
          "base_uri": "https://localhost:8080/"
        },
        "id": "-IGMbahG7O5t",
        "outputId": "78df3747-77b7-489b-eff7-787106237ea0"
      },
      "id": "-IGMbahG7O5t",
      "execution_count": 2,
      "outputs": [
        {
          "output_type": "stream",
          "name": "stdout",
          "text": [
            "Drive already mounted at /content/drive; to attempt to forcibly remount, call drive.mount(\"/content/drive\", force_remount=True).\n"
          ]
        }
      ]
    },
    {
      "cell_type": "code",
      "execution_count": 3,
      "id": "4dff3003",
      "metadata": {
        "id": "4dff3003"
      },
      "outputs": [],
      "source": [
        "path = '/content/drive/My Drive/Projects/Topic_Modelling_on_News_Articles/Data/bbc/'"
      ]
    },
    {
      "cell_type": "code",
      "execution_count": 4,
      "id": "3d8e3ae8",
      "metadata": {
        "id": "3d8e3ae8"
      },
      "outputs": [],
      "source": [
        "news = []   ## Empty list for storing actual news in text       \n",
        "topics = [] ## Empty list for new theme"
      ]
    },
    {
      "cell_type": "code",
      "execution_count": 5,
      "id": "49adb394",
      "metadata": {
        "id": "49adb394"
      },
      "outputs": [],
      "source": [
        "Themes = ['business','entertainment','politics','sport','tech']  ## News themes "
      ]
    },
    {
      "cell_type": "code",
      "execution_count": 6,
      "id": "b7b4403e",
      "metadata": {
        "id": "b7b4403e"
      },
      "outputs": [],
      "source": [
        "for x in Themes:                               ## For every item in Themes\n",
        "    all_txt_files=os.listdir(path+x)           ## List al files present in given path\n",
        "    for files in all_txt_files:                ## For every item in txt_files\n",
        "        txt_path=path + x + '/' + files        ## specifying exact path of every text news file\n",
        "        with open(txt_path,'rb') as f:         ## open a text file\n",
        "            text=f.read()                      ## read text file\n",
        "        news.append(text)                      ## append text file which is our news, to empty news list\n",
        "        topics.append(x)                       ## append the topic of news file to empty topics list"
      ]
    },
    {
      "cell_type": "code",
      "execution_count": 7,
      "id": "97267aa8",
      "metadata": {
        "id": "97267aa8"
      },
      "outputs": [],
      "source": [
        "df_raw = pd.DataFrame()              ## creating empty dataframe"
      ]
    },
    {
      "cell_type": "code",
      "execution_count": 8,
      "id": "26b11f6b",
      "metadata": {
        "id": "26b11f6b"
      },
      "outputs": [],
      "source": [
        "df_raw['News'] = news                ## adding News column \n",
        "df_raw['News_Theme'] = topics        ## adding News_theme column"
      ]
    },
    {
      "cell_type": "code",
      "execution_count": 9,
      "id": "f45ee6b4",
      "metadata": {
        "colab": {
          "base_uri": "https://localhost:8080/",
          "height": 206
        },
        "id": "f45ee6b4",
        "outputId": "eeaea5ac-5c42-4521-be9e-ba7b3e2da510"
      },
      "outputs": [
        {
          "output_type": "execute_result",
          "data": {
            "text/plain": [
              "                                                News News_Theme\n",
              "0  b'Dollar gains on Greenspan speech\\n\\nThe doll...   business\n",
              "1  b'India calls for fair trade rules\\n\\nIndia, w...   business\n",
              "2  b'Ethiopia\\'s crop production up 24%\\n\\nEthiop...   business\n",
              "3  b'Japan narrowly escapes recession\\n\\nJapan\\'s...   business\n",
              "4  b'Steel firm \\'to cut\\' 45,000 jobs\\n\\nMittal ...   business"
            ],
            "text/html": [
              "\n",
              "  <div id=\"df-1de3aa92-31cf-4ecb-b191-9751fb18b600\">\n",
              "    <div class=\"colab-df-container\">\n",
              "      <div>\n",
              "<style scoped>\n",
              "    .dataframe tbody tr th:only-of-type {\n",
              "        vertical-align: middle;\n",
              "    }\n",
              "\n",
              "    .dataframe tbody tr th {\n",
              "        vertical-align: top;\n",
              "    }\n",
              "\n",
              "    .dataframe thead th {\n",
              "        text-align: right;\n",
              "    }\n",
              "</style>\n",
              "<table border=\"1\" class=\"dataframe\">\n",
              "  <thead>\n",
              "    <tr style=\"text-align: right;\">\n",
              "      <th></th>\n",
              "      <th>News</th>\n",
              "      <th>News_Theme</th>\n",
              "    </tr>\n",
              "  </thead>\n",
              "  <tbody>\n",
              "    <tr>\n",
              "      <th>0</th>\n",
              "      <td>b'Dollar gains on Greenspan speech\\n\\nThe doll...</td>\n",
              "      <td>business</td>\n",
              "    </tr>\n",
              "    <tr>\n",
              "      <th>1</th>\n",
              "      <td>b'India calls for fair trade rules\\n\\nIndia, w...</td>\n",
              "      <td>business</td>\n",
              "    </tr>\n",
              "    <tr>\n",
              "      <th>2</th>\n",
              "      <td>b'Ethiopia\\'s crop production up 24%\\n\\nEthiop...</td>\n",
              "      <td>business</td>\n",
              "    </tr>\n",
              "    <tr>\n",
              "      <th>3</th>\n",
              "      <td>b'Japan narrowly escapes recession\\n\\nJapan\\'s...</td>\n",
              "      <td>business</td>\n",
              "    </tr>\n",
              "    <tr>\n",
              "      <th>4</th>\n",
              "      <td>b'Steel firm \\'to cut\\' 45,000 jobs\\n\\nMittal ...</td>\n",
              "      <td>business</td>\n",
              "    </tr>\n",
              "  </tbody>\n",
              "</table>\n",
              "</div>\n",
              "      <button class=\"colab-df-convert\" onclick=\"convertToInteractive('df-1de3aa92-31cf-4ecb-b191-9751fb18b600')\"\n",
              "              title=\"Convert this dataframe to an interactive table.\"\n",
              "              style=\"display:none;\">\n",
              "        \n",
              "  <svg xmlns=\"http://www.w3.org/2000/svg\" height=\"24px\"viewBox=\"0 0 24 24\"\n",
              "       width=\"24px\">\n",
              "    <path d=\"M0 0h24v24H0V0z\" fill=\"none\"/>\n",
              "    <path d=\"M18.56 5.44l.94 2.06.94-2.06 2.06-.94-2.06-.94-.94-2.06-.94 2.06-2.06.94zm-11 1L8.5 8.5l.94-2.06 2.06-.94-2.06-.94L8.5 2.5l-.94 2.06-2.06.94zm10 10l.94 2.06.94-2.06 2.06-.94-2.06-.94-.94-2.06-.94 2.06-2.06.94z\"/><path d=\"M17.41 7.96l-1.37-1.37c-.4-.4-.92-.59-1.43-.59-.52 0-1.04.2-1.43.59L10.3 9.45l-7.72 7.72c-.78.78-.78 2.05 0 2.83L4 21.41c.39.39.9.59 1.41.59.51 0 1.02-.2 1.41-.59l7.78-7.78 2.81-2.81c.8-.78.8-2.07 0-2.86zM5.41 20L4 18.59l7.72-7.72 1.47 1.35L5.41 20z\"/>\n",
              "  </svg>\n",
              "      </button>\n",
              "      \n",
              "  <style>\n",
              "    .colab-df-container {\n",
              "      display:flex;\n",
              "      flex-wrap:wrap;\n",
              "      gap: 12px;\n",
              "    }\n",
              "\n",
              "    .colab-df-convert {\n",
              "      background-color: #E8F0FE;\n",
              "      border: none;\n",
              "      border-radius: 50%;\n",
              "      cursor: pointer;\n",
              "      display: none;\n",
              "      fill: #1967D2;\n",
              "      height: 32px;\n",
              "      padding: 0 0 0 0;\n",
              "      width: 32px;\n",
              "    }\n",
              "\n",
              "    .colab-df-convert:hover {\n",
              "      background-color: #E2EBFA;\n",
              "      box-shadow: 0px 1px 2px rgba(60, 64, 67, 0.3), 0px 1px 3px 1px rgba(60, 64, 67, 0.15);\n",
              "      fill: #174EA6;\n",
              "    }\n",
              "\n",
              "    [theme=dark] .colab-df-convert {\n",
              "      background-color: #3B4455;\n",
              "      fill: #D2E3FC;\n",
              "    }\n",
              "\n",
              "    [theme=dark] .colab-df-convert:hover {\n",
              "      background-color: #434B5C;\n",
              "      box-shadow: 0px 1px 3px 1px rgba(0, 0, 0, 0.15);\n",
              "      filter: drop-shadow(0px 1px 2px rgba(0, 0, 0, 0.3));\n",
              "      fill: #FFFFFF;\n",
              "    }\n",
              "  </style>\n",
              "\n",
              "      <script>\n",
              "        const buttonEl =\n",
              "          document.querySelector('#df-1de3aa92-31cf-4ecb-b191-9751fb18b600 button.colab-df-convert');\n",
              "        buttonEl.style.display =\n",
              "          google.colab.kernel.accessAllowed ? 'block' : 'none';\n",
              "\n",
              "        async function convertToInteractive(key) {\n",
              "          const element = document.querySelector('#df-1de3aa92-31cf-4ecb-b191-9751fb18b600');\n",
              "          const dataTable =\n",
              "            await google.colab.kernel.invokeFunction('convertToInteractive',\n",
              "                                                     [key], {});\n",
              "          if (!dataTable) return;\n",
              "\n",
              "          const docLinkHtml = 'Like what you see? Visit the ' +\n",
              "            '<a target=\"_blank\" href=https://colab.research.google.com/notebooks/data_table.ipynb>data table notebook</a>'\n",
              "            + ' to learn more about interactive tables.';\n",
              "          element.innerHTML = '';\n",
              "          dataTable['output_type'] = 'display_data';\n",
              "          await google.colab.output.renderOutput(dataTable, element);\n",
              "          const docLink = document.createElement('div');\n",
              "          docLink.innerHTML = docLinkHtml;\n",
              "          element.appendChild(docLink);\n",
              "        }\n",
              "      </script>\n",
              "    </div>\n",
              "  </div>\n",
              "  "
            ]
          },
          "metadata": {},
          "execution_count": 9
        }
      ],
      "source": [
        "df_raw.head()"
      ]
    },
    {
      "cell_type": "code",
      "execution_count": 10,
      "id": "c2a1893f",
      "metadata": {
        "colab": {
          "base_uri": "https://localhost:8080/",
          "height": 206
        },
        "id": "c2a1893f",
        "outputId": "6b7921b9-86ec-42a1-ebb9-89bd5a8def36"
      },
      "outputs": [
        {
          "output_type": "execute_result",
          "data": {
            "text/plain": [
              "                                                   News News_Theme\n",
              "2220  b'Court mulls file-sharing future\\n\\nJudges at...       tech\n",
              "2221  b'\\'Podcasters\\' look to net money\\n\\nNasa is ...       tech\n",
              "2222  b'Hitachi unveils \\'fastest robot\\'\\n\\nJapanes...       tech\n",
              "2223  b'Sony PSP tipped as a \\'must-have\\'\\n\\nSony\\'...       tech\n",
              "2224  b'Spam e-mails tempt net shoppers\\n\\nComputer ...       tech"
            ],
            "text/html": [
              "\n",
              "  <div id=\"df-b1309ef9-8e1d-4418-9cf0-60a7a522b946\">\n",
              "    <div class=\"colab-df-container\">\n",
              "      <div>\n",
              "<style scoped>\n",
              "    .dataframe tbody tr th:only-of-type {\n",
              "        vertical-align: middle;\n",
              "    }\n",
              "\n",
              "    .dataframe tbody tr th {\n",
              "        vertical-align: top;\n",
              "    }\n",
              "\n",
              "    .dataframe thead th {\n",
              "        text-align: right;\n",
              "    }\n",
              "</style>\n",
              "<table border=\"1\" class=\"dataframe\">\n",
              "  <thead>\n",
              "    <tr style=\"text-align: right;\">\n",
              "      <th></th>\n",
              "      <th>News</th>\n",
              "      <th>News_Theme</th>\n",
              "    </tr>\n",
              "  </thead>\n",
              "  <tbody>\n",
              "    <tr>\n",
              "      <th>2220</th>\n",
              "      <td>b'Court mulls file-sharing future\\n\\nJudges at...</td>\n",
              "      <td>tech</td>\n",
              "    </tr>\n",
              "    <tr>\n",
              "      <th>2221</th>\n",
              "      <td>b'\\'Podcasters\\' look to net money\\n\\nNasa is ...</td>\n",
              "      <td>tech</td>\n",
              "    </tr>\n",
              "    <tr>\n",
              "      <th>2222</th>\n",
              "      <td>b'Hitachi unveils \\'fastest robot\\'\\n\\nJapanes...</td>\n",
              "      <td>tech</td>\n",
              "    </tr>\n",
              "    <tr>\n",
              "      <th>2223</th>\n",
              "      <td>b'Sony PSP tipped as a \\'must-have\\'\\n\\nSony\\'...</td>\n",
              "      <td>tech</td>\n",
              "    </tr>\n",
              "    <tr>\n",
              "      <th>2224</th>\n",
              "      <td>b'Spam e-mails tempt net shoppers\\n\\nComputer ...</td>\n",
              "      <td>tech</td>\n",
              "    </tr>\n",
              "  </tbody>\n",
              "</table>\n",
              "</div>\n",
              "      <button class=\"colab-df-convert\" onclick=\"convertToInteractive('df-b1309ef9-8e1d-4418-9cf0-60a7a522b946')\"\n",
              "              title=\"Convert this dataframe to an interactive table.\"\n",
              "              style=\"display:none;\">\n",
              "        \n",
              "  <svg xmlns=\"http://www.w3.org/2000/svg\" height=\"24px\"viewBox=\"0 0 24 24\"\n",
              "       width=\"24px\">\n",
              "    <path d=\"M0 0h24v24H0V0z\" fill=\"none\"/>\n",
              "    <path d=\"M18.56 5.44l.94 2.06.94-2.06 2.06-.94-2.06-.94-.94-2.06-.94 2.06-2.06.94zm-11 1L8.5 8.5l.94-2.06 2.06-.94-2.06-.94L8.5 2.5l-.94 2.06-2.06.94zm10 10l.94 2.06.94-2.06 2.06-.94-2.06-.94-.94-2.06-.94 2.06-2.06.94z\"/><path d=\"M17.41 7.96l-1.37-1.37c-.4-.4-.92-.59-1.43-.59-.52 0-1.04.2-1.43.59L10.3 9.45l-7.72 7.72c-.78.78-.78 2.05 0 2.83L4 21.41c.39.39.9.59 1.41.59.51 0 1.02-.2 1.41-.59l7.78-7.78 2.81-2.81c.8-.78.8-2.07 0-2.86zM5.41 20L4 18.59l7.72-7.72 1.47 1.35L5.41 20z\"/>\n",
              "  </svg>\n",
              "      </button>\n",
              "      \n",
              "  <style>\n",
              "    .colab-df-container {\n",
              "      display:flex;\n",
              "      flex-wrap:wrap;\n",
              "      gap: 12px;\n",
              "    }\n",
              "\n",
              "    .colab-df-convert {\n",
              "      background-color: #E8F0FE;\n",
              "      border: none;\n",
              "      border-radius: 50%;\n",
              "      cursor: pointer;\n",
              "      display: none;\n",
              "      fill: #1967D2;\n",
              "      height: 32px;\n",
              "      padding: 0 0 0 0;\n",
              "      width: 32px;\n",
              "    }\n",
              "\n",
              "    .colab-df-convert:hover {\n",
              "      background-color: #E2EBFA;\n",
              "      box-shadow: 0px 1px 2px rgba(60, 64, 67, 0.3), 0px 1px 3px 1px rgba(60, 64, 67, 0.15);\n",
              "      fill: #174EA6;\n",
              "    }\n",
              "\n",
              "    [theme=dark] .colab-df-convert {\n",
              "      background-color: #3B4455;\n",
              "      fill: #D2E3FC;\n",
              "    }\n",
              "\n",
              "    [theme=dark] .colab-df-convert:hover {\n",
              "      background-color: #434B5C;\n",
              "      box-shadow: 0px 1px 3px 1px rgba(0, 0, 0, 0.15);\n",
              "      filter: drop-shadow(0px 1px 2px rgba(0, 0, 0, 0.3));\n",
              "      fill: #FFFFFF;\n",
              "    }\n",
              "  </style>\n",
              "\n",
              "      <script>\n",
              "        const buttonEl =\n",
              "          document.querySelector('#df-b1309ef9-8e1d-4418-9cf0-60a7a522b946 button.colab-df-convert');\n",
              "        buttonEl.style.display =\n",
              "          google.colab.kernel.accessAllowed ? 'block' : 'none';\n",
              "\n",
              "        async function convertToInteractive(key) {\n",
              "          const element = document.querySelector('#df-b1309ef9-8e1d-4418-9cf0-60a7a522b946');\n",
              "          const dataTable =\n",
              "            await google.colab.kernel.invokeFunction('convertToInteractive',\n",
              "                                                     [key], {});\n",
              "          if (!dataTable) return;\n",
              "\n",
              "          const docLinkHtml = 'Like what you see? Visit the ' +\n",
              "            '<a target=\"_blank\" href=https://colab.research.google.com/notebooks/data_table.ipynb>data table notebook</a>'\n",
              "            + ' to learn more about interactive tables.';\n",
              "          element.innerHTML = '';\n",
              "          dataTable['output_type'] = 'display_data';\n",
              "          await google.colab.output.renderOutput(dataTable, element);\n",
              "          const docLink = document.createElement('div');\n",
              "          docLink.innerHTML = docLinkHtml;\n",
              "          element.appendChild(docLink);\n",
              "        }\n",
              "      </script>\n",
              "    </div>\n",
              "  </div>\n",
              "  "
            ]
          },
          "metadata": {},
          "execution_count": 10
        }
      ],
      "source": [
        "df_raw.tail()"
      ]
    },
    {
      "cell_type": "code",
      "execution_count": 11,
      "id": "5e96e561",
      "metadata": {
        "colab": {
          "base_uri": "https://localhost:8080/"
        },
        "id": "5e96e561",
        "outputId": "fa7d9c51-ffab-4832-836b-fd25db799396"
      },
      "outputs": [
        {
          "output_type": "execute_result",
          "data": {
            "text/plain": [
              "(2225, 2)"
            ]
          },
          "metadata": {},
          "execution_count": 11
        }
      ],
      "source": [
        "df_raw.shape            ## Shape of raw data with total 2225 rows and 2 columns"
      ]
    },
    {
      "cell_type": "markdown",
      "id": "563eab8a",
      "metadata": {
        "id": "563eab8a"
      },
      "source": [
        "## Data Cleaning"
      ]
    },
    {
      "cell_type": "code",
      "execution_count": 12,
      "id": "64a4aeaa",
      "metadata": {
        "id": "64a4aeaa"
      },
      "outputs": [],
      "source": [
        "df = df_raw.copy()      ## First creating a deep copy"
      ]
    },
    {
      "cell_type": "code",
      "execution_count": 13,
      "id": "43a1cf8e",
      "metadata": {
        "colab": {
          "base_uri": "https://localhost:8080/"
        },
        "id": "43a1cf8e",
        "outputId": "5209cdcd-3b2f-479b-c8be-efbea1d6b02d"
      },
      "outputs": [
        {
          "output_type": "stream",
          "name": "stdout",
          "text": [
            "<class 'pandas.core.frame.DataFrame'>\n",
            "RangeIndex: 2225 entries, 0 to 2224\n",
            "Data columns (total 2 columns):\n",
            " #   Column      Non-Null Count  Dtype \n",
            "---  ------      --------------  ----- \n",
            " 0   News        2225 non-null   object\n",
            " 1   News_Theme  2225 non-null   object\n",
            "dtypes: object(2)\n",
            "memory usage: 34.9+ KB\n"
          ]
        }
      ],
      "source": [
        "df.info()"
      ]
    },
    {
      "cell_type": "code",
      "execution_count": 14,
      "id": "0260629d",
      "metadata": {
        "colab": {
          "base_uri": "https://localhost:8080/"
        },
        "id": "0260629d",
        "outputId": "c8a40cff-9410-468a-80c4-a07ff4ece34a"
      },
      "outputs": [
        {
          "output_type": "execute_result",
          "data": {
            "text/plain": [
              "News          0\n",
              "News_Theme    0\n",
              "dtype: int64"
            ]
          },
          "metadata": {},
          "execution_count": 14
        }
      ],
      "source": [
        "df.isnull().sum()"
      ]
    },
    {
      "cell_type": "markdown",
      "id": "10f4fea3",
      "metadata": {
        "id": "10f4fea3"
      },
      "source": [
        "### *Insight* : No null values present "
      ]
    },
    {
      "cell_type": "code",
      "execution_count": 15,
      "id": "18a7451d",
      "metadata": {
        "id": "18a7451d"
      },
      "outputs": [],
      "source": [
        "df.drop_duplicates(keep = 'first',inplace = True)  ## Dropping duplicate values/rows"
      ]
    },
    {
      "cell_type": "code",
      "execution_count": 16,
      "id": "b7b20b2b",
      "metadata": {
        "colab": {
          "base_uri": "https://localhost:8080/"
        },
        "id": "b7b20b2b",
        "outputId": "6ff1dfdf-f8b8-4649-cf15-4e7e9e98e5d1"
      },
      "outputs": [
        {
          "output_type": "execute_result",
          "data": {
            "text/plain": [
              "(2127, 2)"
            ]
          },
          "metadata": {},
          "execution_count": 16
        }
      ],
      "source": [
        "df.shape        ## shape changed "
      ]
    },
    {
      "cell_type": "code",
      "execution_count": 17,
      "id": "b10d562b",
      "metadata": {
        "colab": {
          "base_uri": "https://localhost:8080/"
        },
        "id": "b10d562b",
        "outputId": "6bc0d8f8-9d70-43fa-9294-2f7c7e606ff9"
      },
      "outputs": [
        {
          "output_type": "execute_result",
          "data": {
            "text/plain": [
              "98"
            ]
          },
          "metadata": {},
          "execution_count": 17
        }
      ],
      "source": [
        "2225-2127      ## No. of duplicate rows present"
      ]
    },
    {
      "cell_type": "markdown",
      "id": "f5484ffc",
      "metadata": {
        "id": "f5484ffc"
      },
      "source": [
        "### *Insight* : 98 duplicate rows found and removed"
      ]
    },
    {
      "cell_type": "code",
      "execution_count": 18,
      "id": "c3915748",
      "metadata": {
        "colab": {
          "base_uri": "https://localhost:8080/"
        },
        "id": "c3915748",
        "outputId": "fb2fcc0e-5947-45e9-dc19-e8781ec0803f"
      },
      "outputs": [
        {
          "output_type": "execute_result",
          "data": {
            "text/plain": [
              "sport            505\n",
              "business         503\n",
              "politics         403\n",
              "entertainment    369\n",
              "tech             347\n",
              "Name: News_Theme, dtype: int64"
            ]
          },
          "metadata": {},
          "execution_count": 18
        }
      ],
      "source": [
        "a = df['News_Theme'].value_counts()\n",
        "a"
      ]
    },
    {
      "cell_type": "code",
      "execution_count": 19,
      "id": "5c8f7bee",
      "metadata": {
        "id": "5c8f7bee"
      },
      "outputs": [],
      "source": [
        "import matplotlib.pyplot as plt"
      ]
    },
    {
      "cell_type": "code",
      "execution_count": 20,
      "id": "0cfb61d4",
      "metadata": {
        "colab": {
          "base_uri": "https://localhost:8080/",
          "height": 264
        },
        "id": "0cfb61d4",
        "outputId": "897e2e0c-f8e4-48f3-a557-2aeed5c3a6a8"
      },
      "outputs": [
        {
          "output_type": "display_data",
          "data": {
            "text/plain": [
              "<Figure size 432x288 with 1 Axes>"
            ],
            "image/png": "[encoded data removed]"
          },
          "metadata": {}
        }
      ],
      "source": [
        "plt.pie(a, autopct = '%0.2f%%' , labels = a.index)\n",
        "plt.title('News Topics %', size = 12)\n",
        "plt.show()"
      ]
    },
    {
      "cell_type": "markdown",
      "id": "35b6b325",
      "metadata": {
        "id": "35b6b325"
      },
      "source": [
        "## NLP Text Pre-processing"
      ]
    },
    {
      "cell_type": "code",
      "execution_count": 21,
      "id": "9d846b73",
      "metadata": {
        "colab": {
          "base_uri": "https://localhost:8080/"
        },
        "id": "9d846b73",
        "outputId": "4e50b31e-1b14-4a3b-c4e9-63e076f3cebf"
      },
      "outputs": [
        {
          "output_type": "execute_result",
          "data": {
            "text/plain": [
              "b'Dollar gains on Greenspan speech\\n\\nThe dollar has hit its highest level against the euro in almost three months after the Federal Reserve head said the US trade deficit is set to stabilise.\\n\\nAnd Alan Greenspan highlighted the US government\\'s willingness to curb spending and rising household savings as factors which may help to reduce it. In late trading in New York, the dollar reached $1.2871 against the euro, from $1.2974 on Thursday. Market concerns about the deficit has hit the greenback in recent months. On Friday, Federal Reserve chairman Mr Greenspan\\'s speech in London ahead of the meeting of G7 finance ministers sent the dollar higher after it had earlier tumbled on the back of worse-than-expected US jobs data. \"I think the chairman\\'s taking a much more sanguine view on the current account deficit than he\\'s taken for some time,\" said Robert Sinche, head of currency strategy at Bank of America in New York. \"He\\'s taking a longer-term view, laying out a set of conditions under which the current account deficit can improve this year and next.\"\\n\\nWorries about the deficit concerns about China do, however, remain. China\\'s currency remains pegged to the dollar and the US currency\\'s sharp falls in recent months have therefore made Chinese export prices highly competitive. But calls for a shift in Beijing\\'s policy have fallen on deaf ears, despite recent comments in a major Chinese newspaper that the \"time is ripe\" for a loosening of the peg. The G7 meeting is thought unlikely to produce any meaningful movement in Chinese policy. In the meantime, the US Federal Reserve\\'s decision on 2 February to boost interest rates by a quarter of a point - the sixth such move in as many months - has opened up a differential with European rates. The half-point window, some believe, could be enough to keep US assets looking more attractive, and could help prop up the dollar. The recent falls have partly been the result of big budget deficits, as well as the US\\'s yawning current account gap, both of which need to be funded by the buying of US bonds and assets by foreign firms and governments. The White House will announce its budget on Monday, and many commentators believe the deficit will remain at close to half a trillion dollars.\\n'"
            ]
          },
          "metadata": {},
          "execution_count": 21
        }
      ],
      "source": [
        "df['News'][0]"
      ]
    },
    {
      "cell_type": "code",
      "execution_count": 22,
      "id": "c6e51817",
      "metadata": {
        "id": "c6e51817"
      },
      "outputs": [],
      "source": [
        "from bs4 import BeautifulSoup       ## A powerful package to scrape text from webpages"
      ]
    },
    {
      "cell_type": "code",
      "execution_count": 23,
      "id": "7cc645f4",
      "metadata": {
        "id": "7cc645f4"
      },
      "outputs": [],
      "source": [
        "df['News'] = [BeautifulSoup(k).get_text() for k in df['News'] ]     ## Scraping html tags"
      ]
    },
    {
      "cell_type": "code",
      "execution_count": 24,
      "id": "998a19e3",
      "metadata": {
        "id": "998a19e3"
      },
      "outputs": [],
      "source": [
        "import re"
      ]
    },
    {
      "cell_type": "code",
      "execution_count": 25,
      "id": "f2a10482",
      "metadata": {
        "id": "f2a10482"
      },
      "outputs": [],
      "source": [
        "df['News'] = [re.sub(r'https?://\\S+|www\\.\\S+', '', k1) for k1 in df['News']]      ## removing any urls present"
      ]
    },
    {
      "cell_type": "code",
      "execution_count": 26,
      "id": "912c95bd",
      "metadata": {
        "colab": {
          "base_uri": "https://localhost:8080/"
        },
        "id": "912c95bd",
        "outputId": "e0354a26-3746-4335-f37d-97eccedc58eb"
      },
      "outputs": [
        {
          "output_type": "execute_result",
          "data": {
            "text/plain": [
              "0       Dollar gains on Greenspan speech\\n\\nThe dollar...\n",
              "1       India calls for fair trade rules\\n\\nIndia, whi...\n",
              "2       Ethiopia's crop production up 24%\\n\\nEthiopia ...\n",
              "3       Japan narrowly escapes recession\\n\\nJapan's ec...\n",
              "4       Steel firm 'to cut' 45,000 jobs\\n\\nMittal Stee...\n",
              "                              ...                        \n",
              "2218    Beckham virus spotted on the net\\n\\nVirus writ...\n",
              "2220    Court mulls file-sharing future\\n\\nJudges at t...\n",
              "2221    'Podcasters' look to net money\\n\\nNasa is doin...\n",
              "2222    Hitachi unveils 'fastest robot'\\n\\nJapanese el...\n",
              "2223    Sony PSP tipped as a 'must-have'\\n\\nSony's Pla...\n",
              "Name: News, Length: 2127, dtype: object"
            ]
          },
          "metadata": {},
          "execution_count": 26
        }
      ],
      "source": [
        "df['News']"
      ]
    },
    {
      "cell_type": "code",
      "execution_count": 27,
      "id": "a54bccc9",
      "metadata": {
        "colab": {
          "base_uri": "https://localhost:8080/",
          "height": 123
        },
        "id": "a54bccc9",
        "outputId": "3c2c9ff5-78ed-4bbb-af1e-bc90749b7729"
      },
      "outputs": [
        {
          "output_type": "execute_result",
          "data": {
            "text/plain": [
              "'Ethiopia\\'s crop production up 24%\\n\\nEthiopia produced 14.27 million tonnes of crops in 2004, 24% higher than in 2003 and 21% more than the average of the past five years, a report says.\\n\\nIn 2003, crop production totalled 11.49 million tonnes, the joint report from the Food and Agriculture Organisation and the World Food Programme said. Good rains, increased use of fertilizers and improved seeds contributed to the rise in production. Nevertheless, 2.2 million Ethiopians will still need emergency assistance.\\n\\nThe report calculated emergency food requirements for 2005 to be 387,500 tonnes. On top of that, 89,000 tonnes of fortified blended food and vegetable oil for \"targeted supplementary food distributions for a survival programme for children under five and pregnant and lactating women\" will be needed.\\n\\nIn eastern and southern Ethiopia, a prolonged drought has killed crops and drained wells. Last year, a total of 965,000 tonnes of food assistance was needed to help seven million Ethiopians. The Food and Agriculture Organisation (FAO) recommend that the food assistance is bought locally. \"Local purchase of cereals for food assistance programmes is recommended as far as possible, so as to assist domestic markets and farmers,\" said Henri Josserand, chief of FAO\\'s Global Information and Early Warning System. Agriculture is the main economic activity in Ethiopia, representing 45% of gross domestic product. About 80% of Ethiopians depend directly or indirectly on agriculture.\\n'"
            ],
            "application/vnd.google.colaboratory.intrinsic+json": {
              "type": "string"
            }
          },
          "metadata": {},
          "execution_count": 27
        }
      ],
      "source": [
        "df.News[2]"
      ]
    },
    {
      "cell_type": "markdown",
      "id": "c0ae3e9a",
      "metadata": {
        "id": "c0ae3e9a"
      },
      "source": [
        "## Removing non-word characters"
      ]
    },
    {
      "cell_type": "code",
      "execution_count": 28,
      "id": "780c4b9c",
      "metadata": {
        "id": "780c4b9c"
      },
      "outputs": [],
      "source": [
        "df['News'] = [re.sub(r\"b\\'\", \"\", k2) for k2 in df['News']]    ## Replacing 'b\\' character with ''"
      ]
    },
    {
      "cell_type": "code",
      "execution_count": 29,
      "id": "b52e956b",
      "metadata": {
        "colab": {
          "base_uri": "https://localhost:8080/",
          "height": 123
        },
        "id": "b52e956b",
        "outputId": "8c4b9f90-9652-45ce-ce37-07d894d8d011"
      },
      "outputs": [
        {
          "output_type": "execute_result",
          "data": {
            "text/plain": [
              "'Ethiopia\\'s crop production up 24%\\n\\nEthiopia produced 14.27 million tonnes of crops in 2004, 24% higher than in 2003 and 21% more than the average of the past five years, a report says.\\n\\nIn 2003, crop production totalled 11.49 million tonnes, the joint report from the Food and Agriculture Organisation and the World Food Programme said. Good rains, increased use of fertilizers and improved seeds contributed to the rise in production. Nevertheless, 2.2 million Ethiopians will still need emergency assistance.\\n\\nThe report calculated emergency food requirements for 2005 to be 387,500 tonnes. On top of that, 89,000 tonnes of fortified blended food and vegetable oil for \"targeted supplementary food distributions for a survival programme for children under five and pregnant and lactating women\" will be needed.\\n\\nIn eastern and southern Ethiopia, a prolonged drought has killed crops and drained wells. Last year, a total of 965,000 tonnes of food assistance was needed to help seven million Ethiopians. The Food and Agriculture Organisation (FAO) recommend that the food assistance is bought locally. \"Local purchase of cereals for food assistance programmes is recommended as far as possible, so as to assist domestic markets and farmers,\" said Henri Josserand, chief of FAO\\'s Global Information and Early Warning System. Agriculture is the main economic activity in Ethiopia, representing 45% of gross domestic product. About 80% of Ethiopians depend directly or indirectly on agriculture.\\n'"
            ],
            "application/vnd.google.colaboratory.intrinsic+json": {
              "type": "string"
            }
          },
          "metadata": {},
          "execution_count": 29
        }
      ],
      "source": [
        "df['News'][2]"
      ]
    },
    {
      "cell_type": "code",
      "execution_count": 30,
      "id": "36395006",
      "metadata": {
        "id": "36395006"
      },
      "outputs": [],
      "source": [
        "df['News'] = [re.sub(r\"\\\\n\\\\n\", \" \",k3) for k3 in df['News']]           ## Replacing other non-word characters\n",
        "df['News'] = [re.sub(r\"\\\\\\'s\", \" \",k4) for k4 in df['News']] \n",
        "df['News'] = [re.sub(r\"\\\\\\'\", \" \", k5) for k5 in df['News']]\n",
        "df['News'] = [re.sub(r\"\\\\n\\'\", \" \", k6) for k6 in df['News']]\n",
        "df['News'] = [re.sub(r\"\\n\\n\", \" \", k7) for k7 in df['News']]\n",
        "df['News'] = [re.sub(r'\\\\xc2\\\\xa3','\\xA3', k8) for k8 in df['News']]     ## \"\\xA3\" is unicode for symbol pound    \n",
        "df['News'] = [re.sub(r\"\\'s\",'', k9) for k9 in df['News']] \n",
        "df['News'] = [re.sub(r'\\\\n\"','', k10) for k10 in df['News']] \n",
        "df['News'] = [re.sub(r'b\"','', k11) for k11 in df['News']] \n",
        "df['News'] = [re.sub(r'\\n','', k12) for k12 in df['News']]"
      ]
    },
    {
      "cell_type": "code",
      "execution_count": 31,
      "id": "4356ef1f",
      "metadata": {
        "scrolled": true,
        "colab": {
          "base_uri": "https://localhost:8080/"
        },
        "id": "4356ef1f",
        "outputId": "1217164f-081d-46a2-87bd-73737304f5ac"
      },
      "outputs": [
        {
          "output_type": "execute_result",
          "data": {
            "text/plain": [
              "b'Dollar gains on Greenspan speech\\n\\nThe dollar has hit its highest level against the euro in almost three months after the Federal Reserve head said the US trade deficit is set to stabilise.\\n\\nAnd Alan Greenspan highlighted the US government\\'s willingness to curb spending and rising household savings as factors which may help to reduce it. In late trading in New York, the dollar reached $1.2871 against the euro, from $1.2974 on Thursday. Market concerns about the deficit has hit the greenback in recent months. On Friday, Federal Reserve chairman Mr Greenspan\\'s speech in London ahead of the meeting of G7 finance ministers sent the dollar higher after it had earlier tumbled on the back of worse-than-expected US jobs data. \"I think the chairman\\'s taking a much more sanguine view on the current account deficit than he\\'s taken for some time,\" said Robert Sinche, head of currency strategy at Bank of America in New York. \"He\\'s taking a longer-term view, laying out a set of conditions under which the current account deficit can improve this year and next.\"\\n\\nWorries about the deficit concerns about China do, however, remain. China\\'s currency remains pegged to the dollar and the US currency\\'s sharp falls in recent months have therefore made Chinese export prices highly competitive. But calls for a shift in Beijing\\'s policy have fallen on deaf ears, despite recent comments in a major Chinese newspaper that the \"time is ripe\" for a loosening of the peg. The G7 meeting is thought unlikely to produce any meaningful movement in Chinese policy. In the meantime, the US Federal Reserve\\'s decision on 2 February to boost interest rates by a quarter of a point - the sixth such move in as many months - has opened up a differential with European rates. The half-point window, some believe, could be enough to keep US assets looking more attractive, and could help prop up the dollar. The recent falls have partly been the result of big budget deficits, as well as the US\\'s yawning current account gap, both of which need to be funded by the buying of US bonds and assets by foreign firms and governments. The White House will announce its budget on Monday, and many commentators believe the deficit will remain at close to half a trillion dollars.\\n'"
            ]
          },
          "metadata": {},
          "execution_count": 31
        }
      ],
      "source": [
        "df_raw['News'][0]      ##  News before replacing characters"
      ]
    },
    {
      "cell_type": "code",
      "execution_count": 32,
      "id": "c4d76985",
      "metadata": {
        "colab": {
          "base_uri": "https://localhost:8080/",
          "height": 123
        },
        "id": "c4d76985",
        "outputId": "2cb2025e-4722-4e98-a8f8-81767b6cf983"
      },
      "outputs": [
        {
          "output_type": "execute_result",
          "data": {
            "text/plain": [
              "'Dollar gains on Greenspan speech The dollar has hit its highest level against the euro in almost three months after the Federal Reserve head said the US trade deficit is set to stabilise. And Alan Greenspan highlighted the US government willingness to curb spending and rising household savings as factors which may help to reduce it. In late trading in New York, the dollar reached $1.2871 against the euro, from $1.2974 on Thursday. Market concerns about the deficit has hit the greenback in recent months. On Friday, Federal Reserve chairman Mr Greenspan speech in London ahead of the meeting of G7 finance ministers sent the dollar higher after it had earlier tumbled on the back of worse-than-expected US jobs data. \"I think the chairman taking a much more sanguine view on the current account deficit than he taken for some time,\" said Robert Sinche, head of currency strategy at Bank of America in New York. \"He taking a longer-term view, laying out a set of conditions under which the current account deficit can improve this year and next.\" Worries about the deficit concerns about China do, however, remain. China currency remains pegged to the dollar and the US currency sharp falls in recent months have therefore made Chinese export prices highly competitive. But calls for a shift in Beijing policy have fallen on deaf ears, despite recent comments in a major Chinese newspaper that the \"time is ripe\" for a loosening of the peg. The G7 meeting is thought unlikely to produce any meaningful movement in Chinese policy. In the meantime, the US Federal Reserve decision on 2 February to boost interest rates by a quarter of a point - the sixth such move in as many months - has opened up a differential with European rates. The half-point window, some believe, could be enough to keep US assets looking more attractive, and could help prop up the dollar. The recent falls have partly been the result of big budget deficits, as well as the US yawning current account gap, both of which need to be funded by the buying of US bonds and assets by foreign firms and governments. The White House will announce its budget on Monday, and many commentators believe the deficit will remain at close to half a trillion dollars.'"
            ],
            "application/vnd.google.colaboratory.intrinsic+json": {
              "type": "string"
            }
          },
          "metadata": {},
          "execution_count": 32
        }
      ],
      "source": [
        "df['News'][0]      ## After replacing the no-word characters"
      ]
    },
    {
      "cell_type": "code",
      "execution_count": 33,
      "id": "b033e362",
      "metadata": {
        "colab": {
          "base_uri": "https://localhost:8080/",
          "height": 123
        },
        "id": "b033e362",
        "outputId": "cf5720e0-d4fc-4958-e6dd-ee2a7a2d54b3"
      },
      "outputs": [
        {
          "output_type": "execute_result",
          "data": {
            "text/plain": [
              "'Ethiopia crop production up 24% Ethiopia produced 14.27 million tonnes of crops in 2004, 24% higher than in 2003 and 21% more than the average of the past five years, a report says. In 2003, crop production totalled 11.49 million tonnes, the joint report from the Food and Agriculture Organisation and the World Food Programme said. Good rains, increased use of fertilizers and improved seeds contributed to the rise in production. Nevertheless, 2.2 million Ethiopians will still need emergency assistance. The report calculated emergency food requirements for 2005 to be 387,500 tonnes. On top of that, 89,000 tonnes of fortified blended food and vegetable oil for \"targeted supplementary food distributions for a survival programme for children under five and pregnant and lactating women\" will be needed. In eastern and southern Ethiopia, a prolonged drought has killed crops and drained wells. Last year, a total of 965,000 tonnes of food assistance was needed to help seven million Ethiopians. The Food and Agriculture Organisation (FAO) recommend that the food assistance is bought locally. \"Local purchase of cereals for food assistance programmes is recommended as far as possible, so as to assist domestic markets and farmers,\" said Henri Josserand, chief of FAO Global Information and Early Warning System. Agriculture is the main economic activity in Ethiopia, representing 45% of gross domestic product. About 80% of Ethiopians depend directly or indirectly on agriculture.'"
            ],
            "application/vnd.google.colaboratory.intrinsic+json": {
              "type": "string"
            }
          },
          "metadata": {},
          "execution_count": 33
        }
      ],
      "source": [
        "df['News'][2]"
      ]
    },
    {
      "cell_type": "code",
      "execution_count": 34,
      "id": "923e9156",
      "metadata": {
        "colab": {
          "base_uri": "https://localhost:8080/",
          "height": 123
        },
        "id": "923e9156",
        "outputId": "60ed4926-6710-47b5-b8a4-06a5fc434162"
      },
      "outputs": [
        {
          "output_type": "execute_result",
          "data": {
            "text/plain": [
              "'Rap boss arrested over drug find Rap mogul Marion \"Suge\" Knight has been arrested for violating his parole after he was allegedly found with marijuana. He was arrested in Barstow, California, on Saturday following an alleged traffic offence. He is expected to be transferred to a state prison while a decision is made on whether he should be released. Mr Knight, founder of Death Row Records, served a 10-month jail term in 2004 for punching a man while on parole for an assault conviction. Police said Mr Knight was stopped on Saturday after performing an illegal U-turn and a search of his car allegedly found marijuana. He is also accused of not having insurance. A 18-year-old woman in the car was arrested for providing false information and having a fake ID card. She was later released. It was his second alleged violation, having previously served half of a nine-year sentence for breaking the terms of his parole. Mr Knight, 39, was jailed in October 1996 following his involvement in a fight with a rival gang just hours before rapper Tupac Shakur was killed in a Las Vegas drive-by shooting. He was driving Shakur car at the time and was shot in the head. At the time he was on probation for assaulting two musicians. Mr Knight, a former bodyguard, set up Death Row records in the early 1990s with Shakur and Dr Dre among his protegees. But the label has always been dogged by allegations it supports gang culture and fuels the east and west coast rap rivalry.'"
            ],
            "application/vnd.google.colaboratory.intrinsic+json": {
              "type": "string"
            }
          },
          "metadata": {},
          "execution_count": 34
        }
      ],
      "source": [
        "df['News'][555]"
      ]
    },
    {
      "cell_type": "code",
      "execution_count": 35,
      "id": "e166c47e",
      "metadata": {
        "colab": {
          "base_uri": "https://localhost:8080/",
          "height": 123
        },
        "id": "e166c47e",
        "outputId": "04e81b86-a318-455e-9248-f051e9611331"
      },
      "outputs": [
        {
          "output_type": "execute_result",
          "data": {
            "text/plain": [
              "'Slimmer PlayStation triple sales Sony PlayStation 2 slimmer shape has proved popular with UK gamers, with 50,000 sold in its first week on sale. Sales have tripled since launch, outstripping Microsoft Xbox, said market analysts Chart-Track. The numbers were also boosted by the release of the PS2-only game Grand Theft Auto: San Andreas. The title broke the UK sales record for video games in its first weekend of release. Latest figures suggest it has sold more than 677,000 copies. \"It is obviously very, very encouraging for Sony because Microsoft briefly outsold them last week,\" John Houlihan, editor of Computerandvideogames.com told BBC News. \"And with Halo 2 [for Xbox] out next week, it really is a head-to-head contest between them and Xbox.\" Although Xbox sales over the last week also climbed, PS2 sales were more than double that. The figures mean Sony is reaching the seven million barrier for UK sales of the console. Edinburgh-based developer, Rockstar, which is behind the GTA titles, has seen San Andreas pull in an estimated £24m in gross revenues over the weekend. In comparison, blockbuster films like Harry Potter and The Prisoner Of Azkaban took £11.5m in its first three days at the UK box office. The Lord of the Rings: The Return of the King took nearly £10m over its opening weekend, although games titles are four to five times more expensive than cinema tickets. Gangster-themed GTA San Andreas is the sequel to Grand Theft Auto Vice City which previously held the record for the fastest-selling video game ever. The Xbox game Halo 2, released on 11 November in the UK, is also widely tipped to be one of the best-selling games of the year. The original title won universal acclaim in 2001, and sold more than four million copies. Mr Houlihan added that Sony had done well with the PS2, but it definitely helped that the release of San Andreas coincided with the slimline PS2 hitting the shelves. The run-up to Christmas is a huge battlefield for games consoles and titles. Microsoft Xbox had been winning the race up until last week in sales. The sales figures also suggest that it may be a largely adult audience driving demand, since GTA San Andreas has an 18 certificate. Sony and Microsoft have both reduced console prices recently and are preparing the way for the launches of their next generation consoles in 2005. \"Both have hit crucial price points at around £100 and that really does open up new consoles to new audience, plus the release of two really important games in terms of development are also driving those sales,\" said Mr Houlihan.'"
            ],
            "application/vnd.google.colaboratory.intrinsic+json": {
              "type": "string"
            }
          },
          "metadata": {},
          "execution_count": 35
        }
      ],
      "source": [
        "df['News'][2000]"
      ]
    },
    {
      "cell_type": "markdown",
      "id": "fa4003b7",
      "metadata": {
        "id": "fa4003b7"
      },
      "source": [
        "###  *Result* : Now, there are no non-word characters present."
      ]
    },
    {
      "cell_type": "markdown",
      "id": "6d3271f9",
      "metadata": {
        "id": "6d3271f9"
      },
      "source": [
        "## Removing Punctuations"
      ]
    },
    {
      "cell_type": "code",
      "execution_count": 36,
      "id": "95d49772",
      "metadata": {
        "id": "95d49772"
      },
      "outputs": [],
      "source": [
        "import string"
      ]
    },
    {
      "cell_type": "code",
      "execution_count": 37,
      "id": "03de81a8",
      "metadata": {
        "colab": {
          "base_uri": "https://localhost:8080/",
          "height": 36
        },
        "id": "03de81a8",
        "outputId": "2d92178d-c78e-436a-f090-82d2d38c2a3b"
      },
      "outputs": [
        {
          "output_type": "execute_result",
          "data": {
            "text/plain": [
              "'!\"#$%&\\'()*+,-./:;<=>?@[\\\\]^_`{|}~'"
            ],
            "application/vnd.google.colaboratory.intrinsic+json": {
              "type": "string"
            }
          },
          "metadata": {},
          "execution_count": 37
        }
      ],
      "source": [
        "string.punctuation"
      ]
    },
    {
      "cell_type": "code",
      "execution_count": 38,
      "id": "991c4249",
      "metadata": {
        "id": "991c4249"
      },
      "outputs": [],
      "source": [
        "kj = str.maketrans('', '', '!\"#$%&\\'()*+,-./:;?@[\\\\]^_{|}~`£')         ## Replacing '' with '' and removing punctuation set"
      ]
    },
    {
      "cell_type": "code",
      "execution_count": 39,
      "id": "e6bfe939",
      "metadata": {
        "id": "e6bfe939"
      },
      "outputs": [],
      "source": [
        "df['News'] = [k_j.translate(kj) for k_j in df['News']]"
      ]
    },
    {
      "cell_type": "code",
      "execution_count": 40,
      "id": "907a3199",
      "metadata": {
        "colab": {
          "base_uri": "https://localhost:8080/",
          "height": 123
        },
        "id": "907a3199",
        "outputId": "16e7cc6d-ff4d-47e4-8b8c-ab6833e9bc81"
      },
      "outputs": [
        {
          "output_type": "execute_result",
          "data": {
            "text/plain": [
              "'Air passengers win new EU rights Air passengers who are unable to board their flights because of overbooking cancellations or flight delays can now demand greater compensation New EU rules set compensation at between 250 euros 173 and 600 euros depending on the length of the flight The new rules will apply to all scheduled and charter flights including budget airlines Airlines have attacked the legislation saying they could be forced to push prices higher to cover the extra cost The European Commission is facing two legal challenges  one from the European Lowfare Airlines Association ELAA and the other from the International Air Transport Association IATA which has attacked the package as a bad piece of legislation Previously passengers could claim between 150 euros and 300 euros if they had been stopped from boarding However only scheduled flight operators were obliged to offer compensation in cases of overbooking and they did not have to offer compensation for flight cancellations The EU decided to increase passenger compensation in a bid to deter airlines from deliberately overbooking flights Overbooking can often lead to bumping  when a passenger is moved to a later flight When this happens against a passenger will airlines will now have to offer compensation In addition if a flight is cancelled or delayed for more than two hours through the fault of the airline all passengers must be paid compensation However airlines do not have to offer compensation if flights are cancelled or delayed due to extraordinary circumstances Airlines fear that extraordinary circumstances may not include bad weather security alerts or strikes  events which are outside of their control All EUbased airlines and operators of flights which take off from the EU will have to adhere to the new compensation regime which came into force on Thursday Lowcost airlines have criticised the new compensation levels arguing that the payout could be worth more than the ticket It a preposterous piece of legislation we among all airlines are fighting this Ryanair deputy chief executive Michael Cawley told Radio 4 Today programme The European Regions Airline Association ERAA claims that neither airlines nor consumers were consulted over the changes Andy Clarke ERAA director of air transport said that the EC advice misleads customers as it leads them to believe that airlines could be liable for payouts if flights are delayed because of bad weather EC spokeswoman Marja QuillinanMeiland conceded there were grey areas but said these are not as big as the airlines are making out In cases of dispute national enforcement bodies would decide whether the passenger had a case she said New technology means it is easier for airlines to take off and land in bad weather she added The ERAA Mr Clarke also warned that while airlines would comply with the new rules the extra costs would be passed onto passengers We reckon it going to cost European air passengers  not the airlines the airlines have no money it has to be paid by passengers  15bn euros that over 1bn a year loaded onto European passengers Mr Clarke said That basically a transfer of money from passengers whose journeys are not disrupted to passengers whose journeys are disrupted On Wednesday Jacques Barrot vice president of the European Commission and also Commissioner for Transport said that the changes were necessary The boom in air travel needs to be accompanied by proper protection of passengers right This is a concrete example of how the Union benefits people daily lives he added The EC has launched an information campaign in airports and travel agencies to inform airline passengers of their new rights'"
            ],
            "application/vnd.google.colaboratory.intrinsic+json": {
              "type": "string"
            }
          },
          "metadata": {},
          "execution_count": 40
        }
      ],
      "source": [
        "df['News'][5]"
      ]
    },
    {
      "cell_type": "markdown",
      "id": "3d9d7d1b",
      "metadata": {
        "id": "3d9d7d1b"
      },
      "source": [
        "## Lowering the case"
      ]
    },
    {
      "cell_type": "code",
      "execution_count": 41,
      "id": "552e620f",
      "metadata": {
        "id": "552e620f"
      },
      "outputs": [],
      "source": [
        "df['News'] = [lc.lower() for lc in df['News']]              ## Lower the case to give equal importance to words"
      ]
    },
    {
      "cell_type": "code",
      "execution_count": 42,
      "id": "73b12544",
      "metadata": {
        "colab": {
          "base_uri": "https://localhost:8080/",
          "height": 123
        },
        "id": "73b12544",
        "outputId": "6bb90f4e-cd96-4d08-8a16-0284387218fa"
      },
      "outputs": [
        {
          "output_type": "execute_result",
          "data": {
            "text/plain": [
              "'air passengers win new eu rights air passengers who are unable to board their flights because of overbooking cancellations or flight delays can now demand greater compensation new eu rules set compensation at between 250 euros 173 and 600 euros depending on the length of the flight the new rules will apply to all scheduled and charter flights including budget airlines airlines have attacked the legislation saying they could be forced to push prices higher to cover the extra cost the european commission is facing two legal challenges  one from the european lowfare airlines association elaa and the other from the international air transport association iata which has attacked the package as a bad piece of legislation previously passengers could claim between 150 euros and 300 euros if they had been stopped from boarding however only scheduled flight operators were obliged to offer compensation in cases of overbooking and they did not have to offer compensation for flight cancellations the eu decided to increase passenger compensation in a bid to deter airlines from deliberately overbooking flights overbooking can often lead to bumping  when a passenger is moved to a later flight when this happens against a passenger will airlines will now have to offer compensation in addition if a flight is cancelled or delayed for more than two hours through the fault of the airline all passengers must be paid compensation however airlines do not have to offer compensation if flights are cancelled or delayed due to extraordinary circumstances airlines fear that extraordinary circumstances may not include bad weather security alerts or strikes  events which are outside of their control all eubased airlines and operators of flights which take off from the eu will have to adhere to the new compensation regime which came into force on thursday lowcost airlines have criticised the new compensation levels arguing that the payout could be worth more than the ticket it a preposterous piece of legislation we among all airlines are fighting this ryanair deputy chief executive michael cawley told radio 4 today programme the european regions airline association eraa claims that neither airlines nor consumers were consulted over the changes andy clarke eraa director of air transport said that the ec advice misleads customers as it leads them to believe that airlines could be liable for payouts if flights are delayed because of bad weather ec spokeswoman marja quillinanmeiland conceded there were grey areas but said these are not as big as the airlines are making out in cases of dispute national enforcement bodies would decide whether the passenger had a case she said new technology means it is easier for airlines to take off and land in bad weather she added the eraa mr clarke also warned that while airlines would comply with the new rules the extra costs would be passed onto passengers we reckon it going to cost european air passengers  not the airlines the airlines have no money it has to be paid by passengers  15bn euros that over 1bn a year loaded onto european passengers mr clarke said that basically a transfer of money from passengers whose journeys are not disrupted to passengers whose journeys are disrupted on wednesday jacques barrot vice president of the european commission and also commissioner for transport said that the changes were necessary the boom in air travel needs to be accompanied by proper protection of passengers right this is a concrete example of how the union benefits people daily lives he added the ec has launched an information campaign in airports and travel agencies to inform airline passengers of their new rights'"
            ],
            "application/vnd.google.colaboratory.intrinsic+json": {
              "type": "string"
            }
          },
          "metadata": {},
          "execution_count": 42
        }
      ],
      "source": [
        "df['News'][5]"
      ]
    },
    {
      "cell_type": "markdown",
      "id": "85a33541",
      "metadata": {
        "id": "85a33541"
      },
      "source": [
        "## Removing Extra space"
      ]
    },
    {
      "cell_type": "code",
      "execution_count": 43,
      "id": "03edbded",
      "metadata": {
        "id": "03edbded"
      },
      "outputs": [],
      "source": [
        "df['News'] = [re.sub(r'  ','', e_sp) for e_sp in df['News']]     ## Removing extra space to save memory"
      ]
    },
    {
      "cell_type": "code",
      "execution_count": 44,
      "id": "1dc94aed",
      "metadata": {
        "colab": {
          "base_uri": "https://localhost:8080/",
          "height": 123
        },
        "id": "1dc94aed",
        "outputId": "71800b10-43ee-4dfd-c54d-f6080d7ca0c6"
      },
      "outputs": [
        {
          "output_type": "execute_result",
          "data": {
            "text/plain": [
              "'call centre users lose patience customers trying to get through to call centres are getting impatient and quicker to hang up a survey suggests once past the welcome message callers on average hang up after just 65 seconds of listening to canned music the drop in patience comes as the number of calls to call centres is growing at a rate of 20 every year customers are getting used to the idea of an always available society says cara diemont of it firm dimension data which commissioned the survey however call centres also saw a sharp increase of customers simply abandoning calls she says from just over 5 in 2003 to a record 133 during last year when automated phone message systems are taken out of the equation where customers have to pick their way through multiple options and messages the number of abandoned calls is even highera sixth of all callers give up rather than wait one possible reason for the lack in patience ms diemont says is the fact that more customers are calling on the move using their mobile phones the surge in customers trying to get through to call centres is also a reflection of the centres growing range of tasks once a call centre may have looked after mortgages now its agents may also be responsible for credit cards insurance and current accounts ms diemont says problems are occurring because increased responsibility is not going handinhand with more training the survey found in what dimension data calls an alarming development the average induction time for a call centre worker fell last year from 36 to just 21 days leaving agents not equipped to deal with customers this ms diemont warns is scary and not good for the bottom line either poor training frustrates both call centre workers and customers as a result call centres have a high churn rate with nearly a quarter of workers throwing in the towel every year which in turn forces companies to pay for training new staff resolution ratesthe number of calls where a customer query is resolved to mutual satisfactionare running at just 50 when the query is passed on to a second or third persona specialist or managerrates rise to about 70 but that is still well below the industry target of an 85 resolution rate suggestions that outsourcingrelocating call centres to lowcost countries like india or south africais to blame are wrong ms diemont says there are no big differences in wait time and call resolution between call centres based in europe or north america and those in developing countries around the world you can make call centres perform anywhere if you have good management and the right processes in place she says however companies that decide to offshore their operations are driven not just by cost considerations only 42 of them say that saving money is the main consideration when closing domestic call centre operations half of them argue that workers in other countries offer better skills for the money but not everybody believes that outsourcing and offshoring are the solution nearly twothirds of all firms polled for the survey have no plans to offshore their call centres they give three key reasons for not making the movecall centre operations are part of their business core function they are worried about the risk of going abroad they fear that they will damage their brand if they join the offshoring drive the survey was conducted by sunovate on behalf of dimension data and is based on indepth questionnaires of 166 call centres in 24 countries and five continents what are your experiences with call centres are you happy to listen to vivaldi or greensleeves or do you want an immediate response and if you work in a call centre did your training prepare you for your job'"
            ],
            "application/vnd.google.colaboratory.intrinsic+json": {
              "type": "string"
            }
          },
          "metadata": {},
          "execution_count": 44
        }
      ],
      "source": [
        "df['News'][6]"
      ]
    },
    {
      "cell_type": "markdown",
      "id": "616d3ae6",
      "metadata": {
        "id": "616d3ae6"
      },
      "source": [
        "## Removing Numbers"
      ]
    },
    {
      "cell_type": "code",
      "execution_count": 45,
      "id": "0b218bef",
      "metadata": {
        "id": "0b218bef"
      },
      "outputs": [],
      "source": [
        "df['News'] = [re.sub(r'\\d+','', d1) for d1 in df['News']] "
      ]
    },
    {
      "cell_type": "code",
      "execution_count": 46,
      "id": "cd094c5a",
      "metadata": {
        "colab": {
          "base_uri": "https://localhost:8080/",
          "height": 123
        },
        "id": "cd094c5a",
        "outputId": "42935124-09ce-4ab2-ab94-2691db0083cf"
      },
      "outputs": [
        {
          "output_type": "execute_result",
          "data": {
            "text/plain": [
              "'india calls for fair trade rules india which attends the g meeting of seven leading industrialised nations on friday is unlikely to be cowed by its newcomer status in london on thursday ahead of the meeting india finance minister lashed out at the restrictive trade policies of the g nations he objected to subsidies on agriculture that make it hard for developing nations like india to compete he also called for reform of the united nations the world bank and the imf palaniappan chidambaram india finance minister argued that these organisations need to take into account the changing world order given india and china integration into the global economy he said the issue is not globalisation but the terms of engagement in globalisation mr chidambaram is attending the g meeting as part of the g group of nations which account for two thirds of the world population at a conference on developing enterprise hosted by uk finance minister gordon brown on friday he said that he was in favour of floating exchange rates because they help countries cope with economic shocks a flexible exchange rate is one more channel for absorbing both positive and negative shocks he told the conference india along with china brazil south africa and russia has been invited to take part in the g meeting taking place in london on friday and saturday china is expected to face renewed pressure to abandon its fixed exchange rate which g nations in particular the us have blamed for a surge in cheap chinese exports some countries have tried to use fixed exchange rates i do not wish to make any judgements mr chidambaram said separately the imf warned on thursday that india budget deficit was too large and would hamper the country economic growth which it forecast to be around  in the year to march  in the year to march  the indian economy grew by '"
            ],
            "application/vnd.google.colaboratory.intrinsic+json": {
              "type": "string"
            }
          },
          "metadata": {},
          "execution_count": 46
        }
      ],
      "source": [
        "df['News'][1]"
      ]
    },
    {
      "cell_type": "markdown",
      "id": "733b28ea",
      "metadata": {
        "id": "733b28ea"
      },
      "source": [
        "## Lemmatization"
      ]
    },
    {
      "cell_type": "code",
      "source": [
        "import nltk\n",
        "nltk.download('wordnet')"
      ],
      "metadata": {
        "colab": {
          "base_uri": "https://localhost:8080/"
        },
        "id": "HaUJjulN8Mru",
        "outputId": "b277fc96-47d8-4146-c100-f10a2f6183e5"
      },
      "id": "HaUJjulN8Mru",
      "execution_count": 47,
      "outputs": [
        {
          "output_type": "stream",
          "name": "stderr",
          "text": [
            "[nltk_data] Downloading package wordnet to /root/nltk_data...\n",
            "[nltk_data]   Package wordnet is already up-to-date!\n"
          ]
        },
        {
          "output_type": "execute_result",
          "data": {
            "text/plain": [
              "True"
            ]
          },
          "metadata": {},
          "execution_count": 47
        }
      ]
    },
    {
      "cell_type": "code",
      "execution_count": 48,
      "id": "76650540",
      "metadata": {
        "id": "76650540"
      },
      "outputs": [],
      "source": [
        "from nltk.stem import WordNetLemmatizer \n",
        "lmt = WordNetLemmatizer()"
      ]
    },
    {
      "cell_type": "code",
      "source": [
        "nltk.download('omw-1.4')"
      ],
      "metadata": {
        "colab": {
          "base_uri": "https://localhost:8080/"
        },
        "id": "IB-KEF0Y8drE",
        "outputId": "1d3cd524-9b74-43ae-d833-9af537f07b94"
      },
      "id": "IB-KEF0Y8drE",
      "execution_count": 49,
      "outputs": [
        {
          "output_type": "stream",
          "name": "stderr",
          "text": [
            "[nltk_data] Downloading package omw-1.4 to /root/nltk_data...\n",
            "[nltk_data]   Package omw-1.4 is already up-to-date!\n"
          ]
        },
        {
          "output_type": "execute_result",
          "data": {
            "text/plain": [
              "True"
            ]
          },
          "metadata": {},
          "execution_count": 49
        }
      ]
    },
    {
      "cell_type": "code",
      "execution_count": 50,
      "id": "0fbe52a0",
      "metadata": {
        "id": "0fbe52a0"
      },
      "outputs": [],
      "source": [
        "def lemmatize_word(nbp): \n",
        "\tlemma = [lmt.lemmatize(wds, pos ='v') for wds in nbp.split()] \n",
        "\treturn \" \".join(lemma)"
      ]
    },
    {
      "cell_type": "code",
      "execution_count": 51,
      "id": "71ca0393",
      "metadata": {
        "id": "71ca0393"
      },
      "outputs": [],
      "source": [
        "df['News'] = df['News'].apply(lemmatize_word)"
      ]
    },
    {
      "cell_type": "code",
      "execution_count": 52,
      "id": "d1fe006e",
      "metadata": {
        "colab": {
          "base_uri": "https://localhost:8080/",
          "height": 123
        },
        "id": "d1fe006e",
        "outputId": "cac76774-97ff-4362-d2a5-61dc0718e088"
      },
      "outputs": [
        {
          "output_type": "execute_result",
          "data": {
            "text/plain": [
              "'india call for fair trade rule india which attend the g meet of seven lead industrialise nations on friday be unlikely to be cow by its newcomer status in london on thursday ahead of the meet india finance minister lash out at the restrictive trade policies of the g nations he object to subsidies on agriculture that make it hard for develop nations like india to compete he also call for reform of the unite nations the world bank and the imf palaniappan chidambaram india finance minister argue that these organisations need to take into account the change world order give india and china integration into the global economy he say the issue be not globalisation but the term of engagement in globalisation mr chidambaram be attend the g meet as part of the g group of nations which account for two thirds of the world population at a conference on develop enterprise host by uk finance minister gordon brown on friday he say that he be in favour of float exchange rat because they help countries cope with economic shock a flexible exchange rate be one more channel for absorb both positive and negative shock he tell the conference india along with china brazil south africa and russia have be invite to take part in the g meet take place in london on friday and saturday china be expect to face renew pressure to abandon its fix exchange rate which g nations in particular the us have blame for a surge in cheap chinese export some countries have try to use fix exchange rat i do not wish to make any judgements mr chidambaram say separately the imf warn on thursday that india budget deficit be too large and would hamper the country economic growth which it forecast to be around in the year to march in the year to march the indian economy grow by'"
            ],
            "application/vnd.google.colaboratory.intrinsic+json": {
              "type": "string"
            }
          },
          "metadata": {},
          "execution_count": 52
        }
      ],
      "source": [
        "df['News'][1]"
      ]
    },
    {
      "cell_type": "markdown",
      "id": "8b33e6f0",
      "metadata": {
        "id": "8b33e6f0"
      },
      "source": [
        "## Removing Stop words"
      ]
    },
    {
      "cell_type": "code",
      "source": [
        "nltk.download('stopwords')"
      ],
      "metadata": {
        "colab": {
          "base_uri": "https://localhost:8080/"
        },
        "id": "XYsph66D8rYS",
        "outputId": "c4c0af24-d118-4d46-9c14-2578220859d3"
      },
      "id": "XYsph66D8rYS",
      "execution_count": 53,
      "outputs": [
        {
          "output_type": "stream",
          "name": "stderr",
          "text": [
            "[nltk_data] Downloading package stopwords to /root/nltk_data...\n",
            "[nltk_data]   Package stopwords is already up-to-date!\n"
          ]
        },
        {
          "output_type": "execute_result",
          "data": {
            "text/plain": [
              "True"
            ]
          },
          "metadata": {},
          "execution_count": 53
        }
      ]
    },
    {
      "cell_type": "code",
      "execution_count": 54,
      "id": "9992688b",
      "metadata": {
        "id": "9992688b"
      },
      "outputs": [],
      "source": [
        "from nltk.corpus import stopwords"
      ]
    },
    {
      "cell_type": "code",
      "execution_count": 55,
      "id": "1b79801f",
      "metadata": {
        "id": "1b79801f"
      },
      "outputs": [],
      "source": [
        "all_sw = stopwords.words('english')"
      ]
    },
    {
      "cell_type": "code",
      "execution_count": 56,
      "id": "58acb11b",
      "metadata": {
        "id": "58acb11b"
      },
      "outputs": [],
      "source": [
        "def rem_stop_words(klp):\n",
        "    klp = [wd.lower() for wd in klp.split() if wd.lower() not in all_sw]\n",
        "    return \" \".join(klp)"
      ]
    },
    {
      "cell_type": "code",
      "execution_count": 57,
      "id": "2967fe2e",
      "metadata": {
        "id": "2967fe2e"
      },
      "outputs": [],
      "source": [
        "df['News'] = df['News'].apply(rem_stop_words)"
      ]
    },
    {
      "cell_type": "code",
      "execution_count": 58,
      "id": "0510130a",
      "metadata": {
        "colab": {
          "base_uri": "https://localhost:8080/",
          "height": 123
        },
        "id": "0510130a",
        "outputId": "7a84a41e-4819-4851-ff0a-422c3d86e7c4"
      },
      "outputs": [
        {
          "output_type": "execute_result",
          "data": {
            "text/plain": [
              "'india call fair trade rule india attend g meet seven lead industrialise nations friday unlikely cow newcomer status london thursday ahead meet india finance minister lash restrictive trade policies g nations object subsidies agriculture make hard develop nations like india compete also call reform unite nations world bank imf palaniappan chidambaram india finance minister argue organisations need take account change world order give india china integration global economy say issue globalisation term engagement globalisation mr chidambaram attend g meet part g group nations account two thirds world population conference develop enterprise host uk finance minister gordon brown friday say favour float exchange rat help countries cope economic shock flexible exchange rate one channel absorb positive negative shock tell conference india along china brazil south africa russia invite take part g meet take place london friday saturday china expect face renew pressure abandon fix exchange rate g nations particular us blame surge cheap chinese export countries try use fix exchange rat wish make judgements mr chidambaram say separately imf warn thursday india budget deficit large would hamper country economic growth forecast around year march year march indian economy grow'"
            ],
            "application/vnd.google.colaboratory.intrinsic+json": {
              "type": "string"
            }
          },
          "metadata": {},
          "execution_count": 58
        }
      ],
      "source": [
        "df['News'][1]"
      ]
    },
    {
      "cell_type": "code",
      "execution_count": 58,
      "id": "c06c3db4",
      "metadata": {
        "id": "c06c3db4"
      },
      "outputs": [],
      "source": []
    }
  ],
  "metadata": {
    "kernelspec": {
      "display_name": "Python 3 (ipykernel)",
      "language": "python",
      "name": "python3"
    },
    "language_info": {
      "codemirror_mode": {
        "name": "ipython",
        "version": 3
      },
      "file_extension": ".py",
      "mimetype": "text/x-python",
      "name": "python",
      "nbconvert_exporter": "python",
      "pygments_lexer": "ipython3",
      "version": "3.9.13"
    },
    "colab": {
      "provenance": [],
      "include_colab_link": true
    }
  },
  "nbformat": 4,
  "nbformat_minor": 5
}