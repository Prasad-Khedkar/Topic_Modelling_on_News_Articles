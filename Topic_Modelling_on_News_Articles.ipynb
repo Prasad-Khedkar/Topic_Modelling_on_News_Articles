{
  "cells": [
    {
      "cell_type": "markdown",
      "metadata": {
        "id": "view-in-github",
        "colab_type": "text"
      },
      "source": [
        "<a href=\"https://colab.research.google.com/github/Prasad-Khedkar/Topic_Modelling_on_News_Articles/blob/main/Topic_Modelling_on_News_Articles.ipynb\" target=\"_parent\"><img src=\"https://colab.research.google.com/assets/colab-badge.svg\" alt=\"Open In Colab\"/></a>"
      ]
    },
    {
      "cell_type": "code",
      "execution_count": 1,
      "id": "90daa692",
      "metadata": {
        "id": "90daa692"
      },
      "outputs": [],
      "source": [
        "import pandas as pd\n",
        "import os"
      ]
    },
    {
      "cell_type": "code",
      "source": [
        "from google.colab import drive\n",
        "drive.mount('/content/drive')"
      ],
      "metadata": {
        "colab": {
          "base_uri": "https://localhost:8080/"
        },
        "id": "vfEC5Y6MrxTo",
        "outputId": "765f11fb-a18b-48d4-f244-2da68db3a0e2"
      },
      "id": "vfEC5Y6MrxTo",
      "execution_count": 2,
      "outputs": [
        {
          "output_type": "stream",
          "name": "stdout",
          "text": [
            "Drive already mounted at /content/drive; to attempt to forcibly remount, call drive.mount(\"/content/drive\", force_remount=True).\n"
          ]
        }
      ]
    },
    {
      "cell_type": "code",
      "execution_count": 3,
      "id": "4dff3003",
      "metadata": {
        "id": "4dff3003"
      },
      "outputs": [],
      "source": [
        "path = '/content/drive/My Drive/Projects/Topic_Modelling_on_News_Articles/Data/bbc/'"
      ]
    },
    {
      "cell_type": "code",
      "execution_count": 4,
      "id": "3d8e3ae8",
      "metadata": {
        "id": "3d8e3ae8"
      },
      "outputs": [],
      "source": [
        "news = []                       ## Empty list for storing actual news in text       \n",
        "topics = []                     ## Empty list for new theme"
      ]
    },
    {
      "cell_type": "code",
      "execution_count": 5,
      "id": "49adb394",
      "metadata": {
        "id": "49adb394"
      },
      "outputs": [],
      "source": [
        "Themes = ['business','entertainment','politics','sport','tech']  ## News themes "
      ]
    },
    {
      "cell_type": "code",
      "execution_count": 6,
      "id": "b7b4403e",
      "metadata": {
        "id": "b7b4403e"
      },
      "outputs": [],
      "source": [
        "for x in Themes:                               ## For every item in Themes\n",
        "    all_txt_files=os.listdir(path+x)           ## List all files present in given directory\n",
        "    for files in all_txt_files:                ## For every item in txt_files\n",
        "        txt_path=path + x + '/' + files        ## specifying exact path of every text news file\n",
        "        with open(txt_path,'rb') as f:         ## open a text file\n",
        "            text=f.read()                      ## read text file\n",
        "        news.append(text)                      ## append text file which is our news, to empty news list\n",
        "        topics.append(x)                       ## append the topic of news file to empty topics list"
      ]
    },
    {
      "cell_type": "code",
      "execution_count": 7,
      "id": "97267aa8",
      "metadata": {
        "id": "97267aa8"
      },
      "outputs": [],
      "source": [
        "df_raw = pd.DataFrame()              ## creating empty dataframe"
      ]
    },
    {
      "cell_type": "code",
      "execution_count": 8,
      "id": "26b11f6b",
      "metadata": {
        "id": "26b11f6b"
      },
      "outputs": [],
      "source": [
        "df_raw['News'] = news                ## adding News column to empty dataframe\n",
        "df_raw['News_Theme'] = topics        ## adding News_theme column to empty dataframe"
      ]
    },
    {
      "cell_type": "code",
      "execution_count": 9,
      "id": "f45ee6b4",
      "metadata": {
        "colab": {
          "base_uri": "https://localhost:8080/",
          "height": 206
        },
        "id": "f45ee6b4",
        "outputId": "f2b0da38-8208-4b75-8568-0fec9f6f4d8f"
      },
      "outputs": [
        {
          "output_type": "execute_result",
          "data": {
            "text/plain": [
              "                                                News News_Theme\n",
              "0  b'Dollar gains on Greenspan speech\\n\\nThe doll...   business\n",
              "1  b'India calls for fair trade rules\\n\\nIndia, w...   business\n",
              "2  b'Ethiopia\\'s crop production up 24%\\n\\nEthiop...   business\n",
              "3  b'Japan narrowly escapes recession\\n\\nJapan\\'s...   business\n",
              "4  b'Steel firm \\'to cut\\' 45,000 jobs\\n\\nMittal ...   business"
            ],
            "text/html": [
              "\n",
              "  <div id=\"df-ba0c6bdb-24c1-4805-a62e-eb88c1923661\">\n",
              "    <div class=\"colab-df-container\">\n",
              "      <div>\n",
              "<style scoped>\n",
              "    .dataframe tbody tr th:only-of-type {\n",
              "        vertical-align: middle;\n",
              "    }\n",
              "\n",
              "    .dataframe tbody tr th {\n",
              "        vertical-align: top;\n",
              "    }\n",
              "\n",
              "    .dataframe thead th {\n",
              "        text-align: right;\n",
              "    }\n",
              "</style>\n",
              "<table border=\"1\" class=\"dataframe\">\n",
              "  <thead>\n",
              "    <tr style=\"text-align: right;\">\n",
              "      <th></th>\n",
              "      <th>News</th>\n",
              "      <th>News_Theme</th>\n",
              "    </tr>\n",
              "  </thead>\n",
              "  <tbody>\n",
              "    <tr>\n",
              "      <th>0</th>\n",
              "      <td>b'Dollar gains on Greenspan speech\\n\\nThe doll...</td>\n",
              "      <td>business</td>\n",
              "    </tr>\n",
              "    <tr>\n",
              "      <th>1</th>\n",
              "      <td>b'India calls for fair trade rules\\n\\nIndia, w...</td>\n",
              "      <td>business</td>\n",
              "    </tr>\n",
              "    <tr>\n",
              "      <th>2</th>\n",
              "      <td>b'Ethiopia\\'s crop production up 24%\\n\\nEthiop...</td>\n",
              "      <td>business</td>\n",
              "    </tr>\n",
              "    <tr>\n",
              "      <th>3</th>\n",
              "      <td>b'Japan narrowly escapes recession\\n\\nJapan\\'s...</td>\n",
              "      <td>business</td>\n",
              "    </tr>\n",
              "    <tr>\n",
              "      <th>4</th>\n",
              "      <td>b'Steel firm \\'to cut\\' 45,000 jobs\\n\\nMittal ...</td>\n",
              "      <td>business</td>\n",
              "    </tr>\n",
              "  </tbody>\n",
              "</table>\n",
              "</div>\n",
              "      <button class=\"colab-df-convert\" onclick=\"convertToInteractive('df-ba0c6bdb-24c1-4805-a62e-eb88c1923661')\"\n",
              "              title=\"Convert this dataframe to an interactive table.\"\n",
              "              style=\"display:none;\">\n",
              "        \n",
              "  <svg xmlns=\"http://www.w3.org/2000/svg\" height=\"24px\"viewBox=\"0 0 24 24\"\n",
              "       width=\"24px\">\n",
              "    <path d=\"M0 0h24v24H0V0z\" fill=\"none\"/>\n",
              "    <path d=\"M18.56 5.44l.94 2.06.94-2.06 2.06-.94-2.06-.94-.94-2.06-.94 2.06-2.06.94zm-11 1L8.5 8.5l.94-2.06 2.06-.94-2.06-.94L8.5 2.5l-.94 2.06-2.06.94zm10 10l.94 2.06.94-2.06 2.06-.94-2.06-.94-.94-2.06-.94 2.06-2.06.94z\"/><path d=\"M17.41 7.96l-1.37-1.37c-.4-.4-.92-.59-1.43-.59-.52 0-1.04.2-1.43.59L10.3 9.45l-7.72 7.72c-.78.78-.78 2.05 0 2.83L4 21.41c.39.39.9.59 1.41.59.51 0 1.02-.2 1.41-.59l7.78-7.78 2.81-2.81c.8-.78.8-2.07 0-2.86zM5.41 20L4 18.59l7.72-7.72 1.47 1.35L5.41 20z\"/>\n",
              "  </svg>\n",
              "      </button>\n",
              "      \n",
              "  <style>\n",
              "    .colab-df-container {\n",
              "      display:flex;\n",
              "      flex-wrap:wrap;\n",
              "      gap: 12px;\n",
              "    }\n",
              "\n",
              "    .colab-df-convert {\n",
              "      background-color: #E8F0FE;\n",
              "      border: none;\n",
              "      border-radius: 50%;\n",
              "      cursor: pointer;\n",
              "      display: none;\n",
              "      fill: #1967D2;\n",
              "      height: 32px;\n",
              "      padding: 0 0 0 0;\n",
              "      width: 32px;\n",
              "    }\n",
              "\n",
              "    .colab-df-convert:hover {\n",
              "      background-color: #E2EBFA;\n",
              "      box-shadow: 0px 1px 2px rgba(60, 64, 67, 0.3), 0px 1px 3px 1px rgba(60, 64, 67, 0.15);\n",
              "      fill: #174EA6;\n",
              "    }\n",
              "\n",
              "    [theme=dark] .colab-df-convert {\n",
              "      background-color: #3B4455;\n",
              "      fill: #D2E3FC;\n",
              "    }\n",
              "\n",
              "    [theme=dark] .colab-df-convert:hover {\n",
              "      background-color: #434B5C;\n",
              "      box-shadow: 0px 1px 3px 1px rgba(0, 0, 0, 0.15);\n",
              "      filter: drop-shadow(0px 1px 2px rgba(0, 0, 0, 0.3));\n",
              "      fill: #FFFFFF;\n",
              "    }\n",
              "  </style>\n",
              "\n",
              "      <script>\n",
              "        const buttonEl =\n",
              "          document.querySelector('#df-ba0c6bdb-24c1-4805-a62e-eb88c1923661 button.colab-df-convert');\n",
              "        buttonEl.style.display =\n",
              "          google.colab.kernel.accessAllowed ? 'block' : 'none';\n",
              "\n",
              "        async function convertToInteractive(key) {\n",
              "          const element = document.querySelector('#df-ba0c6bdb-24c1-4805-a62e-eb88c1923661');\n",
              "          const dataTable =\n",
              "            await google.colab.kernel.invokeFunction('convertToInteractive',\n",
              "                                                     [key], {});\n",
              "          if (!dataTable) return;\n",
              "\n",
              "          const docLinkHtml = 'Like what you see? Visit the ' +\n",
              "            '<a target=\"_blank\" href=https://colab.research.google.com/notebooks/data_table.ipynb>data table notebook</a>'\n",
              "            + ' to learn more about interactive tables.';\n",
              "          element.innerHTML = '';\n",
              "          dataTable['output_type'] = 'display_data';\n",
              "          await google.colab.output.renderOutput(dataTable, element);\n",
              "          const docLink = document.createElement('div');\n",
              "          docLink.innerHTML = docLinkHtml;\n",
              "          element.appendChild(docLink);\n",
              "        }\n",
              "      </script>\n",
              "    </div>\n",
              "  </div>\n",
              "  "
            ]
          },
          "metadata": {},
          "execution_count": 9
        }
      ],
      "source": [
        "df_raw.head()"
      ]
    },
    {
      "cell_type": "code",
      "execution_count": 10,
      "id": "c2a1893f",
      "metadata": {
        "colab": {
          "base_uri": "https://localhost:8080/",
          "height": 206
        },
        "id": "c2a1893f",
        "outputId": "6661b5f3-2902-418a-8238-e2dc061c32c3"
      },
      "outputs": [
        {
          "output_type": "execute_result",
          "data": {
            "text/plain": [
              "                                                   News News_Theme\n",
              "2220  b'Court mulls file-sharing future\\n\\nJudges at...       tech\n",
              "2221  b'\\'Podcasters\\' look to net money\\n\\nNasa is ...       tech\n",
              "2222  b'Hitachi unveils \\'fastest robot\\'\\n\\nJapanes...       tech\n",
              "2223  b'Sony PSP tipped as a \\'must-have\\'\\n\\nSony\\'...       tech\n",
              "2224  b'Spam e-mails tempt net shoppers\\n\\nComputer ...       tech"
            ],
            "text/html": [
              "\n",
              "  <div id=\"df-17882a35-b928-4906-a272-5808edb9d985\">\n",
              "    <div class=\"colab-df-container\">\n",
              "      <div>\n",
              "<style scoped>\n",
              "    .dataframe tbody tr th:only-of-type {\n",
              "        vertical-align: middle;\n",
              "    }\n",
              "\n",
              "    .dataframe tbody tr th {\n",
              "        vertical-align: top;\n",
              "    }\n",
              "\n",
              "    .dataframe thead th {\n",
              "        text-align: right;\n",
              "    }\n",
              "</style>\n",
              "<table border=\"1\" class=\"dataframe\">\n",
              "  <thead>\n",
              "    <tr style=\"text-align: right;\">\n",
              "      <th></th>\n",
              "      <th>News</th>\n",
              "      <th>News_Theme</th>\n",
              "    </tr>\n",
              "  </thead>\n",
              "  <tbody>\n",
              "    <tr>\n",
              "      <th>2220</th>\n",
              "      <td>b'Court mulls file-sharing future\\n\\nJudges at...</td>\n",
              "      <td>tech</td>\n",
              "    </tr>\n",
              "    <tr>\n",
              "      <th>2221</th>\n",
              "      <td>b'\\'Podcasters\\' look to net money\\n\\nNasa is ...</td>\n",
              "      <td>tech</td>\n",
              "    </tr>\n",
              "    <tr>\n",
              "      <th>2222</th>\n",
              "      <td>b'Hitachi unveils \\'fastest robot\\'\\n\\nJapanes...</td>\n",
              "      <td>tech</td>\n",
              "    </tr>\n",
              "    <tr>\n",
              "      <th>2223</th>\n",
              "      <td>b'Sony PSP tipped as a \\'must-have\\'\\n\\nSony\\'...</td>\n",
              "      <td>tech</td>\n",
              "    </tr>\n",
              "    <tr>\n",
              "      <th>2224</th>\n",
              "      <td>b'Spam e-mails tempt net shoppers\\n\\nComputer ...</td>\n",
              "      <td>tech</td>\n",
              "    </tr>\n",
              "  </tbody>\n",
              "</table>\n",
              "</div>\n",
              "      <button class=\"colab-df-convert\" onclick=\"convertToInteractive('df-17882a35-b928-4906-a272-5808edb9d985')\"\n",
              "              title=\"Convert this dataframe to an interactive table.\"\n",
              "              style=\"display:none;\">\n",
              "        \n",
              "  <svg xmlns=\"http://www.w3.org/2000/svg\" height=\"24px\"viewBox=\"0 0 24 24\"\n",
              "       width=\"24px\">\n",
              "    <path d=\"M0 0h24v24H0V0z\" fill=\"none\"/>\n",
              "    <path d=\"M18.56 5.44l.94 2.06.94-2.06 2.06-.94-2.06-.94-.94-2.06-.94 2.06-2.06.94zm-11 1L8.5 8.5l.94-2.06 2.06-.94-2.06-.94L8.5 2.5l-.94 2.06-2.06.94zm10 10l.94 2.06.94-2.06 2.06-.94-2.06-.94-.94-2.06-.94 2.06-2.06.94z\"/><path d=\"M17.41 7.96l-1.37-1.37c-.4-.4-.92-.59-1.43-.59-.52 0-1.04.2-1.43.59L10.3 9.45l-7.72 7.72c-.78.78-.78 2.05 0 2.83L4 21.41c.39.39.9.59 1.41.59.51 0 1.02-.2 1.41-.59l7.78-7.78 2.81-2.81c.8-.78.8-2.07 0-2.86zM5.41 20L4 18.59l7.72-7.72 1.47 1.35L5.41 20z\"/>\n",
              "  </svg>\n",
              "      </button>\n",
              "      \n",
              "  <style>\n",
              "    .colab-df-container {\n",
              "      display:flex;\n",
              "      flex-wrap:wrap;\n",
              "      gap: 12px;\n",
              "    }\n",
              "\n",
              "    .colab-df-convert {\n",
              "      background-color: #E8F0FE;\n",
              "      border: none;\n",
              "      border-radius: 50%;\n",
              "      cursor: pointer;\n",
              "      display: none;\n",
              "      fill: #1967D2;\n",
              "      height: 32px;\n",
              "      padding: 0 0 0 0;\n",
              "      width: 32px;\n",
              "    }\n",
              "\n",
              "    .colab-df-convert:hover {\n",
              "      background-color: #E2EBFA;\n",
              "      box-shadow: 0px 1px 2px rgba(60, 64, 67, 0.3), 0px 1px 3px 1px rgba(60, 64, 67, 0.15);\n",
              "      fill: #174EA6;\n",
              "    }\n",
              "\n",
              "    [theme=dark] .colab-df-convert {\n",
              "      background-color: #3B4455;\n",
              "      fill: #D2E3FC;\n",
              "    }\n",
              "\n",
              "    [theme=dark] .colab-df-convert:hover {\n",
              "      background-color: #434B5C;\n",
              "      box-shadow: 0px 1px 3px 1px rgba(0, 0, 0, 0.15);\n",
              "      filter: drop-shadow(0px 1px 2px rgba(0, 0, 0, 0.3));\n",
              "      fill: #FFFFFF;\n",
              "    }\n",
              "  </style>\n",
              "\n",
              "      <script>\n",
              "        const buttonEl =\n",
              "          document.querySelector('#df-17882a35-b928-4906-a272-5808edb9d985 button.colab-df-convert');\n",
              "        buttonEl.style.display =\n",
              "          google.colab.kernel.accessAllowed ? 'block' : 'none';\n",
              "\n",
              "        async function convertToInteractive(key) {\n",
              "          const element = document.querySelector('#df-17882a35-b928-4906-a272-5808edb9d985');\n",
              "          const dataTable =\n",
              "            await google.colab.kernel.invokeFunction('convertToInteractive',\n",
              "                                                     [key], {});\n",
              "          if (!dataTable) return;\n",
              "\n",
              "          const docLinkHtml = 'Like what you see? Visit the ' +\n",
              "            '<a target=\"_blank\" href=https://colab.research.google.com/notebooks/data_table.ipynb>data table notebook</a>'\n",
              "            + ' to learn more about interactive tables.';\n",
              "          element.innerHTML = '';\n",
              "          dataTable['output_type'] = 'display_data';\n",
              "          await google.colab.output.renderOutput(dataTable, element);\n",
              "          const docLink = document.createElement('div');\n",
              "          docLink.innerHTML = docLinkHtml;\n",
              "          element.appendChild(docLink);\n",
              "        }\n",
              "      </script>\n",
              "    </div>\n",
              "  </div>\n",
              "  "
            ]
          },
          "metadata": {},
          "execution_count": 10
        }
      ],
      "source": [
        "df_raw.tail()"
      ]
    },
    {
      "cell_type": "code",
      "execution_count": 11,
      "id": "5e96e561",
      "metadata": {
        "colab": {
          "base_uri": "https://localhost:8080/"
        },
        "id": "5e96e561",
        "outputId": "5ec06f46-1e9a-4263-a45f-d561d47da795"
      },
      "outputs": [
        {
          "output_type": "execute_result",
          "data": {
            "text/plain": [
              "(2225, 2)"
            ]
          },
          "metadata": {},
          "execution_count": 11
        }
      ],
      "source": [
        "df_raw.shape            ## Shape of raw data with total 2225 rows and 2 columns"
      ]
    },
    {
      "cell_type": "markdown",
      "id": "563eab8a",
      "metadata": {
        "id": "563eab8a"
      },
      "source": [
        "## Data Cleaning"
      ]
    },
    {
      "cell_type": "code",
      "execution_count": 12,
      "id": "64a4aeaa",
      "metadata": {
        "id": "64a4aeaa"
      },
      "outputs": [],
      "source": [
        "df = df_raw.copy()      ## First creating a deep copy"
      ]
    },
    {
      "cell_type": "code",
      "execution_count": 13,
      "id": "43a1cf8e",
      "metadata": {
        "colab": {
          "base_uri": "https://localhost:8080/"
        },
        "id": "43a1cf8e",
        "outputId": "c653bc71-a2c6-4842-9597-6c97323b155c"
      },
      "outputs": [
        {
          "output_type": "stream",
          "name": "stdout",
          "text": [
            "<class 'pandas.core.frame.DataFrame'>\n",
            "RangeIndex: 2225 entries, 0 to 2224\n",
            "Data columns (total 2 columns):\n",
            " #   Column      Non-Null Count  Dtype \n",
            "---  ------      --------------  ----- \n",
            " 0   News        2225 non-null   object\n",
            " 1   News_Theme  2225 non-null   object\n",
            "dtypes: object(2)\n",
            "memory usage: 34.9+ KB\n"
          ]
        }
      ],
      "source": [
        "df.info()"
      ]
    },
    {
      "cell_type": "code",
      "execution_count": 14,
      "id": "0260629d",
      "metadata": {
        "colab": {
          "base_uri": "https://localhost:8080/"
        },
        "id": "0260629d",
        "outputId": "c4db8963-8a2d-49e1-9b84-c8d238008d1e"
      },
      "outputs": [
        {
          "output_type": "execute_result",
          "data": {
            "text/plain": [
              "News          0\n",
              "News_Theme    0\n",
              "dtype: int64"
            ]
          },
          "metadata": {},
          "execution_count": 14
        }
      ],
      "source": [
        "df.isnull().sum()"
      ]
    },
    {
      "cell_type": "markdown",
      "id": "10f4fea3",
      "metadata": {
        "id": "10f4fea3"
      },
      "source": [
        "### *Insight* : No null values present "
      ]
    },
    {
      "cell_type": "code",
      "execution_count": 15,
      "id": "18a7451d",
      "metadata": {
        "id": "18a7451d"
      },
      "outputs": [],
      "source": [
        "df.drop_duplicates(keep = 'first',inplace = True)  ## Dropping duplicate values/rows"
      ]
    },
    {
      "cell_type": "code",
      "execution_count": 16,
      "id": "b7b20b2b",
      "metadata": {
        "colab": {
          "base_uri": "https://localhost:8080/"
        },
        "id": "b7b20b2b",
        "outputId": "cb99602e-4f26-4826-cae8-8baee6c38529"
      },
      "outputs": [
        {
          "output_type": "execute_result",
          "data": {
            "text/plain": [
              "(2127, 2)"
            ]
          },
          "metadata": {},
          "execution_count": 16
        }
      ],
      "source": [
        "df.shape        ## shape changed "
      ]
    },
    {
      "cell_type": "code",
      "execution_count": 17,
      "id": "b10d562b",
      "metadata": {
        "colab": {
          "base_uri": "https://localhost:8080/"
        },
        "id": "b10d562b",
        "outputId": "246018a2-7565-407f-f9a3-741ca1f3635b"
      },
      "outputs": [
        {
          "output_type": "execute_result",
          "data": {
            "text/plain": [
              "98"
            ]
          },
          "metadata": {},
          "execution_count": 17
        }
      ],
      "source": [
        "2225-2127      ## No. of duplicate rows present"
      ]
    },
    {
      "cell_type": "markdown",
      "id": "f5484ffc",
      "metadata": {
        "id": "f5484ffc"
      },
      "source": [
        "### *Insight* : 98 duplicate rows found and removed"
      ]
    },
    {
      "cell_type": "code",
      "execution_count": 18,
      "id": "c3915748",
      "metadata": {
        "colab": {
          "base_uri": "https://localhost:8080/"
        },
        "id": "c3915748",
        "outputId": "8afea160-d5af-4f1b-820c-9955a8562c23"
      },
      "outputs": [
        {
          "output_type": "execute_result",
          "data": {
            "text/plain": [
              "sport            505\n",
              "business         503\n",
              "politics         403\n",
              "entertainment    369\n",
              "tech             347\n",
              "Name: News_Theme, dtype: int64"
            ]
          },
          "metadata": {},
          "execution_count": 18
        }
      ],
      "source": [
        "a = df['News_Theme'].value_counts()\n",
        "a"
      ]
    },
    {
      "cell_type": "code",
      "execution_count": 19,
      "id": "5c8f7bee",
      "metadata": {
        "id": "5c8f7bee"
      },
      "outputs": [],
      "source": [
        "import matplotlib.pyplot as plt"
      ]
    },
    {
      "cell_type": "code",
      "execution_count": 20,
      "id": "0cfb61d4",
      "metadata": {
        "colab": {
          "base_uri": "https://localhost:8080/",
          "height": 264
        },
        "id": "0cfb61d4",
        "outputId": "eeb70f37-3ef6-4dbf-c7b2-647d621cb8b5"
      },
      "outputs": [
        {
          "output_type": "display_data",
          "data": {
            "text/plain": [
              "<Figure size 432x288 with 1 Axes>"
            ],
            "image/png": "[encoded data removed]"
          },
          "metadata": {}
        }
      ],
      "source": [
        "plt.pie(a, autopct = '%0.2f%%' , labels = a.index)\n",
        "plt.title('News Topics %', size = 12)\n",
        "plt.show()"
      ]
    },
    {
      "cell_type": "markdown",
      "id": "35b6b325",
      "metadata": {
        "id": "35b6b325"
      },
      "source": [
        "## NLP Text Pre-processing"
      ]
    },
    {
      "cell_type": "code",
      "execution_count": 21,
      "id": "c3be10c1",
      "metadata": {
        "id": "c3be10c1"
      },
      "outputs": [],
      "source": [
        "df['News'] = df['News'].astype('str')        ## Converting to string dtype"
      ]
    },
    {
      "cell_type": "code",
      "execution_count": 22,
      "id": "9d846b73",
      "metadata": {
        "colab": {
          "base_uri": "https://localhost:8080/",
          "height": 123
        },
        "id": "9d846b73",
        "outputId": "dae016e7-c500-485e-e110-30481bda986c"
      },
      "outputs": [
        {
          "output_type": "execute_result",
          "data": {
            "text/plain": [
              "'b\\'Dollar gains on Greenspan speech\\\\n\\\\nThe dollar has hit its highest level against the euro in almost three months after the Federal Reserve head said the US trade deficit is set to stabilise.\\\\n\\\\nAnd Alan Greenspan highlighted the US government\\\\\\'s willingness to curb spending and rising household savings as factors which may help to reduce it. In late trading in New York, the dollar reached $1.2871 against the euro, from $1.2974 on Thursday. Market concerns about the deficit has hit the greenback in recent months. On Friday, Federal Reserve chairman Mr Greenspan\\\\\\'s speech in London ahead of the meeting of G7 finance ministers sent the dollar higher after it had earlier tumbled on the back of worse-than-expected US jobs data. \"I think the chairman\\\\\\'s taking a much more sanguine view on the current account deficit than he\\\\\\'s taken for some time,\" said Robert Sinche, head of currency strategy at Bank of America in New York. \"He\\\\\\'s taking a longer-term view, laying out a set of conditions under which the current account deficit can improve this year and next.\"\\\\n\\\\nWorries about the deficit concerns about China do, however, remain. China\\\\\\'s currency remains pegged to the dollar and the US currency\\\\\\'s sharp falls in recent months have therefore made Chinese export prices highly competitive. But calls for a shift in Beijing\\\\\\'s policy have fallen on deaf ears, despite recent comments in a major Chinese newspaper that the \"time is ripe\" for a loosening of the peg. The G7 meeting is thought unlikely to produce any meaningful movement in Chinese policy. In the meantime, the US Federal Reserve\\\\\\'s decision on 2 February to boost interest rates by a quarter of a point - the sixth such move in as many months - has opened up a differential with European rates. The half-point window, some believe, could be enough to keep US assets looking more attractive, and could help prop up the dollar. The recent falls have partly been the result of big budget deficits, as well as the US\\\\\\'s yawning current account gap, both of which need to be funded by the buying of US bonds and assets by foreign firms and governments. The White House will announce its budget on Monday, and many commentators believe the deficit will remain at close to half a trillion dollars.\\\\n\\''"
            ],
            "application/vnd.google.colaboratory.intrinsic+json": {
              "type": "string"
            }
          },
          "metadata": {},
          "execution_count": 22
        }
      ],
      "source": [
        "df['News'][0]"
      ]
    },
    {
      "cell_type": "code",
      "execution_count": 23,
      "id": "c6e51817",
      "metadata": {
        "id": "c6e51817"
      },
      "outputs": [],
      "source": [
        "from bs4 import BeautifulSoup       ## A powerful package to scrape text from webpages"
      ]
    },
    {
      "cell_type": "code",
      "execution_count": 24,
      "id": "7cc645f4",
      "metadata": {
        "id": "7cc645f4"
      },
      "outputs": [],
      "source": [
        "df['News'] = [BeautifulSoup(k).get_text() for k in df['News'] ]     ## Scraping html tags"
      ]
    },
    {
      "cell_type": "code",
      "execution_count": 25,
      "id": "998a19e3",
      "metadata": {
        "id": "998a19e3"
      },
      "outputs": [],
      "source": [
        "import re"
      ]
    },
    {
      "cell_type": "code",
      "execution_count": 26,
      "id": "f2a10482",
      "metadata": {
        "id": "f2a10482"
      },
      "outputs": [],
      "source": [
        "df['News'] = [re.sub(r'https?://\\S+|www\\.\\S+', '', k1) for k1 in df['News']]      ## removing any urls present"
      ]
    },
    {
      "cell_type": "code",
      "execution_count": 27,
      "id": "912c95bd",
      "metadata": {
        "colab": {
          "base_uri": "https://localhost:8080/"
        },
        "id": "912c95bd",
        "outputId": "a75717ff-4d21-4e00-ce7c-dffca8ae8e73"
      },
      "outputs": [
        {
          "output_type": "execute_result",
          "data": {
            "text/plain": [
              "0       b'Dollar gains on Greenspan speech\\n\\nThe doll...\n",
              "1       b'India calls for fair trade rules\\n\\nIndia, w...\n",
              "2       b'Ethiopia\\'s crop production up 24%\\n\\nEthiop...\n",
              "3       b'Japan narrowly escapes recession\\n\\nJapan\\'s...\n",
              "4       b'Steel firm \\'to cut\\' 45,000 jobs\\n\\nMittal ...\n",
              "                              ...                        \n",
              "2218    b'Beckham virus spotted on the net\\n\\nVirus wr...\n",
              "2220    b'Court mulls file-sharing future\\n\\nJudges at...\n",
              "2221    b'\\'Podcasters\\' look to net money\\n\\nNasa is ...\n",
              "2222    b'Hitachi unveils \\'fastest robot\\'\\n\\nJapanes...\n",
              "2223    b'Sony PSP tipped as a \\'must-have\\'\\n\\nSony\\'...\n",
              "Name: News, Length: 2127, dtype: object"
            ]
          },
          "metadata": {},
          "execution_count": 27
        }
      ],
      "source": [
        "df['News']"
      ]
    },
    {
      "cell_type": "code",
      "execution_count": 28,
      "id": "a54bccc9",
      "metadata": {
        "colab": {
          "base_uri": "https://localhost:8080/",
          "height": 123
        },
        "id": "a54bccc9",
        "outputId": "5d67d109-9852-43ef-a346-c3325958108c"
      },
      "outputs": [
        {
          "output_type": "execute_result",
          "data": {
            "text/plain": [
              "'b\\'Ethiopia\\\\\\'s crop production up 24%\\\\n\\\\nEthiopia produced 14.27 million tonnes of crops in 2004, 24% higher than in 2003 and 21% more than the average of the past five years, a report says.\\\\n\\\\nIn 2003, crop production totalled 11.49 million tonnes, the joint report from the Food and Agriculture Organisation and the World Food Programme said. Good rains, increased use of fertilizers and improved seeds contributed to the rise in production. Nevertheless, 2.2 million Ethiopians will still need emergency assistance.\\\\n\\\\nThe report calculated emergency food requirements for 2005 to be 387,500 tonnes. On top of that, 89,000 tonnes of fortified blended food and vegetable oil for \"targeted supplementary food distributions for a survival programme for children under five and pregnant and lactating women\" will be needed.\\\\n\\\\nIn eastern and southern Ethiopia, a prolonged drought has killed crops and drained wells. Last year, a total of 965,000 tonnes of food assistance was needed to help seven million Ethiopians. The Food and Agriculture Organisation (FAO) recommend that the food assistance is bought locally. \"Local purchase of cereals for food assistance programmes is recommended as far as possible, so as to assist domestic markets and farmers,\" said Henri Josserand, chief of FAO\\\\\\'s Global Information and Early Warning System. Agriculture is the main economic activity in Ethiopia, representing 45% of gross domestic product. About 80% of Ethiopians depend directly or indirectly on agriculture.\\\\n\\''"
            ],
            "application/vnd.google.colaboratory.intrinsic+json": {
              "type": "string"
            }
          },
          "metadata": {},
          "execution_count": 28
        }
      ],
      "source": [
        "df.News[2]"
      ]
    },
    {
      "cell_type": "markdown",
      "id": "c0ae3e9a",
      "metadata": {
        "id": "c0ae3e9a"
      },
      "source": [
        "## Removing non-word characters"
      ]
    },
    {
      "cell_type": "code",
      "execution_count": 29,
      "id": "780c4b9c",
      "metadata": {
        "id": "780c4b9c"
      },
      "outputs": [],
      "source": [
        "df['News'] = [re.sub(r\"b\\'\", \"\", k2) for k2 in df['News']]    ## Replacing 'b\\' character with ''"
      ]
    },
    {
      "cell_type": "code",
      "execution_count": 30,
      "id": "b52e956b",
      "metadata": {
        "colab": {
          "base_uri": "https://localhost:8080/",
          "height": 123
        },
        "id": "b52e956b",
        "outputId": "657d82a9-db08-4106-b8bb-5b35fd29d042"
      },
      "outputs": [
        {
          "output_type": "execute_result",
          "data": {
            "text/plain": [
              "'Ethiopia\\\\\\'s crop production up 24%\\\\n\\\\nEthiopia produced 14.27 million tonnes of crops in 2004, 24% higher than in 2003 and 21% more than the average of the past five years, a report says.\\\\n\\\\nIn 2003, crop production totalled 11.49 million tonnes, the joint report from the Food and Agriculture Organisation and the World Food Programme said. Good rains, increased use of fertilizers and improved seeds contributed to the rise in production. Nevertheless, 2.2 million Ethiopians will still need emergency assistance.\\\\n\\\\nThe report calculated emergency food requirements for 2005 to be 387,500 tonnes. On top of that, 89,000 tonnes of fortified blended food and vegetable oil for \"targeted supplementary food distributions for a survival programme for children under five and pregnant and lactating women\" will be needed.\\\\n\\\\nIn eastern and southern Ethiopia, a prolonged drought has killed crops and drained wells. Last year, a total of 965,000 tonnes of food assistance was needed to help seven million Ethiopians. The Food and Agriculture Organisation (FAO) recommend that the food assistance is bought locally. \"Local purchase of cereals for food assistance programmes is recommended as far as possible, so as to assist domestic markets and farmers,\" said Henri Josserand, chief of FAO\\\\\\'s Global Information and Early Warning System. Agriculture is the main economic activity in Ethiopia, representing 45% of gross domestic product. About 80% of Ethiopians depend directly or indirectly on agriculture.\\\\n\\''"
            ],
            "application/vnd.google.colaboratory.intrinsic+json": {
              "type": "string"
            }
          },
          "metadata": {},
          "execution_count": 30
        }
      ],
      "source": [
        "df['News'][2]"
      ]
    },
    {
      "cell_type": "code",
      "execution_count": 31,
      "id": "36395006",
      "metadata": {
        "id": "36395006"
      },
      "outputs": [],
      "source": [
        "df['News'] = [re.sub(r\"\\\\n\\\\n\", \" \",k3) for k3 in df['News']]           ## Replacing other non-word characters\n",
        "df['News'] = [re.sub(r\"\\\\\\'s\", \" \",k4) for k4 in df['News']] \n",
        "df['News'] = [re.sub(r\"\\\\\\'\", \" \", k5) for k5 in df['News']]\n",
        "df['News'] = [re.sub(r\"\\\\n\\'\", \" \", k6) for k6 in df['News']]\n",
        "df['News'] = [re.sub(r\"\\n\\n\", \" \", k7) for k7 in df['News']]\n",
        "df['News'] = [re.sub(r'\\\\xc2\\\\xa3','\\xA3', k8) for k8 in df['News']]     ## \"\\xA3\" is unicode for symbol pound    \n",
        "df['News'] = [re.sub(r\"\\'s\",'', k9) for k9 in df['News']] \n",
        "df['News'] = [re.sub(r'\\\\n\"','', k10) for k10 in df['News']] \n",
        "df['News'] = [re.sub(r'b\"','', k11) for k11 in df['News']] "
      ]
    },
    {
      "cell_type": "code",
      "execution_count": 32,
      "id": "4356ef1f",
      "metadata": {
        "scrolled": true,
        "colab": {
          "base_uri": "https://localhost:8080/"
        },
        "id": "4356ef1f",
        "outputId": "1993313a-091e-49e6-f299-f5430f74ce8b"
      },
      "outputs": [
        {
          "output_type": "execute_result",
          "data": {
            "text/plain": [
              "b'Dollar gains on Greenspan speech\\n\\nThe dollar has hit its highest level against the euro in almost three months after the Federal Reserve head said the US trade deficit is set to stabilise.\\n\\nAnd Alan Greenspan highlighted the US government\\'s willingness to curb spending and rising household savings as factors which may help to reduce it. In late trading in New York, the dollar reached $1.2871 against the euro, from $1.2974 on Thursday. Market concerns about the deficit has hit the greenback in recent months. On Friday, Federal Reserve chairman Mr Greenspan\\'s speech in London ahead of the meeting of G7 finance ministers sent the dollar higher after it had earlier tumbled on the back of worse-than-expected US jobs data. \"I think the chairman\\'s taking a much more sanguine view on the current account deficit than he\\'s taken for some time,\" said Robert Sinche, head of currency strategy at Bank of America in New York. \"He\\'s taking a longer-term view, laying out a set of conditions under which the current account deficit can improve this year and next.\"\\n\\nWorries about the deficit concerns about China do, however, remain. China\\'s currency remains pegged to the dollar and the US currency\\'s sharp falls in recent months have therefore made Chinese export prices highly competitive. But calls for a shift in Beijing\\'s policy have fallen on deaf ears, despite recent comments in a major Chinese newspaper that the \"time is ripe\" for a loosening of the peg. The G7 meeting is thought unlikely to produce any meaningful movement in Chinese policy. In the meantime, the US Federal Reserve\\'s decision on 2 February to boost interest rates by a quarter of a point - the sixth such move in as many months - has opened up a differential with European rates. The half-point window, some believe, could be enough to keep US assets looking more attractive, and could help prop up the dollar. The recent falls have partly been the result of big budget deficits, as well as the US\\'s yawning current account gap, both of which need to be funded by the buying of US bonds and assets by foreign firms and governments. The White House will announce its budget on Monday, and many commentators believe the deficit will remain at close to half a trillion dollars.\\n'"
            ]
          },
          "metadata": {},
          "execution_count": 32
        }
      ],
      "source": [
        "df_raw['News'][0]      ##  News before replacing characters"
      ]
    },
    {
      "cell_type": "code",
      "execution_count": 33,
      "id": "c4d76985",
      "metadata": {
        "colab": {
          "base_uri": "https://localhost:8080/",
          "height": 123
        },
        "id": "c4d76985",
        "outputId": "b4d97b9e-7f95-4722-bf77-2447fe6c5927"
      },
      "outputs": [
        {
          "output_type": "execute_result",
          "data": {
            "text/plain": [
              "'Dollar gains on Greenspan speech The dollar has hit its highest level against the euro in almost three months after the Federal Reserve head said the US trade deficit is set to stabilise. And Alan Greenspan highlighted the US government  willingness to curb spending and rising household savings as factors which may help to reduce it. In late trading in New York, the dollar reached $1.2871 against the euro, from $1.2974 on Thursday. Market concerns about the deficit has hit the greenback in recent months. On Friday, Federal Reserve chairman Mr Greenspan  speech in London ahead of the meeting of G7 finance ministers sent the dollar higher after it had earlier tumbled on the back of worse-than-expected US jobs data. \"I think the chairman  taking a much more sanguine view on the current account deficit than he  taken for some time,\" said Robert Sinche, head of currency strategy at Bank of America in New York. \"He  taking a longer-term view, laying out a set of conditions under which the current account deficit can improve this year and next.\" Worries about the deficit concerns about China do, however, remain. China  currency remains pegged to the dollar and the US currency  sharp falls in recent months have therefore made Chinese export prices highly competitive. But calls for a shift in Beijing  policy have fallen on deaf ears, despite recent comments in a major Chinese newspaper that the \"time is ripe\" for a loosening of the peg. The G7 meeting is thought unlikely to produce any meaningful movement in Chinese policy. In the meantime, the US Federal Reserve  decision on 2 February to boost interest rates by a quarter of a point - the sixth such move in as many months - has opened up a differential with European rates. The half-point window, some believe, could be enough to keep US assets looking more attractive, and could help prop up the dollar. The recent falls have partly been the result of big budget deficits, as well as the US  yawning current account gap, both of which need to be funded by the buying of US bonds and assets by foreign firms and governments. The White House will announce its budget on Monday, and many commentators believe the deficit will remain at close to half a trillion dollars. '"
            ],
            "application/vnd.google.colaboratory.intrinsic+json": {
              "type": "string"
            }
          },
          "metadata": {},
          "execution_count": 33
        }
      ],
      "source": [
        "df['News'][0]      ## After replacing the no-word characters"
      ]
    },
    {
      "cell_type": "code",
      "execution_count": 34,
      "id": "b033e362",
      "metadata": {
        "colab": {
          "base_uri": "https://localhost:8080/",
          "height": 123
        },
        "id": "b033e362",
        "outputId": "162e4cbb-8d5a-4546-e5b3-e860c7560ec2"
      },
      "outputs": [
        {
          "output_type": "execute_result",
          "data": {
            "text/plain": [
              "'Ethiopia  crop production up 24% Ethiopia produced 14.27 million tonnes of crops in 2004, 24% higher than in 2003 and 21% more than the average of the past five years, a report says. In 2003, crop production totalled 11.49 million tonnes, the joint report from the Food and Agriculture Organisation and the World Food Programme said. Good rains, increased use of fertilizers and improved seeds contributed to the rise in production. Nevertheless, 2.2 million Ethiopians will still need emergency assistance. The report calculated emergency food requirements for 2005 to be 387,500 tonnes. On top of that, 89,000 tonnes of fortified blended food and vegetable oil for \"targeted supplementary food distributions for a survival programme for children under five and pregnant and lactating women\" will be needed. In eastern and southern Ethiopia, a prolonged drought has killed crops and drained wells. Last year, a total of 965,000 tonnes of food assistance was needed to help seven million Ethiopians. The Food and Agriculture Organisation (FAO) recommend that the food assistance is bought locally. \"Local purchase of cereals for food assistance programmes is recommended as far as possible, so as to assist domestic markets and farmers,\" said Henri Josserand, chief of FAO  Global Information and Early Warning System. Agriculture is the main economic activity in Ethiopia, representing 45% of gross domestic product. About 80% of Ethiopians depend directly or indirectly on agriculture. '"
            ],
            "application/vnd.google.colaboratory.intrinsic+json": {
              "type": "string"
            }
          },
          "metadata": {},
          "execution_count": 34
        }
      ],
      "source": [
        "df['News'][2]"
      ]
    },
    {
      "cell_type": "code",
      "execution_count": 35,
      "id": "923e9156",
      "metadata": {
        "colab": {
          "base_uri": "https://localhost:8080/",
          "height": 123
        },
        "id": "923e9156",
        "outputId": "d7f96b07-b317-4f76-d53a-8792ef1bf51c"
      },
      "outputs": [
        {
          "output_type": "execute_result",
          "data": {
            "text/plain": [
              "'Rap boss arrested over drug find Rap mogul Marion \"Suge\" Knight has been arrested for violating his parole after he was allegedly found with marijuana. He was arrested in Barstow, California, on Saturday following an alleged traffic offence. He is expected to be transferred to a state prison while a decision is made on whether he should be released. Mr Knight, founder of Death Row Records, served a 10-month jail term in 2004 for punching a man while on parole for an assault conviction. Police said Mr Knight was stopped on Saturday after performing an illegal U-turn and a search of his car allegedly found marijuana. He is also accused of not having insurance. A 18-year-old woman in the car was arrested for providing false information and having a fake ID card. She was later released. It was his second alleged violation, having previously served half of a nine-year sentence for breaking the terms of his parole. Mr Knight, 39, was jailed in October 1996 following his involvement in a fight with a rival gang just hours before rapper Tupac Shakur was killed in a Las Vegas drive-by shooting. He was driving Shakur  car at the time and was shot in the head. At the time he was on probation for assaulting two musicians. Mr Knight, a former bodyguard, set up Death Row records in the early 1990s with Shakur and Dr Dre among his protegees. But the label has always been dogged by allegations it supports gang culture and fuels the east and west coast rap rivalry. '"
            ],
            "application/vnd.google.colaboratory.intrinsic+json": {
              "type": "string"
            }
          },
          "metadata": {},
          "execution_count": 35
        }
      ],
      "source": [
        "df['News'][555]"
      ]
    },
    {
      "cell_type": "code",
      "execution_count": 36,
      "id": "e166c47e",
      "metadata": {
        "colab": {
          "base_uri": "https://localhost:8080/",
          "height": 123
        },
        "id": "e166c47e",
        "outputId": "ccdb5944-0689-41a1-cf42-3f7ee7cd7787"
      },
      "outputs": [
        {
          "output_type": "execute_result",
          "data": {
            "text/plain": [
              "'Slimmer PlayStation triple sales Sony PlayStation 2  slimmer shape has proved popular with UK gamers, with 50,000 sold in its first week on sale. Sales have tripled since launch, outstripping Microsoft  Xbox, said market analysts Chart-Track. The numbers were also boosted by the release of the PS2-only game Grand Theft Auto: San Andreas. The title broke the UK sales record for video games in its first weekend of release. Latest figures suggest it has sold more than 677,000 copies. \"It is obviously very, very encouraging for Sony because Microsoft briefly outsold them last week,\" John Houlihan, editor of Computerandvideogames.com told BBC News. \"And with Halo 2 [for Xbox] out next week, it really is a head-to-head contest between them and Xbox.\" Although Xbox sales over the last week also climbed, PS2 sales were more than double that. The figures mean Sony is reaching the seven million barrier for UK sales of the console. Edinburgh-based developer, Rockstar, which is behind the GTA titles, has seen San Andreas pull in an estimated £24m in gross revenues over the weekend. In comparison, blockbuster films like Harry Potter and The Prisoner Of Azkaban took £11.5m in its first three days at the UK box office. The Lord of the Rings: The Return of the King took nearly £10m over its opening weekend, although games titles are four to five times more expensive than cinema tickets. Gangster-themed GTA San Andreas is the sequel to Grand Theft Auto Vice City which previously held the record for the fastest-selling video game ever. The Xbox game Halo 2, released on 11 November in the UK, is also widely tipped to be one of the best-selling games of the year. The original title won universal acclaim in 2001, and sold more than four million copies. Mr Houlihan added that Sony had done well with the PS2, but it definitely helped that the release of San Andreas coincided with the slimline PS2 hitting the shelves. The run-up to Christmas is a huge battlefield for games consoles and titles. Microsoft  Xbox had been winning the race up until last week in sales. The sales figures also suggest that it may be a largely adult audience driving demand, since GTA San Andreas has an 18 certificate. Sony and Microsoft have both reduced console prices recently and are preparing the way for the launches of their next generation consoles in 2005. \"Both have hit crucial price points at around £100 and that really does open up new consoles to new audience, plus the release of two really important games in terms of development are also driving those sales,\" said Mr Houlihan. '"
            ],
            "application/vnd.google.colaboratory.intrinsic+json": {
              "type": "string"
            }
          },
          "metadata": {},
          "execution_count": 36
        }
      ],
      "source": [
        "df['News'][2000]"
      ]
    },
    {
      "cell_type": "markdown",
      "id": "fa4003b7",
      "metadata": {
        "id": "fa4003b7"
      },
      "source": [
        "###  *Result* : Now, there are no non-word characters present."
      ]
    },
    {
      "cell_type": "code",
      "execution_count": 36,
      "id": "87a99fce",
      "metadata": {
        "id": "87a99fce"
      },
      "outputs": [],
      "source": []
    }
  ],
  "metadata": {
    "kernelspec": {
      "display_name": "Python 3 (ipykernel)",
      "language": "python",
      "name": "python3"
    },
    "language_info": {
      "codemirror_mode": {
        "name": "ipython",
        "version": 3
      },
      "file_extension": ".py",
      "mimetype": "text/x-python",
      "name": "python",
      "nbconvert_exporter": "python",
      "pygments_lexer": "ipython3",
      "version": "3.9.13"
    },
    "colab": {
      "provenance": [],
      "include_colab_link": true
    }
  },
  "nbformat": 4,
  "nbformat_minor": 5
}