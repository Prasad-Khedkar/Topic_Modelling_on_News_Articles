{
  "cells": [
    {
      "cell_type": "markdown",
      "metadata": {
        "id": "view-in-github",
        "colab_type": "text"
      },
      "source": [
        "<a href=\"https://colab.research.google.com/github/Prasad-Khedkar/Topic_Modelling_on_News_Articles/blob/main/Topic_Modelling_on_News_Articles.ipynb\" target=\"_parent\"><img src=\"https://colab.research.google.com/assets/colab-badge.svg\" alt=\"Open In Colab\"/></a>"
      ]
    },
    {
      "cell_type": "code",
      "source": [
        "pip install pyLDAvis"
      ],
      "metadata": {
        "id": "2Q8eWTBcTqHf"
      },
      "id": "2Q8eWTBcTqHf",
      "execution_count": null,
      "outputs": []
    },
    {
      "cell_type": "code",
      "execution_count": 2,
      "id": "90daa692",
      "metadata": {
        "id": "90daa692",
        "colab": {
          "base_uri": "https://localhost:8080/"
        },
        "outputId": "fcc64cd2-acb7-46e6-df78-beeca9ace2b9"
      },
      "outputs": [
        {
          "output_type": "stream",
          "name": "stderr",
          "text": [
            "/usr/local/lib/python3.8/dist-packages/past/types/oldstr.py:5: DeprecationWarning: Using or importing the ABCs from 'collections' instead of from 'collections.abc' is deprecated since Python 3.3, and in 3.10 it will stop working\n",
            "  from collections import Iterable\n"
          ]
        }
      ],
      "source": [
        "import pandas as pd                                                              ## To frame the data\n",
        "import os                                                                        ## For listing files in given directory\n",
        "import matplotlib.pyplot as plt                                                  ## For visualization\n",
        "import seaborn as sns                                                            ## For visualization\n",
        "\n",
        "from bs4 import BeautifulSoup                                                    ## Python library used to scrape data from webpages\n",
        "import re                                                                        ## Module which provides regular expression matching operations\n",
        "import string                                                                    ## For string manipulation\n",
        "import nltk                                                                      ## Popular library to pre-process the text in NLP\n",
        "from nltk.stem import WordNetLemmatizer                                          ## A Lemmatizer  \n",
        "from nltk.corpus import stopwords                                                ## Stopwords package from nltk\n",
        "from wordcloud import WordCloud                                                  ## Create interactive wordclouds\n",
        "\n",
        "from sklearn.decomposition import TruncatedSVD                                   ## For LSA/LSI\n",
        "from sklearn.decomposition import NMF                                            ## Non-matrix factorization algorithm\n",
        "from sklearn.decomposition import LatentDirichletAllocation as LDA               ## Latent Dirichlet Allocation algorithm\n",
        "\n",
        "import pyLDAvis                                                                  ## To visualize LDA topic modelling\n",
        "import pyLDAvis.sklearn                                                          ## pyLDA with sklearn processing\n",
        "pyLDAvis.enable_notebook()                                                       ## Enabing notebook for pyLDAvis visualizations\n",
        "\n",
        "from sklearn.feature_extraction.text import CountVectorizer                      ## count-vectorizer to convert text data into vector form\n",
        "\n",
        "import warnings                                                                  ## Ignore warnings\n",
        "warnings. simplefilter(action='ignore', category=FutureWarning)\n",
        "warnings.filterwarnings(\"ignore\", category=DeprecationWarning) "
      ]
    },
    {
      "cell_type": "code",
      "source": [
        " nltk.download('wordnet')                                                        ## Downloading important packages\n",
        " nltk.download('omw-1.4')\n",
        " nltk.download('stopwords')"
      ],
      "metadata": {
        "id": "ycH5KD8qj5Ak"
      },
      "id": "ycH5KD8qj5Ak",
      "execution_count": null,
      "outputs": []
    },
    {
      "cell_type": "code",
      "source": [
        "from google.colab import drive\n",
        "drive.mount('/content/drive')"
      ],
      "metadata": {
        "colab": {
          "base_uri": "https://localhost:8080/"
        },
        "id": "-IGMbahG7O5t",
        "outputId": "82d55fb6-187e-4fa9-8b04-0f2b74d44200"
      },
      "id": "-IGMbahG7O5t",
      "execution_count": 4,
      "outputs": [
        {
          "output_type": "stream",
          "name": "stdout",
          "text": [
            "Drive already mounted at /content/drive; to attempt to forcibly remount, call drive.mount(\"/content/drive\", force_remount=True).\n"
          ]
        }
      ]
    },
    {
      "cell_type": "code",
      "execution_count": 5,
      "id": "4dff3003",
      "metadata": {
        "id": "4dff3003"
      },
      "outputs": [],
      "source": [
        "path = '/content/drive/My Drive/Projects/Topic_Modelling_on_News_Articles/Data/bbc/'"
      ]
    },
    {
      "cell_type": "code",
      "execution_count": 6,
      "id": "3d8e3ae8",
      "metadata": {
        "id": "3d8e3ae8"
      },
      "outputs": [],
      "source": [
        "news = []                                                                        ## Empty list for storing actual news in text       \n",
        "topics = []                                                                      ## Empty list for new theme"
      ]
    },
    {
      "cell_type": "code",
      "execution_count": 7,
      "id": "49adb394",
      "metadata": {
        "id": "49adb394"
      },
      "outputs": [],
      "source": [
        "Themes = ['business','entertainment','politics','sport','tech']  ## News themes "
      ]
    },
    {
      "cell_type": "code",
      "execution_count": 8,
      "id": "b7b4403e",
      "metadata": {
        "id": "b7b4403e"
      },
      "outputs": [],
      "source": [
        "for x in Themes:                                                                 ## For every item in Themes\n",
        "    all_txt_files=sorted(os.listdir(path+x))                                     ## List all files present in given directory in sorted order\n",
        "    for files in all_txt_files:                                                  ## For every item in txt_files\n",
        "        txt_path=path + x + '/' + files                                          ## specifying exact path of every text news file\n",
        "        with open(txt_path,'rb') as f:                                           ## open a text file\n",
        "            text=f.read()                                                        ## read text file\n",
        "        news.append(text)                                                        ## append text file which is our news, to empty news list\n",
        "        topics.append(x)                                                         ## append the topic of news file to empty topics list"
      ]
    },
    {
      "cell_type": "code",
      "execution_count": 9,
      "id": "97267aa8",
      "metadata": {
        "id": "97267aa8"
      },
      "outputs": [],
      "source": [
        "df_raw = pd.DataFrame()                                                          ## creating empty dataframe"
      ]
    },
    {
      "cell_type": "code",
      "execution_count": 10,
      "id": "26b11f6b",
      "metadata": {
        "id": "26b11f6b"
      },
      "outputs": [],
      "source": [
        "df_raw['News_text'] = news                                                       ## adding News column \n",
        "df_raw['News_Theme'] = topics                                                    ## adding News_theme column"
      ]
    },
    {
      "cell_type": "code",
      "execution_count": 11,
      "id": "f45ee6b4",
      "metadata": {
        "colab": {
          "base_uri": "https://localhost:8080/",
          "height": 206
        },
        "id": "f45ee6b4",
        "outputId": "24613de8-055f-46ca-8a35-b0d417b41248"
      },
      "outputs": [
        {
          "output_type": "execute_result",
          "data": {
            "text/plain": [
              "                                           News_text News_Theme\n",
              "0  b'Ad sales boost Time Warner profit\\n\\nQuarter...   business\n",
              "1  b'Dollar gains on Greenspan speech\\n\\nThe doll...   business\n",
              "2  b'Yukos unit buyer faces loan claim\\n\\nThe own...   business\n",
              "3  b'High fuel prices hit BA\\'s profits\\n\\nBritis...   business\n",
              "4  b\"Pernod takeover talk lifts Domecq\\n\\nShares ...   business"
            ],
            "text/html": [
              "\n",
              "  <div id=\"df-5b5abd54-4ca2-4941-8ae6-d6314653275a\">\n",
              "    <div class=\"colab-df-container\">\n",
              "      <div>\n",
              "<style scoped>\n",
              "    .dataframe tbody tr th:only-of-type {\n",
              "        vertical-align: middle;\n",
              "    }\n",
              "\n",
              "    .dataframe tbody tr th {\n",
              "        vertical-align: top;\n",
              "    }\n",
              "\n",
              "    .dataframe thead th {\n",
              "        text-align: right;\n",
              "    }\n",
              "</style>\n",
              "<table border=\"1\" class=\"dataframe\">\n",
              "  <thead>\n",
              "    <tr style=\"text-align: right;\">\n",
              "      <th></th>\n",
              "      <th>News_text</th>\n",
              "      <th>News_Theme</th>\n",
              "    </tr>\n",
              "  </thead>\n",
              "  <tbody>\n",
              "    <tr>\n",
              "      <th>0</th>\n",
              "      <td>b'Ad sales boost Time Warner profit\\n\\nQuarter...</td>\n",
              "      <td>business</td>\n",
              "    </tr>\n",
              "    <tr>\n",
              "      <th>1</th>\n",
              "      <td>b'Dollar gains on Greenspan speech\\n\\nThe doll...</td>\n",
              "      <td>business</td>\n",
              "    </tr>\n",
              "    <tr>\n",
              "      <th>2</th>\n",
              "      <td>b'Yukos unit buyer faces loan claim\\n\\nThe own...</td>\n",
              "      <td>business</td>\n",
              "    </tr>\n",
              "    <tr>\n",
              "      <th>3</th>\n",
              "      <td>b'High fuel prices hit BA\\'s profits\\n\\nBritis...</td>\n",
              "      <td>business</td>\n",
              "    </tr>\n",
              "    <tr>\n",
              "      <th>4</th>\n",
              "      <td>b\"Pernod takeover talk lifts Domecq\\n\\nShares ...</td>\n",
              "      <td>business</td>\n",
              "    </tr>\n",
              "  </tbody>\n",
              "</table>\n",
              "</div>\n",
              "      <button class=\"colab-df-convert\" onclick=\"convertToInteractive('df-5b5abd54-4ca2-4941-8ae6-d6314653275a')\"\n",
              "              title=\"Convert this dataframe to an interactive table.\"\n",
              "              style=\"display:none;\">\n",
              "        \n",
              "  <svg xmlns=\"http://www.w3.org/2000/svg\" height=\"24px\"viewBox=\"0 0 24 24\"\n",
              "       width=\"24px\">\n",
              "    <path d=\"M0 0h24v24H0V0z\" fill=\"none\"/>\n",
              "    <path d=\"M18.56 5.44l.94 2.06.94-2.06 2.06-.94-2.06-.94-.94-2.06-.94 2.06-2.06.94zm-11 1L8.5 8.5l.94-2.06 2.06-.94-2.06-.94L8.5 2.5l-.94 2.06-2.06.94zm10 10l.94 2.06.94-2.06 2.06-.94-2.06-.94-.94-2.06-.94 2.06-2.06.94z\"/><path d=\"M17.41 7.96l-1.37-1.37c-.4-.4-.92-.59-1.43-.59-.52 0-1.04.2-1.43.59L10.3 9.45l-7.72 7.72c-.78.78-.78 2.05 0 2.83L4 21.41c.39.39.9.59 1.41.59.51 0 1.02-.2 1.41-.59l7.78-7.78 2.81-2.81c.8-.78.8-2.07 0-2.86zM5.41 20L4 18.59l7.72-7.72 1.47 1.35L5.41 20z\"/>\n",
              "  </svg>\n",
              "      </button>\n",
              "      \n",
              "  <style>\n",
              "    .colab-df-container {\n",
              "      display:flex;\n",
              "      flex-wrap:wrap;\n",
              "      gap: 12px;\n",
              "    }\n",
              "\n",
              "    .colab-df-convert {\n",
              "      background-color: #E8F0FE;\n",
              "      border: none;\n",
              "      border-radius: 50%;\n",
              "      cursor: pointer;\n",
              "      display: none;\n",
              "      fill: #1967D2;\n",
              "      height: 32px;\n",
              "      padding: 0 0 0 0;\n",
              "      width: 32px;\n",
              "    }\n",
              "\n",
              "    .colab-df-convert:hover {\n",
              "      background-color: #E2EBFA;\n",
              "      box-shadow: 0px 1px 2px rgba(60, 64, 67, 0.3), 0px 1px 3px 1px rgba(60, 64, 67, 0.15);\n",
              "      fill: #174EA6;\n",
              "    }\n",
              "\n",
              "    [theme=dark] .colab-df-convert {\n",
              "      background-color: #3B4455;\n",
              "      fill: #D2E3FC;\n",
              "    }\n",
              "\n",
              "    [theme=dark] .colab-df-convert:hover {\n",
              "      background-color: #434B5C;\n",
              "      box-shadow: 0px 1px 3px 1px rgba(0, 0, 0, 0.15);\n",
              "      filter: drop-shadow(0px 1px 2px rgba(0, 0, 0, 0.3));\n",
              "      fill: #FFFFFF;\n",
              "    }\n",
              "  </style>\n",
              "\n",
              "      <script>\n",
              "        const buttonEl =\n",
              "          document.querySelector('#df-5b5abd54-4ca2-4941-8ae6-d6314653275a button.colab-df-convert');\n",
              "        buttonEl.style.display =\n",
              "          google.colab.kernel.accessAllowed ? 'block' : 'none';\n",
              "\n",
              "        async function convertToInteractive(key) {\n",
              "          const element = document.querySelector('#df-5b5abd54-4ca2-4941-8ae6-d6314653275a');\n",
              "          const dataTable =\n",
              "            await google.colab.kernel.invokeFunction('convertToInteractive',\n",
              "                                                     [key], {});\n",
              "          if (!dataTable) return;\n",
              "\n",
              "          const docLinkHtml = 'Like what you see? Visit the ' +\n",
              "            '<a target=\"_blank\" href=https://colab.research.google.com/notebooks/data_table.ipynb>data table notebook</a>'\n",
              "            + ' to learn more about interactive tables.';\n",
              "          element.innerHTML = '';\n",
              "          dataTable['output_type'] = 'display_data';\n",
              "          await google.colab.output.renderOutput(dataTable, element);\n",
              "          const docLink = document.createElement('div');\n",
              "          docLink.innerHTML = docLinkHtml;\n",
              "          element.appendChild(docLink);\n",
              "        }\n",
              "      </script>\n",
              "    </div>\n",
              "  </div>\n",
              "  "
            ]
          },
          "metadata": {},
          "execution_count": 11
        }
      ],
      "source": [
        "df_raw.head()"
      ]
    },
    {
      "cell_type": "code",
      "execution_count": 12,
      "id": "c2a1893f",
      "metadata": {
        "colab": {
          "base_uri": "https://localhost:8080/",
          "height": 206
        },
        "id": "c2a1893f",
        "outputId": "b06a9c13-7963-4961-84e8-9713f7b61d3f"
      },
      "outputs": [
        {
          "output_type": "execute_result",
          "data": {
            "text/plain": [
              "                                              News_text News_Theme\n",
              "2220  b'BT program to beat dialler scams\\n\\nBT is in...       tech\n",
              "2221  b'Spam e-mails tempt net shoppers\\n\\nComputer ...       tech\n",
              "2222  b'Be careful how you code\\n\\nA new European di...       tech\n",
              "2223  b'US cyber security chief resigns\\n\\nThe man m...       tech\n",
              "2224  b'Losing yourself in online gaming\\n\\nOnline r...       tech"
            ],
            "text/html": [
              "\n",
              "  <div id=\"df-a8f7254e-8a0a-4c9a-b1ce-9a792d8656c5\">\n",
              "    <div class=\"colab-df-container\">\n",
              "      <div>\n",
              "<style scoped>\n",
              "    .dataframe tbody tr th:only-of-type {\n",
              "        vertical-align: middle;\n",
              "    }\n",
              "\n",
              "    .dataframe tbody tr th {\n",
              "        vertical-align: top;\n",
              "    }\n",
              "\n",
              "    .dataframe thead th {\n",
              "        text-align: right;\n",
              "    }\n",
              "</style>\n",
              "<table border=\"1\" class=\"dataframe\">\n",
              "  <thead>\n",
              "    <tr style=\"text-align: right;\">\n",
              "      <th></th>\n",
              "      <th>News_text</th>\n",
              "      <th>News_Theme</th>\n",
              "    </tr>\n",
              "  </thead>\n",
              "  <tbody>\n",
              "    <tr>\n",
              "      <th>2220</th>\n",
              "      <td>b'BT program to beat dialler scams\\n\\nBT is in...</td>\n",
              "      <td>tech</td>\n",
              "    </tr>\n",
              "    <tr>\n",
              "      <th>2221</th>\n",
              "      <td>b'Spam e-mails tempt net shoppers\\n\\nComputer ...</td>\n",
              "      <td>tech</td>\n",
              "    </tr>\n",
              "    <tr>\n",
              "      <th>2222</th>\n",
              "      <td>b'Be careful how you code\\n\\nA new European di...</td>\n",
              "      <td>tech</td>\n",
              "    </tr>\n",
              "    <tr>\n",
              "      <th>2223</th>\n",
              "      <td>b'US cyber security chief resigns\\n\\nThe man m...</td>\n",
              "      <td>tech</td>\n",
              "    </tr>\n",
              "    <tr>\n",
              "      <th>2224</th>\n",
              "      <td>b'Losing yourself in online gaming\\n\\nOnline r...</td>\n",
              "      <td>tech</td>\n",
              "    </tr>\n",
              "  </tbody>\n",
              "</table>\n",
              "</div>\n",
              "      <button class=\"colab-df-convert\" onclick=\"convertToInteractive('df-a8f7254e-8a0a-4c9a-b1ce-9a792d8656c5')\"\n",
              "              title=\"Convert this dataframe to an interactive table.\"\n",
              "              style=\"display:none;\">\n",
              "        \n",
              "  <svg xmlns=\"http://www.w3.org/2000/svg\" height=\"24px\"viewBox=\"0 0 24 24\"\n",
              "       width=\"24px\">\n",
              "    <path d=\"M0 0h24v24H0V0z\" fill=\"none\"/>\n",
              "    <path d=\"M18.56 5.44l.94 2.06.94-2.06 2.06-.94-2.06-.94-.94-2.06-.94 2.06-2.06.94zm-11 1L8.5 8.5l.94-2.06 2.06-.94-2.06-.94L8.5 2.5l-.94 2.06-2.06.94zm10 10l.94 2.06.94-2.06 2.06-.94-2.06-.94-.94-2.06-.94 2.06-2.06.94z\"/><path d=\"M17.41 7.96l-1.37-1.37c-.4-.4-.92-.59-1.43-.59-.52 0-1.04.2-1.43.59L10.3 9.45l-7.72 7.72c-.78.78-.78 2.05 0 2.83L4 21.41c.39.39.9.59 1.41.59.51 0 1.02-.2 1.41-.59l7.78-7.78 2.81-2.81c.8-.78.8-2.07 0-2.86zM5.41 20L4 18.59l7.72-7.72 1.47 1.35L5.41 20z\"/>\n",
              "  </svg>\n",
              "      </button>\n",
              "      \n",
              "  <style>\n",
              "    .colab-df-container {\n",
              "      display:flex;\n",
              "      flex-wrap:wrap;\n",
              "      gap: 12px;\n",
              "    }\n",
              "\n",
              "    .colab-df-convert {\n",
              "      background-color: #E8F0FE;\n",
              "      border: none;\n",
              "      border-radius: 50%;\n",
              "      cursor: pointer;\n",
              "      display: none;\n",
              "      fill: #1967D2;\n",
              "      height: 32px;\n",
              "      padding: 0 0 0 0;\n",
              "      width: 32px;\n",
              "    }\n",
              "\n",
              "    .colab-df-convert:hover {\n",
              "      background-color: #E2EBFA;\n",
              "      box-shadow: 0px 1px 2px rgba(60, 64, 67, 0.3), 0px 1px 3px 1px rgba(60, 64, 67, 0.15);\n",
              "      fill: #174EA6;\n",
              "    }\n",
              "\n",
              "    [theme=dark] .colab-df-convert {\n",
              "      background-color: #3B4455;\n",
              "      fill: #D2E3FC;\n",
              "    }\n",
              "\n",
              "    [theme=dark] .colab-df-convert:hover {\n",
              "      background-color: #434B5C;\n",
              "      box-shadow: 0px 1px 3px 1px rgba(0, 0, 0, 0.15);\n",
              "      filter: drop-shadow(0px 1px 2px rgba(0, 0, 0, 0.3));\n",
              "      fill: #FFFFFF;\n",
              "    }\n",
              "  </style>\n",
              "\n",
              "      <script>\n",
              "        const buttonEl =\n",
              "          document.querySelector('#df-a8f7254e-8a0a-4c9a-b1ce-9a792d8656c5 button.colab-df-convert');\n",
              "        buttonEl.style.display =\n",
              "          google.colab.kernel.accessAllowed ? 'block' : 'none';\n",
              "\n",
              "        async function convertToInteractive(key) {\n",
              "          const element = document.querySelector('#df-a8f7254e-8a0a-4c9a-b1ce-9a792d8656c5');\n",
              "          const dataTable =\n",
              "            await google.colab.kernel.invokeFunction('convertToInteractive',\n",
              "                                                     [key], {});\n",
              "          if (!dataTable) return;\n",
              "\n",
              "          const docLinkHtml = 'Like what you see? Visit the ' +\n",
              "            '<a target=\"_blank\" href=https://colab.research.google.com/notebooks/data_table.ipynb>data table notebook</a>'\n",
              "            + ' to learn more about interactive tables.';\n",
              "          element.innerHTML = '';\n",
              "          dataTable['output_type'] = 'display_data';\n",
              "          await google.colab.output.renderOutput(dataTable, element);\n",
              "          const docLink = document.createElement('div');\n",
              "          docLink.innerHTML = docLinkHtml;\n",
              "          element.appendChild(docLink);\n",
              "        }\n",
              "      </script>\n",
              "    </div>\n",
              "  </div>\n",
              "  "
            ]
          },
          "metadata": {},
          "execution_count": 12
        }
      ],
      "source": [
        "df_raw.tail()"
      ]
    },
    {
      "cell_type": "code",
      "execution_count": 13,
      "id": "5e96e561",
      "metadata": {
        "colab": {
          "base_uri": "https://localhost:8080/"
        },
        "id": "5e96e561",
        "outputId": "16faab5a-ae3d-4e97-9ce3-d5a390e28a01"
      },
      "outputs": [
        {
          "output_type": "execute_result",
          "data": {
            "text/plain": [
              "(2225, 2)"
            ]
          },
          "metadata": {},
          "execution_count": 13
        }
      ],
      "source": [
        "df_raw.shape                                                                     ## Shape of raw data with total 2225 rows and 2 columns"
      ]
    },
    {
      "cell_type": "markdown",
      "id": "563eab8a",
      "metadata": {
        "id": "563eab8a"
      },
      "source": [
        "## Data Cleaning"
      ]
    },
    {
      "cell_type": "code",
      "execution_count": 14,
      "id": "64a4aeaa",
      "metadata": {
        "id": "64a4aeaa"
      },
      "outputs": [],
      "source": [
        "df = df_raw.copy()                                                               ## First creating a deep copy"
      ]
    },
    {
      "cell_type": "code",
      "execution_count": 15,
      "id": "43a1cf8e",
      "metadata": {
        "colab": {
          "base_uri": "https://localhost:8080/"
        },
        "id": "43a1cf8e",
        "outputId": "9050562b-8665-4cdc-fffb-fd4c4aa51654"
      },
      "outputs": [
        {
          "output_type": "stream",
          "name": "stdout",
          "text": [
            "<class 'pandas.core.frame.DataFrame'>\n",
            "RangeIndex: 2225 entries, 0 to 2224\n",
            "Data columns (total 2 columns):\n",
            " #   Column      Non-Null Count  Dtype \n",
            "---  ------      --------------  ----- \n",
            " 0   News_text   2225 non-null   object\n",
            " 1   News_Theme  2225 non-null   object\n",
            "dtypes: object(2)\n",
            "memory usage: 34.9+ KB\n"
          ]
        }
      ],
      "source": [
        "df.info()"
      ]
    },
    {
      "cell_type": "code",
      "execution_count": 16,
      "id": "0260629d",
      "metadata": {
        "colab": {
          "base_uri": "https://localhost:8080/"
        },
        "id": "0260629d",
        "outputId": "d4bb588e-e863-41ef-ac4e-32f2b151bfcc"
      },
      "outputs": [
        {
          "output_type": "execute_result",
          "data": {
            "text/plain": [
              "News_text     0\n",
              "News_Theme    0\n",
              "dtype: int64"
            ]
          },
          "metadata": {},
          "execution_count": 16
        }
      ],
      "source": [
        "df.isnull().sum()"
      ]
    },
    {
      "cell_type": "markdown",
      "id": "10f4fea3",
      "metadata": {
        "id": "10f4fea3"
      },
      "source": [
        "### *Insight* : No null values present "
      ]
    },
    {
      "cell_type": "code",
      "execution_count": 17,
      "id": "18a7451d",
      "metadata": {
        "id": "18a7451d"
      },
      "outputs": [],
      "source": [
        "df.drop_duplicates(keep = 'first',inplace = True)                                ## Dropping duplicate values/rows"
      ]
    },
    {
      "cell_type": "code",
      "execution_count": 18,
      "id": "b7b20b2b",
      "metadata": {
        "colab": {
          "base_uri": "https://localhost:8080/"
        },
        "id": "b7b20b2b",
        "outputId": "d55399cb-be28-483a-a084-5bf16e3fef5d"
      },
      "outputs": [
        {
          "output_type": "execute_result",
          "data": {
            "text/plain": [
              "(2127, 2)"
            ]
          },
          "metadata": {},
          "execution_count": 18
        }
      ],
      "source": [
        "df.shape                                                                         ## shape changed "
      ]
    },
    {
      "cell_type": "code",
      "execution_count": 19,
      "id": "b10d562b",
      "metadata": {
        "colab": {
          "base_uri": "https://localhost:8080/"
        },
        "id": "b10d562b",
        "outputId": "eec7619a-0f02-497b-f9c9-6e236ba6b036"
      },
      "outputs": [
        {
          "output_type": "execute_result",
          "data": {
            "text/plain": [
              "98"
            ]
          },
          "metadata": {},
          "execution_count": 19
        }
      ],
      "source": [
        "2225-2127                                                                        ## No. of duplicate rows present"
      ]
    },
    {
      "cell_type": "markdown",
      "id": "f5484ffc",
      "metadata": {
        "id": "f5484ffc"
      },
      "source": [
        "### *Insight* : Total 98 duplicate rows found and removed"
      ]
    },
    {
      "cell_type": "code",
      "execution_count": 20,
      "id": "c3915748",
      "metadata": {
        "colab": {
          "base_uri": "https://localhost:8080/"
        },
        "id": "c3915748",
        "outputId": "539b667a-c44c-4b34-9f84-4c6830ea03ec"
      },
      "outputs": [
        {
          "output_type": "execute_result",
          "data": {
            "text/plain": [
              "sport            505\n",
              "business         503\n",
              "politics         403\n",
              "entertainment    369\n",
              "tech             347\n",
              "Name: News_Theme, dtype: int64"
            ]
          },
          "metadata": {},
          "execution_count": 20
        }
      ],
      "source": [
        "a = df['News_Theme'].value_counts()\n",
        "a"
      ]
    },
    {
      "cell_type": "code",
      "execution_count": 21,
      "id": "0cfb61d4",
      "metadata": {
        "colab": {
          "base_uri": "https://localhost:8080/",
          "height": 596
        },
        "id": "0cfb61d4",
        "outputId": "294a00fa-af34-4a70-de44-e08089403fb0"
      },
      "outputs": [
        {
          "output_type": "display_data",
          "data": {
            "text/plain": [
              "<Figure size 720x720 with 1 Axes>"
            ],
            "image/png": "[encoded data removed]"
          },
          "metadata": {}
        }
      ],
      "source": [
        "plt.figure(figsize = (10,10))\n",
        "plt.pie(a, autopct = '%0.2f%%' , labels = a.index)\n",
        "plt.title('News Topics %', size = 20)\n",
        "plt.show()"
      ]
    },
    {
      "cell_type": "markdown",
      "id": "35b6b325",
      "metadata": {
        "id": "35b6b325"
      },
      "source": [
        "## NLP Text Pre-processing"
      ]
    },
    {
      "cell_type": "code",
      "execution_count": 22,
      "id": "9d846b73",
      "metadata": {
        "colab": {
          "base_uri": "https://localhost:8080/"
        },
        "id": "9d846b73",
        "outputId": "8eb8765c-b78d-4366-f009-e127561d04a9"
      },
      "outputs": [
        {
          "output_type": "execute_result",
          "data": {
            "text/plain": [
              "b'Ad sales boost Time Warner profit\\n\\nQuarterly profits at US media giant TimeWarner jumped 76% to $1.13bn (\\xc2\\xa3600m) for the three months to December, from $639m year-earlier.\\n\\nThe firm, which is now one of the biggest investors in Google, benefited from sales of high-speed internet connections and higher advert sales. TimeWarner said fourth quarter sales rose 2% to $11.1bn from $10.9bn. Its profits were buoyed by one-off gains which offset a profit dip at Warner Bros, and less users for AOL.\\n\\nTime Warner said on Friday that it now owns 8% of search-engine Google. But its own internet business, AOL, had has mixed fortunes. It lost 464,000 subscribers in the fourth quarter profits were lower than in the preceding three quarters. However, the company said AOL\\'s underlying profit before exceptional items rose 8% on the back of stronger internet advertising revenues. It hopes to increase subscribers by offering the online service free to TimeWarner internet customers and will try to sign up AOL\\'s existing customers for high-speed broadband. TimeWarner also has to restate 2000 and 2003 results following a probe by the US Securities Exchange Commission (SEC), which is close to concluding.\\n\\nTime Warner\\'s fourth quarter profits were slightly better than analysts\\' expectations. But its film division saw profits slump 27% to $284m, helped by box-office flops Alexander and Catwoman, a sharp contrast to year-earlier, when the third and final film in the Lord of the Rings trilogy boosted results. For the full-year, TimeWarner posted a profit of $3.36bn, up 27% from its 2003 performance, while revenues grew 6.4% to $42.09bn. \"Our financial performance was strong, meeting or exceeding all of our full-year objectives and greatly enhancing our flexibility,\" chairman and chief executive Richard Parsons said. For 2005, TimeWarner is projecting operating earnings growth of around 5%, and also expects higher revenue and wider profit margins.\\n\\nTimeWarner is to restate its accounts as part of efforts to resolve an inquiry into AOL by US market regulators. It has already offered to pay $300m to settle charges, in a deal that is under review by the SEC. The company said it was unable to estimate the amount it needed to set aside for legal reserves, which it previously set at $500m. It intends to adjust the way it accounts for a deal with German music publisher Bertelsmann\\'s purchase of a stake in AOL Europe, which it had reported as advertising revenue. It will now book the sale of its stake in AOL Europe as a loss on the value of that stake.\\n'"
            ]
          },
          "metadata": {},
          "execution_count": 22
        }
      ],
      "source": [
        "df['News_text'][0]"
      ]
    },
    {
      "cell_type": "code",
      "execution_count": 23,
      "id": "7cc645f4",
      "metadata": {
        "id": "7cc645f4"
      },
      "outputs": [],
      "source": [
        "df['News_text'] = [BeautifulSoup(k).get_text() for k in df['News_text'] ]                   ## Getting data from any html tags if present"
      ]
    },
    {
      "cell_type": "code",
      "execution_count": 24,
      "id": "f2a10482",
      "metadata": {
        "id": "f2a10482"
      },
      "outputs": [],
      "source": [
        "df['News_text'] = [re.sub(r'https?://\\S+|www\\.\\S+', '', k1) for k1 in df['News_text']]      ## Removing any urls present"
      ]
    },
    {
      "cell_type": "code",
      "execution_count": 25,
      "id": "912c95bd",
      "metadata": {
        "colab": {
          "base_uri": "https://localhost:8080/",
          "height": 123
        },
        "id": "912c95bd",
        "outputId": "2311e0d5-8bb1-4b40-fadf-e9daf935dd9a"
      },
      "outputs": [
        {
          "output_type": "execute_result",
          "data": {
            "text/plain": [
              "'Ad sales boost Time Warner profit\\n\\nQuarterly profits at US media giant TimeWarner jumped 76% to $1.13bn (Â£600m) for the three months to December, from $639m year-earlier.\\n\\nThe firm, which is now one of the biggest investors in Google, benefited from sales of high-speed internet connections and higher advert sales. TimeWarner said fourth quarter sales rose 2% to $11.1bn from $10.9bn. Its profits were buoyed by one-off gains which offset a profit dip at Warner Bros, and less users for AOL.\\n\\nTime Warner said on Friday that it now owns 8% of search-engine Google. But its own internet business, AOL, had has mixed fortunes. It lost 464,000 subscribers in the fourth quarter profits were lower than in the preceding three quarters. However, the company said AOL\\'s underlying profit before exceptional items rose 8% on the back of stronger internet advertising revenues. It hopes to increase subscribers by offering the online service free to TimeWarner internet customers and will try to sign up AOL\\'s existing customers for high-speed broadband. TimeWarner also has to restate 2000 and 2003 results following a probe by the US Securities Exchange Commission (SEC), which is close to concluding.\\n\\nTime Warner\\'s fourth quarter profits were slightly better than analysts\\' expectations. But its film division saw profits slump 27% to $284m, helped by box-office flops Alexander and Catwoman, a sharp contrast to year-earlier, when the third and final film in the Lord of the Rings trilogy boosted results. For the full-year, TimeWarner posted a profit of $3.36bn, up 27% from its 2003 performance, while revenues grew 6.4% to $42.09bn. \"Our financial performance was strong, meeting or exceeding all of our full-year objectives and greatly enhancing our flexibility,\" chairman and chief executive Richard Parsons said. For 2005, TimeWarner is projecting operating earnings growth of around 5%, and also expects higher revenue and wider profit margins.\\n\\nTimeWarner is to restate its accounts as part of efforts to resolve an inquiry into AOL by US market regulators. It has already offered to pay $300m to settle charges, in a deal that is under review by the SEC. The company said it was unable to estimate the amount it needed to set aside for legal reserves, which it previously set at $500m. It intends to adjust the way it accounts for a deal with German music publisher Bertelsmann\\'s purchase of a stake in AOL Europe, which it had reported as advertising revenue. It will now book the sale of its stake in AOL Europe as a loss on the value of that stake.\\n'"
            ],
            "application/vnd.google.colaboratory.intrinsic+json": {
              "type": "string"
            }
          },
          "metadata": {},
          "execution_count": 25
        }
      ],
      "source": [
        "df['News_text'][0]"
      ]
    },
    {
      "cell_type": "markdown",
      "id": "c0ae3e9a",
      "metadata": {
        "id": "c0ae3e9a"
      },
      "source": [
        "## Removing non-word characters"
      ]
    },
    {
      "cell_type": "code",
      "execution_count": 26,
      "id": "780c4b9c",
      "metadata": {
        "id": "780c4b9c"
      },
      "outputs": [],
      "source": [
        "df['News_text'] = [re.sub(r\"b\\'\", \"\", k2) for k2 in df['News_text']]                       ## Replacing 'b\\' character with ''"
      ]
    },
    {
      "cell_type": "code",
      "execution_count": 27,
      "id": "b52e956b",
      "metadata": {
        "colab": {
          "base_uri": "https://localhost:8080/",
          "height": 123
        },
        "id": "b52e956b",
        "outputId": "31c1154c-2310-4a5b-baf7-d780925159fa"
      },
      "outputs": [
        {
          "output_type": "execute_result",
          "data": {
            "text/plain": [
              "'Yukos unit buyer faces loan claim\\n\\nThe owners of embattled Russian oil giant Yukos are to ask the buyer of its former production unit to pay back a $900m (Â£479m) loan.\\n\\nState-owned Rosneft bought the Yugansk unit for $9.3bn in a sale forced by Russia to part settle a $27.5bn tax claim against Yukos. Yukos\\' owner Menatep Group says it will ask Rosneft to repay a loan that Yugansk had secured on its assets. Rosneft already faces a similar $540m repayment demand from foreign banks. Legal experts said Rosneft\\'s purchase of Yugansk would include such obligations. \"The pledged assets are with Rosneft, so it will have to pay real money to the creditors to avoid seizure of Yugansk assets,\" said Moscow-based US lawyer Jamie Firestone, who is not connected to the case. Menatep Group\\'s managing director Tim Osborne told the Reuters news agency: \"If they default, we will fight them where the rule of law exists under the international arbitration clauses of the credit.\"\\n\\nRosneft officials were unavailable for comment. But the company has said it intends to take action against Menatep to recover some of the tax claims and debts owed by Yugansk. Yukos had filed for bankruptcy protection in a US court in an attempt to prevent the forced sale of its main production arm. The sale went ahead in December and Yugansk was sold to a little-known shell company which in turn was bought by Rosneft. Yukos claims its downfall was punishment for the political ambitions of its founder Mikhail Khodorkovsky and has vowed to sue any participant in the sale.\\n'"
            ],
            "application/vnd.google.colaboratory.intrinsic+json": {
              "type": "string"
            }
          },
          "metadata": {},
          "execution_count": 27
        }
      ],
      "source": [
        "df['News_text'][2]"
      ]
    },
    {
      "cell_type": "code",
      "execution_count": 28,
      "id": "36395006",
      "metadata": {
        "id": "36395006"
      },
      "outputs": [],
      "source": [
        "df['News_text'] = [re.sub(r\"\\\\n\\\\n\", \" \",k3) for k3 in df['News_text']]                    ## Replacing other non-word characters\n",
        "df['News_text'] = [re.sub(r\"\\\\\\'s\", \" \",k4) for k4 in df['News_text']] \n",
        "df['News_text'] = [re.sub(r\"\\\\\\'\", \" \", k5) for k5 in df['News_text']]\n",
        "df['News_text'] = [re.sub(r\"\\\\n\\'\", \" \", k6) for k6 in df['News_text']]\n",
        "df['News_text'] = [re.sub(r\"\\n\\n\", \" \", k7) for k7 in df['News_text']]\n",
        "df['News_text'] = [re.sub(r'\\\\xc2\\\\xa3','\\xA3', k8) for k8 in df['News_text']]             ## \"\\xA3\" is unicode for symbol pound(£)   \n",
        "df['News_text'] = [re.sub(r\"\\'s\",'', k9) for k9 in df['News_text']] \n",
        "df['News_text'] = [re.sub(r'\\\\n\"','', k10) for k10 in df['News_text']] \n",
        "df['News_text'] = [re.sub(r'b\"','', k11) for k11 in df['News_text']] \n",
        "df['News_text'] = [re.sub(r'\\n','', k12) for k12 in df['News_text']]"
      ]
    },
    {
      "cell_type": "code",
      "source": [
        "df_raw['News_text'][5]                                                                ## News before removing characters"
      ],
      "metadata": {
        "colab": {
          "base_uri": "https://localhost:8080/"
        },
        "id": "dJjqqminjxTZ",
        "outputId": "641c4879-66c9-4d0f-80cb-a212b3fb930f"
      },
      "id": "dJjqqminjxTZ",
      "execution_count": 29,
      "outputs": [
        {
          "output_type": "execute_result",
          "data": {
            "text/plain": [
              "b'Japan narrowly escapes recession\\n\\nJapan\\'s economy teetered on the brink of a technical recession in the three months to September, figures show.\\n\\nRevised figures indicated growth of just 0.1% - and a similar-sized contraction in the previous quarter. On an annual basis, the data suggests annual growth of just 0.2%, suggesting a much more hesitant recovery than had previously been thought. A common technical definition of a recession is two successive quarters of negative growth.\\n\\nThe government was keen to play down the worrying implications of the data. \"I maintain the view that Japan\\'s economy remains in a minor adjustment phase in an upward climb, and we will monitor developments carefully,\" said economy minister Heizo Takenaka. But in the face of the strengthening yen making exports less competitive and indications of weakening economic conditions ahead, observers were less sanguine. \"It\\'s painting a picture of a recovery... much patchier than previously thought,\" said Paul Sheard, economist at Lehman Brothers in Tokyo. Improvements in the job market apparently have yet to feed through to domestic demand, with private consumption up just 0.2% in the third quarter.\\n'"
            ]
          },
          "metadata": {},
          "execution_count": 29
        }
      ]
    },
    {
      "cell_type": "code",
      "execution_count": 30,
      "id": "923e9156",
      "metadata": {
        "colab": {
          "base_uri": "https://localhost:8080/",
          "height": 123
        },
        "id": "923e9156",
        "outputId": "68acf689-4ed6-4d52-b982-d4390085fd4e"
      },
      "outputs": [
        {
          "output_type": "execute_result",
          "data": {
            "text/plain": [
              "'Japan narrowly escapes recession Japan economy teetered on the brink of a technical recession in the three months to September, figures show. Revised figures indicated growth of just 0.1% - and a similar-sized contraction in the previous quarter. On an annual basis, the data suggests annual growth of just 0.2%, suggesting a much more hesitant recovery than had previously been thought. A common technical definition of a recession is two successive quarters of negative growth. The government was keen to play down the worrying implications of the data. \"I maintain the view that Japan economy remains in a minor adjustment phase in an upward climb, and we will monitor developments carefully,\" said economy minister Heizo Takenaka. But in the face of the strengthening yen making exports less competitive and indications of weakening economic conditions ahead, observers were less sanguine. \"It painting a picture of a recovery... much patchier than previously thought,\" said Paul Sheard, economist at Lehman Brothers in Tokyo. Improvements in the job market apparently have yet to feed through to domestic demand, with private consumption up just 0.2% in the third quarter.'"
            ],
            "application/vnd.google.colaboratory.intrinsic+json": {
              "type": "string"
            }
          },
          "metadata": {},
          "execution_count": 30
        }
      ],
      "source": [
        "df['News_text'][5]                                                                    ## After removing non-word characters"
      ]
    },
    {
      "cell_type": "markdown",
      "id": "6d3271f9",
      "metadata": {
        "id": "6d3271f9"
      },
      "source": [
        "## Removing Punctuations"
      ]
    },
    {
      "cell_type": "code",
      "execution_count": 31,
      "id": "03de81a8",
      "metadata": {
        "colab": {
          "base_uri": "https://localhost:8080/",
          "height": 36
        },
        "id": "03de81a8",
        "outputId": "0e159358-9b15-4aa4-fa45-3392276ad1c5"
      },
      "outputs": [
        {
          "output_type": "execute_result",
          "data": {
            "text/plain": [
              "'!\"#$%&\\'()*+,-./:;<=>?@[\\\\]^_`{|}~'"
            ],
            "application/vnd.google.colaboratory.intrinsic+json": {
              "type": "string"
            }
          },
          "metadata": {},
          "execution_count": 31
        }
      ],
      "source": [
        "string.punctuation                                                               ## Total Punctuations"
      ]
    },
    {
      "cell_type": "code",
      "source": [
        "def rem_punct(text):                                                             ## Function to remove punctuations\n",
        "  \"\"\"This function will remove punctuations.\"\"\"\n",
        "  text_no_punct = [char for char in text if char not in '!\"#$%&\\'()*+,-./:;?@[\\\\]^_{|}~`£' ]\n",
        "  text_no_punct = ''.join(text_no_punct)\n",
        "  return text_no_punct"
      ],
      "metadata": {
        "id": "_FalL4pfr5Vm"
      },
      "id": "_FalL4pfr5Vm",
      "execution_count": 32,
      "outputs": []
    },
    {
      "cell_type": "code",
      "source": [
        "df['News_text'] = df['News_text'].apply(lambda x: rem_punct(x))"
      ],
      "metadata": {
        "id": "ZwHG7vVSsxhC"
      },
      "id": "ZwHG7vVSsxhC",
      "execution_count": 33,
      "outputs": []
    },
    {
      "cell_type": "code",
      "execution_count": 34,
      "id": "907a3199",
      "metadata": {
        "colab": {
          "base_uri": "https://localhost:8080/",
          "height": 123
        },
        "id": "907a3199",
        "outputId": "2f31d3fb-547e-4fb2-913e-e9b9970e47aa"
      },
      "outputs": [
        {
          "output_type": "execute_result",
          "data": {
            "text/plain": [
              "'Japan narrowly escapes recession Japan economy teetered on the brink of a technical recession in the three months to September figures show Revised figures indicated growth of just 01  and a similarsized contraction in the previous quarter On an annual basis the data suggests annual growth of just 02 suggesting a much more hesitant recovery than had previously been thought A common technical definition of a recession is two successive quarters of negative growth The government was keen to play down the worrying implications of the data I maintain the view that Japan economy remains in a minor adjustment phase in an upward climb and we will monitor developments carefully said economy minister Heizo Takenaka But in the face of the strengthening yen making exports less competitive and indications of weakening economic conditions ahead observers were less sanguine It painting a picture of a recovery much patchier than previously thought said Paul Sheard economist at Lehman Brothers in Tokyo Improvements in the job market apparently have yet to feed through to domestic demand with private consumption up just 02 in the third quarter'"
            ],
            "application/vnd.google.colaboratory.intrinsic+json": {
              "type": "string"
            }
          },
          "metadata": {},
          "execution_count": 34
        }
      ],
      "source": [
        "df['News_text'][5]"
      ]
    },
    {
      "cell_type": "markdown",
      "id": "3d9d7d1b",
      "metadata": {
        "id": "3d9d7d1b"
      },
      "source": [
        "## Lowering the case"
      ]
    },
    {
      "cell_type": "code",
      "execution_count": 35,
      "id": "552e620f",
      "metadata": {
        "id": "552e620f"
      },
      "outputs": [],
      "source": [
        "df['News_text'] = [lc.lower() for lc in df['News_text']]                                   ## Lower the case to give equal importance to words"
      ]
    },
    {
      "cell_type": "code",
      "execution_count": 36,
      "id": "73b12544",
      "metadata": {
        "colab": {
          "base_uri": "https://localhost:8080/",
          "height": 123
        },
        "id": "73b12544",
        "outputId": "636bb964-ba91-4db8-e3a8-910b2aefb9ed"
      },
      "outputs": [
        {
          "output_type": "execute_result",
          "data": {
            "text/plain": [
              "'japan narrowly escapes recession japan economy teetered on the brink of a technical recession in the three months to september figures show revised figures indicated growth of just 01  and a similarsized contraction in the previous quarter on an annual basis the data suggests annual growth of just 02 suggesting a much more hesitant recovery than had previously been thought a common technical definition of a recession is two successive quarters of negative growth the government was keen to play down the worrying implications of the data i maintain the view that japan economy remains in a minor adjustment phase in an upward climb and we will monitor developments carefully said economy minister heizo takenaka but in the face of the strengthening yen making exports less competitive and indications of weakening economic conditions ahead observers were less sanguine it painting a picture of a recovery much patchier than previously thought said paul sheard economist at lehman brothers in tokyo improvements in the job market apparently have yet to feed through to domestic demand with private consumption up just 02 in the third quarter'"
            ],
            "application/vnd.google.colaboratory.intrinsic+json": {
              "type": "string"
            }
          },
          "metadata": {},
          "execution_count": 36
        }
      ],
      "source": [
        "df['News_text'][5]"
      ]
    },
    {
      "cell_type": "markdown",
      "id": "85a33541",
      "metadata": {
        "id": "85a33541"
      },
      "source": [
        "## Removing Extra space"
      ]
    },
    {
      "cell_type": "code",
      "execution_count": 37,
      "id": "03edbded",
      "metadata": {
        "id": "03edbded"
      },
      "outputs": [],
      "source": [
        "df['News_text'] = [re.sub(r'  ','', e_sp) for e_sp in df['News_text']]                      ## Removing extra space to save memory"
      ]
    },
    {
      "cell_type": "code",
      "execution_count": 38,
      "id": "1dc94aed",
      "metadata": {
        "colab": {
          "base_uri": "https://localhost:8080/",
          "height": 123
        },
        "id": "1dc94aed",
        "outputId": "2404854c-e495-4f19-ac05-e99c4eb8a67d"
      },
      "outputs": [
        {
          "output_type": "execute_result",
          "data": {
            "text/plain": [
              "'jobs growth still slow in the us the us created fewer jobs than expected in january but a fall in jobseekers pushed the unemployment rate to its lowest level in three years according to labor department figures us firms added only 146000 jobs in january the gain in nonfarm payrolls was below market expectations of 190000 new jobs nevertheless it was enough to push down the unemployment rate to 52 its lowest level since september 2001 the job gains mean that president bush can celebratealbeit by a very fine margina net growth in jobs in the us economy in his first term in office he presided over a net fall in jobs up to last november presidential electionthe first president to do so since herbert hoover as a result job creation became a key issue in last year election however when adding december and january figures the administration first term jobs record ended in positive territory the labor department also said it had revised down the jobs gains in december 2004 from 157000 to 133000 analysts said the growth in new jobs was not as strong as could be expected given the favourable economic conditions it suggests that employment is continuing to expand at a moderate pace said rick egelton deputy chief economist at bmo financial group we are not getting the boost to employment that we would have got given the low value of the dollar and the still relatively low interest rate environment the economy is producing a moderate but not a satisfying amount of job growth said ken mayland president of clearview economics that means there are a limited number of new opportunities for workers'"
            ],
            "application/vnd.google.colaboratory.intrinsic+json": {
              "type": "string"
            }
          },
          "metadata": {},
          "execution_count": 38
        }
      ],
      "source": [
        "df['News_text'][6]"
      ]
    },
    {
      "cell_type": "markdown",
      "id": "616d3ae6",
      "metadata": {
        "id": "616d3ae6"
      },
      "source": [
        "## Removing Numbers"
      ]
    },
    {
      "cell_type": "code",
      "execution_count": 39,
      "id": "0b218bef",
      "metadata": {
        "id": "0b218bef"
      },
      "outputs": [],
      "source": [
        "df['News_text'] = [re.sub(r'\\d+','', d1) for d1 in df['News_text']]              ## This removes any numbers present"
      ]
    },
    {
      "cell_type": "code",
      "execution_count": 40,
      "id": "cd094c5a",
      "metadata": {
        "colab": {
          "base_uri": "https://localhost:8080/",
          "height": 123
        },
        "id": "cd094c5a",
        "outputId": "71ed9d4e-16af-424b-b648-4d42ec39805c"
      },
      "outputs": [
        {
          "output_type": "execute_result",
          "data": {
            "text/plain": [
              "'dollar gains on greenspan speech the dollar has hit its highest level against the euro in almost three months after the federal reserve head said the us trade deficit is set to stabilise and alan greenspan highlighted the us government willingness to curb spending and rising household savings as factors which may help to reduce it in late trading in new york the dollar reached  against the euro from  on thursday market concerns about the deficit has hit the greenback in recent months on friday federal reserve chairman mr greenspan speech in london ahead of the meeting of g finance ministers sent the dollar higher after it had earlier tumbled on the back of worsethanexpected us jobs data i think the chairman taking a much more sanguine view on the current account deficit than he taken for some time said robert sinche head of currency strategy at bank of america in new york he taking a longerterm view laying out a set of conditions under which the current account deficit can improve this year and next worries about the deficit concerns about china do however remain china currency remains pegged to the dollar and the us currency sharp falls in recent months have therefore made chinese export prices highly competitive but calls for a shift in beijing policy have fallen on deaf ears despite recent comments in a major chinese newspaper that the time is ripe for a loosening of the peg the g meeting is thought unlikely to produce any meaningful movement in chinese policy in the meantime the us federal reserve decision on  february to boost interest rates by a quarter of a pointthe sixth such move in as many monthshas opened up a differential with european rates the halfpoint window some believe could be enough to keep us assets looking more attractive and could help prop up the dollar the recent falls have partly been the result of big budget deficits as well as the us yawning current account gap both of which need to be funded by the buying of us bonds and assets by foreign firms and governments the white house will announce its budget on monday and many commentators believe the deficit will remain at close to half a trillion dollars'"
            ],
            "application/vnd.google.colaboratory.intrinsic+json": {
              "type": "string"
            }
          },
          "metadata": {},
          "execution_count": 40
        }
      ],
      "source": [
        "df['News_text'][1]"
      ]
    },
    {
      "cell_type": "markdown",
      "source": [
        "## Tokenization"
      ],
      "metadata": {
        "id": "EVPugHZExVrw"
      },
      "id": "EVPugHZExVrw"
    },
    {
      "cell_type": "code",
      "source": [
        "def tokenize(text):                                                              ## Defining function to create list of tokens\n",
        "  \"\"\" This function gives list of tokens.\"\"\"\n",
        "  tokens = re.split('\\W+', text)\n",
        "  return tokens"
      ],
      "metadata": {
        "id": "BLXsHpHcxUHz"
      },
      "id": "BLXsHpHcxUHz",
      "execution_count": 41,
      "outputs": []
    },
    {
      "cell_type": "code",
      "source": [
        "df['Tokens'] = df['News_text'].apply(tokenize)"
      ],
      "metadata": {
        "id": "kF9Ji4TZx-D4"
      },
      "id": "kF9Ji4TZx-D4",
      "execution_count": 42,
      "outputs": []
    },
    {
      "cell_type": "code",
      "source": [
        "df.head()"
      ],
      "metadata": {
        "colab": {
          "base_uri": "https://localhost:8080/",
          "height": 206
        },
        "id": "kQBgGs5Mx91h",
        "outputId": "fb08e9f9-8cac-43e6-a7f0-3624d72f3fc7"
      },
      "id": "kQBgGs5Mx91h",
      "execution_count": 43,
      "outputs": [
        {
          "output_type": "execute_result",
          "data": {
            "text/plain": [
              "                                           News_text News_Theme  \\\n",
              "0  ad sales boost time warner profit quarterly pr...   business   \n",
              "1  dollar gains on greenspan speech the dollar ha...   business   \n",
              "2  yukos unit buyer faces loan claim the owners o...   business   \n",
              "3  high fuel prices hit ba profits british airway...   business   \n",
              "4  pernod takeover talk lifts domecq shares in uk...   business   \n",
              "\n",
              "                                              Tokens  \n",
              "0  [ad, sales, boost, time, warner, profit, quart...  \n",
              "1  [dollar, gains, on, greenspan, speech, the, do...  \n",
              "2  [yukos, unit, buyer, faces, loan, claim, the, ...  \n",
              "3  [high, fuel, prices, hit, ba, profits, british...  \n",
              "4  [pernod, takeover, talk, lifts, domecq, shares...  "
            ],
            "text/html": [
              "\n",
              "  <div id=\"df-574d2421-4ff9-4be8-a8d5-e402ee7336f5\">\n",
              "    <div class=\"colab-df-container\">\n",
              "      <div>\n",
              "<style scoped>\n",
              "    .dataframe tbody tr th:only-of-type {\n",
              "        vertical-align: middle;\n",
              "    }\n",
              "\n",
              "    .dataframe tbody tr th {\n",
              "        vertical-align: top;\n",
              "    }\n",
              "\n",
              "    .dataframe thead th {\n",
              "        text-align: right;\n",
              "    }\n",
              "</style>\n",
              "<table border=\"1\" class=\"dataframe\">\n",
              "  <thead>\n",
              "    <tr style=\"text-align: right;\">\n",
              "      <th></th>\n",
              "      <th>News_text</th>\n",
              "      <th>News_Theme</th>\n",
              "      <th>Tokens</th>\n",
              "    </tr>\n",
              "  </thead>\n",
              "  <tbody>\n",
              "    <tr>\n",
              "      <th>0</th>\n",
              "      <td>ad sales boost time warner profit quarterly pr...</td>\n",
              "      <td>business</td>\n",
              "      <td>[ad, sales, boost, time, warner, profit, quart...</td>\n",
              "    </tr>\n",
              "    <tr>\n",
              "      <th>1</th>\n",
              "      <td>dollar gains on greenspan speech the dollar ha...</td>\n",
              "      <td>business</td>\n",
              "      <td>[dollar, gains, on, greenspan, speech, the, do...</td>\n",
              "    </tr>\n",
              "    <tr>\n",
              "      <th>2</th>\n",
              "      <td>yukos unit buyer faces loan claim the owners o...</td>\n",
              "      <td>business</td>\n",
              "      <td>[yukos, unit, buyer, faces, loan, claim, the, ...</td>\n",
              "    </tr>\n",
              "    <tr>\n",
              "      <th>3</th>\n",
              "      <td>high fuel prices hit ba profits british airway...</td>\n",
              "      <td>business</td>\n",
              "      <td>[high, fuel, prices, hit, ba, profits, british...</td>\n",
              "    </tr>\n",
              "    <tr>\n",
              "      <th>4</th>\n",
              "      <td>pernod takeover talk lifts domecq shares in uk...</td>\n",
              "      <td>business</td>\n",
              "      <td>[pernod, takeover, talk, lifts, domecq, shares...</td>\n",
              "    </tr>\n",
              "  </tbody>\n",
              "</table>\n",
              "</div>\n",
              "      <button class=\"colab-df-convert\" onclick=\"convertToInteractive('df-574d2421-4ff9-4be8-a8d5-e402ee7336f5')\"\n",
              "              title=\"Convert this dataframe to an interactive table.\"\n",
              "              style=\"display:none;\">\n",
              "        \n",
              "  <svg xmlns=\"http://www.w3.org/2000/svg\" height=\"24px\"viewBox=\"0 0 24 24\"\n",
              "       width=\"24px\">\n",
              "    <path d=\"M0 0h24v24H0V0z\" fill=\"none\"/>\n",
              "    <path d=\"M18.56 5.44l.94 2.06.94-2.06 2.06-.94-2.06-.94-.94-2.06-.94 2.06-2.06.94zm-11 1L8.5 8.5l.94-2.06 2.06-.94-2.06-.94L8.5 2.5l-.94 2.06-2.06.94zm10 10l.94 2.06.94-2.06 2.06-.94-2.06-.94-.94-2.06-.94 2.06-2.06.94z\"/><path d=\"M17.41 7.96l-1.37-1.37c-.4-.4-.92-.59-1.43-.59-.52 0-1.04.2-1.43.59L10.3 9.45l-7.72 7.72c-.78.78-.78 2.05 0 2.83L4 21.41c.39.39.9.59 1.41.59.51 0 1.02-.2 1.41-.59l7.78-7.78 2.81-2.81c.8-.78.8-2.07 0-2.86zM5.41 20L4 18.59l7.72-7.72 1.47 1.35L5.41 20z\"/>\n",
              "  </svg>\n",
              "      </button>\n",
              "      \n",
              "  <style>\n",
              "    .colab-df-container {\n",
              "      display:flex;\n",
              "      flex-wrap:wrap;\n",
              "      gap: 12px;\n",
              "    }\n",
              "\n",
              "    .colab-df-convert {\n",
              "      background-color: #E8F0FE;\n",
              "      border: none;\n",
              "      border-radius: 50%;\n",
              "      cursor: pointer;\n",
              "      display: none;\n",
              "      fill: #1967D2;\n",
              "      height: 32px;\n",
              "      padding: 0 0 0 0;\n",
              "      width: 32px;\n",
              "    }\n",
              "\n",
              "    .colab-df-convert:hover {\n",
              "      background-color: #E2EBFA;\n",
              "      box-shadow: 0px 1px 2px rgba(60, 64, 67, 0.3), 0px 1px 3px 1px rgba(60, 64, 67, 0.15);\n",
              "      fill: #174EA6;\n",
              "    }\n",
              "\n",
              "    [theme=dark] .colab-df-convert {\n",
              "      background-color: #3B4455;\n",
              "      fill: #D2E3FC;\n",
              "    }\n",
              "\n",
              "    [theme=dark] .colab-df-convert:hover {\n",
              "      background-color: #434B5C;\n",
              "      box-shadow: 0px 1px 3px 1px rgba(0, 0, 0, 0.15);\n",
              "      filter: drop-shadow(0px 1px 2px rgba(0, 0, 0, 0.3));\n",
              "      fill: #FFFFFF;\n",
              "    }\n",
              "  </style>\n",
              "\n",
              "      <script>\n",
              "        const buttonEl =\n",
              "          document.querySelector('#df-574d2421-4ff9-4be8-a8d5-e402ee7336f5 button.colab-df-convert');\n",
              "        buttonEl.style.display =\n",
              "          google.colab.kernel.accessAllowed ? 'block' : 'none';\n",
              "\n",
              "        async function convertToInteractive(key) {\n",
              "          const element = document.querySelector('#df-574d2421-4ff9-4be8-a8d5-e402ee7336f5');\n",
              "          const dataTable =\n",
              "            await google.colab.kernel.invokeFunction('convertToInteractive',\n",
              "                                                     [key], {});\n",
              "          if (!dataTable) return;\n",
              "\n",
              "          const docLinkHtml = 'Like what you see? Visit the ' +\n",
              "            '<a target=\"_blank\" href=https://colab.research.google.com/notebooks/data_table.ipynb>data table notebook</a>'\n",
              "            + ' to learn more about interactive tables.';\n",
              "          element.innerHTML = '';\n",
              "          dataTable['output_type'] = 'display_data';\n",
              "          await google.colab.output.renderOutput(dataTable, element);\n",
              "          const docLink = document.createElement('div');\n",
              "          docLink.innerHTML = docLinkHtml;\n",
              "          element.appendChild(docLink);\n",
              "        }\n",
              "      </script>\n",
              "    </div>\n",
              "  </div>\n",
              "  "
            ]
          },
          "metadata": {},
          "execution_count": 43
        }
      ]
    },
    {
      "cell_type": "markdown",
      "id": "8b33e6f0",
      "metadata": {
        "id": "8b33e6f0"
      },
      "source": [
        "## Removing Stop words"
      ]
    },
    {
      "cell_type": "code",
      "source": [
        "swds = nltk.corpus.stopwords.words('english') "
      ],
      "metadata": {
        "id": "ZfvsYC3P0PUB"
      },
      "id": "ZfvsYC3P0PUB",
      "execution_count": 44,
      "outputs": []
    },
    {
      "cell_type": "code",
      "source": [
        "df.head()"
      ],
      "metadata": {
        "colab": {
          "base_uri": "https://localhost:8080/",
          "height": 206
        },
        "id": "YfMrn7R0ET_P",
        "outputId": "c246b745-f788-4bc1-ecde-31db4cf010e4"
      },
      "id": "YfMrn7R0ET_P",
      "execution_count": 45,
      "outputs": [
        {
          "output_type": "execute_result",
          "data": {
            "text/plain": [
              "                                           News_text News_Theme  \\\n",
              "0  ad sales boost time warner profit quarterly pr...   business   \n",
              "1  dollar gains on greenspan speech the dollar ha...   business   \n",
              "2  yukos unit buyer faces loan claim the owners o...   business   \n",
              "3  high fuel prices hit ba profits british airway...   business   \n",
              "4  pernod takeover talk lifts domecq shares in uk...   business   \n",
              "\n",
              "                                              Tokens  \n",
              "0  [ad, sales, boost, time, warner, profit, quart...  \n",
              "1  [dollar, gains, on, greenspan, speech, the, do...  \n",
              "2  [yukos, unit, buyer, faces, loan, claim, the, ...  \n",
              "3  [high, fuel, prices, hit, ba, profits, british...  \n",
              "4  [pernod, takeover, talk, lifts, domecq, shares...  "
            ],
            "text/html": [
              "\n",
              "  <div id=\"df-3a1c9329-393c-4a9e-ae15-20c74429df0f\">\n",
              "    <div class=\"colab-df-container\">\n",
              "      <div>\n",
              "<style scoped>\n",
              "    .dataframe tbody tr th:only-of-type {\n",
              "        vertical-align: middle;\n",
              "    }\n",
              "\n",
              "    .dataframe tbody tr th {\n",
              "        vertical-align: top;\n",
              "    }\n",
              "\n",
              "    .dataframe thead th {\n",
              "        text-align: right;\n",
              "    }\n",
              "</style>\n",
              "<table border=\"1\" class=\"dataframe\">\n",
              "  <thead>\n",
              "    <tr style=\"text-align: right;\">\n",
              "      <th></th>\n",
              "      <th>News_text</th>\n",
              "      <th>News_Theme</th>\n",
              "      <th>Tokens</th>\n",
              "    </tr>\n",
              "  </thead>\n",
              "  <tbody>\n",
              "    <tr>\n",
              "      <th>0</th>\n",
              "      <td>ad sales boost time warner profit quarterly pr...</td>\n",
              "      <td>business</td>\n",
              "      <td>[ad, sales, boost, time, warner, profit, quart...</td>\n",
              "    </tr>\n",
              "    <tr>\n",
              "      <th>1</th>\n",
              "      <td>dollar gains on greenspan speech the dollar ha...</td>\n",
              "      <td>business</td>\n",
              "      <td>[dollar, gains, on, greenspan, speech, the, do...</td>\n",
              "    </tr>\n",
              "    <tr>\n",
              "      <th>2</th>\n",
              "      <td>yukos unit buyer faces loan claim the owners o...</td>\n",
              "      <td>business</td>\n",
              "      <td>[yukos, unit, buyer, faces, loan, claim, the, ...</td>\n",
              "    </tr>\n",
              "    <tr>\n",
              "      <th>3</th>\n",
              "      <td>high fuel prices hit ba profits british airway...</td>\n",
              "      <td>business</td>\n",
              "      <td>[high, fuel, prices, hit, ba, profits, british...</td>\n",
              "    </tr>\n",
              "    <tr>\n",
              "      <th>4</th>\n",
              "      <td>pernod takeover talk lifts domecq shares in uk...</td>\n",
              "      <td>business</td>\n",
              "      <td>[pernod, takeover, talk, lifts, domecq, shares...</td>\n",
              "    </tr>\n",
              "  </tbody>\n",
              "</table>\n",
              "</div>\n",
              "      <button class=\"colab-df-convert\" onclick=\"convertToInteractive('df-3a1c9329-393c-4a9e-ae15-20c74429df0f')\"\n",
              "              title=\"Convert this dataframe to an interactive table.\"\n",
              "              style=\"display:none;\">\n",
              "        \n",
              "  <svg xmlns=\"http://www.w3.org/2000/svg\" height=\"24px\"viewBox=\"0 0 24 24\"\n",
              "       width=\"24px\">\n",
              "    <path d=\"M0 0h24v24H0V0z\" fill=\"none\"/>\n",
              "    <path d=\"M18.56 5.44l.94 2.06.94-2.06 2.06-.94-2.06-.94-.94-2.06-.94 2.06-2.06.94zm-11 1L8.5 8.5l.94-2.06 2.06-.94-2.06-.94L8.5 2.5l-.94 2.06-2.06.94zm10 10l.94 2.06.94-2.06 2.06-.94-2.06-.94-.94-2.06-.94 2.06-2.06.94z\"/><path d=\"M17.41 7.96l-1.37-1.37c-.4-.4-.92-.59-1.43-.59-.52 0-1.04.2-1.43.59L10.3 9.45l-7.72 7.72c-.78.78-.78 2.05 0 2.83L4 21.41c.39.39.9.59 1.41.59.51 0 1.02-.2 1.41-.59l7.78-7.78 2.81-2.81c.8-.78.8-2.07 0-2.86zM5.41 20L4 18.59l7.72-7.72 1.47 1.35L5.41 20z\"/>\n",
              "  </svg>\n",
              "      </button>\n",
              "      \n",
              "  <style>\n",
              "    .colab-df-container {\n",
              "      display:flex;\n",
              "      flex-wrap:wrap;\n",
              "      gap: 12px;\n",
              "    }\n",
              "\n",
              "    .colab-df-convert {\n",
              "      background-color: #E8F0FE;\n",
              "      border: none;\n",
              "      border-radius: 50%;\n",
              "      cursor: pointer;\n",
              "      display: none;\n",
              "      fill: #1967D2;\n",
              "      height: 32px;\n",
              "      padding: 0 0 0 0;\n",
              "      width: 32px;\n",
              "    }\n",
              "\n",
              "    .colab-df-convert:hover {\n",
              "      background-color: #E2EBFA;\n",
              "      box-shadow: 0px 1px 2px rgba(60, 64, 67, 0.3), 0px 1px 3px 1px rgba(60, 64, 67, 0.15);\n",
              "      fill: #174EA6;\n",
              "    }\n",
              "\n",
              "    [theme=dark] .colab-df-convert {\n",
              "      background-color: #3B4455;\n",
              "      fill: #D2E3FC;\n",
              "    }\n",
              "\n",
              "    [theme=dark] .colab-df-convert:hover {\n",
              "      background-color: #434B5C;\n",
              "      box-shadow: 0px 1px 3px 1px rgba(0, 0, 0, 0.15);\n",
              "      filter: drop-shadow(0px 1px 2px rgba(0, 0, 0, 0.3));\n",
              "      fill: #FFFFFF;\n",
              "    }\n",
              "  </style>\n",
              "\n",
              "      <script>\n",
              "        const buttonEl =\n",
              "          document.querySelector('#df-3a1c9329-393c-4a9e-ae15-20c74429df0f button.colab-df-convert');\n",
              "        buttonEl.style.display =\n",
              "          google.colab.kernel.accessAllowed ? 'block' : 'none';\n",
              "\n",
              "        async function convertToInteractive(key) {\n",
              "          const element = document.querySelector('#df-3a1c9329-393c-4a9e-ae15-20c74429df0f');\n",
              "          const dataTable =\n",
              "            await google.colab.kernel.invokeFunction('convertToInteractive',\n",
              "                                                     [key], {});\n",
              "          if (!dataTable) return;\n",
              "\n",
              "          const docLinkHtml = 'Like what you see? Visit the ' +\n",
              "            '<a target=\"_blank\" href=https://colab.research.google.com/notebooks/data_table.ipynb>data table notebook</a>'\n",
              "            + ' to learn more about interactive tables.';\n",
              "          element.innerHTML = '';\n",
              "          dataTable['output_type'] = 'display_data';\n",
              "          await google.colab.output.renderOutput(dataTable, element);\n",
              "          const docLink = document.createElement('div');\n",
              "          docLink.innerHTML = docLinkHtml;\n",
              "          element.appendChild(docLink);\n",
              "        }\n",
              "      </script>\n",
              "    </div>\n",
              "  </div>\n",
              "  "
            ]
          },
          "metadata": {},
          "execution_count": 45
        }
      ]
    },
    {
      "cell_type": "code",
      "source": [
        "def remove_sw(tokenized_list):                                                   ## Defining function to remove stopwords\n",
        "  \"\"\"This function will remove stopwords.\"\"\"\n",
        "  text = [word for word in tokenized_list if word not in swds]\n",
        "  return text"
      ],
      "metadata": {
        "id": "MxtGScgt0PRU"
      },
      "id": "MxtGScgt0PRU",
      "execution_count": 46,
      "outputs": []
    },
    {
      "cell_type": "code",
      "source": [
        "df['Tokens(without stop words)'] = df['Tokens'].apply(remove_sw)                 ## Calling function to new column"
      ],
      "metadata": {
        "id": "pGnu7ICr0POW"
      },
      "id": "pGnu7ICr0POW",
      "execution_count": 47,
      "outputs": []
    },
    {
      "cell_type": "code",
      "source": [
        "df.head()"
      ],
      "metadata": {
        "colab": {
          "base_uri": "https://localhost:8080/",
          "height": 206
        },
        "id": "WOFDFOlN1vmg",
        "outputId": "b244857a-ec26-4d8f-c584-4998b5560970"
      },
      "id": "WOFDFOlN1vmg",
      "execution_count": 48,
      "outputs": [
        {
          "output_type": "execute_result",
          "data": {
            "text/plain": [
              "                                           News_text News_Theme  \\\n",
              "0  ad sales boost time warner profit quarterly pr...   business   \n",
              "1  dollar gains on greenspan speech the dollar ha...   business   \n",
              "2  yukos unit buyer faces loan claim the owners o...   business   \n",
              "3  high fuel prices hit ba profits british airway...   business   \n",
              "4  pernod takeover talk lifts domecq shares in uk...   business   \n",
              "\n",
              "                                              Tokens  \\\n",
              "0  [ad, sales, boost, time, warner, profit, quart...   \n",
              "1  [dollar, gains, on, greenspan, speech, the, do...   \n",
              "2  [yukos, unit, buyer, faces, loan, claim, the, ...   \n",
              "3  [high, fuel, prices, hit, ba, profits, british...   \n",
              "4  [pernod, takeover, talk, lifts, domecq, shares...   \n",
              "\n",
              "                          Tokens(without stop words)  \n",
              "0  [ad, sales, boost, time, warner, profit, quart...  \n",
              "1  [dollar, gains, greenspan, speech, dollar, hit...  \n",
              "2  [yukos, unit, buyer, faces, loan, claim, owner...  \n",
              "3  [high, fuel, prices, hit, ba, profits, british...  \n",
              "4  [pernod, takeover, talk, lifts, domecq, shares...  "
            ],
            "text/html": [
              "\n",
              "  <div id=\"df-f7b79289-6c3a-44a0-977b-cc9b4a72aeb9\">\n",
              "    <div class=\"colab-df-container\">\n",
              "      <div>\n",
              "<style scoped>\n",
              "    .dataframe tbody tr th:only-of-type {\n",
              "        vertical-align: middle;\n",
              "    }\n",
              "\n",
              "    .dataframe tbody tr th {\n",
              "        vertical-align: top;\n",
              "    }\n",
              "\n",
              "    .dataframe thead th {\n",
              "        text-align: right;\n",
              "    }\n",
              "</style>\n",
              "<table border=\"1\" class=\"dataframe\">\n",
              "  <thead>\n",
              "    <tr style=\"text-align: right;\">\n",
              "      <th></th>\n",
              "      <th>News_text</th>\n",
              "      <th>News_Theme</th>\n",
              "      <th>Tokens</th>\n",
              "      <th>Tokens(without stop words)</th>\n",
              "    </tr>\n",
              "  </thead>\n",
              "  <tbody>\n",
              "    <tr>\n",
              "      <th>0</th>\n",
              "      <td>ad sales boost time warner profit quarterly pr...</td>\n",
              "      <td>business</td>\n",
              "      <td>[ad, sales, boost, time, warner, profit, quart...</td>\n",
              "      <td>[ad, sales, boost, time, warner, profit, quart...</td>\n",
              "    </tr>\n",
              "    <tr>\n",
              "      <th>1</th>\n",
              "      <td>dollar gains on greenspan speech the dollar ha...</td>\n",
              "      <td>business</td>\n",
              "      <td>[dollar, gains, on, greenspan, speech, the, do...</td>\n",
              "      <td>[dollar, gains, greenspan, speech, dollar, hit...</td>\n",
              "    </tr>\n",
              "    <tr>\n",
              "      <th>2</th>\n",
              "      <td>yukos unit buyer faces loan claim the owners o...</td>\n",
              "      <td>business</td>\n",
              "      <td>[yukos, unit, buyer, faces, loan, claim, the, ...</td>\n",
              "      <td>[yukos, unit, buyer, faces, loan, claim, owner...</td>\n",
              "    </tr>\n",
              "    <tr>\n",
              "      <th>3</th>\n",
              "      <td>high fuel prices hit ba profits british airway...</td>\n",
              "      <td>business</td>\n",
              "      <td>[high, fuel, prices, hit, ba, profits, british...</td>\n",
              "      <td>[high, fuel, prices, hit, ba, profits, british...</td>\n",
              "    </tr>\n",
              "    <tr>\n",
              "      <th>4</th>\n",
              "      <td>pernod takeover talk lifts domecq shares in uk...</td>\n",
              "      <td>business</td>\n",
              "      <td>[pernod, takeover, talk, lifts, domecq, shares...</td>\n",
              "      <td>[pernod, takeover, talk, lifts, domecq, shares...</td>\n",
              "    </tr>\n",
              "  </tbody>\n",
              "</table>\n",
              "</div>\n",
              "      <button class=\"colab-df-convert\" onclick=\"convertToInteractive('df-f7b79289-6c3a-44a0-977b-cc9b4a72aeb9')\"\n",
              "              title=\"Convert this dataframe to an interactive table.\"\n",
              "              style=\"display:none;\">\n",
              "        \n",
              "  <svg xmlns=\"http://www.w3.org/2000/svg\" height=\"24px\"viewBox=\"0 0 24 24\"\n",
              "       width=\"24px\">\n",
              "    <path d=\"M0 0h24v24H0V0z\" fill=\"none\"/>\n",
              "    <path d=\"M18.56 5.44l.94 2.06.94-2.06 2.06-.94-2.06-.94-.94-2.06-.94 2.06-2.06.94zm-11 1L8.5 8.5l.94-2.06 2.06-.94-2.06-.94L8.5 2.5l-.94 2.06-2.06.94zm10 10l.94 2.06.94-2.06 2.06-.94-2.06-.94-.94-2.06-.94 2.06-2.06.94z\"/><path d=\"M17.41 7.96l-1.37-1.37c-.4-.4-.92-.59-1.43-.59-.52 0-1.04.2-1.43.59L10.3 9.45l-7.72 7.72c-.78.78-.78 2.05 0 2.83L4 21.41c.39.39.9.59 1.41.59.51 0 1.02-.2 1.41-.59l7.78-7.78 2.81-2.81c.8-.78.8-2.07 0-2.86zM5.41 20L4 18.59l7.72-7.72 1.47 1.35L5.41 20z\"/>\n",
              "  </svg>\n",
              "      </button>\n",
              "      \n",
              "  <style>\n",
              "    .colab-df-container {\n",
              "      display:flex;\n",
              "      flex-wrap:wrap;\n",
              "      gap: 12px;\n",
              "    }\n",
              "\n",
              "    .colab-df-convert {\n",
              "      background-color: #E8F0FE;\n",
              "      border: none;\n",
              "      border-radius: 50%;\n",
              "      cursor: pointer;\n",
              "      display: none;\n",
              "      fill: #1967D2;\n",
              "      height: 32px;\n",
              "      padding: 0 0 0 0;\n",
              "      width: 32px;\n",
              "    }\n",
              "\n",
              "    .colab-df-convert:hover {\n",
              "      background-color: #E2EBFA;\n",
              "      box-shadow: 0px 1px 2px rgba(60, 64, 67, 0.3), 0px 1px 3px 1px rgba(60, 64, 67, 0.15);\n",
              "      fill: #174EA6;\n",
              "    }\n",
              "\n",
              "    [theme=dark] .colab-df-convert {\n",
              "      background-color: #3B4455;\n",
              "      fill: #D2E3FC;\n",
              "    }\n",
              "\n",
              "    [theme=dark] .colab-df-convert:hover {\n",
              "      background-color: #434B5C;\n",
              "      box-shadow: 0px 1px 3px 1px rgba(0, 0, 0, 0.15);\n",
              "      filter: drop-shadow(0px 1px 2px rgba(0, 0, 0, 0.3));\n",
              "      fill: #FFFFFF;\n",
              "    }\n",
              "  </style>\n",
              "\n",
              "      <script>\n",
              "        const buttonEl =\n",
              "          document.querySelector('#df-f7b79289-6c3a-44a0-977b-cc9b4a72aeb9 button.colab-df-convert');\n",
              "        buttonEl.style.display =\n",
              "          google.colab.kernel.accessAllowed ? 'block' : 'none';\n",
              "\n",
              "        async function convertToInteractive(key) {\n",
              "          const element = document.querySelector('#df-f7b79289-6c3a-44a0-977b-cc9b4a72aeb9');\n",
              "          const dataTable =\n",
              "            await google.colab.kernel.invokeFunction('convertToInteractive',\n",
              "                                                     [key], {});\n",
              "          if (!dataTable) return;\n",
              "\n",
              "          const docLinkHtml = 'Like what you see? Visit the ' +\n",
              "            '<a target=\"_blank\" href=https://colab.research.google.com/notebooks/data_table.ipynb>data table notebook</a>'\n",
              "            + ' to learn more about interactive tables.';\n",
              "          element.innerHTML = '';\n",
              "          dataTable['output_type'] = 'display_data';\n",
              "          await google.colab.output.renderOutput(dataTable, element);\n",
              "          const docLink = document.createElement('div');\n",
              "          docLink.innerHTML = docLinkHtml;\n",
              "          element.appendChild(docLink);\n",
              "        }\n",
              "      </script>\n",
              "    </div>\n",
              "  </div>\n",
              "  "
            ]
          },
          "metadata": {},
          "execution_count": 48
        }
      ]
    },
    {
      "cell_type": "code",
      "source": [
        "df['news_without_stopwords'] = [' '.join(word) for word in df['Tokens(without stop words)']]"
      ],
      "metadata": {
        "id": "RdX9kVPeGD3U"
      },
      "id": "RdX9kVPeGD3U",
      "execution_count": 49,
      "outputs": []
    },
    {
      "cell_type": "code",
      "source": [
        "df.head()"
      ],
      "metadata": {
        "colab": {
          "base_uri": "https://localhost:8080/",
          "height": 206
        },
        "id": "7kGVTnwQGr8s",
        "outputId": "6c8edc34-acd4-47a3-f145-7bf09e4999df"
      },
      "id": "7kGVTnwQGr8s",
      "execution_count": 50,
      "outputs": [
        {
          "output_type": "execute_result",
          "data": {
            "text/plain": [
              "                                           News_text News_Theme  \\\n",
              "0  ad sales boost time warner profit quarterly pr...   business   \n",
              "1  dollar gains on greenspan speech the dollar ha...   business   \n",
              "2  yukos unit buyer faces loan claim the owners o...   business   \n",
              "3  high fuel prices hit ba profits british airway...   business   \n",
              "4  pernod takeover talk lifts domecq shares in uk...   business   \n",
              "\n",
              "                                              Tokens  \\\n",
              "0  [ad, sales, boost, time, warner, profit, quart...   \n",
              "1  [dollar, gains, on, greenspan, speech, the, do...   \n",
              "2  [yukos, unit, buyer, faces, loan, claim, the, ...   \n",
              "3  [high, fuel, prices, hit, ba, profits, british...   \n",
              "4  [pernod, takeover, talk, lifts, domecq, shares...   \n",
              "\n",
              "                          Tokens(without stop words)  \\\n",
              "0  [ad, sales, boost, time, warner, profit, quart...   \n",
              "1  [dollar, gains, greenspan, speech, dollar, hit...   \n",
              "2  [yukos, unit, buyer, faces, loan, claim, owner...   \n",
              "3  [high, fuel, prices, hit, ba, profits, british...   \n",
              "4  [pernod, takeover, talk, lifts, domecq, shares...   \n",
              "\n",
              "                              news_without_stopwords  \n",
              "0  ad sales boost time warner profit quarterly pr...  \n",
              "1  dollar gains greenspan speech dollar hit highe...  \n",
              "2  yukos unit buyer faces loan claim owners embat...  \n",
              "3  high fuel prices hit ba profits british airway...  \n",
              "4  pernod takeover talk lifts domecq shares uk dr...  "
            ],
            "text/html": [
              "\n",
              "  <div id=\"df-2119e20c-15b6-4b12-83fb-3423bf0e85af\">\n",
              "    <div class=\"colab-df-container\">\n",
              "      <div>\n",
              "<style scoped>\n",
              "    .dataframe tbody tr th:only-of-type {\n",
              "        vertical-align: middle;\n",
              "    }\n",
              "\n",
              "    .dataframe tbody tr th {\n",
              "        vertical-align: top;\n",
              "    }\n",
              "\n",
              "    .dataframe thead th {\n",
              "        text-align: right;\n",
              "    }\n",
              "</style>\n",
              "<table border=\"1\" class=\"dataframe\">\n",
              "  <thead>\n",
              "    <tr style=\"text-align: right;\">\n",
              "      <th></th>\n",
              "      <th>News_text</th>\n",
              "      <th>News_Theme</th>\n",
              "      <th>Tokens</th>\n",
              "      <th>Tokens(without stop words)</th>\n",
              "      <th>news_without_stopwords</th>\n",
              "    </tr>\n",
              "  </thead>\n",
              "  <tbody>\n",
              "    <tr>\n",
              "      <th>0</th>\n",
              "      <td>ad sales boost time warner profit quarterly pr...</td>\n",
              "      <td>business</td>\n",
              "      <td>[ad, sales, boost, time, warner, profit, quart...</td>\n",
              "      <td>[ad, sales, boost, time, warner, profit, quart...</td>\n",
              "      <td>ad sales boost time warner profit quarterly pr...</td>\n",
              "    </tr>\n",
              "    <tr>\n",
              "      <th>1</th>\n",
              "      <td>dollar gains on greenspan speech the dollar ha...</td>\n",
              "      <td>business</td>\n",
              "      <td>[dollar, gains, on, greenspan, speech, the, do...</td>\n",
              "      <td>[dollar, gains, greenspan, speech, dollar, hit...</td>\n",
              "      <td>dollar gains greenspan speech dollar hit highe...</td>\n",
              "    </tr>\n",
              "    <tr>\n",
              "      <th>2</th>\n",
              "      <td>yukos unit buyer faces loan claim the owners o...</td>\n",
              "      <td>business</td>\n",
              "      <td>[yukos, unit, buyer, faces, loan, claim, the, ...</td>\n",
              "      <td>[yukos, unit, buyer, faces, loan, claim, owner...</td>\n",
              "      <td>yukos unit buyer faces loan claim owners embat...</td>\n",
              "    </tr>\n",
              "    <tr>\n",
              "      <th>3</th>\n",
              "      <td>high fuel prices hit ba profits british airway...</td>\n",
              "      <td>business</td>\n",
              "      <td>[high, fuel, prices, hit, ba, profits, british...</td>\n",
              "      <td>[high, fuel, prices, hit, ba, profits, british...</td>\n",
              "      <td>high fuel prices hit ba profits british airway...</td>\n",
              "    </tr>\n",
              "    <tr>\n",
              "      <th>4</th>\n",
              "      <td>pernod takeover talk lifts domecq shares in uk...</td>\n",
              "      <td>business</td>\n",
              "      <td>[pernod, takeover, talk, lifts, domecq, shares...</td>\n",
              "      <td>[pernod, takeover, talk, lifts, domecq, shares...</td>\n",
              "      <td>pernod takeover talk lifts domecq shares uk dr...</td>\n",
              "    </tr>\n",
              "  </tbody>\n",
              "</table>\n",
              "</div>\n",
              "      <button class=\"colab-df-convert\" onclick=\"convertToInteractive('df-2119e20c-15b6-4b12-83fb-3423bf0e85af')\"\n",
              "              title=\"Convert this dataframe to an interactive table.\"\n",
              "              style=\"display:none;\">\n",
              "        \n",
              "  <svg xmlns=\"http://www.w3.org/2000/svg\" height=\"24px\"viewBox=\"0 0 24 24\"\n",
              "       width=\"24px\">\n",
              "    <path d=\"M0 0h24v24H0V0z\" fill=\"none\"/>\n",
              "    <path d=\"M18.56 5.44l.94 2.06.94-2.06 2.06-.94-2.06-.94-.94-2.06-.94 2.06-2.06.94zm-11 1L8.5 8.5l.94-2.06 2.06-.94-2.06-.94L8.5 2.5l-.94 2.06-2.06.94zm10 10l.94 2.06.94-2.06 2.06-.94-2.06-.94-.94-2.06-.94 2.06-2.06.94z\"/><path d=\"M17.41 7.96l-1.37-1.37c-.4-.4-.92-.59-1.43-.59-.52 0-1.04.2-1.43.59L10.3 9.45l-7.72 7.72c-.78.78-.78 2.05 0 2.83L4 21.41c.39.39.9.59 1.41.59.51 0 1.02-.2 1.41-.59l7.78-7.78 2.81-2.81c.8-.78.8-2.07 0-2.86zM5.41 20L4 18.59l7.72-7.72 1.47 1.35L5.41 20z\"/>\n",
              "  </svg>\n",
              "      </button>\n",
              "      \n",
              "  <style>\n",
              "    .colab-df-container {\n",
              "      display:flex;\n",
              "      flex-wrap:wrap;\n",
              "      gap: 12px;\n",
              "    }\n",
              "\n",
              "    .colab-df-convert {\n",
              "      background-color: #E8F0FE;\n",
              "      border: none;\n",
              "      border-radius: 50%;\n",
              "      cursor: pointer;\n",
              "      display: none;\n",
              "      fill: #1967D2;\n",
              "      height: 32px;\n",
              "      padding: 0 0 0 0;\n",
              "      width: 32px;\n",
              "    }\n",
              "\n",
              "    .colab-df-convert:hover {\n",
              "      background-color: #E2EBFA;\n",
              "      box-shadow: 0px 1px 2px rgba(60, 64, 67, 0.3), 0px 1px 3px 1px rgba(60, 64, 67, 0.15);\n",
              "      fill: #174EA6;\n",
              "    }\n",
              "\n",
              "    [theme=dark] .colab-df-convert {\n",
              "      background-color: #3B4455;\n",
              "      fill: #D2E3FC;\n",
              "    }\n",
              "\n",
              "    [theme=dark] .colab-df-convert:hover {\n",
              "      background-color: #434B5C;\n",
              "      box-shadow: 0px 1px 3px 1px rgba(0, 0, 0, 0.15);\n",
              "      filter: drop-shadow(0px 1px 2px rgba(0, 0, 0, 0.3));\n",
              "      fill: #FFFFFF;\n",
              "    }\n",
              "  </style>\n",
              "\n",
              "      <script>\n",
              "        const buttonEl =\n",
              "          document.querySelector('#df-2119e20c-15b6-4b12-83fb-3423bf0e85af button.colab-df-convert');\n",
              "        buttonEl.style.display =\n",
              "          google.colab.kernel.accessAllowed ? 'block' : 'none';\n",
              "\n",
              "        async function convertToInteractive(key) {\n",
              "          const element = document.querySelector('#df-2119e20c-15b6-4b12-83fb-3423bf0e85af');\n",
              "          const dataTable =\n",
              "            await google.colab.kernel.invokeFunction('convertToInteractive',\n",
              "                                                     [key], {});\n",
              "          if (!dataTable) return;\n",
              "\n",
              "          const docLinkHtml = 'Like what you see? Visit the ' +\n",
              "            '<a target=\"_blank\" href=https://colab.research.google.com/notebooks/data_table.ipynb>data table notebook</a>'\n",
              "            + ' to learn more about interactive tables.';\n",
              "          element.innerHTML = '';\n",
              "          dataTable['output_type'] = 'display_data';\n",
              "          await google.colab.output.renderOutput(dataTable, element);\n",
              "          const docLink = document.createElement('div');\n",
              "          docLink.innerHTML = docLinkHtml;\n",
              "          element.appendChild(docLink);\n",
              "        }\n",
              "      </script>\n",
              "    </div>\n",
              "  </div>\n",
              "  "
            ]
          },
          "metadata": {},
          "execution_count": 50
        }
      ]
    },
    {
      "cell_type": "markdown",
      "id": "733b28ea",
      "metadata": {
        "id": "733b28ea"
      },
      "source": [
        "## Lemmatization"
      ]
    },
    {
      "cell_type": "markdown",
      "source": [
        "#### Lemmatization is a development of Stemming and describes the process of grouping together the different inflected forms of a word so they can be analyzed as a single item. Lemmatization is similar to Stemming but it brings context to the words. So it links words with similar meanings to one word. Lemmatization algorithms usually also use positional arguments as inputs, such as whether the word is an adjective, noun, or verb.\n",
        "\n"
      ],
      "metadata": {
        "id": "xsLvnN72EFND"
      },
      "id": "xsLvnN72EFND"
    },
    {
      "cell_type": "markdown",
      "source": [
        "![image.png](data:image/png;base64,iVBORw0KGgoAAAANSUhEUgAAA5YAAAHXCAIAAABI8lLJAAAgAElEQVR4nOzdeXxbxaE3/JlztHrf9z2O4+whe0I2QjbKkrCGAmkgpVzKQ+lGy33avvTe0pa3930utEAfSKAEcoECKfdCKCQsScjmkB3HiR3bSbxvsS3ZsiRrOzPvH2MrsiQrtmPHOeH3/fgDknx0ZkaSc36aMzOHcs4JAAAAAIB6SKNdAQAAAACAwUGEBQAAAACVQYQFAAAAAJVBhAUAAAAAlUGEBQAAAACVQYQFAAAAAJVBhAUAAAAAlUGEBQAAAACVQYQFAAAAAJVBhAUAAAAAlUGEBQAAAACVQYQFAAAAAJVBhAUAAAAAlUGEBQAAAACVQYQFAAAAAJVBhAUAAAAAlUGEBQAAAACVQYQFAAAAAJVBhAUAAAAAlUGEBQAAAACVQYQFAAAAAJVBhAUAAAAAlUGEBQAAAACVQYQFAAAAAJVBhAUAAAAAlUGEBQAAAACVQYQFAAAAAJVBhAUAAAAAlUGEBQAAAACVQYQFAAAAAJVBhAUAAAAAlUGEBQAAAACVQYQFAAAAAJVBhAUAAAAAlUGEBQAAAACVQYQFAAAAAJVBhAUAAAAAlUGEBQAAAACVQYQFAAAAAJVBhAUAAAAAlUGEBQAAAACVQYQFAAAAAJVBhAUAAAAAlUGEBQAAAACVQYQFAAAAAJVBhAUAAAAAlUGEBQAAAACVQYQFAAAAAJVBhAUAAAAAlUGEBQAAAACVQYQFAAAAAJVBhAUAAAAAlUGEBQAAAACVQYQFAAAAAJVBhAUAAAAAlUGEBQAAAACVQYQFAAAAAJVBhAUAAAAAlUGEBQAAAACVQYQFAAAAAJVBhAUAAAAAlUGEBQAAAACVQYQFAAAYfpwro10FgGsZIiwAAMBw40zpPMPcltGuB8A1CxEWAABgmHHmdle/62j8J/PYR7suANcmzWhXAAAA4FpDCWe2Gmvj+0Qfb0hYQOUwSuloVwrgmoJeWAAAgGHGCeFE47FVdJz+VXfrLq50EcJHu1IA1xRE2D7sdrvNZrPb7R6P53L2wxhzOBxWq/XydwUAAGrEKZE48ZiPm0r/t61lB3NbkGKHkThe22y2yz9eO51Ocbx2u93DVT24AjCQoAfnvLGxsaioyOVyaTSaCRMmFBQU6PX6IexKUZTGxsZvvvnGYrHo9fqcnJwpU6bodLphrzMAAFy1OCESpzKh7o4z7ad+TSZK4SkrJTmCYETB5eGct7S07Nu3z+VyybJcUFAwYcIEg8EwhF0xxpqamoqLi00mk16vz87OnjJlytB2BVceImwPRVGeffbZV155RVEUQsidd975/PPPp6enS1KfjmrOucfjEdtQSjUajSzLfruyWq1bt2598sknOedarXbRokWvvfZaTk7OFWsLAACMOi4RSmRZ0SiSkXWZOkt/L2siDQnXS3I4UuzlcLvdr7322r/927+JY/ENN9ywadOmvLy8IRyvHQ7Hhx9++OSTTzocDkmS5s2b9/LLL0+ePPmKtQUuByJsD855W1sb5z1neZxOp/jc+zGZTOXl5e3t7ZzziIiI/Pz89PR0v78K8WfDOaeUcs4VRXE6nVeiDQAAcNVQJE65LBGJciYRSjsqraf+jU56Wp+wQNJEEIIUO0Scc4fD4T1eWywWp9PpvevV1dVVWlra1tbGGDMYDPn5+RkZGYFnRD0ej3f8gMvlMpvNI11/GC6IsD0opX5f4AJ5PJ7PPvvsD3/4Q2lpKSEkISHhxz/+8SOPPJKUlBR0+8C/KAAA+BbhEqUK13QTTrXucPlCSffJX5OJv9En3Shpo5Bih4ZS6ru8g99dgXN+4MCBX/3qV9988w0hJDw8/NFHH3388ccveUYUC0eoCKZzDYLD4Th27NiFCxfER7ytra2srOzChQujXS8AALjqcJFQqYdInMhM4h6ZEG7+xnbyl47mz7i7C90cI8flch05csR7vLbZbBUVFTheX2MQYQdBjBBgjIlBAmKcAP4NAgCAQJRKVCJEVqhEqEyY1qHIbiZTj/2cpfRpR9tewnDVg5EiBhsoiuI9XhOcGr3mYCDBIGi12tTU1IiIiI6ODkKI0WhMSkqKiIgY7XoBXOv6Hngu8yjkd5owxN6CnlAccukjurcr04r+zrAOSysG24QhlzuiLwjve5NTQrhMmEIkokicEzennFHK7BWW0t8SIhsSF1NN2JAKh1A0Gk1OTk50dHRra6u4m5ycHB0dPdr1guGECDsIBoNh9erVFoultLSUMZaXl3f33XdnZGSMdr0Arlmcc87czNnZO4Obk+FYWvNyktNVGGFD72SkI+zlvB3XSoTl3nu85y6n3ME9NkY0hOlkN2OSR6FuRfaIzSROWOdxW+mv6Ph/0ycto5rwIZUP/dJoNN/5zneam5u/+eYbj8eTkZGxdu3a3Nzc0a4XDCdE2MEpLCx8+umnXS6XmOGo0+kuOQkMAIaMEtbdVtx94meSNoyJM4GEEMI4JYRwRns26rkWEqG9P6L7i4pA0XuLU8K8WYVywgkllPKee4T3HVglEUYJp5z5PsipRHrHODJvWd49UtZbE+9jlHIqbhBCad/4xAljlHOpTxG947tEKySxXW8rGCGceovghBK/VlDeNxZKhFPCqF83dp9W+LSakt4m9KkSZZQSSrj4GtGnFZxwTjiXGKe+RXhfGf9WSIQQwqhPEeJ5IV5Y2tsE6vPChmq1eCCgFRKTSM8bQWjf95oTxilnPU/0a8UlPk7itRVvBJckTiRRUYl4lK5zIq9KTMOoxCWFUSpxQgmhnMuEko6TtpKn+PjfGtJuoZpIAsMqPT39X//1Xx0OB2NMr9fr9Xocr68xiLCDQyk1GAwGg0EMrxnt6gBc4zhnzG1mnQdZTxQkhBBGe8Ir7/1vsHEGlPZkBUIuxg5C6MUHe/bWs09C+MUiCCGUcE2wrjne08lGeN/tOSWcct8wJaK1KK63UL8IyxWppxUs+MgAKnkjNiGSN0ORPqmNX/yh3pdFbMgIl4O1or9WM8oJJZLPU0QrvNXwS+Gk9+3gvbEusBW+YVPp2wop4I0IfGEpITL333GfVlNKOPFrBaV93mVKiNLbCingjSCEK5QwqbcCAU0I+nHqm9O9G1OJSJxKrKehnFBGKJEIUzglVBINpYRSRZaZnpmbOkv/qFApLPUWCX2xw4pSqtPpdDodjtfXKkTYIcLfA8CVwjhVCPE9W9uTRUTooX4RzTe49A2UtO9vvY9zb5YawOlksX3Pnnu355RwHiRcXizau2ff6omwyAmjxD9ohmhFsCb0uTGAVogk5dfqnmr01woefP+UEIkQLkJk/63wTatSsEqKKvm9sCFcbLVPK0SM9rZCCiwl2BshgrnMCKNBXl7vlr4vft8e+D47p4QQJhOqYVQihHHKelrHicQlSjjlXOJUIhJlskRlbq3tqnyOStqwlFVUxrjY4Yfj9bUKEVZlOOc2m81utzscDlmWw8LCdDqd0Wgc2vmRzs5Ol8tltVqNRqNWq42OjtZo8JGAqwsnxNN7BOo5Id0bI2Tm1wEW4OKhi/PAnk6xSZ+g0+csfNDtSZ945zMYknO/x3yrdnFXfY6mPYMIApNWnwr6NFKcvQ62UfBW8P5bEbi9xEifvNbXxaKp76857Xli6NzZpxWDeGEJGXSrva0IVkp/bwRlPVk85JjcUC8s9Y5loVS0RSKMUMZ6d6ghhDNGCSecUE4lzil1Uq7RuzWsvdJZ/rxMmD55FdVgivC1w263d3d32+12WZbFcdZoNAZeJAyGBnllcFpbW7/44ovy8nKPx5OZmblkyZKCgoIhD6/hnJeVlX3xxRetra2MsdjY2DVr1uTm5gbNkS0tLadOnSouLj579qzZbLZarRqNJiYmJjIyMj8/f9asWdOmTTMajQMp1+Vyff311/v27auqquru7jaZTJGRkQaDIT09fcqUKfPmzUtPT9dqtUNrFMBw6zmtTLnIMbRnrKjvid2ALkPBe9I/4Az+xZGzvR12/t1vYuRn/8NU+56n9jnD7jsY1veUNSd+HX89T6E8dIS9eIY9RCsuJs+AVgQrt0/NL7bOp7q+De8zXiKg+5L2PjdI/2XAswJbIQrq74UlvW/EEFrB+44u6DPSoG/1pN43or8P0kBaQUnPMGGJSIQSKoZp9AxPIIz6vkTiXeGEKoRwiUtUYYr5uLX8WUWxGVJXy9qY/msBA9XR0bFr167Tp093d3enpaUtWbJk3LhxQz60cc5ramq2b9/e0NDAGDMajatXrx4/fnzQHZpMptOnT3/zzTcVFRVms9lisWg0mqioqPDw8NzcXHG8xvIIlw8RdnDKy8s3b9587Ngxznl2drbRaMzMzAwPH8oAJs75+fPnf/KTnxQXF7tcLkKIVqvNzc1NT0/3i7But3v37t3/9V//deLEiba2NrvdzhhjjBFCZFmWJCksLCw1NXXJkiXr16+fOnVq6EKbmpp+//vf79mzp6WlRcxLUxRFkiRKqVarjYmJSUtLe+ihh9asWZOQkDCEdgEMO4lKRHSB+XSu9Qk9wXvc+m5B+mwk9tbPL3vuU0okv562fs4j+1eABtymxP80O+1N4SEq761q735437Go3lZ4g6xv3yIXoYoSGqwVga3233PfX/DeiOaXVC+2ov9mUG/3J/XfudT7/cS7ZdDd+LfCO8iY+rea+txgAa0QW8q+rej7RoR+LwjteR36lOTXip5dM+8jvE9+FbPKCKdcIYRQzomLU8KIR+k65a78T8ZYWPqdsjYqdEXgkurq6t54442ioiJFUcRFNNPS0uLi4oawK855S0vLE088ceTIEXExW0mSUlNTx4wZ4xdhFUU5ePDgli1bDh8+fOHCBZvNpiiK7/HaaDQmJiZef/31Dz/88MyZM4elpd9aiLCDY7fbzWazuIZyZGSkzWYTH80hsFqtP/nJT/bt2+e9uPOiRYsKCwv1er3vZm63e9OmTZs3by4vL/cu1Ex6z1WJ211dXe3t7dXV1ZWVlT//+c8XL14cdOgPY6y0tPSee+5pbGy0Wq2Kooj9iGs0iL1ZLJaGhgaTyTRmzJgbbrhhaE0DGEa0byjpuTGAsZJ9nhDwML/4v6FUaYC/pgF9h15DKrnvDmlAZfqW5+1jHlpZ/kX3znPylug/Leqyiwn+wgaNlr5tG1IL+7RikE8c9FN8+sgvltvzeipMUhQxQpYp3Fpuq36Zyvqw1NWY3XWZnE6nyWQymUwicXZ2dno8nqHtym63//KXv/zyyy+dTqc46E+ePHnatGk6nc53M8bYli1bXn311dOnT9vt9v6O121tbbW1tefPn3/88cdvueUWrJMwZIiwQzfkS3Nxztva2n71q1/t2rVL5FdK6ezZs3//+9/n5+f7jpKxWCwvvfTSli1bqqqqXC4XpTQ6Ojo+Pj4xMTE2NtZut1+4cMFsNptMJpfLJU6aMMZ0Ot38+fMDC21tbf35z39eVlYmMmtUVFR6enpMTExOTk5bW5v4U29ra7PZbGfPnhWXbwC4CvkOIQjUO3LA9wkD2m2QSe8D257ygGnsffcmautXsT6rIlyq6IHX7XJa4VcNv12Jl923pT0n+MXGAyh6gHUbbBPIYFrRMxGwnzci8H0clur1t39OOaNMkUR9KCeUMJen86S96v9KlBpSbpGw0tblufzLcXHO29vbn3322Q8//NDhcIgdFhYW/vGPfxw/frzvKVObzfbyyy+/8cYblZWV4syq7/G6u7tbHK/NZrPT6ezq6tq/fz/nPDw8fOnSpZhwNjSIsFcaY6ypqen//J//s3Xr1u7ubvH3sGzZst/85jezZs0yGAzeLd1u91tvvfXWW2+dO3fO4/FIknTdddetWbNm7ty5ycnJOp1OUZSOjo7S0tKPPvpo9+7dNputu7t7//79GzduzMvLS0lJ8S3Xbre/+uqre/fuFfk1PT19w4YNt9xyS1hYWFhYmMvlcrvdtbW1x44d27lzZ11dnW9NAK4GvueaQ27X597lBI4B4gHT2AdYaOjxo4Pd22Xya8UAC6W9Q0gHsv8rYIitGFgTBr7DIPsP/kWFi32KlXLFZhJzcfPx7nMvccVpTFsjYVzs6GGMtbS0vPTSS2+++abVahXH69mzZz/99NOLFy8OCwvzRk/O+datW7ds2VJRUeF2uwkhkydPvuOOO+bPn5+SkqLX68Xxury8/NNPP925c6fZbHY4HAcPHty4cWNubm5eXt5otlO1EGGvKNEV+vLLL7/11lsWi0X8Pdx6661PPfXUzJkz/YYQHD58+B//+EdVVZXH45FledWqVRs2bJg7d25CQoL35IWiKBMmTJg8eXJKSsrf/vY3zrn4brdt27ZHHnnEt9yurq59+/Y5HA5CCKX0vvvu+/73v5+Zmel7CmPs2LEzZsxYunRpe3v7lClTrsQrAjAAvudhB+XKxKYBFurbZxlis6uc/9r/wzJG4Yrzi7mXHgJ7mcX1Ww2JUM4oUSinhBNKJEYoo9TDlLZSu2cTU1xhGXfLutiRrB0Exzk3mUxvvvnm66+/3t7eTgihlM6fP//pp59esGCB0Wj07To9fvz4u+++e/bsWZFfb7jhhocffnjRokWJiYk6nU5sqSjKxIkTp02blpqa+uqrrzocDrvdfuDAgb///e+//vWvR6uZqoYRGFeUxWLZunXr5s2b29raxPiBRYsW/epXv5o1a5ZffnU4HLt27SovL3c6nYSQgoKCu+++e+nSpampqb6Db2RZjomJmT59+urVq0Xo5Jw3NDR8+umn3d3d3s3EV8nGxkZxNyoqat68eWlpaX5DcAwGQ0pKypw5c1asWOHXiQtwNRjpqDHSAucMqTHI+s4eU6lhfyO8/biD/ZZFCOVcEj3y4i7lEmGy5GHMdKq76lVH0/8wj/WyKgdDYrPZPv/885dffrm5uZkQIknSpEmTfvvb3y5cuNC3/5UQoihKUVHRmTNnRCdRRkbG7bffvmzZsvT0dL1e791SluXo6OjJkyevWbNGDPbjnF+4cGHPnj0NDQ2j0UTVQ4S9cqxW644dO1544QURJTUazaxZs5555pnp06f7DQknhNTX13/99ddms5lzbjAYFi9ePGfOnOjo6KAjZrRa7axZs2677TZx1+l0VldXl5aWejdgjHV1ddlsNnE39KVKsHAdXG16Vjvife72uS2uDkWDj2UUwzSDjOz0juMM+G1g0b7bs4DtuU8FBt6owOcG/emzWcgm9BefgrYisLaDbYU3Al6yCX6tCKybEPjC9teEnpn+wUavDroVA34jxA6Dfpwu1jDY5zPI++izQ4lwiRPx07MVZZy4qGLXWk7J9VtYyw7m6fYvD0ZSd3f3nj17nn322draWkqpJEnjxo175plnFi5cGLh4ZXNz8549e0TPlEajWbhw4YIFC+Lj44MeZzUazYwZM2655RYxWs/j8dTX1x8/fvxKtOqagwh7JVBKu7q6Pv7442effbayspIQIj7lf/jDH+bPnx+YXwkh5eXl1dXVogs2Pj5+wYIFWVlZIXJnfHz8tGnT0tLSxF2r1Xr27FnvbyVJio6OjojoWTHbbrcfPXpUfF8EuPqFWO2I9p7N9v4EFbprLMQTh/Epfgbb63fJEv3XB7jsHY6EAbVikDu8zJ75ITw7sJLeZbkCd06Dtdo3xdLe/CpxSjkllHPJQyQ3JYrMXKTjG1fTTsVhGnw1YdDEQbarq+vTTz/93e9+d+rUKUqpCJ2/+93vVqxYEXSWSE1NTWVlpTjzGRkZuWDBgpycnBDdQNHR0ZMmTcrPzxd3u7q6KioqRqZB1zhE2JEllqyyWq3bt29//vnni4uLCSF6vX7VqlW/+c1vlixZEvQqBh6Pp6ysrKOjgzFGKU1KSkpPTw8LC3XhQUmSYmJiUlNTxd3u7u7a2lrf3yYlJSUnJ4sqeTye//7v/3777bdFL+9wNhhgBATtRFSji024NlqhWsP+cRp0DuZEXGbOL79KnJKelQq4Qki3R+PQ5dO4WbIOy8ReId3d3Xv37v3LX/5y5MgRsVz6/Pnzf/3rX998881BLx7EGDtz5oz3YBoZGZmTkxMVdYn3Kzo6OiMjQ9y22Wy+x2sYOEznGnF2u/3gwYMffPDBiRMnCCF6vX7JkiW/+MUv5s2b19/VXN1ud1lZmdXaM/4pIiLCYrGcO3cuxBq0YqEub4euw+HwHVtDKY2KivrOd76zf/9+h8NBKa2oqHjhhRdOnDixZs2aBQsWREREYFEPgCtGtfOg+mY+rvKxyaOnZwBG721xRTG/NXa5RiNFTdTmPaxLu1nSYXWtEUcpdTgcR48ePXDgwOHDhwkhWq12xowZv/jFL5YuXdrfxS8556WlpTabTUTYsLAwu91eU1MjVl7vT2trq7eb1uVyieliMFiIsCNLUZTq6uotW7aUlJSIhbESEhLuvvvuefPmhbjMHWOstbVVLCxHCDl//vxf//rXqKioED2mnHOz2VxVVSXuulwu8aXQG0z1ev1tt922ffv23bt3ezweRVHOnDlTVVVVUlJy3XXXLVy4cOHChfHx8b5jzwGuTpfsOfO/IOoILUcaeg3Rvpcq9V6lyXeUpO/4yGExhLPqoYv2e6nF6raktxViRtfwtyJgP5c5gsLvUsDeInwnYHnHuV7yBRzydw/vzgNLCSyTU4lGFoTlfc+YsUbSJw+1TBgEznljY+M//vGPiooKcfyNjY1dvXr1jTfeGGKVScZYQ0ODGPVHCGltbd24cWNMTEzoM5xdXV3l5eXitqIoVqvVZrMN7Uqf32aIsCOOcy4io7jrdDorKystFkt8fHyIp3R2doq1OcQKA0OYrujXZStJUnZ29i9/+cuYmJivvvqqvb2dMSbWpTt27Nj+/ft37Ngxb968WbNmjR07Fp2ycDUL/dEcWn4lQxuF2T86gI5Wb4odxh7ZYW6F720e8FDv42JO1XC1Ygj7GXgrLvGcAVzaYOh8ZoOFwDmnslaOnGDIXmdIv1PSY3GYK0RcrogxJm5QSl0uV01Njclk8s4zCcr3ul/t7e1ffvnlYIumlA75Sp/fZoiwI0uSpMzMzLvuukuSpGPHjjHGzGbz+++/n5WV9eijj/Z3WTnOucPh8H6gjUZjWFhYf6MOAp8ry3JGRsbMmTP9YqhGo1m6dGlcXNzkyZMPHDhw5MgR0VPrcrlOnjxZUlJSVFQ0derUlStXrly5Mi0tDYsSwFVi6AMWr7IvYhe7/UY0Ko2koP2vqnNFWiH2y3xuD+g7FZV12phphqzvGdLWyMbUEaocBKKUpqSk3HzzzQcOHNi/f7+iKBaLZdu2bTk5OT/+8Y/9Fr70ZbPZvL1UOp0uMjJy4MdrSZKSk5Nnz54deroLBIUIO7IopZGRkUuWLImMjKyqqhJ9n3V1dRs3bhw7duzy5cv7e6JGoxGX0aKUFhQUrFq1Kjk5eSDf0kSEFcu7Bv5WkqTp06dnZmYuWrTo0KFDRUVFx44da2pqEpdyrqysrK6uLisra2pqWr9+fVZW1mU1HmBkXAx/PkGQBzxChrV3c7D6uwIA9d2ADsOE+hHF/arue0ZebEDU0ArfOz6t8H0veOCWQyqC9n5FYUQihLOer1+SKJgH/TbG6cVqUUkTNcWY/ZAhfTXGD1x54eHh8+bNy8/PP3v2bENDA2Osubl58+bNGRkZ9913X3/PkmXZ22GUlpZ25513pqenD/B4LUlSYmLi7Nmz0Wc0BIiwI0uMhomLi1u9enVJScmmTZvEuIKysrI//elPGRkZ48ePD3yWJElhYWGyLIu/gbS0tDvuuGPq1KkDP9Egy3LQtbqExMTEhQsXzpkzZ+nSpUeOHDlw4MBXX33V0tLi8Xjcbvfp06f/9re/ZWRk3HHHHdHR0UNqN8Awopxe7MQiJNTgy35ODo+Oi/UMSK5+G1y1+tRWva3wmyfVe1chw9YK79Mp5xLhhFOPRBnlhHKJU4lpKJcJcRMaOMWHciITIlHOJcrl8AJD1gP61NuQX0dLTEzMjBkzTp069dJLL7lcLkVRzp49+9xzz40bN27GjBlBnxIZGSnLshj7FxMTs3r16tmzZw/qeB1ibgyEgAh7JXDOU1JSHn300bNnz+7evZsx5vF49u7d++KLL/72t79NSkryO+NPKY2OjtZoNG632zsuNsRZjCGQJMlgMMycOXPmzJk33njjrFmzPv7446NHj4rL3tbU1Lz77rsTJ06cPXv2MBYKMDSc9gy5YT13CfGuMB+wsV8UuUrWfrr6c95AXAOtGOEm9Cz2yihhEvdQwiUiM6pTtITLhCoiNvd5AiGcSITLEiWaiLGG3HX69DWyEeNfR4cYBZuUlPTQQw9VVlZu375dTGUpKSn5z//8z//4j//wroTlRSmNiYnxjhzo6uoa9uM19AcR9grRaDSFhYVPPfWUyWQ6ceKE6It99913x48f/9BDD3kvOiDIspyWlmYwGMRSyWazubu7O/QltS5HQUFBQUHBxIkTX3rppV27dnV1dRFCvv7663Pnzk2fPn2AY3oARgwlXO691cN3XrzfLCO/GUjqD12gIpwTxiSuSJxRRZw9oOKTyhkhnAYOveVEopxKki6q0JC9TpdxhxwWauYQXAGyLI8dO/ZnP/uZyWQqKirinLvd7m3btk2cOPGxxx6LiYnxPRZTSnNycoxGo1gHs7u722azeTweHDqvALzEV47BYJg3b96jjz767//+742NjZzzjo6Ov/71r7m5uStXrvQ9j6DRaCZMmBAZGWk2mwkhnZ2djY2Ndrt9RFfcWLZsWVdXV1lZmYiwHo+npaXFarXGxMSMXKEAl0Q5ldnFiY+cEs4Joz0rw4uOWOrT24oIC6OHc4m6ZcIo4USRuCxxKjNCiItSKs4i+J0VoJRQQrVRE4x5D+nSV0sGjB+4Kuj1+pkzZz722GONjY1VVVWcc7vd/sorr+Tm5t59992+x2tJkiZMmBAeHt7a2koIsdvt58+f7+zsDLHoEAwXXKvOlpYAACAASURBVJ3rigoPD7/11lvvueceg8EgZmuVl5c/99xzVVVVvuNmZFkuLCyMjY0VSxaYTKZDhw41NDSM9JW0rrvuOu/gVzGAQXQDA4wiSonEmfeHckYIo5xRzihhtPdBSi5ucHFj0ucufvAzwj+cE8lFtS6q4USSOdEoVMO4zD0S8RDCgk7m0kTmG3If1GXcjvx6VQkPD1++fPm6devEaVKxwOVf/vKXkydP+l62gFI6duzYuLg4MR/LarUePHiwtrYWi2RdAeiFvaIopYmJievXrz958uSePXsURaGU7t69e+PGjb/4xS+Sk5O9pyfy8vLGjh179uxZm83mcDiKiooWLVqUnJwcFRUVYjiBGJ/g8Xj8pnMxxiwWi9PpjI2NDTHNy3dxO0mSIiMjMaAHRhelkqyP06Qt937f7lmClPbcvsi7TJLvCkZX9UR5uPZQSimXZUa5hjtJxzeStUHDOCWEUe47MbGXJIfnGnLW6zNuk/SJo1Nl6AelNC4u7rvf/W5xcfGnn34qZmsdPnz4ueeee/bZZzMyMrzLYmZkZEycOPHs2bMWi8Xj8Rw5cuTIkSMZGRnx8fH9LZ0piCnUkiThUDs0iLBXmhgk8NOf/rSlpeX06dOiY/XPf/5zdnb2fffdFx8fLxJqamrq4sWLT5w4ITpoy8rK3n77bc75vHnzUlJSdDqdX5BVFMVms5lMpoaGhra2tvT09JkzZ3p/63A49uzZU1JSMnfu3MLCwvj4eL9r5YnrgX366acXLlwQ3cPR0dFpaWm4WAiMLk4kbdxEzexNQUYEXDKcXh0TueBbhvasN6t0207+gnf9Q+JErKXFxchY73aSVooYa8z5viHrXvS/Xp1kWc7Ly/vpT3/a2Nh45MgRMSPlnXfeKSws/MEPfpCUlCQSamJi4ooVKw4fPmy1Whlj1dXV77//vk6nW7RokZjW4rdbRVHsdrvZbG5ubm5qaoqPj1+wYMFotE/1EGFHgU6nW758eUtLy9NPP93Y2Cguy/GnP/0pKSnp5ptvFlfG0mq1K1asOHToUFtbW2dnp9Pp/Pjjj6urq8VqHSkpKREREUajkVLqdDqdTqfZbD5//vypU6eKi4svXLiwYsUKb4QVg3h27Njx6quvzpw5c+nSpTNnzhwzZozRaBRB1uFwtLa2Hjhw4PXXX29ubuaca7Xa66+/fvz48fhqCKOLUkplPTHiAA8qwxWHJBsZ4WKRAkYp71kdlhDCCdXIURPC8v5Fn36HpE8Y5bpC/3Q63dy5c3/+858/9dRTNTU14sHnnnsuMTHx3nvvjY6OppRSShctWrRo0aLW1laz2cwY27lzZ0NDQ2lp6eLFizMyMiIjI3U6HWNMHK87OzurqqpOnz5dUlJSXV09e/ZsRNihQYQdHXq9/rvf/W5VVdWf//xnm81GKW1sbHzxxRdzc3OnT58uhooXFBQ8+OCDbW1t+/bts9lshJCSkpKampq4uLikpKTMzMyUlBRJkkwmU1tbW3Nz84ULFzo6Orq7u41G44QJE3yLo5TKsqwoyuHDh4uLi1NSUsaMGZOcnJyamso5v3DhQnl5+blz5zo7O8XwnSlTpnz/+98PumYtAAAMCOe9Mw6pQiWFioU1uESoHD7GmPe/9Bm3S7rYUa4kXIper1+zZk1dXd0zzzxjsVgopR0dHS+++GJeXt6iRYtEJ2tWVtbDDz/c0tKyc+dOu93OOT9z5kxDQ8NHH32UlZWVk5MTExPjdrvF8frChQvNzc1ms9lut8uynJ2dPdpNVCtE2JElTvcHHb1qNBp/+MMfHj9+fOfOnS6XixBSVFS0ZcuWrKyslJQU8ZQbb7xR9MgeOHDAYrGI691ZLJbq6uojR454dyuWsiOESJKk0+ni4+Pz8vJ866DT6bKzs6Oioux2u8PhqK6uFt8m/fYgRuSkpqb+9Kc/vf7660OMmgUAgNAoEUsTEIUSRSIeKhMuSUSRDWlhY/7FkLEa+fUyDWShyQEuRik6U/v7rU6nW79+/ZEjR7Zt2+Z0OimlZWVlr7322tixY7Ozs8VwgtmzZ//yl7/UarV79+4Vq7lbrdbKysrKykrfPYujLaVUHHATEhImT548kBpCIETYi6KioqKiotxut7gqbNCrvWm12oiIiIiICM55VFSUWFjAbxtKqV6vj4qKUhRFp9NFRUUFXR+OUpqWlvab3/ymqampurra4/Fwzt97771169YlJiZ6n7J06dKYmJgtW7bs3bu3ubnZbreL64X47keWZY1GIwpNT0+fO3fuI4884ltWWFjYrbfeWlZWduzYscbGRpfL5XQ6vesbSJKk0Wg0Gk1cXFxhYeH999+/atUqv6VqAQBg4MRCb4z2/CiUckIplWRjatiY/2XIfkDSxY12HVUsLCwsKipKzD+Ojo4OerzWaDSRkZHh4eHieB0WFhZ0cpU4dLrdbo1GExUVFXT4HKU0Pj7+qaeeqq2tLS8vF1O7Pvvssw0bNqSlpXmfcv311ycnJ7/++utffvllY2OjzWbzPV6LfiJxvNZqtdHR0enp6fPnz9+wYcNwvSzfNoiwPSRJWrFihcvlslgsGo1mxYoVQef+Z2VlrVy5Mi0tze12jxkzZtKkSYEfd71eP3HixDvvvLOrq8toNM6bN6+/9eEopfPnz3/qqad27dplMpkopWFhYYEzqKZPnz5+/PiDBw8ePnz4/Pnz9fX14hpa3uJiYmLi4+PT0tLy8/PnzJlTUFDgtwexStdLL720f//+AwcO1NfX19TUiAWzKKURERExMTEJCQkzZsxYtWpVcnJy6EmUAABwab2jYBklhHCJcG14ZlT+E4ase6kW1+4eOlmWZ86ceffdd5tMJlmWFyxYEHTuv5hllZiY6HA40tPTr7vuusDDq1arnTBhwtq1a9va2vR6/YwZMzIzM4MWKknSdddd9/TTT3/88cdiCdjw8PCoqCi/zfLz85955plbbrnl66+/rqysrK2t7ezsFMdrzrler4+Ojo6Li0tLSysoKJg9e3ZhYeHwvCjfSnSklxpVF5PJZLfbtVptQkJC0G91hBC73d7V1eXxeKKiosLDw4OmPUVRrFar1WrVarUxMTGXPCMvxsQQQkLskxDCObdYLG1tbWKojXhQdAxHRUVFRET0V+fAZra2tjqdTkIIpdRoNIo/RaPRiPAKADAMFIft6CP2uv9yS5RRQrikDRsTUfjrsIw7qAbnuIZBZ2dnV1eXLMu+5y39OBwOi8XidrvF6dOgh0ixnk9XV5dGo4mJibnkJGaLxSIuABQZGRkRERHioNnV1dXa2mq3271rxGq12rCwsMjIyP5Oz8KgIMICAAAMN58IyyVKtImxE35nzLqfylipEGB44EsAAADAyKFUExtR8K+GTORXgOGECAsAADBCqKRPjhj//4RnP0Rl/yXuAeByIMICAAAMM06IQjjTxkVN/s+wzLsJxdEWYJjhjwoAAGCYUUqJPiVyyv8blrWWEEyTBRh+mM4FAAAw3DhzWet0kVm9F5UFgGGGCAsAADASOPIrwMjB2Q0AAICRgPwKMIIQYQEAAABAZRBhAQAAAEBlEGEBAAAAQGUQYQEAAABAZRBhAQAAAEBlEGEBAAAAQGUQYQEAAABAZRBhAQAAAEBlEGEBAAAAQGUQYQEAAABAZRBhAQAAAEBlEGEBAAAAQGUQYQEAAABAZRBhAQAAAEBlEGEBAAAAQGUQYQEAAABAZRBhAQAAAEBlEGEBAAAAQGUQYQEAAABAZRBhAQAAAEBlEGEBAAAAQGUQYQEAAABAZRBhAQAAAEBlEGEBAAAAQGUQYQEAAABAZRBhAQAAAEBlEGEBAAAAQGUQYQEAAABAZRBhAQAAAEBlEGEBAAAAQGUQYQEAAABAZRBhAQAAAEBlEGEBAAAAQGUQYQEAAABAZRBhAQAAAEBlEGEBAAAAQGUQYQEAAABAZRBhAQAAAEBlEGEBAAAAQGUQYQEAAABAZRBhAQAAAEBlEGEBAAAAQGUQYQEAAABAZRBhAQAAAEBlEGEBAAAAQGUQYQEAAABAZRBhAQAAAEBlEGEBAAAAQGUQYQEAAABAZRBhAQAAAEBlEGEBAAAAQGUQYQEAAABAZRBhAQAAAEBlEGEBAAAAQGUQYQEAAABAZRBhAQAAAEBlEGEBAAAAQGUQYQEAAABAZRBhAQAAAEBlEGEBAAAAQGUQYQEAAABAZRBhAQAAAEBlEGEBAAAAQGUQYQEAAABAZRBhAQAAAEBlEGEBAAAAQGUQYQEAAABAZRBhAQAAAEBlEGEBAAAAQGUQYQEAAABAZRBhAQAAAEBlEGEBAAAAQGUQYQEAAABAZRBhAQAAAEBlEGEBAAAAQGUQYQEAAABAZRBhAQAAAEBlEGEBAAAAQGUQYQEAAABAZRBhAQAAAEBlEGEBAAAAQGUQYQEAAABAZRBhAQAAAEBlEGEBAAAAQGUQYQEAAABAZRBhAQAAAEBlEGEBAAAAQGUQYQEAAABAZRBhAQAAAEBlEGEBAAAAQGUQYQEAAABAZRBhAQAAAEBlEGEBAAAAQGUQYQEAAABAZRBhAQAAAEBlEGEBAAAAQGUQYQEAAABAZRBhAQAAAEBlEGEBAAAAQGUQYQEAAABAZRBhAQAAAEBlEGEBAAAAQGUQYQEAAABAZRBhAQAAhh/32DlXRrsWANcsRFgAAIDhxjy8bT+zVRPCRrsqANcmRFgAAIBhxrmnu+o9W9nvFXsjIXy0qwNwDUKEBQAAGH4ul1upe6P77P/HXCakWIBhhwjbB+vFOf65AQCAoZM0lHLiPveC4+zzzNWBFAujiHN+7cUbzWhX4Cpis9nq6+sZY5TSxMTE2NhYSULEBwCAQaOEaLQaNyGE0+7yP7iZIzz/SVmfRCkOK3CleTyezs5Ok8nEGIuMjExISNDpdKNdqWGACNtDUZTNmze/+eabHo+HMbZ69eof/ehHCQkJlNLRrhoAAKgR50RmXOMiYV2Vm5yKPbbgf2sM6UixcIWVlZW9/vrrRUVFHo+nsLDw4YcfXrJkyTUQbxBhezDGioqKTpw4wRgjhGRlZVmt1vj4+GvgPQYAgCuME8III4rMqazInFPSVbOJUBpX8GuNIZUQHFngyqmtrd25c+epU6cIIZ2dnddff/3ChQs1GtUnQHwX7CGiKu/lfQQAAGBoJC5JxEPkTi5ZKdM6zr1hP/sSc7WPdr3g24X3NdrVGTaqz+AAAABXIUYo55xwNyFcooRyIimKUv4Xt8ejK/gxDUtDXyzA5UCEVSuPx2OxWJxOZ2RkZERExACf1d3d3dbWptfrExISMFkNAGAkUUKYRLhEiEwIJU6ZSoy5HOf/L2fd2vwnpMg8SuXRriSAWiHCqlJNTc3WrVt3797tcDiysrLuuuuuFStWaLXaEE9xu91ff/31Cy+80N7eTildtGjRE088ERMTg/ESAAAjRiKcyIwQQijnElE4IYpic9Rs8XBmLPiJHDGGYHYXwJAgwqpSVVXVzp079+zZoyhKSkpKfn7+0qVLLxlh9+/f/9lnnzmdTkKI1Wp98MEHo6OjEWEBAEYGI1wm3Ch73JQqhBNKCKOcUcoVi7vhLaI1huU/IYVljXY9AVQJEVaV3G53d3e30+lkjIkblxygzTm32+0Oh8PtdhNC7Ha7WHsB4GrGOVMc7UpbEZG0hBBCxec88NMe4vMf9Eua98FLzmwIfHrop4z09ihihLYf+FMG8mHjhLmJvZ5RSrgsKZQSRqibS4xR4qGcSERWupzVmwmVjWN+KBmz0ZsAMFiIsKp0Lc0oBAiBEubqKHWdfJL4HuApI4QP/lpH9GLC4OI2783E/X2dE+MYfTFCSf+lU8KlvklIFBFie+q/Mgxll6oSHWQRkn84u3QRfq0ebBHfhhc2SJk9GzJKuMQo4Q4ToQqnikSIxJnMCCPEIxNFNEWhWnuXu+It5vEY8r6vixpHMC4WYDAQYQHg6sU550o36z7X51E61K9wF5/n01sWovOLk4CeucFufzUUcflVCvmaX6WtHvkiAtDe0Mu5xImWE8IpI5QzTjWEi5eQckIJ4ZxSLnOuo91dStXfu5mT5v+LNmoCUizAwCHCAsDVz5ufKCFBM5nUuxkP1mnm80CQ54YoNnBjGmT3/RQ1oGdciSICHwr5hEG9REOs0tX3wvbTmRvweP8vjjfuUkII5aK7lzJCCKdcIYRLhFFKONUwQrhEOSUSI4QTxwVX9XtU1tH8H2oixvbfJADoAxH20jwej81mO3LkSHl5eVVVlSzLycnJWVlZM2bMyMjI0Gg0Ax/DxDn3eDzd3d2nTp06efJkV1fX+fPn4+Pj09LSUlNTZ8+eHRcXZzAYgu5QUZSampqWlhZCyJkzZzo7O8VwArfbXVdXV1RUZDQavRuHhYXl5eVFRUXZbLaysjKXyyU2845/tdvtR44cqa+v9y6txTnPyclJTk7ub1qYoigul6uhoaG4uLi6urqtrc3lciUnJ2dkZBQUFBQUFISFhV3yah8Wi6W8vNzpdIaHh48dOzY8PJxSyhhrbm4+ceLE4cOHLRZLenr69OnTp06dGhcXh/Fh0JdvhJX6Pk7FOWJOxDgb3ygbIrvQQY9HGGzCG0oiVH8RV2GVhqcI6nPD/7e9HyVGKKF9h3sxSjihnFKJi4EwEuGUU6ZInHg4t7d5Gv7bHZYgZX1PMmQMrpLfbpxzh8PR0dFRV1dXWlpaU1NjMBjCw8OzsrJiY2P91o7knIeHh2dmZoa+9Cbn3OVyWa3WysrK06dPm0ymuro6jUaTnZ0dExMzZcqUMWPGGAwGrVY7qCOUCABWq/Xs2bOlpaWtra0tLS2MsbS0tKSkpNzc3PHjx4eHh+v1+kHtVsyNKSsrKy0tra6utlqtqamp48ePnzBhQlpamk6nu4YPo4iwoTDG6uvrv/rqqx07dpSXl5vNZovFQikNCwuLjIzMzs5evHjxypUrCwoKfONjf5xOZ0VFxa5du3bu3NnS0iIioMViEX9v4eHhKSkpM2bMuOmmm6ZOnRoVFeX3t7dv377NmzeXl5cTQjo7OxsaGkSEtdlsn3/+eUlJiSxfPAMVHh6+bNmyRx999M0333z//fcZY5zzhoYGEWEppU1NTX/84x/9PtyZmZm/+93vxo8f7/eJVxSlpaXl4MGDu3btEn94XV1d3d3diqKEhYVFRETExsbm5uYuX7588eLFmZmZIYLsK6+88sknnzgcDo1G8+STT65YsYJSunv37r///e+nTp1qaWlxOp0RERFJSUmPPfbY2rVrw8PDB/puwbcI9fmv9xEx9nGw828ABo6GjrA+v+odN+CD9/67SnlvOOaUccYYpzLlzqauqs0OZ3d41gO6qHyMKBiIrq6ukpKS999/v7y8vKOjw2QyWSwWjUaj1WojIyMDsyDnXKvV3nTTTd/73veysoIsBME5t1qtZWVlO3fuPHz4cFNTU3t7u9Pp7OrqkiRJ7DMhISE5OXn+/PlLly4tLCw0Go0DyYgiue7bt+/gwYNVVVUmk6m7u9tut4tUHRYWFh0dnZqaOm3atJtuuqmwsDA6OvqS+1QUpb6+/vPPP//qq6/Onz/f3t5usVjcbnd4eHhcXFx6evrixYtvuumm/Pz8gb+k6oII2y9Jknbv3v3BBx8UFRVVVlY6HA6/DcrLy0+dOnX06NEHHnhg2bJlYWFhIfbW0dHx8ccff/jhhydOnKipqfFdDcBisRBCKKWnTp0qLi4+cODATTfddN9992VmZvqm0rKysqKiorNnz/rt2e12NzY2NjY2+j5oNBrj4+M7OzsPHDhw6NAhv+lfnPPu7u7i4mLfBymlNTU1jY2NBQUFfhn06NGj77///t69eysrKzs7O31/ZTKZxI0TJ04UFxfv3bt37dq1IVb4Onny5OHDhx0OhyjOZrP985//3LJly9GjR202m9jGbDbX1dWdPHly5cqViLDg45rtSwA1CJFZh7xHzglVCNVQyhnrbqt22f9LVmw053ua6EmU4gDdL855bW3tm2++uXPnzlOnTpnNZjLgic5xcXHLly8PjLCi0+qDDz7Yvn17WVlZS0uLx+Px3ac43lVWVsqyfPz48V27dt1222333ntvTExM6BJra2u3b9++Y8eOkydPNjY2+sUJsVtKqSzLhw8f3rdv34oVKx544IH09PQQ+2SMHT169M033/zqq6+qqqp892kymerr60tLS0+dOnX8+PE777xTHHMH8uKoC/5CgpMkaevWrTt27Dh+/HhnZ2fQ9ac8Hk9tba3JZOrs7NRoNKtWrervelft7e3vvvvua6+9VlFR0d3dLf4kZFkeO3ZsYmKi2Ww+c+aMx+MhhLS1tbW3t9fW1loslkcffTQrK8u7T6PRqNPpBlh/SqlGo9FoNBEREZTSgfxhc841Go1er/drxa5duzZu3Lhnz5729nZRSVmW4+PjMzMzKaUNDQ1NTU2EEIfDUVZWVl9f39TUJEnSjTfeeMmrf1FKP/jggzfeeKO4uFisVutLDH4YYHvhmkYvdrv2cyK4zzStfj/sQ/gXvP/hB4PbfghPGa7tr40iroYX1jfCDk+/PqecUEJlQiWJMklPiOxo4rX/8DAu5X1fip5AcdWDfrhcrueff/6DDz5obGzknHPODQZDVlZWdnZ2V1dXU1NTU1OTy+UK+lyDwWAwGPwe5JyfP3/+lVde+fDDD2tra71HH0qpXq9PT093uVx1dXViSzGur6mpqaqqqqWl5bHHHktMTOyvqmfPnn377bc/+OCDc+fO2e127+Oip4kQIs6pimEGzc3Nra2t1dXVTU1NTz/9dFxcXH+7LSsre/HFFz/77DOTyRQYUcTeRERpampKTEz06366NiDCBkEpLS4uLi0tra+vdzqdOp1u8uTJS5YsycnJ0el0LS0tX3755bFjx6xWKyHEarUWFRVlZ2fn5+cXFBQE7s1utx88eHDTpk2nT59WFIVSGhsbe/vtt8+fPz85OVkMV21qajp9+vSWLVvEZ7G2tvadd94ZN27c7bff7v16t2DBAqfTWVNTI8vy+fPn9+/fX1dXxzkPCwu77rrr5s2b59vxaTQar7vuuvj4+O9973sZGRliIIE4hSE+64mJiXfddZffpQ1SU1Pz8/N9o6eo1eeffy6G3hoMhpkzZ65atSo/P18MVDWbzZWVlV988cWBAwfENW/3798fGRk5efLklJSUEC+yRqM5ePDguXPnTp8+7XK5NBpNYWFhdna2VqttbGysqKiIjo6OjIy8vHcSrhk04MZFvWdlewa/hgwXg02xwxXmQnTgjXSYG8bwdwWKuPpf2EtNOxuEnvULZA2VKCVc1mmIRN3E0eCp/weXjLoxD2si84aprGuKx+PZvn37+++/39zcLDpoZs+e/cADD+Tk5MTHxzscjs7Ozi+++OKjjz5qamrinFNKCwsLFyxYkJiYKMvy7Nmzc3Jy/PZZX1+/ZcuWt99+u7m5mRBCKY2IiJg7d+7ixYvT09NjY2MVRWlvby8rK9u6dWtTU5OYHFJeXv7aa6/l5uauWbMmKioqsKptbW0ffvjh3//+97NnzyqKQgiJjo6eMmXKwoULCwoKxMXhRWYVAwI9Ho/H46murn7vvffy8vKeeOKJoK8AY+yVV17Zvn272WwWr0BMTMzcuXMXLlyYmJjY3d1dUVGxd+/eiooKq9V6+PBho9HY3d09rG/CVQERNgjOeU1NDSFEkqTMzMw1a9YsW7Zs+vTpycnJGo2mo6Nj4cKFmzdv/uSTT9ra2gghNpvt4MGDR48eHTt2bOAo0qqqqnfeeaesrIwxptFo8vLy1q9ff+edd44bN853y/r6+oyMjI0bN547d87j8TQ0NPzP//zPtGnTpkyZIoYTjBkzJjEx0eFwSJK0Z8+e6urq+vp6EWHnzp37+OOP6/V6795E/6vBYFi4cOHEiRMJIU6n0+VyHTp0SETYhISEDRs2pKen+1ZYjMjx3jWbzdu2bduzZ4/49paQkLBy5coHHnhgzpw5sbGx3s06OzunTZuWlJS0bds2h8Nhs9n279+/bdu2Rx55pL9XWEzh2rVrV1dXl8vlSkpKuvnmm1etWpWVlSXLshg7P3ny5KD/IsC3Ud/OV7+uWEZI7/qdPb/3ibK+/wUYCQP/dPnML+z9xFJOJHpxkKwiMyYxyhp50/suSRuevU4blYcr0PoSp/s3btzY0tIi0tuiRYt+9rOfrVixwndSyqRJk1JSUt54443q6mpCiCzLc+fOFUP+xMHRd58dHR1ffvnl22+/LSZMy7Kcmpp666233n///RMnTvQdJ1BXVzd79uwXX3zx2LFj4qJCDQ0NmzdvHjdu3PTp0/1G0ImLYn700Ufnz59XFEWSpOTk5Jtvvnnt2rWTJ09OTk4WmymKcuHChenTp7/11lu7du2y2WyMsdbW1ldffXX+/PkzZ84MfBE+/PDDTz75xJtf4+Pj161bd8cdd0yZMiU6OlpMvF6+fPnHH3+8ffv25ubmwJGQ1wZE2FCmTp16//3333777VlZWd7hoTExMYsXL46MjJQkadu2be3t7Zzz+vr648ePL1261K/r0Wq1Hjp06IsvvnC73ZTS+Pj4H/zgB+vXrw886ZCRkbFhw4a2trZNmza1t7czxg4cOFBSUpKfny86Iyml0dHRYoh3dHS0909FkqTw8PCkpKSgU8q0Wq34O7HZbGL6v3hclmUxJr2/0/2c89OnT3/11VfiNE14ePjy5csff/zxGTNm+P2VRkdH33DDDRqNpqqq6siRI5zz9vb2d955Z+3atf0NSBcnYlpbWwkhCQkJ3/3udx988MHx48d7R0owxiil1+TYHRg8/5423ve2bxcsCbLEAPIrjJwBX/igZ+M+emd8cUIYp5xTRZEZkwkjjLiqeP3bGo+T5NynjZ1AMC62l6IopaWlRUVFojsmJibmoYce8suvhJCxY8fef//9Z86caW1t5e7jSQAAIABJREFUtVqtVVVVJSUlS5YsSUhICNxhRUXFRx99VFVVxTmXZTknJ2f9+vX33HOPX08TISQzM/Pee++NjY194YUXdu7cKVLs4cOH9+zZM2bMGL+dNzQ07Nixo7i4WASA9PT0O++886GHHpo0aZLvkdebmJOSkmJiYt5++23GmKIo5eXlL7zwwpYtW/zq0NHR8be//c3bAx0bG3vvvfc+/PDDhYWFosNLp9Pl5uZmZ2cXFBRkZWW99957Z86cuSavx4nvdv0aN27cj370o3Xr1uXk5AROsZ86deratWsnTZokPjFWq7WkpOTMmTN+o04bGxu3bdsmOmuNRuO8efPuu+++/gbNREdH33///bm5uWKfJpPp+PHjYpS6H99SeK9LtihwUleIjV0u1759+0pLS10uF6V07Nixt91227Rp04LO0zIajTNmzLjnnnvECyVOr3zzzTeXrJIsy+JPesKECb4jfSVJQn4FHyLFUrEsUe9tzinnAddP4oSIx3nPska0n9PNNOSP7zaB2wfux/duYBFBix5aEQPZ3nezoC0aWhGBTQvazOFqxVXywoYopb9/Qnk/P/4bXPygUs6pwgknnFBGJEYkxqi9ylP3tvP839wdpzhX+inrW8fj8ZSVlYnVgQghGRkZixYt8j0J6ZWZmTlp0iTRh2qz2cTgwMADX1dX14kTJ0T/CyEkMjJy6dKlDz74YGB+9VqxYsWGDRvS0tJEErXb7fv3729sbBRDBbyKioqKioq6uroIIWIAw7p16/zyq5dICCKJelv62WeflZaW+tX50KFDZWVl3o7V66+//v777y8oKPCd/00IkSRp/PjxDz300Pr16wsKCq7JQyoibHAJCQmPPPLIbbfdlpiYGPTTJsvypEmTpk6dKsayeDyempqaiooK32lJYsT3vn37xN24uLgHHnggLS0tRLkTJkyYNm2a92x+RUXFaA3BNpvNxcXFFy5cIITIsjxnzpzZs2cHDoH3iouLW7RokXeOp9PpPH78+CVLmTt37rp16woLC/tbwQCAEHIxwlJxbSNxm/PeHOC7KSfc++P73H4y0OVHWN/NaLDbwxvmBpIXBxL+BlilwBL7e0rg/i+z1b6bDeSFDXH3cl7YoLwRtr9F3EJHWOL3IKeEE8YplziVFapRqIYRiTPmrHc1/sNRu9Vjb+6nJt86Yo1zcZtSmp2dnZCQEPQwrdPpUlNTxZxmQkhHR0dHR4eYlOyrtbX15MmT4qygJEnp6enLly8PvRoApXTx4sWTJ0/29ryUlJQ0NDT47txutx86dOjcuZ4rCyYlJc2fP3/8+PEhJjrr9frJkyffdddd3kc6Ozs///xzvwj71VdfWSwW8aBGo1m2bNm4ceP6O4ZmZGTcddddq1evDjEzTL0QYYMrKCj4zne+ExMTE+KLS3x8fEFBgffEgdls9lssw2KxVFRUeJedioqKWrp06SWLHj9+vPeESG1trZg0duWdP3++vr5ezOjU6XQFBQWZmZkhthfjHLwT2kRHbOgikpKSxCmVga+0AN9KPvmDU+I37pV6U2zvzzXY1wBXs9BRNfSW3u05oZyKJQo4FT+MEkWmHtKtKJ1kYMtFfRuI6w6Q3hOJ0dHRIUKhwWDwnkQVE0L84qAYdVpVVSWWINDr9WPGjJkxY8YlV9RJSEiYM2eONx83NTU1Nzf7roHQ0NBQXV3tXYJgypQpc+fOveQS8hEREcuXLxdxU4y4O3jwoG+dHQ7H+fPnvXOzcnNzJ06cGGLqs0j5s2bNCrFmgnpheE1w8fHx/V0ly8tgMGRnZyclJZ0/f16stNrZ2en7Jaytrc17Ml2W5YiICKfT6beAqx9JknQ6nfePp66uzrta6hV2+vRp0QVLCImMjNRoNCaTye8siS9KqcVi8f4huVyusrKy0EUUFBTMmjULyw7AAPj8JXLCJd++Ky5+fXGO1/Ac7OnAxjiG6KgL8ZTBFjGo7f2eOKJFDLYyAy9iCC+sb0FXrNWXNRbWtyZ+Y7g5IQqlTB+nTVpmyLpLG5461BpeazQajXciFCFETB3pb+POzk6HwyEioE6nC7xUlZiVUV9fL+6KlblCd8F6TZ8+PTo62mQycc6dTmddXZ3dbvce0SorK8XiBkJhYaGYWn3J1qWlpRUUFHz99deEEMZYVVWVzWbzTm5ubW31PRZPmTIlJSXFbwiBH1mW9Xr9Ja+dqUbXYJOGxQBXSI6NjY2NjZVl2ePxOBwOcWEM7287Ozu9JxEkSbJarZs2bQqRAgkhsiyLtWPFXYvFYrVaFUUJ/QEdCdXV1d5huIyxr7/+uqOjI3SEtVqtYiUHQoiiKGIeWIivAbGxsRg/AAPj+ym6mF+9v/QOeg18Hu/TLdvfufL+XHJhJhq0bsPxlMsvgl8qzw25Sn5PuapafQWKuBIdolyiTBerTVkVkfMv+rg5uFiXl1arzcvrWWtMLB/U1NQUERER2G/a0dFRUVHR0dEh7sbGxsbExPgdTBVF6ezsFKMICCF6vT4+Pj7oyNpA6enpYWFh3mNcY2Oj78JVdXV13nOwGo0mLi5uIBfcEnXIzs4WEVZcLcxsNkdGRoqC2traOjo6vKk9NTVVTC4fyJ6vPYiwl0WskCw+WG632263+46FdTqd7e3t4rbH4zl37txf/vKXS+7T4/H49rw6nc5RibBms9k7KMJsNv/zn//87LPPQj+FMeZ9ijjXEzrCDnAWGsDFuEp77/aOf6WEEE5Yb1TryRe9v+/toRXP6zvSsZ+rJPT+nocMK316hQmhPg8EfUqwogdRhO/2gy0ihP6KGECY473F9Tww2FaM3AvLe/o0h7NKg31hB8+7P29Rmhh9yk3hY36oj5mNy3T5kiQpLy8vOTlZLIDV2Nj4ySefbNiwwW+Zc3EK/tChQ2I+iU6ny8nJCVyEh3Nut9vFgD1KqdFoDFyy4P9n787jo6rOxoGfc+6dzD7JTDLZ9xVC2MKOgCICCohWpeKCSl+tC1pb37dva13Q17q97a+2Wm3p64a2QKUqiguisoRFqixhTwhJyL7vM5nt3nt+f5zJ5WZmMpmEIA4830/Emcyde+69M5P7zLnPec5AzGazslu3q6tL2YfV2dkpn8qNRmPo1xtVKpUyb9XtdttsNvlk6nA4WBkE9mhUVNSlnIkHH4xzolarle9gl8ul/BLGglr5riAIISa2chzHYlatVqvT6S7IF6ze3l7508hiU/8JtAJiHyeO4+Li4i7KIZDgQvv+esIAOAfedynt/271/5tIEe23AMZEFcnHXa3LfDDCPO38b2eYYRNbLliwYN26daIodnd3v/vuu0aj8eqrr2YXRRFC3d3dhw8ffuutt06cOCEXtJo4caIyA4FhOQDyiVuj0bAZs0KhrG6JELLZbMoQ1mazySfNqKioELtg2cyaysrrPoGEy+XyeDwshMUYazSa77+H64cDQthzgjFWln9id5WPKuuwxsfHjx8/PvTabISQjIyM3NzcC5LCoow+jUZjXl6e1WoNcePZvCazZ8+GEBaMCLnDtH8kQBCi3n+pT2hAFR21lGLvKny6+IJGwYpeXp9f+W4Iy2Ogcp9vgLX4N4WH0oRi9Bry6z0e4CnDayL48op73jyF4HutvIlDa2KgAzvQXo/ggQ1lL/o1oeyFVupL1cYSpt4hWorFAnTg0n7XD7DKzMdepc26X2WB+DUANsPl/PnzP/jgA7vdjjEuLi5+7LHHysrKUlNT9Xo9mxvok08+OX78uMvlwhhHRUXNnz9/9uzZykkKAq75XDZMpVIpA4Bzucao3BJCiDJQ9rl6eVFWew0dhLDnpLe3t7e3V34PaTQavV4vP8pxnFyFiuf5MWPGPP/888FzYWWUUpVKlZGRoVzh94llf7MvkVar9bbbbps7d26IG48xNplMGRkZ53kbwSWBYiQovhgi76ViefRL3/Vmb+YARchDkdQvU4AijCmiGCOMz+YkUJ/IuH9XGKt9gJWxTd8cCogqStJ7k23ZFlBMUL/whm0URd7IRZnGizFFgzUhB+HyJvk00bcLlPZlS1BFwxhT7z+KCHDQJvpvEg6816yJvr3G3v3rt9d+TeBhHdgAe30+Dqz3jRHKgfW+2zCm8l5j+X9YwoRyCCGKPRgjCVPJu0qMEfWPXylFEiYUEYQkQimvjlYlXK3JuJe3TPVdFCCE+i79Nzc3K3uIWlpafve73yGEjEZjb2+vfKrSaDRJSUmzZ88OUueVEMJxnCiKbFg2q+MeiubmZmUNopiYGJ85MuWItqOjQ07JHXTv3G53Q0OD/ButVqvMkTAYDFqtlt1lXcghnpcvShDCnhO73c7mgkMIcRwXERGh7NJXq9XytQNRFF0u19ixYy/Mhg6dyWRSq9UslcfpdEZFRYXRxoOLCUVIOJv5ihFCmJK+oMF7hsBSXxBFRIpFCYv9eukwwqxvjPbrD5PjOglT+V8ZYWGTIhWyr3SXN/XWZ3mMEKGEShhhZRPeVllvnE8AM+QmKCKIUBqoCcz6Kvs1gREiFPcVTwypiUCbhPqCv4Gb6HtF/Pc6tCYGO7DSAHs9QgeWUIQRIcM6sIqAl2KKCSVYikCIYiJIfQdQQhghzAeaXEaiSMREQhyHMOIN6oRF2pwHsGkiJjDUNTBBEA4cOPC3v/3NZrNhjPPz881m84kTJ9ggJzaPAMY4IiIiOjp6/Pjxixcvnj9/fsApilDftXidTscGb7jd7u7u7hC3pL29XVmlKzY2Vlk63WQyySW07Ha7MhkgOLfbrQyjNRqNMgnBaDSy9EKMMaW0p6dHmb1wqYEQdvgopR0dHR0dHSyENRgM0dHRysRqnU6XkOCthOLxeFpbW0dqYJbP9Y5hXLCQJCn4s+Lj4w0GAxtQ2dHREfqnGoCRRikWkbfzyxssYETkIAQjhBDxXnWmIkIS8UY2/dMFfOdAYMN4vFEtxf0SbDFCGPsvT729jmfb7f8UJPkU28aU+lw57r+87/Xxfk1gvyYwwtSnCYop++9s9NV/qymmUv8L2Web8Nlr70EZYK8HagIHbuJsx+jQDqz/XiOEsYToeTywaLgHtq9fn/X7Spg1QjyYUooluVMX4yB/bjGlmGBKiC4iboEq80ESNXmgRQEbof/OO++cOnUKIcRx3GOPPTZ69Oi1a9eWlJS0t7e7XC6e5w0GQ2xs7MSJExcvXpyXlxekwgAhxGAwREZGsl5SNgjb7XaHMkaqtra2t7eXvbQcx6WlpSmvmlqtVnkIl8fjYaO7Br2sSil1Op3V1dXy5sXFxZlMJvmkHxUVxcovsHYbGxuVg70GWufFOnIaQtjAbDab3W4P/qo7HI7Kysrm5mZ5nuLExETll7Do6OixY8d+8MEHCCGMscvlqqioyMnJOffNI4TIVyg8Ho9yfGIQynwah8MR/OrDqFGjrFYr+yC53e62tjabzcamIgPg+0U5LCCEECUYe4ePY0q8/6KzkQzGlCKJIuqd6qD/h4JjV36VnYWIsg7cvrCtf08bxaR/mEQRRpRS7O3Q45Bfz5zknT2sb3nvI31N9IuoEesslHxSNjG7gs76GDnfzj9MqJxq2X95jNBATdAATUgYB95rhLmB9rqvCf8uTzbtr+IpaJAD67/X8oENsNeBDyx7MYd0YL17PawD67/XHMXeLAO2w5i9wwSEhLP5iRRjhAii8gUB3+gaI0JFwhs1sVfqR/1CFQ3x6yB6enq2bNnCbhuNxiVLlhiNxgkTJiCEysrKWltbdTpdTk6OPMllcBzHxcbGpqSksIqQ7LReV1c3aCKcx+MpLi7u7u5mfVgxMTGxsbHKk2xubm5CQsKJEyfY3RMnThw7dmzatEHymwVBqK6uZgE6Qojn+SlTpijD08jISGUVrcOHD9fV1eXk5ASpUOlyuXp6ekIckB1eIIQNrKSkpKioKC4uzmKxDFQQoLa29vDhw6yeHMbYarWmp6crQ1iz2VxQUKDRaFhp5ZaWljVr1jz77LMh1pwLQq/X6/V6ucRGd3f3oNkwhBCz2SzvC/uiGSTwHTVqVEJCAiFEkiRRFPfu3Xv55ZfPmTPnkq0/By4UjDAReeTNH/AiFCOE+2IOgijrPqQUE0o5CbH8Q6oIbDCmhFCCFQGEhClClGCEkCRh1HeR+WwjWCJE0Si7oMyyLNn0tv3L0WNMCUfJ2TzKvuVZBCP5JKUihBEhEtdvkxBCWEIYYSSxSUd94h1COSIpro+zq9eYUsUUZYqnYIwIkYh/E0Pda2UT/ns9wIFle+3bBB6hA8s2CWEq+e71gAeW7fXwDqz/JvX94L7xWhLCAsWSRChCVEIUI0r6d2pjn2YRwhTxvEEVu0A76hHeMgmBoNi1flZOCyFktVrtdrs8RVZOTs5QO4lYCJuenr53715We+fUqVMHDx5MS0sLfrKrqanZtWuXXDaroKAgKSlJGUfm5OSkpKTwPM8mPDp06NDevXsnTpwYpH+XUtre3v7+++/39vayPdLr9ddcc41yS3Q6ndVqlZMiysvLy8vLp02bNlAIKwhCaWnprl275LmKLiYQwgaAMW5sbHz++ee1Wu2iRYsCzr/MvoEdO3aMFePgeT41NTU9Pd0nFzYjI6OgoGD//v0Ioe7u7s2bN998882hTF4XnMFgkAsdu1wuNgGJPHtHQIQQq9Uqb153d7c8yXJA8fHxeXl5e/fubW9vlySpuLh4z549BQUFodfMA2AkYMLpiToHY0LQ2UAFKyNab41Sb+ehROXqA8pry6zzjyh7YYk3zVFCCBHsTVxUNE04ievXH3k2jdIbPPlcUccSRxT9kewqcl8MFKgJSjjarwnibUJCrO/PrwkicUQ5NkvRRN/y/ZrAlCMscgt1rzGReOK/14giPMBeUzK0Jvz2etADG3SvL+yBPXsdgGKKkESJiLBAiYCxC7lasWDzjvqixD9nFyFMeENEwtXa3J+rLIUY5i8IASGEdQwhhKqqqj7++OM5c+awcloajUY+t7J02EEz91j306hRowwGAzsnNjQ0fPnll9OmTUtOTh7oWW63+9NPPz106BDr2lSr1ZdddhkLWOVlLBZLQUFBXFxcXV0dQqi5uXnPnj2XX375uHHjBqoy5HQ6v/3223fffRchRCnleX7SpEkzZszwWWzSpEmffPIJy/oVBKGoqGj27Nn5+fn+uQSCIJSVla1du3bjxo1dXV04aEZLOIIQNgCWVlJTU/PLX/6yo6Nj2bJlCQkJyk+CJEllZWXvv//+sWPH2JvGbDbn5+enpqb6rCo1NfWmm24qLi4WBIFSWl9f/8orrzz11FNpaWlBPlput7uzs9PpdMbExMhjD5VMJpMyOaa+vr6kpMRqtQbJhiGE+ExDt3fvXp/PkjKfRqPRzJ49u6ioqKOjg1La2tr6+eefZ2dnX3311UHq24miaLfbu7q6VCpVfHz8QIsBECpMVJGjtBP/hAmPkOLaPJLDWd/3PA10u28cWIAPCD0b7PpeXB768gG2ByHlQPRzb2KQ5VG/vUYoPJsIqwPrm+CAkYixQKnNUf6K1PI1oYhIPKK8hAWKqYTlLAOMOQ0ff7Uu/zeqqLEBdxD4wBjr9fpJkybt2bOHpef98pe/zMjImDVrVmRkZF5enjyCiuO4pKQkNle8Vqs1Go0DdX9aLJYJEyZkZmYePnyYDXH54IMPoqOjf/GLXwTssnG5XAcPHnzllVd6enrYGTM7O3vOnDn+FbvmzJmzbdu2hoYGdjFz586dcXFxq1atysvL8wkAWO9ycXHxb3/7W1YpDCFkNpt/8Ytf+G/AlVdeuWbNmsbGRta/+8EHH0ydOjU2NjYmJkYZA7hcrtLS0r/+9a9///vf5U29yEAIGwAhhOd5URRbW1uffPLJlpaWW265JSkpiU3E5XK56uvrn3vuuc2bN7MKwxzHjR49+rLLLvN/u5vN5hkzZuTl5Z08eVKSJJvNtnHjxs7Ozueeey4hISEiIkKtVrMvRpRSSZJ6e3sdDsfp06fffvvtEydOPPPMM3PnzvX/4BmNRjZRHhuKeOzYsQ8++CAnJ4clj7vd7t7eXlaJVn7XEkJiY2PVajX76oYQ+r//+78rrrgiKysrIiJCEAQ2tVhsbCz7E0AIGT9+/Pjx40+dOsXSffbs2dPT09PT07NkyRKtVit/wWUb73a77XZ7S0vL9u3b161bl5WVtW7duvP5KoFLAsZEpY1WJc270BsCwNBQ0elq+EBklwdENaI84ZCE3WzwF6UIETVvvdI45gk+Coq9hIoVHb/++uuLi4vZGP+enp7Dhw8fPnw44PKxsbG5ubmTJ09esmTJuHHjTCaTcjYiJiIiIi8vb9asWWVlZSwxoLW19bXXXuvq6nr00Uf1er1arWbDp9jcmfv373/wwQerq6vZuU+v1y9btmzs2LH+KYIFBQUzZsw4ePBgU1MTpbStrW3dunUej2fVqlUpKSlsVgJKKZvktri4+IUXXjhw4AALCfR6/XXXXXfNNdf471RmZuacOXMqKyvb2tpYTPLCCy8QQq677jqLxaJSqTwej9PpPHz48J/+9KdPPvkEY8wijYsvHRZC2AA0Gs3YsWNra2ubmppsNtvzzz+/efPmuXPnTpgwgef54uLiTZs2VVZWsvcZ+6p34403Xnnllf6r4nl+3LhxDz/88JNPPskGfrlcrs8+++zo0aOLFy/OzMzMz8/XaDRut5vlA+zevbuoqKi8vNztdmOM29raAia5ms3m3Nzc+Pj4M2fOIIQ6OjreeuutU6dOLVy4kOf5kpKSvXv3pqSk/POf/5Q/VBzHpaamFhQU7NixAyGEMS4tLV22bNltt92Wmpra0tKya9eu0tLSN954Y86cOSw2TU9PX758eU1Nzc6dO9lb/+jRo7/61a/+9a9/zZw5Mysri03W53Q67Xb7qVOnduzYceDAgY6ODkJIiPOQAQDAxUpChNVY4xBGCAsYs3rFGFPKa3jrQv3YZ/io/Au9mWFGp9Pdeeedp06dWrt2bZARHewE3dzc3NzcvHv37jfeeOPqq6++5557ZsyY4T8uOTs7e+XKlRUVFV9//TUbHt3V1fW3v/1t+/bt11577aRJk9RqNaW0trb2k08+2bp1qyRJbP1arXb+/Pl33XVXbGys/zZotdqbb765trZ2w4YNLEuhq6vrzTff3Llz58KFCwsLC2NiYkRRbGpq+vzzz3fs2MGqIrB5bidNmvT0008PdBAeeuihI0eO7N692+l0Yoybmpp+9atfffbZZwsWLEhLS6utrd21a9fevXsbGhrYzA6jR49GCH333XcXWwUuCiillHo8nltuuYWl0RiNxjfeeOOll17KzMwcKGeFfY3jOC4rK+vFF19sbGwMsvKmpqYXX3wxMTGRrc3nK2BUVJRPK2xaL4vF8sEHHzgcjoDrrKqqWrVqlZzB7bNOrVZ73XXXtbe3K58iCMLOnTvlcZr+lxViY2M//fRT9gGWn/Lpp59eddVVOp3Of3m1Wu3/t4CV2Zs3b17Azb7tttvkEW9Lliw5fvw4KygNAAAXE0lwtH27smGjqvk9Vcd6ddt6be0/1RXryJl3cduHpva9N7o6Dkui50JvZlhyOBzvvfeefOFeo9GYTKbI/gwGg16vj4iIUI48ueyyyzZv3qw8x8k8Hs/+/ftvvPFGdrk14HlfiRBiNBpXrlx55swZVqRyIAcPHrzrrrvkoeFBVs4m+IyKilq8ePGhQ4eCH4SioqI5c+YETDWUcRxntVrvvvvuzZs3P/LII+yKbmZm5quvvsquIYc76IU9S34fUEojIiLuvffe/Pz83/72twcPHpRrvymxHtZVq1Zdf/31FoslyJpjY2MfeOCB7Ozs3//+9wcPHlROcEwplb94sV+yNIaoqKgVK1aMGzduoPSd1NTUW2+9tba29osvvvAvqsVxnE6nk7OC5F/OnDlz9erVzz33XE9Pj8/EdCz0NBgMyhwdjuOuueaalJSUNWvWbNq0qampiUWcqK9MGOudZRuPMWbtjh079r/+67+CH+SAdwEA4KJBERIwjyjisCBhiVNFxMSYHT1dNGa+ccxvVcZchKHAy5C53e6vvvrq4YcfZqdOrVZ7//3333DDDcpyQBjjysrKpqamffv2FRUV1dXVsTPXnj171qxZExMTM336dJ/V8jw/YcKEF198MTs7+5133mlpaZFPdj7YOTojI+NnP/vZj3/84+jo6OAnsokTJz711FNZWVnvvvtuZWUlS2D1hzHmeT4uLu6ee+5ZuXJlSkpK8OMwe/bs559//tlnn929e7fNZvM/ofM8n5ubu3LlyltvvdXtdu/YsUPezovnzHuhYucfGo/H88gjj2i1Wp7nExISPvroI9b92d7e/vjjj6elpbHUT5nFYlm5cuWBAwdC70SUJKmzs/PNN98cP348S4LxwQoyT548+YUXXmBv9EHXWV1d/fjjj7MSGzzPs/Votdpp06Z9+umnAZ/CKmSNGTOGTSErN202m5944on6+vqAz3K5XDt27Lj99tvj4uLkZym3XKPRpKam3nHHHV9++SUrIhbQb37zG7PZrFKpVCrVypUrKysrg39/BQCAcCQJjtZv76r5l7Zuo7bln6q2DSr31riaDXzDjvke+5kLvXXhShTFqqqqtLQ0FsAQQm677TZ2jd4fO7n8+9//njt3Lru2iRCyWq2vvvpqkCZYWYAVK1aYzWb/k51KpcrJyVm9enV9ff2QLiGKonjkyJGf//znqampKpXKZ7VqtTo9Pf2RRx45ffr0kA5IXV3diy++mJWVpdxUnufj4+Pvu+++Q4cOsY1sbW194YUXjEYjz/MFBQXr16+/OM68F1uFhXNBKW1paWlra8vIyGC5z/Lv3W73/v37WYqqJEnx8fGTJ09OSEgYxlcZdty7u7t37NjR0tIir8FoNE6cOJFNgid/2EJcoc1mq6urKy8vr6+vt1gsY8aMyc3NDb4SSZKampqqqqpOnDhPWW9DAAAgAElEQVRBCMnMzCwsLJRrzQZpq7e3t7S09MSJEw6Hgy2s1WpTU1Pz8vLk4ZDBpwnp6upqbGw0mUxWqzVINWYAAAhfVHR2HLy3t3ojoShCErAkROh0bvMVkZP+yusGrNYEgrPZbH/4wx9Wr17NLv3l5ubu379fngRrIF9++eXq1au/+eYbdm568sknn3jiieD1ttjJ7tChQ8eOHZMz/cxm8/Tp0+Pj49n8rsPYfkqpw+E4fvy4cvyZ0WgsLCzMysoa0qlfuU6323306NGSkhJ2Xs7Ozh43bpzZbFaujVLa2dnZ0tJitVrNZvMwNv4HCELYfmjfJXL/h5QzsuI+59KW/xSvw/5UIEVveujrUT6FpeCE2Jb/lg/1gAQ5zgAAcBFQhrAq0Y0wJgnXmMb/njdmQf3XYWtsbBw7dmxrayu7++abb95+++2DdoU0NTU99NBDGzduZHfvvffeJ554IikpadDmRvY0fV5XSymVcwmCnJFp0Kloww7kwvYTvK7qyLY1siscRkg97Cj83Lf8YvoIAQDAoFTxSw0TXuT06RC/DhvrwmSVpFgIOGnSpEEnL0AIdXR0sApcjNFoHLTjljlPs1Gej9WysSihLDbiTV9AkEsOAAAAnEeq+IWmKS/zhkzvDB1gWNgQJfniIUKI5XoO+sS9e/eWl5ez23q9Pi4uLsQQFvzAQQgLAAAAjDyMeIRQRNwC49S/EW0i1B84d2q1Ojs7W7772muvtba2DpQPSSkVRXHr1q1vv/22HMJOmjRpwoQJF1ln5CULvhECAAAAIw4TZNBY50VO+D2nSYD5Y0eEWq2eN2/e6dOnEUIY4+Li4ptuuun+++8fPXp0VFRUZGQki027u7tdLldjY+P27ds/+uij0tJSVtI/Njb2uuuu86+oBcIUDOcCAAAARhiVBEftpypTFh85GvJfR4ogCAcOHLjzzjtLS0vZb1QqVXR0dHJyckxMTExMDEszbWtr6+3tra+vb2lp6e7uZqVY4+Li7rzzznvuuYeN/b+QuwFGCISwAAAAwEijVPJ0E5UBQfw6onp7e1mRrCNHjrDx9ZRSVmmVlaRECAmCIEmSPAEVxjgvL2/lypU33nhjWlraQJNugrADISwAAAAw8i6yAkY/EKxia0VFxfr169977726ujpJktigLlasSq4Ryf7NyMhYtGjRkiVLxo8fbzabQxm2D8IFhLAAAAAACDMNDQ319fV1dXUlJSXl5eVOp7O+vr6rqysyMjImJiYiIiIjI2P06NHp6elJSUlWq1WtVl/oTQYjDEJYAAAAAIQlt9vd1dVls9lEUXQ4HB6PR6VSqdVqQojBYIiMjNRoNNAXfrGCEBYAAAAAAIQZKFMHAAAAAADCDISwAAAAAAAgzEAICwAAAAAAwgyEsAAAAAAAIMxACAsAAAAAAMIMhLAAAAAAACDMQAgLAAAAAADCDISwAAAAAAAgzEAICwAAAAAAwgyEsAAAAAAAIMxACAsAAAAAAMIMhLAAAAAAACDMQAgLAAAAAADCDISwAAAAAAAgzEAICwAAAAAAwgyEsAAAAAAAIMxACAsAAAAAAMIMhLAAAAAAACDMQAgLAAAAAADCDISwAAAAAAAgzEAICwAAAAAAwgyEsAAAAAAAIMxACAsAAAAAAMIMhLAAAAAAACDMQAgLAAAAAADCDISwAAAAAAAgzEAICwAAAAAAwgyEsAAAAAAAIMxACAsAAAAAAMIMhLAAAAAAACDMQAgLAAAAAADCDISwAAAAAAAgzEAICwAAAAAAwgyEsAAAAAAAIMxACAsAAAAAAMIMhLAAAAAAACDMQAgLAAAAAADCDISwAAAAAAAgzEAICwAAAAAAwgyEsAAAAAAAIMxACAsAAAAAAMIMhLAAAAAAACDMQAgLAAAAAADCDISwAAAAAAAgzEAICwAAAAAAwgyEsAAAAAAAIMxACAsAAAAAAMIMhLAAAAAAACDMQAgLAAAAAADCDISwAAAAAAAgzEAICwAAAAAAwgyEsAAAAAAAIMxACAsAAAAAAMIMhLAAAAAAACDMQAgLAAAAAADCDISwAAAAAAAgzEAICwAAAAAAwgyEsAAAAAAAIMxACAsAAAAAAMIMhLAAAAAAACDMQAgLAAAAAADCDISwAAAAAAAgzEAICwAAAAAAwgyEsAAAAAAAIMxACAsAAAAAAMIMhLAAAAAAACDMQAgLAAAAAADCDISwAAAAAAAgzEAICwAAAAAAwgyEsAAAAAAAIMxACAsAAAAAAMIMhLAAAAAAACDMQAgLAAAAAADCDISwAAAAAAAgzEAICwAAAAAAwgyEsAAAAAAAIMxACAsAAAAAAMIMhLAAAAAAACDMQAgLAAAAAADCDISwAAAAAAAgzEAICwAAAAAAwgyEsAAAAAAAIMxACAsAAAAAAMIMhLAAAADAyKOS50JvAgAXMwhhAQAAgBFGJcHTvFPsrUKIXuhtAeDiBCEsAAAAMNKo4K5+3172qrunilLpQm8NABchCGEBAACAEYYRokIvrXurp+yvgr0KQRQLwEiDEBYAAAAYYRQhink1drnP/MVR/prQW40QRLEAjCT+Qm8AAAAAcBGiCPV09/AYucr+SAmny7yP16VgzF3o7boYiKIoCAK7zXEcz18kwQylVBAESZIQQhhjlUqFMb7QG/XDdZG86gAAAMAPC0YYYSJhTDlHyau8JgonLee1KQii2HMjSVJJScmhQ4fY3fj4+BkzZuh0uosg2uvp6fn666/tdjtCSKvVLliwwGg0XuiN+uGCEBYAAAAYeRRRTDki8gjpeILFqjccoqhOWq7Sp2ECJ9/hEwThww8/fOKJJ9jdWbNmvfnmm1lZWeEewkqSdObMmbvvvru9vR1jHBUVtWvXrjFjxlzo7frhgk8RAAAAMPIkQhHlKSYiESWM7Q01etf/Ody9OGMlr0+HKHbYKKVOp5MFrJRSh8PhdrspDfviZZIk2e12Fr8ihDweT3d394XeqB80+AgBAAAAI49ijDFHsehU2yjCRklHOtoFx0seLHGZ92BdGmQUDA/uI+eMhnv/qw85HCcExtwHAyEsAAAAcD5gCSOEBZEXEUUYCRwl2OP2nPwd4XR86gpOlwx9sQAMG3x4AAAAgPMBIyRRImKEMEYi5xAoj7BEKRUrX/UISJN+q8qQhiCKBWBY4JMDAPhho5RKHnRRXScEFz8quTGSJIwR5YkoIkRFQjEvIEopxr22JlXln93IjTPu5A0ZkFEAwDBACAsA+OGiVBJdHZ62w/RsrhuVw1l69l920zfOxb6/9R/wgQM+RgPePC9NBFs+tCb6LX++m/B54Hw3MfALMWgTI/9aB2pC+WyMMO57N0qYOkRHnYQ4JKmIhyIsiNhNiYApxghxCFNXs3Dq/2Hqxtn3cvp0mGkIgKGCEBYA8ANGRWfrIceeHyGEJIwQkihGCFEJU4QpRZQiRDFC3siBhRbE+y89G3BgSjGiGEks5sCoL/LFGCEsIYwQlnD/EAdLCEneNZ99QNEEJagvmiGUPSbhvhmYvE1gRBFmPyPSBEGSPMmT93kYU9TXCsYUhdgE9q54CE0QihDFpF/8h2nf+gdqArM98t6hCCGJ9L0Q6OxLxw5YkCb8prbq34TitUZ9L0SAJiREUP8mqHcJ/yZw35tlwCZYK+w3EiIUE4m9CphiJGJKCI5ACCPKIYQlLEiEEIlyFFFEOYqJ4BRK/x/lItSZ9/DaZIQhigVgCCCEBQD8wIkYOxBCpC82k7BE+kIhrOwKw4r/UYwRPhupYYqpxB7xBlJn14Y4iilGBBFlCCNhyTcs82kCYSIHZxhhSuUYSNmEN8immGKEkTI4o5J/5OfbBGFPYGEmpmeDUUyRHA9714JxX7jc93tM6Tk0QRRHiWJEKWa7268JRKl/cNm/CYzYyzVIExJGeJhNYNb/qXit6UBNcN4m+r3WFEkU+x0lZRMB3k4sUmV7hBBGHBK9R1riKCYSIhQRhATvVyQkSQgTShAWqffV4niPWsLEduo1N+EN6T/htUkYolgAQgYh7A8XpVSurDGyRUPYmkNcp7wZ57gN8nqgSggYov4RDKYIK3sNAyzO/of6Lut6n4cVkasyK4Eib1SDRM7bA4ooRkRSdmiG0ASmyrBSfi6LIVkTGIloaE2IAzbhl1hBEcWsy7LvMcrWM8QmyABHqS8o7DtaZ5sIeMl9yE0QiiTvqs82QTFClA7YhLd5RV9xqE30e61RkJKiiiaUOy7Hr0p9f9pEJCGESd91A4kgJGH2KJYwC9VZjMshxGGPp7diDaIeY/rdvD5t4KMJhmCkzlzKVY3I2kZ22y5xEMIihBCrLceEEmANdfkhfQBon+bm5tbWVkEQOI6LjY21WCw8zw817vRpkVIqimJ1dXVHR4fJZEpLSxtoCmZ5MxobG1tbWzHGVqs1JiaG47ghxaDyesrKynp7eyVJysnJ0ev1hBD49ILQYLHvLcf6XuVeRa7vgxj4bUSxMoOWUiThQBmS/Xrk+hqSUIAr18GboJRiKg3Ql0cU/bNDbIKcDZyoRDEK3ASVA3plEwPHrwM3MdBRwpIcosl9kehsBD0STSheiL4mpL4vAYPA/ULrkJoY8mutCGIDv536QmmE2CuCJIQl9npxFIkEIZbegBHFSMSSS+XElFdJKtJjF0tedYhuXdYDnD598I0BA1Oeudxud0pKSnR0NMdxQz3dsPVIktTT01NVVcXuRkZGpqamsrUN4/zFVtLR0VFXV4cxjo6Otlqt7Mw+1FUBBCGsJEm1tbUPP/yw2+1GCGk0mtdeey02NjbI+6msrOydd945cuSI2+3Oz8+/5ZZbCgsLg0R13d3dW7du/fvf/y4Igk6nW7Bgwd133z3Qwu3t7du2bdu0adPXX39ts9nkL2qU0tTU1Hnz5i1fvrywsFCr1Qbfr4qKihdffLGmpkan0y1duvTOO+9ECAmCsGPHjkcfffTEiRPs42cwGB5//PE77rjDZxZmm832wQcffPTRR0eOHGltbfV4POzg5OXlXXvttTfeeGNOTk7wDUAIUUptNtumTZvWrl174MABQRDY7nAcFxMTs3jx4ttvv338+PFqtXrQVYFLGe1LzCTeNNG+q9IUob6eQTxAHEUVF9l9Al3aF2fIlLcJ9SaJhrJ53lQBdL6akM6urd/y/utX3vUGXDSkU2PoTfjcxuj8N0F9D2xAivSJoTUxpNe6b4WBX2tJXiFmybKIIokont4XKROKWUawhKnAibyKYiTYPadeclBJm/NzTpccyvYAf06n8+OPP3711VePHTvmcrkQQhjj+Pj4W265ZcWKFVlZWSF2wdjt9r17927cuHHbtm3Nzc3KfqvY2NjZs2evXLly5syZERERoW9bTU3Npk2bNmzYcPLkSY/HQynlOC49Pf3222+/+eabU1NTh7qzAF8Ec7KdC0EQvv322zlz5si/efrppx955JEgMeIf//jHl19+ubq6GiGk0+l+/etfP/TQQz4hoEySpKNHj/7mN7/54osvEEJarXbx4sUbNmzwX7Knp2fr1q1PPvlkZWWlx+ORJMm/J5XjOJ7nlyxZ8rOf/Wzy5MkajWagjdy1a9eVV17JPiGTJk3au3ev3W7/85///NRTT7GJ+FgiAUIoPz9/8+bN6enp7K7L5dqyZcv//u//FhcXu1wu5eeWbQbP8ykpKXffffd9990XFRUVsHVKaU9Pz5dffvnoo49WV1cLgsB2R14JQojjOJVKtWLFiocffjg3N5fnL/VvUyAgKnls9dvs/17M7vpGHoOGsFgOYeVA8+xD8tOVq1KuPKQtVKyZ3fb+HnmDHG+O5jk0IfWt3LcJxS7IR6B/CDucJqQBjpJyRxA6+5sRbML/hQi9CeWrMKQmhvBa938VQn87sQWkvhGFqC/EZlkFRCIYUYwFSqjI6dWZD+hzHuIhih2Y2+1+5plnnnvuOXaGmjx58tq1azMyMg4cOPDYY48dPHjQ4XCwh+SUOY7jMjIyVq1adeutt8bExAy0Zo/HU1lZ+a9//euNN96or6+XT17+5y+e5xcuXPj000/n5+erVKrgG2y32z/66KM//elPxcXFrDdHPgWzs2pmZuZjjz32ox/96MiRIzNnzmTPMhgMX3311bRp00bimF2cLvW4gef5nJycuLi4+vp69ptNmzY9+OCDA4Ww7e3t5eXlnZ2doigihGw2W01NTXt7+0AhrCiKTU1Nhw4dYsurVKqA/ZfV1dWrV6/evHlzR0eH8tMik69oeDyejz766PTp0/fcc8+yZcsG+ihKkiQIAuqLfXt6ev7whz+8+OKLTqdTuU6EkMvl6urqkiSJ4ziHw/HSSy+98cYbVVVVyqBT+RS3211ZWbl58+bx48dfc801AXe5srLyT3/609tvv93b2+u/O+yuKIqCIKxdu3bfvn2rV69esGCBwWAIuC/gEhcwggk97ADgB4Ugb8UHghAlFFEqchKhLGMaUcFuO/2WKCJj7r0qQ+aF3tjwQAjp6Oj4+OOP//KXv9TX14uiqDzpsNuCIJSXlz/22GOnT59+5JFH0tMDZGs4nc6ioqLHH3+c9eAOdC5Gfeevzz777MyZM2+//fbYsWM5bsDKvg0NDa+99tqbb77Z3Nys3DZ2g51VT5069eijjx47dmzq1KnnfDwuIZd6CIsQ0ul0N9xww5///GeEEMa4pKSkpqbGYDAEfEc2NjbW1NQ4HA7Ud33/8OHDJ06cSEtLC7jy3t7eysrKpqYmtrzZbJ4/f77PMiUlJf/93/+9fft2OeAjhOTl5U2YMCEuLo7juLa2thMnTpSWlnZ3dyOE3G730aNHf/e73zkcjp/+9KeDRn5Op3PLli0vv/yyw+Fg26zT6bRaLQvEeZ7XaDTs6+CWLVvWr19/5swZeRvmzp2bm5ur0WhcLld1dfW333575MiRzs5Oh8PR29vr35YoiuXl5c8999zGjRsdDgdbT1ZWVkFBQX5+fmZmZn19fWVlZXFx8YkTJ1wul9vtPn78+LPPPksImT9/vl6vH/T1AiBgL5dM2U/pFVo/ntyphmm/PrzQn/iDaoIN7xrxJpS7EOBQh2ETQ3ohQm8iILZH/VILCEWIiggRijHFmFJOaPNUv+UgHpy9ijdkDb+xS0ZXV9ezzz773Xfftbe3S5KkUqkmTpyYmJhoMpmam5sPHz7c1NQkSZIkSXa7fd26dQaDYdWqVUlJST7raWtr27lzp9zlxPN8fHz8hAkT0tLSoqKi9Hp9dXV1WVlZUVERyzwUBOH48eMvv/zyM8884782prW19e233/773//e2Ngon9+Tk5PHjRtnMpmcTuexY8dOnz5NKa2vr3/99dd37Nhxvg/XxQRCWKRWq2+66SYWwrLvQ7t3787KygrYEdvQ0NDQ0MAybNhXqJMnT5aVlQXsj0QItbS07NmzR5IkjDEhxGKx+FwUEATht7/97bZt21j8ihDS6XTPP//8vHnzLBYLG2vl8XicTueRI0f++Mc/FhUVSZLEhmS9++67iYmJy5cvD7J3kiRVVFT8+te/7ujowBjr9foHH3zw9ttvp5S2t7d//fXXOp0uNjaWECJJ0l/+8peSkhL2MZs/f/4jjzwyadKkiIgIQgil1OVy9fT0HD9+fN26dV1dXZGRkf7NdXZ2bt68eePGjSzAValUs2bNeu6555KSkgwGg1qt9ng8Doejra3tz3/+8/r167u6ukRRPHr06IYNGzIzMwsKCqBeARhI6JfFlYYRcFA8hLaGF9BcBE0Maf2XchMMpogg33BZkUiNJIQ4hDiEVIRid5t45i0n8uhyHyG6jGE2eck4c+ZMVVUVOy+PGTPmoYcemjVrlslk4nme9ao8++yz27ZtE0URY9zR0fHhhx+OHj16xYoVPuvxeDxdXV2CIGi12gkTJvz4xz+eP3++yWTSarU8z3Mc53Q6XS7XV1999dhjjzU2NrKrnZs2bVq4cOGSJUv8u2BEUdy3b99nn31WU1PDEhv0ev2iRYtWrVqVmZnJ87wkSc3NzV988cXf/va3ysrK9vb2gwcPsp6m7+fQhTsIYREhJC0tLT09/cyZMwghj8ezbdu25cuX+4ewHo+npKSkra1N+cvu7u6KioqWlhar1eq/8ubm5j179iCEKKUGg2H27NnK0UuSJG3atGnLli1y/JqUlPSHP/zhqquuioyM9Anm4uPjMzMz/+d//ufDDz9kCTqnTp36/PPPJ0yYMGrUqIH2jlLa3d3d09ODEIqJiVm3bl1hYWFUVBRLSxg3bhxCyGQyIYTKysqamppY+kFUVNQdd9wxZ84c5dbq9Xqz2RwXFzdp0iRRFP0TYUVRPHXq1B//+Mfe3l6McURExJw5c9asWZOcnKwccWkymaxW6zPPPMPz/D/+8Y+Ojg6Px7N79+4TJ05kZ2frdLqB9gVcsuQgY6j5A+fSYQYG5VdUCgyDN90XY0qRhCjGEk8knnMJqOZ9F+Ejsn/O6QJf5QMMC14JIZdddtnzzz8/btw4nU4nn0BjY2NXr14tCML27dvZeba2tnbPnj0zZ87MyurXya3X69PS0saMGfPAAw8sXbrUZDKx4jmoLwWWXfNctmwZz/MPPvhgV1cXQqi7u3vLli0zZszwD2FtNtsXX3yxf/9+1q0bERFx5ZVXPvTQQ9OmTZPTZ+Pi4jIyMgoLC59++um9e/eywdMgRNDjhTDGUVFRl19+ObtLKT116lRDQwN7zyk5HI6SkpL29nblNyRJko4fP37ixAn/NTudzurq6pqaGvbuN5vNS5culR9llTXWr1/f2dnJfhMfH//iiy8uXLjQbDbLNTtkGo1m1KhRDz744BVXXMGe7nA4iouLDx06FGTvWKhKKU1MTHzhhRdmz55tsVgIIWw0VVRUVFRUFPuIHjp0iCUqIIRSU1OTk5P9awWwzYiLi0tMTPSPNdvb27/66qv6+nq2wYmJiU888UR6erpP3S6WWR8TE3PbbbdlZWWx6LaxsfHw4cPt7e1B9gUAAMLUAMUhMEIEIdL/uwBGlKcCJ/V20MaNUt2fhd5y6JYb1NKlS1966aUpU6YYjUblCTQiImLy5Mn3339/YWEhQohS2tvbe/LkyfLycp81WCyWn/zkJ5s2bbr99tuTk5NNJpNP8Sx2W6/XL168eOrUqawcgSiKpaWlATPrDhw4cOTIETYEhRAyZcqUlStXTpkyJSIiQt48nuejoqJmz579wgsvLFy4MEhOLfAHISzCGOt0ulmzZslf2urq6kpLS/2/DLW3t5eVlbE4LykpyWKxsN8fP3782LFj/mtubGzcvXs3q53B83xCQoIyU5uVSt22bRsLMTHGs2bNmjNnjslkGqikF8/zY8eOnT59OhvFRSltaGg4evRoa2tr8B00mUy33XbbTTfdFKSCFSvaym53dXWx77VDUldXt27dOrY7er1+2bJlU6dODVKebMKECYWFhXq9nlWrPXz4cHNz81AbBZcCQr0/jHLuJm89VHm6z0CpkxR5B4MrKVfi/ygLOEL56deEcv2KJgJuwJCb8Ns75S74PzqMJtgBHOgoBWgi5PWH2IT/o6Gv/3trYtC3E4tKKe73gxChlCBKsHT2h81Iy0mISIp3C6YUCxJxSpLb1d1oK1vfe/p1wdGAwMCuvfba1atXjx8/PmCVK7VaPWPGjGnTprFLjpIkNTQ0VFRUsGEtMo7joqOjs7Oz2WJBGI3GwsJCua2enh6n0+n/NWP37t3Hjx9nt1Uq1bRp0+bOnRuwlJBWq50yZcqvf/3rWbNmhbbHACEIYRmO4/Lz8xMSEli81dHRcfToUZavrXTy5EmWFY4Qmjlz5uTJk1lPZFtb2+nTp30SDBBCdXV1O3fuZLeNRuNll12m7LkURfHbb7+VOz5NJtMNN9wQHR0dvMRxZGTk1KlTs7Oz2d3u7u4zZ84ED2F5ns/Pz7///vuDfywzMzPl3ImGhobdu3c3NAzhj6bT6ayoqCgvL2fbbzKZ7rrrruA1XzUazejRo+WLL7W1tfLRACBE7NNy7j1U57qG839BPaQtvOSv64dXXyXu+27GUcxRjBFGlJWpFSUiiESSqCS5bUhwYDJI2aZLWUZGxn333Tdq1KggxRljY2PHjh0bGxvL7nZ2dtbX1/uEsKEjhKSmpsrNsTEePldubTbbmTNn5Kus6enp48ePDziGhNFoNJMmTQpSNh74gxAWIYQIITk5OXJajCiKx44d6+7u9vlSdfjw4ZaWFvbLyZMnz549Ozo6GiEkCEJFRUVlZaVyYZfLVVdXV1VVxUI6i8WyaNEi5QIshJXLdphMpqlTpwYp9SpvakZGRlZWFosO3W53a2tr8OvvkZGRP/nJTwYtm1xQUCAXN/B4PGvXrl2/fn1jY2PwZ8m6urqOHj3KupxZx7YcZweRkJAg73J9fT3L2QXAB+ugkn8AuDhgRW89lgiRCEaYYiRhKmEqEiSotDjuSk3qMi4icBFugBAym82pqanBi7OqVKr09PS4uDh2Ru7t7e3o6BjGxUaG5dTJ/U1sjLXPMjU1NayKFrs7ZsyYcePGBe+i0mq1GRkwem8IYDgXQghhjCMjIwsLC7/55huWP7B///7m5ub4+Hj5a5YoisXFxay/Mz09PScnR61Wp6Sk1NTUUEorKirKysomT54sr7Otre3o0aPs4gLLIsjPz1c2Korid999J0fJsbGxRqMxlPH4UVFRsbGxrNAVpbSzs5PNHTLQc1UqVUZGxqBrtlgs1157bW1tbVNTE6W0urr6lVdeOXLkyI9+9KOJEyfGxMRotdogH7/u7m45m4Ln+ejo6IqKiuD5WxzHKf+CdHZ2smQGKEoAALhEsCiWem97/8CyebxElT4i/ipt5v0qcyH0wgZBCBn0rMGKWprNZp7nWZGfnp4e/2ut/gRBcLvdoig6nU5JkuS5gdra2nym/vFx+vRpZWpccnLyQMU3ffZl0GWADEJYL2XI6okAABjmSURBVJ7n582b9/bbb7MxhrW1tWVlZcoLE6dOnaqurmbv+PHjx6empmq12uTkZJVK5fF4mpuby8vLu7u75Yv1yhkNTCbT5MmTfa4gsDBRvpuQkBBiHrdWqzUYDPI3TvZpDBL5hTiVMyHk1ltvPXPmzObNm1l1vTNnzrAaH2PGjJk8efLkyZPz8/NjYmICrs3pdLLytwghSZLKysp++tOfBg9hCSFdXV3ys0RRtNlsHo8HppwFwQ3aEavMU/SZRSnEZw1VKF3D8nxd58/30cT5z1WQ8PB3IsQ++vP9Wgfk3yYe4CGKKI6IVCfM12bcrYmeiblBZhQHodDpdHKFAVEUe3t7g/TCOhyOysrKqqqqmpqarq4uh8PR3Nzscrna2tpYCFtdXR1wCJesu7tbuYDJZBo0xRYMFYSwXoSQmTNnWiwWFsKy6rDz5s2Ts1f37dvX3NzMYrKJEyey6/JZWVmRkZGtra02m62ioqKxsZG9R91ud11dXUVFBfuWFhkZOW3aNJ80c0mSlJ+f0EPYiIgInU4nx9aCILDu2IGWDzjFSECZmZkPPvig1Wr95z//WVtbK0lSd3f30aNHKyoq9u3bl56ePnbs2KuuumrOnDn+FbU8Ho+cySqKYltbW1FRUSiNylQqlUajgfGYYFDBw4/hxa/oe0mjhCZ+IE1ckGyU0N+JJCJSlbhEk3m3Kmoi5mDCl5Gh0Wg0Go3c1+NyuQLGoA6H4+jRo59//vnRo0dra2vb29vdbrcgCCzbVT7biqLonzygZLPZ5FM8nN3OEwhhz7JYLDNmzKiurma1Ub/88sv//M//lGdw/fe//93S0sIWy8jIMJlMhJDMzEyLxdLa2srqZ9XV1eXm5iKEWETLllepVAkJCbm5uT69pGyiZLmIsV6vD6WvFPXNznw+LjdwHDd+/Hiz2Txx4sRNmzZt27aNJU7Y7Xa73V5XV3f06NFvvvnm2muvXb58OdtTGaX0XAraaTQaNhMYfMiBv+Hnv17yw5tA+OH0EfFXazLvVpknY26Q0REgdKyapHyeFQSBneuVurq6vv766zVr1hw9epRV5gk413ooPB6PHOOymRHOZeNBQBDC9rN06dL3339fEASMcUVFxZkzZ5KSklQqVXNzc1lZGfvGlpWVlZiYyN6RaWlpiYmJ5eXloijW19dXVFTMnDlTrVZ3dnaePn2adehqtdrc3Fz/JBgWg8qfjY6OjuCJNTK32+10OuXPnkql0mq1IxXR8jyfmZmZmJiYn5+/YMGC7du3f/fddw0NDb29vR6Pp62trb29vampyW6333PPPT4DtuRtUKlUY8eOfeCBB0JvV6VS5ebmjho1KsQ4Hlxa/OY08rmBFL2tyovpMPQLXAgUU4QQphh553+grPir6P9tjPa9Y70zHPDaiLj5moyVKvMkiF9HliiKbMAxu+ufYtfb27tr167nn3++uLiYRZ9qtTomJoaNBklISNDpdPLTDx48uGXLliA1DdiElOy2x+OBOQvOBwhh+7niiiuioqLYeCaPx7N9+/axY8dGR0cfO3aspaWFvafz8/MTExNZuJaRkZGRkbFv3z5RFBsbG0+dOmW323meb2pqKisr83g8rCbr6NGj/a+88zyv1WrlDwCbrS6Ujezt7e3s7JTz0LVaLesSHrGjgJBGoxk/fnxubu60adOOHz++f//+b7755vjx452dnZTS2traTZs2JScnr1y5Ui5iwCZKkNdgMBj+4z/+YwQ3CVzCsITPDnNR8p/d3j8Z9PuqYMACkCCN+YXY3i0b6CnKfIi+0mHnu4khbxJ7Spjv9Ug1QdnYLIrZwCzKI4QQFhDlkKRGiEPYhZBA+78jKUIiwRQhDkk8b1DFXaXJvEcVPQ3yX0dcb29vb2+v3DOq0WiUZS7ZrEavvfba/v37WXRrtVoXLVp05ZVX5ubmmkwms9mszAZcv3799u3bg4SwVqtVTn5l+X6CIAQp+wWGAY5mP7GxsZdddtnmzZtZgPjZZ5/dcccd0dHR+/fvZ4WrtFptdna2XL01KSkpKyvLYDA4nc7u7u7Kysrm5matVltdXX3q1CmEECHEarVOnDjR/yICxjguLo7NaosQampqCp5YI7Pb7XIIizE2Go1ms/l8dF5qtdqCgoK8vLzp06fPnj2bzYXb2NhIKa2qqtqzZ8/VV1+dk5MjL5yQkMBuC4IgD9ICYARQ7zc0b235vgrzNNBEBniA2+cZRVSOhOSNUgzXoYrb7PdUUkROtP/yPjm8ZIAmfKZ08mmCIqoM4UNogkoI+cRnftMABGhioL3AQ29C+YoOb6+HcWAlxV4M+8B6HyGUElb6jWLJO0+BRBFBiMMo0J9pjCSEJEy5CJMq7hptxk9U5qmYN/gvCM5RT09PT08PO8/yPG8wGJQhbGdnZ1FR0c6dO1l2X3R09J133nnHHXfk5eUFjDt1Ol3w0250dLTcxcPW39HREXAiejBsEML6WrZs2RdffMECxJMnT1ZVVVmt1tLS0p6eHkqp1WpNTU2V3/darTYrKyshIaG1tVUUxaqqqrKystjY2Orq6vr6eoQQz/NJSUkTJkzwb4gQUlBQUFVVxTJim5qaqqqqLBZL8G9plNLm5uaGhgaWJ67RaGJjY+V5ws4HlUqVlpYWHx9vsVhsNtsnn3zicDhY1dva2trs7Gx58mg5nGUz+DU2NsbHx5+/DQOXDIyp9xugN6ihvmO2fMJWTAPcPs/bSL3BFqJ9HZOBoit2m7Ih91jRqychdDZSRwj1K9rNfj/kJpTLI4SkwDFlvyYUXxHYJiGiiCmDNxF8kwZuYqC9Zk1/HweWbdK5HNi+hynCVCLUuwDBSMBIxJJIHAhxvCQqj6b8FA5JnEqvjl+kzbhXZZ4E/a/ngyAI9fX18tVUnU5nsViUhdgbGxv37dvH0gUxxvHx8ffee29mZmbAtYUySNpiscgT9yCEKioqTp8+PWgIG2JPFmCgApmvWbNmyZ2aDodj//795eXlDQ0NLKhNTExMSUmRZ7FCCI0ePVpOCa2qqjp27Fhzc3NpaSmbFtlgMIwaNSrgu5bjOLmOLCvvunPnzuBFOhBCLpfrxIkTFRUV7I1uNBpTU1PPawjLqNXqiRMnTp061Wg0st90dnbW1dXJH+OoqKhx48bJy9vt9k2bNp3vrQKXAkwxoYT9cBIhEiGUsDrw7Ifre0j+Icof2v/uD/Bn0C30LoDPoRV8zmsYdqOD7emAuz+8rcUhrDngAufcnEQIJZh6J0LGWMJIQhSJBLl5l4t3iEQMdNGA8pxWY52nS/8PlXkyxK/DUF9ff/z4cXbOHUhPT8/JkyflKSejoqISExOVvbBdXV1VVVXsdkRERFpa2kDxKzNoCBsbG6uspHny5El5stmBtLe3f/zxx8GXAUrQC+vLarUWFhayCnCU0n379kVHRzc0NHg8Ho7jMjIy4uLilB2lGRkZOTk5ERERbre7ra2trKzsyJEjBw8eZI/GxcXNmTMnYEMcx02fPl2n09ntdoSQw+H46quvFi1alJeXF2ToYnV19TfffFNTU4MQwhgnJiaOHj36+6k2p9frLRaLMj9d+SdDo9FkZmampqayYrc9PT3vvPPOkiVLkpOTv4dtAxcvTHg1r4lDfaXdvbPV+xXMUmYz9uuUpd9POgH1NjZ4IoH8ezrk5UNtQr4RFk0EuWo/pE1CF/TAen/P5taiCHESQu42JNooxaKi69kXb1DFXqHNvDfCPAXGbw1PfX39mjVrzGbzzJkzlVGpjFJaWVl55MgRlhCIMU5ISMjKylL2RlFK5R5QjuOUD/mz2+1VVVX+BQ2UIiMjc3NzrVYrq03U2Nh45MiRpqamuLg4/4UlSWppaXnvvffeeeedEPYYeEEI64vn+fnz52/fvp2FsEeOHImIiGhoaBBFUa/X5+fn+3R5mkymUaNGJScnV1RUCIJw8uRJj8dTVlbGVpWamjp9+vSADRFCxo0bN2HChG+++YYN5Dp48OA///nPO++8My0tLWAU29zc/Mknn+zZs4d11mq12okTJ06ZMiX4xHqhkCTp22+/1Wq1mZmZBoMhYIqP3W5vb2+XC90ZDAblNAcsnr7++utffvllhJAgCMePH1+7du1dd92VlJQUvPXe3t6enh6WmQQVCYASxkRlTCOjHqT47Jv8bPGB/m+WgDkDgwzUGUG++Zf9Hjh7W/nggAOPBsjdHGoTw9mk76GJ87zX30MTAy6PJIxFjDFFHHW7qzegjkNE4rwlCqjkszxWmVTxCzSZ/6GyTMM81H8dDpa6+vXXX0dERHR2ds6bNy8qKsrnPFJeXv7hhx8eOnSIlQXQaDSjR49WTl2EEDIYDPKpyuVysYkqA4ab7e3tn3322ZYtW4L3+2KMr7jiih07dmzfvp1S6na79+3bt3Xr1qVLl/rMcyQIQl1d3YcffrhmzRoYRjIkEML6IoQUFhayvE9Jkurr64uKijo6OhBCer0+Ly/PbDb7PGXs2LFjx46tqKhACJWUlFRVVdlsNtR3bX2g3BeMcXR09PLly0+cOMFG+re0tLz11ltOp/P222/Py8tTDn50Op0lJSVbt25dv359eXk5++Xo0aMXLVoU/GJHiGw221/+8hdBEGbNmjVjxozc3Fyf77IOh+Pf//73nj172PwFbMrc9PR05V8Kq9V6/fXXb926taSkhFJqt9tff/11p9O5YsUKnyKyjCiKra2tlZWVxcXFDQ0NixYtmjBhAkzNBfrBhNMlk+z74bsNCBeU/SM6PR0HSPshDkscZSm6/WDeEJGwWJN5j8oC+a/DJ5dX37JlS3t7e11d3cKFCzMzM9kJVBTFioqKd9999x//+Ic8HWZqaurMmTN9Kl2azWZ5OIcoimfOnFm/fv0999yjzGdlQ5nfe++9devWHT9+fNC81YKCgkmTJh08eLCzs1OSpGPHjr377rtGo3HevHlySl5PT8+RI0c+/fTTf/3rX6dPn8YYsylwR+r4XNwghA0gNTU1Jyenvr7e7XY7HA6n08myXuLj4xMTE/1jrOzsbHb1XxTFzs5OVg4WIZSUlHT55ZcHaUilUi1duvTLL79kA8gopTU1NX/961+bm5unTp2akpJiNpsppe3t7TU1NTt37ty7d29jYyP72CQlJd1www1z584dkSIdnZ2dhw4dKi0tLSoqmjVr1syZM/Py8qKjo6OiolwuV1dXV2lp6ccff1xUVOR0OlkthSlTpvj8CVCpVGPGjFmxYsXvfve7zs5ONr7tlVdeaWhomDp1akJCgsVisVqtPT09giC0t7c3NDScPn368OHDBw8e7O3tTU5Ozs/PhxAW+MCEYAIXWEHYkLMTKOYxpYRKERKVMMGIUMwiXIo5rSruKm32/XzURMzBH73hI4QkJSV1d3f39PR8++23dXV1x44dmz59utlsZnOY7927d8uWLbW1tew8rtVq58yZc8UVV/h000RFRbGrrO3t7RjjlpaW1157jeO4wsLCxMREjuO6u7tPnz799ddfb9iwoa2tjc0xxKYoGmjbjEbj1KlTd+zYsX//fkqpw+HYu3evIAhVVVXZ2dkqlcrhcJSXl+/YsWPXrl2dnZ1qtTorK0utVh86dOi8H7iLAoSwAcTExBQUFOzbt48N4ZLfoIWFhQG7VE0mU3p6ekxMDLsEwJbneT45OXnSpElBGsIYp6amPvDAA11dXQcOHGBJsd3d3W+//faGDRsyMjISExNZHdaamhq5/hxb87Jly2644Ybo6OgR2WWO49RqtSiKtbW1GzZs+OSTT/Ly8lJSUhISEux2e2Nj48mTJ+UE3MjIyLlz51577bU+HdIYY4vFcu211548efKzzz5jWUddXV1vvPHGG2+8kZeXl5ycnJGR0dLSIk/Aa7fb5T8rI7IjAADwA4H7ao4RSigiEsIUUYIp4bWq6NnanFV81HiIX88RIeTqq6/2eDxbt25tamqqra19/fXX33///cjISI7j2traenp65Bm2dDrdrFmzbr75ZrnDVWYwGKZPn37ddde99957drtdkqTTp08/9thj06ZNGz16NMdxLS0t+/btY1dBIyMjCwoKGhoa5Ok8A+J5furUqfPmzauvr29oaJAkyW63b9++/cCBA0lJSVqttru7u66uzuFwEEKMRuPEiROXL19eXFwMIWyIIIQNQK1WT5kyZePGjTabTY5fCSEzZswIWCUKYzxq1KgxY8Yos1iioqLGjBkTSoi5cOFCSumbb7558ODB2tpa1h3rdDpPnjx58uRJ5ZKEELPZnJ2dvXTp0ptvvjkrK+vcdvQsi8Uyc+bM7u7umpoal8tls9kOHDhw4MABn93UarXx8fHTpk1bsWJFwEphPM/n5eX94he/0Ov1O3bsqKurs9ls7CpPaWlpaWmpz/IYY5VKZbFY8vPz09PTlbkTAAAQ7ihGFPFYIpgQEVNMRES0EdbLddkPqyxTIH/g3EmSNGbMmAULFlit1i+++KKsrMzpdHZ0dLD0PxnP87GxsVOmTLnvvvuuuOKKgKvKyspatWpVZ2fnvn37WPmtnp6er7766quvvpKXiYiISElJmTNnzvXXX//66683NDSwEHagTKfU1NRbb71VEITNmzdXVVWx9Nnu7m6WkseoVKrk5OTp06fffPPN06dP/+677879sFwiuKeeeupCb8MPkV6vP3nypCAIbE6OqKiovLy8lStXBkw8ZckrLS0tTU1NbPno6OjCwkL2VS+UHL7s7GxWe4vn+YiICBbziaLIAmi1Wh0ZGZmUlDRmzJj58+ffcccd1113XUpKSpAVtra2FhUVsVkPUlJSbrjhBnnegYBUKlV6enp0dLRGo1Gr1WyuL7YBKpXKYDBYLJaUlJRp06bddNNNt9566+TJkwcaQ8ZxXGxs7IQJE+Lj4zUajUqlUqlUhBDlzH4mk8loNMb///bupyeqKwzg8NwZroHgzCDSQQV1TIDSIqRTRBYUE5OWjQsWboy6suon6KJp0mWb9Ju478q4JbIwRIwNMi4MitYYTLSGfwJ3poubmKYKtGZMc+rzfIK7O7+ZvOc9Bw6Uy+VKpTIxMXH+/PmRkZHtbpIBBKa+tfn7r8kfv9UzuUwmV4+ieraWbWpu6fxmb993cbv3t95frVabn5+/f/9+sVgslUoTExNjY2PDw8OlUik9ZaIo2tjYqNVqcRzn8/nu7u6hoaHJyckrV66Mjo5u919J+idRf39/Ov+aHn9JkiRJksvl9u/fXy6XR0dHL168eOnSpaGhoZmZmRcvXqQ70c+cOVMqld75TGZnZ2dPT0/6emUURbVaLUmS9NsKhUJXV9eJEyfOnj17+fLl8fHx9Dr4gwcP2tvbOzs7L1y44DWEHUS77jb7aE1NTc3Pz6ezBEmSpHPZ262v2tzcrFart2/ffvXqVVq0x44dO3ny5N8uHu5sfX09neOZnZ1dXFx8/vx5+vOura3t4MGD/f39lUqlXC4XCoVd51+XlpauX7/+8uXLbDZbLBYnJyf/+kzIdtbW1p49ezY3N3fnzp2HDx8uLS29fv067ddDhw719vYODg6Wy+V3bi15W/robrVavXv37qNHjxYWFt5sMzhy5EihUEgX7/X29nZ0dLS2tu6wSgwgLPVkfeXW1bXFa7VMUz2TrUeZelPUfODr/Kc/xsXBN0vieA9pwk5NTW1tbbW0tJw+ffrw4cO5XG5ra2txcXF6evrevXvVanV1dbW1tbVUKg0MDIyMjPT09OTz+V0fY6/VasvLy9Vq9ebNm0+fPn38+HE6pdrX15cuR+/q6orjuF6vT09Pz83NbW5udnd3nzp1aufjfmVlZWFhYWZmZnZ29smTJ6urq+mTlgMDA2NjY0ePHk3P6DRhb9y4Ecdxc3PzuXPn/uGB+3GSsADQaMn6yq2rq4vXksyeTCYb5Zriji/zx3+O91UykX6FBjALCwAfUJRrjtuH9372Q9z2hX6FRpGwAPChRLnm+JOvWj//Pt5XMT8ADSRhAeDDyMZxx3h+6KemQl8UGfeHRpKwANBg9UymlouzxeP5yi/x3p5MtMstIuDfkrAA0GhRNlccyh/7Ns73vvW4LNAANhIAQMPVk43l3J78f/0Z8L8lYQEACIzpHAAAAiNhAQAIjIQFACAwEhYAgMBIWAAAAiNhAQAIjIQFACAwEhYAgMBIWAAAAiNhAQAIjIQFACAwEhYAgMBIWAAAAiNhAQAIjIQFACAwEhYAgMBIWAAAAiNhAQAIjIQFACAwEhYAgMBIWAAAAiNhAQAIjIQFACAwEhYAgMBIWAAAAiNhAQAIjIQFACAwEhYAgMBIWAAAAiNhAQAIjIQFACAwEhYAgMBIWAAAAiNhAQAIjIQFACAwEhYAgMBIWAAAAiNhAQAIjIQFACAwEhYAgMBIWAAAAiNhAQAIjIQFACAwEhYAgMBIWAAAAiNhAQAIjIQFACAwEhYAgMBIWAAAAiNhAQAIjIQFACAwEhYAgMBIWAAAAiNhAQAIjIQFACAwEhYAgMBIWAAAAiNhAQAIjIQFACAwfwIsdMv8WxL1zAAAAABJRU5ErkJggg==)\n",
        "  \n",
        "  "
      ],
      "metadata": {
        "id": "3AognoWWEEig"
      },
      "id": "3AognoWWEEig"
    },
    {
      "cell_type": "code",
      "execution_count": 51,
      "id": "76650540",
      "metadata": {
        "id": "76650540"
      },
      "outputs": [],
      "source": [
        "lmt = WordNetLemmatizer()                                                        ## Creating WordNetLemmatizer() object"
      ]
    },
    {
      "cell_type": "code",
      "source": [
        "def lemmatizing(news):                                                           ## defining a lemmatizer function\n",
        "  \"\"\"This function will lemmatize each word in news.\"\"\"\n",
        "  text = [lmt.lemmatize(word) for word in news.split()]\n",
        "  return text"
      ],
      "metadata": {
        "id": "yzw2G0837Ivh"
      },
      "id": "yzw2G0837Ivh",
      "execution_count": 52,
      "outputs": []
    },
    {
      "cell_type": "code",
      "source": [
        "df['lemmatized_tokens(no_sw)'] = df['news_without_stopwords'].apply(lemmatizing)"
      ],
      "metadata": {
        "id": "YGLfWgst7Ii3"
      },
      "id": "YGLfWgst7Ii3",
      "execution_count": 53,
      "outputs": []
    },
    {
      "cell_type": "code",
      "source": [
        "df.head()"
      ],
      "metadata": {
        "colab": {
          "base_uri": "https://localhost:8080/",
          "height": 337
        },
        "id": "TIB1cbdk7IX9",
        "outputId": "866961cd-2560-4831-ee44-6b2d947ebfe8"
      },
      "id": "TIB1cbdk7IX9",
      "execution_count": 54,
      "outputs": [
        {
          "output_type": "execute_result",
          "data": {
            "text/plain": [
              "                                           News_text News_Theme  \\\n",
              "0  ad sales boost time warner profit quarterly pr...   business   \n",
              "1  dollar gains on greenspan speech the dollar ha...   business   \n",
              "2  yukos unit buyer faces loan claim the owners o...   business   \n",
              "3  high fuel prices hit ba profits british airway...   business   \n",
              "4  pernod takeover talk lifts domecq shares in uk...   business   \n",
              "\n",
              "                                              Tokens  \\\n",
              "0  [ad, sales, boost, time, warner, profit, quart...   \n",
              "1  [dollar, gains, on, greenspan, speech, the, do...   \n",
              "2  [yukos, unit, buyer, faces, loan, claim, the, ...   \n",
              "3  [high, fuel, prices, hit, ba, profits, british...   \n",
              "4  [pernod, takeover, talk, lifts, domecq, shares...   \n",
              "\n",
              "                          Tokens(without stop words)  \\\n",
              "0  [ad, sales, boost, time, warner, profit, quart...   \n",
              "1  [dollar, gains, greenspan, speech, dollar, hit...   \n",
              "2  [yukos, unit, buyer, faces, loan, claim, owner...   \n",
              "3  [high, fuel, prices, hit, ba, profits, british...   \n",
              "4  [pernod, takeover, talk, lifts, domecq, shares...   \n",
              "\n",
              "                              news_without_stopwords  \\\n",
              "0  ad sales boost time warner profit quarterly pr...   \n",
              "1  dollar gains greenspan speech dollar hit highe...   \n",
              "2  yukos unit buyer faces loan claim owners embat...   \n",
              "3  high fuel prices hit ba profits british airway...   \n",
              "4  pernod takeover talk lifts domecq shares uk dr...   \n",
              "\n",
              "                            lemmatized_tokens(no_sw)  \n",
              "0  [ad, sale, boost, time, warner, profit, quarte...  \n",
              "1  [dollar, gain, greenspan, speech, dollar, hit,...  \n",
              "2  [yukos, unit, buyer, face, loan, claim, owner,...  \n",
              "3  [high, fuel, price, hit, ba, profit, british, ...  \n",
              "4  [pernod, takeover, talk, lift, domecq, share, ...  "
            ],
            "text/html": [
              "\n",
              "  <div id=\"df-0b76e512-a2d1-4236-a914-2e59404ba7a0\">\n",
              "    <div class=\"colab-df-container\">\n",
              "      <div>\n",
              "<style scoped>\n",
              "    .dataframe tbody tr th:only-of-type {\n",
              "        vertical-align: middle;\n",
              "    }\n",
              "\n",
              "    .dataframe tbody tr th {\n",
              "        vertical-align: top;\n",
              "    }\n",
              "\n",
              "    .dataframe thead th {\n",
              "        text-align: right;\n",
              "    }\n",
              "</style>\n",
              "<table border=\"1\" class=\"dataframe\">\n",
              "  <thead>\n",
              "    <tr style=\"text-align: right;\">\n",
              "      <th></th>\n",
              "      <th>News_text</th>\n",
              "      <th>News_Theme</th>\n",
              "      <th>Tokens</th>\n",
              "      <th>Tokens(without stop words)</th>\n",
              "      <th>news_without_stopwords</th>\n",
              "      <th>lemmatized_tokens(no_sw)</th>\n",
              "    </tr>\n",
              "  </thead>\n",
              "  <tbody>\n",
              "    <tr>\n",
              "      <th>0</th>\n",
              "      <td>ad sales boost time warner profit quarterly pr...</td>\n",
              "      <td>business</td>\n",
              "      <td>[ad, sales, boost, time, warner, profit, quart...</td>\n",
              "      <td>[ad, sales, boost, time, warner, profit, quart...</td>\n",
              "      <td>ad sales boost time warner profit quarterly pr...</td>\n",
              "      <td>[ad, sale, boost, time, warner, profit, quarte...</td>\n",
              "    </tr>\n",
              "    <tr>\n",
              "      <th>1</th>\n",
              "      <td>dollar gains on greenspan speech the dollar ha...</td>\n",
              "      <td>business</td>\n",
              "      <td>[dollar, gains, on, greenspan, speech, the, do...</td>\n",
              "      <td>[dollar, gains, greenspan, speech, dollar, hit...</td>\n",
              "      <td>dollar gains greenspan speech dollar hit highe...</td>\n",
              "      <td>[dollar, gain, greenspan, speech, dollar, hit,...</td>\n",
              "    </tr>\n",
              "    <tr>\n",
              "      <th>2</th>\n",
              "      <td>yukos unit buyer faces loan claim the owners o...</td>\n",
              "      <td>business</td>\n",
              "      <td>[yukos, unit, buyer, faces, loan, claim, the, ...</td>\n",
              "      <td>[yukos, unit, buyer, faces, loan, claim, owner...</td>\n",
              "      <td>yukos unit buyer faces loan claim owners embat...</td>\n",
              "      <td>[yukos, unit, buyer, face, loan, claim, owner,...</td>\n",
              "    </tr>\n",
              "    <tr>\n",
              "      <th>3</th>\n",
              "      <td>high fuel prices hit ba profits british airway...</td>\n",
              "      <td>business</td>\n",
              "      <td>[high, fuel, prices, hit, ba, profits, british...</td>\n",
              "      <td>[high, fuel, prices, hit, ba, profits, british...</td>\n",
              "      <td>high fuel prices hit ba profits british airway...</td>\n",
              "      <td>[high, fuel, price, hit, ba, profit, british, ...</td>\n",
              "    </tr>\n",
              "    <tr>\n",
              "      <th>4</th>\n",
              "      <td>pernod takeover talk lifts domecq shares in uk...</td>\n",
              "      <td>business</td>\n",
              "      <td>[pernod, takeover, talk, lifts, domecq, shares...</td>\n",
              "      <td>[pernod, takeover, talk, lifts, domecq, shares...</td>\n",
              "      <td>pernod takeover talk lifts domecq shares uk dr...</td>\n",
              "      <td>[pernod, takeover, talk, lift, domecq, share, ...</td>\n",
              "    </tr>\n",
              "  </tbody>\n",
              "</table>\n",
              "</div>\n",
              "      <button class=\"colab-df-convert\" onclick=\"convertToInteractive('df-0b76e512-a2d1-4236-a914-2e59404ba7a0')\"\n",
              "              title=\"Convert this dataframe to an interactive table.\"\n",
              "              style=\"display:none;\">\n",
              "        \n",
              "  <svg xmlns=\"http://www.w3.org/2000/svg\" height=\"24px\"viewBox=\"0 0 24 24\"\n",
              "       width=\"24px\">\n",
              "    <path d=\"M0 0h24v24H0V0z\" fill=\"none\"/>\n",
              "    <path d=\"M18.56 5.44l.94 2.06.94-2.06 2.06-.94-2.06-.94-.94-2.06-.94 2.06-2.06.94zm-11 1L8.5 8.5l.94-2.06 2.06-.94-2.06-.94L8.5 2.5l-.94 2.06-2.06.94zm10 10l.94 2.06.94-2.06 2.06-.94-2.06-.94-.94-2.06-.94 2.06-2.06.94z\"/><path d=\"M17.41 7.96l-1.37-1.37c-.4-.4-.92-.59-1.43-.59-.52 0-1.04.2-1.43.59L10.3 9.45l-7.72 7.72c-.78.78-.78 2.05 0 2.83L4 21.41c.39.39.9.59 1.41.59.51 0 1.02-.2 1.41-.59l7.78-7.78 2.81-2.81c.8-.78.8-2.07 0-2.86zM5.41 20L4 18.59l7.72-7.72 1.47 1.35L5.41 20z\"/>\n",
              "  </svg>\n",
              "      </button>\n",
              "      \n",
              "  <style>\n",
              "    .colab-df-container {\n",
              "      display:flex;\n",
              "      flex-wrap:wrap;\n",
              "      gap: 12px;\n",
              "    }\n",
              "\n",
              "    .colab-df-convert {\n",
              "      background-color: #E8F0FE;\n",
              "      border: none;\n",
              "      border-radius: 50%;\n",
              "      cursor: pointer;\n",
              "      display: none;\n",
              "      fill: #1967D2;\n",
              "      height: 32px;\n",
              "      padding: 0 0 0 0;\n",
              "      width: 32px;\n",
              "    }\n",
              "\n",
              "    .colab-df-convert:hover {\n",
              "      background-color: #E2EBFA;\n",
              "      box-shadow: 0px 1px 2px rgba(60, 64, 67, 0.3), 0px 1px 3px 1px rgba(60, 64, 67, 0.15);\n",
              "      fill: #174EA6;\n",
              "    }\n",
              "\n",
              "    [theme=dark] .colab-df-convert {\n",
              "      background-color: #3B4455;\n",
              "      fill: #D2E3FC;\n",
              "    }\n",
              "\n",
              "    [theme=dark] .colab-df-convert:hover {\n",
              "      background-color: #434B5C;\n",
              "      box-shadow: 0px 1px 3px 1px rgba(0, 0, 0, 0.15);\n",
              "      filter: drop-shadow(0px 1px 2px rgba(0, 0, 0, 0.3));\n",
              "      fill: #FFFFFF;\n",
              "    }\n",
              "  </style>\n",
              "\n",
              "      <script>\n",
              "        const buttonEl =\n",
              "          document.querySelector('#df-0b76e512-a2d1-4236-a914-2e59404ba7a0 button.colab-df-convert');\n",
              "        buttonEl.style.display =\n",
              "          google.colab.kernel.accessAllowed ? 'block' : 'none';\n",
              "\n",
              "        async function convertToInteractive(key) {\n",
              "          const element = document.querySelector('#df-0b76e512-a2d1-4236-a914-2e59404ba7a0');\n",
              "          const dataTable =\n",
              "            await google.colab.kernel.invokeFunction('convertToInteractive',\n",
              "                                                     [key], {});\n",
              "          if (!dataTable) return;\n",
              "\n",
              "          const docLinkHtml = 'Like what you see? Visit the ' +\n",
              "            '<a target=\"_blank\" href=https://colab.research.google.com/notebooks/data_table.ipynb>data table notebook</a>'\n",
              "            + ' to learn more about interactive tables.';\n",
              "          element.innerHTML = '';\n",
              "          dataTable['output_type'] = 'display_data';\n",
              "          await google.colab.output.renderOutput(dataTable, element);\n",
              "          const docLink = document.createElement('div');\n",
              "          docLink.innerHTML = docLinkHtml;\n",
              "          element.appendChild(docLink);\n",
              "        }\n",
              "      </script>\n",
              "    </div>\n",
              "  </div>\n",
              "  "
            ]
          },
          "metadata": {},
          "execution_count": 54
        }
      ]
    },
    {
      "cell_type": "code",
      "source": [
        "df['clean_news'] = [' '.join(word) for word in df['lemmatized_tokens(no_sw)']]   ## Final clean news."
      ],
      "metadata": {
        "id": "XbXczlHVLA3e"
      },
      "id": "XbXczlHVLA3e",
      "execution_count": 55,
      "outputs": []
    },
    {
      "cell_type": "code",
      "source": [
        "df.head()"
      ],
      "metadata": {
        "colab": {
          "base_uri": "https://localhost:8080/",
          "height": 372
        },
        "id": "NcJesSSCLWfI",
        "outputId": "2c8ba606-ea62-450b-cf88-54980a3f698f"
      },
      "id": "NcJesSSCLWfI",
      "execution_count": 56,
      "outputs": [
        {
          "output_type": "execute_result",
          "data": {
            "text/plain": [
              "                                           News_text News_Theme  \\\n",
              "0  ad sales boost time warner profit quarterly pr...   business   \n",
              "1  dollar gains on greenspan speech the dollar ha...   business   \n",
              "2  yukos unit buyer faces loan claim the owners o...   business   \n",
              "3  high fuel prices hit ba profits british airway...   business   \n",
              "4  pernod takeover talk lifts domecq shares in uk...   business   \n",
              "\n",
              "                                              Tokens  \\\n",
              "0  [ad, sales, boost, time, warner, profit, quart...   \n",
              "1  [dollar, gains, on, greenspan, speech, the, do...   \n",
              "2  [yukos, unit, buyer, faces, loan, claim, the, ...   \n",
              "3  [high, fuel, prices, hit, ba, profits, british...   \n",
              "4  [pernod, takeover, talk, lifts, domecq, shares...   \n",
              "\n",
              "                          Tokens(without stop words)  \\\n",
              "0  [ad, sales, boost, time, warner, profit, quart...   \n",
              "1  [dollar, gains, greenspan, speech, dollar, hit...   \n",
              "2  [yukos, unit, buyer, faces, loan, claim, owner...   \n",
              "3  [high, fuel, prices, hit, ba, profits, british...   \n",
              "4  [pernod, takeover, talk, lifts, domecq, shares...   \n",
              "\n",
              "                              news_without_stopwords  \\\n",
              "0  ad sales boost time warner profit quarterly pr...   \n",
              "1  dollar gains greenspan speech dollar hit highe...   \n",
              "2  yukos unit buyer faces loan claim owners embat...   \n",
              "3  high fuel prices hit ba profits british airway...   \n",
              "4  pernod takeover talk lifts domecq shares uk dr...   \n",
              "\n",
              "                            lemmatized_tokens(no_sw)  \\\n",
              "0  [ad, sale, boost, time, warner, profit, quarte...   \n",
              "1  [dollar, gain, greenspan, speech, dollar, hit,...   \n",
              "2  [yukos, unit, buyer, face, loan, claim, owner,...   \n",
              "3  [high, fuel, price, hit, ba, profit, british, ...   \n",
              "4  [pernod, takeover, talk, lift, domecq, share, ...   \n",
              "\n",
              "                                          clean_news  \n",
              "0  ad sale boost time warner profit quarterly pro...  \n",
              "1  dollar gain greenspan speech dollar hit highes...  \n",
              "2  yukos unit buyer face loan claim owner embattl...  \n",
              "3  high fuel price hit ba profit british airway b...  \n",
              "4  pernod takeover talk lift domecq share uk drin...  "
            ],
            "text/html": [
              "\n",
              "  <div id=\"df-f81bbc66-f884-4906-9760-f8d8c2db94d7\">\n",
              "    <div class=\"colab-df-container\">\n",
              "      <div>\n",
              "<style scoped>\n",
              "    .dataframe tbody tr th:only-of-type {\n",
              "        vertical-align: middle;\n",
              "    }\n",
              "\n",
              "    .dataframe tbody tr th {\n",
              "        vertical-align: top;\n",
              "    }\n",
              "\n",
              "    .dataframe thead th {\n",
              "        text-align: right;\n",
              "    }\n",
              "</style>\n",
              "<table border=\"1\" class=\"dataframe\">\n",
              "  <thead>\n",
              "    <tr style=\"text-align: right;\">\n",
              "      <th></th>\n",
              "      <th>News_text</th>\n",
              "      <th>News_Theme</th>\n",
              "      <th>Tokens</th>\n",
              "      <th>Tokens(without stop words)</th>\n",
              "      <th>news_without_stopwords</th>\n",
              "      <th>lemmatized_tokens(no_sw)</th>\n",
              "      <th>clean_news</th>\n",
              "    </tr>\n",
              "  </thead>\n",
              "  <tbody>\n",
              "    <tr>\n",
              "      <th>0</th>\n",
              "      <td>ad sales boost time warner profit quarterly pr...</td>\n",
              "      <td>business</td>\n",
              "      <td>[ad, sales, boost, time, warner, profit, quart...</td>\n",
              "      <td>[ad, sales, boost, time, warner, profit, quart...</td>\n",
              "      <td>ad sales boost time warner profit quarterly pr...</td>\n",
              "      <td>[ad, sale, boost, time, warner, profit, quarte...</td>\n",
              "      <td>ad sale boost time warner profit quarterly pro...</td>\n",
              "    </tr>\n",
              "    <tr>\n",
              "      <th>1</th>\n",
              "      <td>dollar gains on greenspan speech the dollar ha...</td>\n",
              "      <td>business</td>\n",
              "      <td>[dollar, gains, on, greenspan, speech, the, do...</td>\n",
              "      <td>[dollar, gains, greenspan, speech, dollar, hit...</td>\n",
              "      <td>dollar gains greenspan speech dollar hit highe...</td>\n",
              "      <td>[dollar, gain, greenspan, speech, dollar, hit,...</td>\n",
              "      <td>dollar gain greenspan speech dollar hit highes...</td>\n",
              "    </tr>\n",
              "    <tr>\n",
              "      <th>2</th>\n",
              "      <td>yukos unit buyer faces loan claim the owners o...</td>\n",
              "      <td>business</td>\n",
              "      <td>[yukos, unit, buyer, faces, loan, claim, the, ...</td>\n",
              "      <td>[yukos, unit, buyer, faces, loan, claim, owner...</td>\n",
              "      <td>yukos unit buyer faces loan claim owners embat...</td>\n",
              "      <td>[yukos, unit, buyer, face, loan, claim, owner,...</td>\n",
              "      <td>yukos unit buyer face loan claim owner embattl...</td>\n",
              "    </tr>\n",
              "    <tr>\n",
              "      <th>3</th>\n",
              "      <td>high fuel prices hit ba profits british airway...</td>\n",
              "      <td>business</td>\n",
              "      <td>[high, fuel, prices, hit, ba, profits, british...</td>\n",
              "      <td>[high, fuel, prices, hit, ba, profits, british...</td>\n",
              "      <td>high fuel prices hit ba profits british airway...</td>\n",
              "      <td>[high, fuel, price, hit, ba, profit, british, ...</td>\n",
              "      <td>high fuel price hit ba profit british airway b...</td>\n",
              "    </tr>\n",
              "    <tr>\n",
              "      <th>4</th>\n",
              "      <td>pernod takeover talk lifts domecq shares in uk...</td>\n",
              "      <td>business</td>\n",
              "      <td>[pernod, takeover, talk, lifts, domecq, shares...</td>\n",
              "      <td>[pernod, takeover, talk, lifts, domecq, shares...</td>\n",
              "      <td>pernod takeover talk lifts domecq shares uk dr...</td>\n",
              "      <td>[pernod, takeover, talk, lift, domecq, share, ...</td>\n",
              "      <td>pernod takeover talk lift domecq share uk drin...</td>\n",
              "    </tr>\n",
              "  </tbody>\n",
              "</table>\n",
              "</div>\n",
              "      <button class=\"colab-df-convert\" onclick=\"convertToInteractive('df-f81bbc66-f884-4906-9760-f8d8c2db94d7')\"\n",
              "              title=\"Convert this dataframe to an interactive table.\"\n",
              "              style=\"display:none;\">\n",
              "        \n",
              "  <svg xmlns=\"http://www.w3.org/2000/svg\" height=\"24px\"viewBox=\"0 0 24 24\"\n",
              "       width=\"24px\">\n",
              "    <path d=\"M0 0h24v24H0V0z\" fill=\"none\"/>\n",
              "    <path d=\"M18.56 5.44l.94 2.06.94-2.06 2.06-.94-2.06-.94-.94-2.06-.94 2.06-2.06.94zm-11 1L8.5 8.5l.94-2.06 2.06-.94-2.06-.94L8.5 2.5l-.94 2.06-2.06.94zm10 10l.94 2.06.94-2.06 2.06-.94-2.06-.94-.94-2.06-.94 2.06-2.06.94z\"/><path d=\"M17.41 7.96l-1.37-1.37c-.4-.4-.92-.59-1.43-.59-.52 0-1.04.2-1.43.59L10.3 9.45l-7.72 7.72c-.78.78-.78 2.05 0 2.83L4 21.41c.39.39.9.59 1.41.59.51 0 1.02-.2 1.41-.59l7.78-7.78 2.81-2.81c.8-.78.8-2.07 0-2.86zM5.41 20L4 18.59l7.72-7.72 1.47 1.35L5.41 20z\"/>\n",
              "  </svg>\n",
              "      </button>\n",
              "      \n",
              "  <style>\n",
              "    .colab-df-container {\n",
              "      display:flex;\n",
              "      flex-wrap:wrap;\n",
              "      gap: 12px;\n",
              "    }\n",
              "\n",
              "    .colab-df-convert {\n",
              "      background-color: #E8F0FE;\n",
              "      border: none;\n",
              "      border-radius: 50%;\n",
              "      cursor: pointer;\n",
              "      display: none;\n",
              "      fill: #1967D2;\n",
              "      height: 32px;\n",
              "      padding: 0 0 0 0;\n",
              "      width: 32px;\n",
              "    }\n",
              "\n",
              "    .colab-df-convert:hover {\n",
              "      background-color: #E2EBFA;\n",
              "      box-shadow: 0px 1px 2px rgba(60, 64, 67, 0.3), 0px 1px 3px 1px rgba(60, 64, 67, 0.15);\n",
              "      fill: #174EA6;\n",
              "    }\n",
              "\n",
              "    [theme=dark] .colab-df-convert {\n",
              "      background-color: #3B4455;\n",
              "      fill: #D2E3FC;\n",
              "    }\n",
              "\n",
              "    [theme=dark] .colab-df-convert:hover {\n",
              "      background-color: #434B5C;\n",
              "      box-shadow: 0px 1px 3px 1px rgba(0, 0, 0, 0.15);\n",
              "      filter: drop-shadow(0px 1px 2px rgba(0, 0, 0, 0.3));\n",
              "      fill: #FFFFFF;\n",
              "    }\n",
              "  </style>\n",
              "\n",
              "      <script>\n",
              "        const buttonEl =\n",
              "          document.querySelector('#df-f81bbc66-f884-4906-9760-f8d8c2db94d7 button.colab-df-convert');\n",
              "        buttonEl.style.display =\n",
              "          google.colab.kernel.accessAllowed ? 'block' : 'none';\n",
              "\n",
              "        async function convertToInteractive(key) {\n",
              "          const element = document.querySelector('#df-f81bbc66-f884-4906-9760-f8d8c2db94d7');\n",
              "          const dataTable =\n",
              "            await google.colab.kernel.invokeFunction('convertToInteractive',\n",
              "                                                     [key], {});\n",
              "          if (!dataTable) return;\n",
              "\n",
              "          const docLinkHtml = 'Like what you see? Visit the ' +\n",
              "            '<a target=\"_blank\" href=https://colab.research.google.com/notebooks/data_table.ipynb>data table notebook</a>'\n",
              "            + ' to learn more about interactive tables.';\n",
              "          element.innerHTML = '';\n",
              "          dataTable['output_type'] = 'display_data';\n",
              "          await google.colab.output.renderOutput(dataTable, element);\n",
              "          const docLink = document.createElement('div');\n",
              "          docLink.innerHTML = docLinkHtml;\n",
              "          element.appendChild(docLink);\n",
              "        }\n",
              "      </script>\n",
              "    </div>\n",
              "  </div>\n",
              "  "
            ]
          },
          "metadata": {},
          "execution_count": 56
        }
      ]
    },
    {
      "cell_type": "code",
      "execution_count": 57,
      "id": "d1fe006e",
      "metadata": {
        "colab": {
          "base_uri": "https://localhost:8080/",
          "height": 123
        },
        "id": "d1fe006e",
        "outputId": "a0a10cb0-f713-4840-9e53-457338837031"
      },
      "outputs": [
        {
          "output_type": "execute_result",
          "data": {
            "text/plain": [
              "'dollar gain greenspan speech dollar hit highest level euro almost three month federal reserve head said u trade deficit set stabilise alan greenspan highlighted u government willingness curb spending rising household saving factor may help reduce late trading new york dollar reached euro thursday market concern deficit hit greenback recent month friday federal reserve chairman mr greenspan speech london ahead meeting g finance minister sent dollar higher earlier tumbled back worsethanexpected u job data think chairman taking much sanguine view current account deficit taken time said robert sinche head currency strategy bank america new york taking longerterm view laying set condition current account deficit improve year next worry deficit concern china however remain china currency remains pegged dollar u currency sharp fall recent month therefore made chinese export price highly competitive call shift beijing policy fallen deaf ear despite recent comment major chinese newspaper time ripe loosening peg g meeting thought unlikely produce meaningful movement chinese policy meantime u federal reserve decision february boost interest rate quarter pointthe sixth move many monthshas opened differential european rate halfpoint window believe could enough keep u asset looking attractive could help prop dollar recent fall partly result big budget deficit well u yawning current account gap need funded buying u bond asset foreign firm government white house announce budget monday many commentator believe deficit remain close half trillion dollar'"
            ],
            "application/vnd.google.colaboratory.intrinsic+json": {
              "type": "string"
            }
          },
          "metadata": {},
          "execution_count": 57
        }
      ],
      "source": [
        "df['clean_news'][1]"
      ]
    },
    {
      "cell_type": "markdown",
      "source": [
        "## Frequent Words"
      ],
      "metadata": {
        "id": "StyVnPepGUnj"
      },
      "id": "StyVnPepGUnj"
    },
    {
      "cell_type": "code",
      "execution_count": 58,
      "id": "c06c3db4",
      "metadata": {
        "id": "c06c3db4",
        "colab": {
          "base_uri": "https://localhost:8080/"
        },
        "outputId": "5ea6de7a-d18b-4720-942a-919e39af6311"
      },
      "outputs": [
        {
          "output_type": "execute_result",
          "data": {
            "text/plain": [
              "['ad',\n",
              " 'sale',\n",
              " 'boost',\n",
              " 'time',\n",
              " 'warner',\n",
              " 'profit',\n",
              " 'quarterly',\n",
              " 'profit',\n",
              " 'u',\n",
              " 'medium',\n",
              " 'giant',\n",
              " 'timewarner',\n",
              " 'jumped',\n",
              " 'bn',\n",
              " 'âm',\n",
              " 'three',\n",
              " 'month',\n",
              " 'december',\n",
              " 'yearearlier',\n",
              " 'firm',\n",
              " 'one',\n",
              " 'biggest',\n",
              " 'investor',\n",
              " 'google',\n",
              " 'benefited',\n",
              " 'sale',\n",
              " 'highspeed',\n",
              " 'internet',\n",
              " 'connection',\n",
              " 'higher',\n",
              " 'advert',\n",
              " 'sale',\n",
              " 'timewarner',\n",
              " 'said',\n",
              " 'fourth',\n",
              " 'quarter',\n",
              " 'sale',\n",
              " 'rose',\n",
              " 'bn',\n",
              " 'bn',\n",
              " 'profit',\n",
              " 'buoyed',\n",
              " 'oneoff',\n",
              " 'gain',\n",
              " 'offset',\n",
              " 'profit',\n",
              " 'dip',\n",
              " 'warner',\n",
              " 'bros',\n",
              " 'le',\n",
              " 'user',\n",
              " 'aol',\n",
              " 'time',\n",
              " 'warner',\n",
              " 'said',\n",
              " 'friday',\n",
              " 'owns',\n",
              " 'searchengine',\n",
              " 'google',\n",
              " 'internet',\n",
              " 'business',\n",
              " 'aol',\n",
              " 'mixed',\n",
              " 'fortune',\n",
              " 'lost',\n",
              " 'subscriber',\n",
              " 'fourth',\n",
              " 'quarter',\n",
              " 'profit',\n",
              " 'lower',\n",
              " 'preceding',\n",
              " 'three',\n",
              " 'quarter',\n",
              " 'however',\n",
              " 'company',\n",
              " 'said',\n",
              " 'aol',\n",
              " 'underlying',\n",
              " 'profit',\n",
              " 'exceptional',\n",
              " 'item',\n",
              " 'rose',\n",
              " 'back',\n",
              " 'stronger',\n",
              " 'internet',\n",
              " 'advertising',\n",
              " 'revenue',\n",
              " 'hope',\n",
              " 'increase',\n",
              " 'subscriber',\n",
              " 'offering',\n",
              " 'online',\n",
              " 'service',\n",
              " 'free',\n",
              " 'timewarner',\n",
              " 'internet',\n",
              " 'customer',\n",
              " 'try',\n",
              " 'sign',\n",
              " 'aol',\n",
              " 'existing',\n",
              " 'customer',\n",
              " 'highspeed',\n",
              " 'broadband',\n",
              " 'timewarner',\n",
              " 'also',\n",
              " 'restate',\n",
              " 'result',\n",
              " 'following',\n",
              " 'probe',\n",
              " 'u',\n",
              " 'security',\n",
              " 'exchange',\n",
              " 'commission',\n",
              " 'sec',\n",
              " 'close',\n",
              " 'concluding',\n",
              " 'time',\n",
              " 'warner',\n",
              " 'fourth',\n",
              " 'quarter',\n",
              " 'profit',\n",
              " 'slightly',\n",
              " 'better',\n",
              " 'analyst',\n",
              " 'expectation',\n",
              " 'film',\n",
              " 'division',\n",
              " 'saw',\n",
              " 'profit',\n",
              " 'slump',\n",
              " 'helped',\n",
              " 'boxoffice',\n",
              " 'flop',\n",
              " 'alexander',\n",
              " 'catwoman',\n",
              " 'sharp',\n",
              " 'contrast',\n",
              " 'yearearlier',\n",
              " 'third',\n",
              " 'final',\n",
              " 'film',\n",
              " 'lord',\n",
              " 'ring',\n",
              " 'trilogy',\n",
              " 'boosted',\n",
              " 'result',\n",
              " 'fullyear',\n",
              " 'timewarner',\n",
              " 'posted',\n",
              " 'profit',\n",
              " 'bn',\n",
              " 'performance',\n",
              " 'revenue',\n",
              " 'grew',\n",
              " 'bn',\n",
              " 'financial',\n",
              " 'performance',\n",
              " 'strong',\n",
              " 'meeting',\n",
              " 'exceeding',\n",
              " 'fullyear',\n",
              " 'objective',\n",
              " 'greatly',\n",
              " 'enhancing',\n",
              " 'flexibility',\n",
              " 'chairman',\n",
              " 'chief',\n",
              " 'executive',\n",
              " 'richard',\n",
              " 'parson',\n",
              " 'said',\n",
              " 'timewarner',\n",
              " 'projecting',\n",
              " 'operating',\n",
              " 'earnings',\n",
              " 'growth',\n",
              " 'around',\n",
              " 'also',\n",
              " 'expects',\n",
              " 'higher',\n",
              " 'revenue',\n",
              " 'wider',\n",
              " 'profit',\n",
              " 'margin',\n",
              " 'timewarner',\n",
              " 'restate',\n",
              " 'account',\n",
              " 'part',\n",
              " 'effort',\n",
              " 'resolve',\n",
              " 'inquiry',\n",
              " 'aol',\n",
              " 'u',\n",
              " 'market',\n",
              " 'regulator',\n",
              " 'already',\n",
              " 'offered',\n",
              " 'pay',\n",
              " 'settle',\n",
              " 'charge',\n",
              " 'deal',\n",
              " 'review',\n",
              " 'sec',\n",
              " 'company',\n",
              " 'said',\n",
              " 'unable',\n",
              " 'estimate',\n",
              " 'amount',\n",
              " 'needed',\n",
              " 'set',\n",
              " 'aside',\n",
              " 'legal',\n",
              " 'reserve',\n",
              " 'previously',\n",
              " 'set',\n",
              " 'intends',\n",
              " 'adjust',\n",
              " 'way',\n",
              " 'account',\n",
              " 'deal',\n",
              " 'german',\n",
              " 'music',\n",
              " 'publisher',\n",
              " 'bertelsmann',\n",
              " 'purchase',\n",
              " 'stake',\n",
              " 'aol',\n",
              " 'europe',\n",
              " 'reported',\n",
              " 'advertising',\n",
              " 'revenue',\n",
              " 'book',\n",
              " 'sale',\n",
              " 'stake',\n",
              " 'aol',\n",
              " 'europe',\n",
              " 'loss',\n",
              " 'value',\n",
              " 'stakedollar',\n",
              " 'gain',\n",
              " 'greenspan',\n",
              " 'speech',\n",
              " 'dollar',\n",
              " 'hit',\n",
              " 'highest',\n",
              " 'level',\n",
              " 'euro',\n",
              " 'almost',\n",
              " 'three',\n",
              " 'month',\n",
              " 'federal',\n",
              " 'reserve',\n",
              " 'head',\n",
              " 'said',\n",
              " 'u',\n",
              " 'trade',\n",
              " 'deficit',\n",
              " 'set',\n",
              " 'stabilise',\n",
              " 'alan',\n",
              " 'greenspan',\n",
              " 'highlighted',\n",
              " 'u',\n",
              " 'government',\n",
              " 'willingness',\n",
              " 'curb',\n",
              " 'spending',\n",
              " 'rising',\n",
              " 'household',\n",
              " 'saving',\n",
              " 'factor',\n",
              " 'may',\n",
              " 'help',\n",
              " 'reduce',\n",
              " 'late',\n",
              " 'trading',\n",
              " 'new',\n",
              " 'york',\n",
              " 'dollar',\n",
              " 'reached',\n",
              " 'euro',\n",
              " 'thursday',\n",
              " 'market',\n",
              " 'concern',\n",
              " 'deficit',\n",
              " 'hit',\n",
              " 'greenback',\n",
              " 'recent',\n",
              " 'month',\n",
              " 'friday',\n",
              " 'federal',\n",
              " 'reserve',\n",
              " 'chairman',\n",
              " 'mr',\n",
              " 'greenspan',\n",
              " 'speech',\n",
              " 'london',\n",
              " 'ahead',\n",
              " 'meeting',\n",
              " 'g',\n",
              " 'finance',\n",
              " 'minister',\n",
              " 'sent',\n",
              " 'dollar',\n",
              " 'higher',\n",
              " 'earlier',\n",
              " 'tumbled',\n",
              " 'back',\n",
              " 'worsethanexpected',\n",
              " 'u',\n",
              " 'job',\n",
              " 'data',\n",
              " 'think',\n",
              " 'chairman',\n",
              " 'taking',\n",
              " 'much',\n",
              " 'sanguine',\n",
              " 'view',\n",
              " 'current',\n",
              " 'account',\n",
              " 'deficit',\n",
              " 'taken',\n",
              " 'time',\n",
              " 'said',\n",
              " 'robert',\n",
              " 'sinche',\n",
              " 'head',\n",
              " 'currency',\n",
              " 'strategy',\n",
              " 'bank',\n",
              " 'america',\n",
              " 'new',\n",
              " 'york',\n",
              " 'taking',\n",
              " 'longerterm',\n",
              " 'view',\n",
              " 'laying',\n",
              " 'set',\n",
              " 'condition',\n",
              " 'current',\n",
              " 'account',\n",
              " 'deficit',\n",
              " 'improve',\n",
              " 'year',\n",
              " 'next',\n",
              " 'worry',\n",
              " 'deficit',\n",
              " 'concern',\n",
              " 'china',\n",
              " 'however',\n",
              " 'remain',\n",
              " 'china',\n",
              " 'currency',\n",
              " 'remains',\n",
              " 'pegged',\n",
              " 'dollar',\n",
              " 'u',\n",
              " 'currency',\n",
              " 'sharp',\n",
              " 'fall',\n",
              " 'recent',\n",
              " 'month',\n",
              " 'therefore',\n",
              " 'made',\n",
              " 'chinese',\n",
              " 'export',\n",
              " 'price',\n",
              " 'highly',\n",
              " 'competitive',\n",
              " 'call',\n",
              " 'shift',\n",
              " 'beijing',\n",
              " 'policy',\n",
              " 'fallen',\n",
              " 'deaf',\n",
              " 'ear',\n",
              " 'despite',\n",
              " 'recent',\n",
              " 'comment',\n",
              " 'major',\n",
              " 'chinese',\n",
              " 'newspaper',\n",
              " 'time',\n",
              " 'ripe',\n",
              " 'loosening',\n",
              " 'peg',\n",
              " 'g',\n",
              " 'meeting',\n",
              " 'thought',\n",
              " 'unlikely',\n",
              " 'produce',\n",
              " 'meaningful',\n",
              " 'movement',\n",
              " 'chinese',\n",
              " 'policy',\n",
              " 'meantime',\n",
              " 'u',\n",
              " 'federal',\n",
              " 'reserve',\n",
              " 'decision',\n",
              " 'february',\n",
              " 'boost',\n",
              " 'interest',\n",
              " 'rate',\n",
              " 'quarter',\n",
              " 'pointthe',\n",
              " 'sixth',\n",
              " 'move',\n",
              " 'many',\n",
              " 'monthshas',\n",
              " 'opened',\n",
              " 'differential',\n",
              " 'european',\n",
              " 'rate',\n",
              " 'halfpoint',\n",
              " 'window',\n",
              " 'believe',\n",
              " 'could',\n",
              " 'enough',\n",
              " 'keep',\n",
              " 'u',\n",
              " 'asset',\n",
              " 'looking',\n",
              " 'attractive',\n",
              " 'could',\n",
              " 'help',\n",
              " 'prop',\n",
              " 'dollar',\n",
              " 'recent',\n",
              " 'fall',\n",
              " 'partly',\n",
              " 'result',\n",
              " 'big',\n",
              " 'budget',\n",
              " 'deficit',\n",
              " 'well',\n",
              " 'u',\n",
              " 'yawning',\n",
              " 'current',\n",
              " 'account',\n",
              " 'gap',\n",
              " 'need',\n",
              " 'funded',\n",
              " 'buying',\n",
              " 'u',\n",
              " 'bond',\n",
              " 'asset',\n",
              " 'foreign',\n",
              " 'firm',\n",
              " 'government',\n",
              " 'white',\n",
              " 'house',\n",
              " 'announce',\n",
              " 'budget',\n",
              " 'monday',\n",
              " 'many',\n",
              " 'commentator',\n",
              " 'believe',\n",
              " 'deficit',\n",
              " 'remain',\n",
              " 'close',\n",
              " 'half',\n",
              " 'trillion',\n",
              " 'dollaryukos',\n",
              " 'unit',\n",
              " 'buyer',\n",
              " 'face',\n",
              " 'loan',\n",
              " 'claim',\n",
              " 'owner',\n",
              " 'embattled',\n",
              " 'russian',\n",
              " 'oil',\n",
              " 'giant',\n",
              " 'yukos',\n",
              " 'ask',\n",
              " 'buyer',\n",
              " 'former',\n",
              " 'production',\n",
              " 'unit',\n",
              " 'pay',\n",
              " 'back',\n",
              " 'âm',\n",
              " 'loan',\n",
              " 'stateowned',\n",
              " 'rosneft',\n",
              " 'bought',\n",
              " 'yugansk',\n",
              " 'unit',\n",
              " 'bn',\n",
              " 'sale',\n",
              " 'forced',\n",
              " 'russia',\n",
              " 'part',\n",
              " 'settle',\n",
              " 'bn',\n",
              " 'tax',\n",
              " 'claim',\n",
              " 'yukos',\n",
              " 'yukos',\n",
              " 'owner',\n",
              " 'menatep',\n",
              " 'group',\n",
              " 'say',\n",
              " 'ask',\n",
              " 'rosneft',\n",
              " 'repay',\n",
              " 'loan',\n",
              " 'yugansk',\n",
              " 'secured',\n",
              " 'asset',\n",
              " 'rosneft',\n",
              " 'already',\n",
              " 'face',\n",
              " 'similar',\n",
              " 'repayment',\n",
              " 'demand',\n",
              " 'foreign',\n",
              " 'bank',\n",
              " 'legal',\n",
              " 'expert',\n",
              " 'said',\n",
              " 'rosneft',\n",
              " 'purchase',\n",
              " 'yugansk',\n",
              " 'would',\n",
              " 'include',\n",
              " 'obligation',\n",
              " 'pledged',\n",
              " 'asset',\n",
              " 'rosneft',\n",
              " 'pay',\n",
              " 'real',\n",
              " 'money',\n",
              " 'creditor',\n",
              " 'avoid',\n",
              " 'seizure',\n",
              " 'yugansk',\n",
              " 'asset',\n",
              " 'said',\n",
              " 'moscowbased',\n",
              " 'u',\n",
              " 'lawyer',\n",
              " 'jamie',\n",
              " 'firestone',\n",
              " 'connected',\n",
              " 'case',\n",
              " 'menatep',\n",
              " 'group',\n",
              " 'managing',\n",
              " 'director',\n",
              " 'tim',\n",
              " 'osborne',\n",
              " 'told',\n",
              " 'reuters',\n",
              " 'news',\n",
              " 'agency',\n",
              " 'default',\n",
              " 'fight',\n",
              " 'rule',\n",
              " 'law',\n",
              " 'exists',\n",
              " 'international',\n",
              " 'arbitration',\n",
              " 'clause',\n",
              " 'credit',\n",
              " 'rosneft',\n",
              " 'official',\n",
              " 'unavailable',\n",
              " 'comment',\n",
              " 'company',\n",
              " 'said',\n",
              " 'intends',\n",
              " 'take',\n",
              " 'action',\n",
              " 'menatep',\n",
              " 'recover',\n",
              " 'tax',\n",
              " 'claim',\n",
              " 'debt',\n",
              " 'owed',\n",
              " 'yugansk',\n",
              " 'yukos',\n",
              " 'filed',\n",
              " 'bankruptcy',\n",
              " 'protection',\n",
              " 'u',\n",
              " 'court',\n",
              " 'attempt',\n",
              " 'prevent',\n",
              " 'forced',\n",
              " 'sale',\n",
              " 'main',\n",
              " 'production',\n",
              " 'arm',\n",
              " 'sale',\n",
              " 'went',\n",
              " 'ahead',\n",
              " 'december',\n",
              " 'yugansk',\n",
              " 'sold',\n",
              " 'littleknown',\n",
              " 'shell',\n",
              " 'company',\n",
              " 'turn',\n",
              " 'bought',\n",
              " 'rosneft',\n",
              " 'yukos',\n",
              " 'claim',\n",
              " 'downfall',\n",
              " 'punishment',\n",
              " 'political',\n",
              " 'ambition',\n",
              " 'founder',\n",
              " 'mikhail',\n",
              " 'khodorkovsky',\n",
              " 'vowed',\n",
              " 'sue',\n",
              " 'participant',\n",
              " 'salehigh',\n",
              " 'fuel',\n",
              " 'price',\n",
              " 'hit',\n",
              " 'ba',\n",
              " 'profit',\n",
              " 'british',\n",
              " 'airway',\n",
              " 'blamed',\n",
              " 'high',\n",
              " 'fuel',\n",
              " 'price',\n",
              " 'drop',\n",
              " 'profit',\n",
              " 'reporting',\n",
              " 'result',\n",
              " 'three',\n",
              " 'month',\n",
              " 'december',\n",
              " 'airline',\n",
              " 'made',\n",
              " 'pretax',\n",
              " 'profit',\n",
              " 'compared',\n",
              " 'year',\n",
              " 'earlier',\n",
              " 'rod',\n",
              " 'eddington',\n",
              " 'ba',\n",
              " 'chief',\n",
              " 'executive',\n",
              " 'said',\n",
              " 'result',\n",
              " 'respectable',\n",
              " 'third',\n",
              " 'quarter',\n",
              " 'fuel',\n",
              " 'cost',\n",
              " 'rose',\n",
              " 'ba',\n",
              " 'profit',\n",
              " 'still',\n",
              " 'better',\n",
              " 'market',\n",
              " 'expectation',\n",
              " 'expects',\n",
              " 'rise',\n",
              " 'fullyear',\n",
              " 'revenue',\n",
              " 'help',\n",
              " 'offset',\n",
              " 'increased',\n",
              " 'price',\n",
              " 'aviation',\n",
              " 'fuel',\n",
              " 'ba',\n",
              " 'last',\n",
              " 'year',\n",
              " 'introduced',\n",
              " 'fuel',\n",
              " 'surcharge',\n",
              " 'passenger',\n",
              " 'october',\n",
              " 'increased',\n",
              " 'oneway',\n",
              " 'longhaul',\n",
              " 'flight',\n",
              " 'shorthaul',\n",
              " 'surcharge',\n",
              " 'raised',\n",
              " 'leg',\n",
              " 'yet',\n",
              " 'aviation',\n",
              " 'analyst',\n",
              " 'mike',\n",
              " 'powell',\n",
              " 'dresdner',\n",
              " 'kleinwort',\n",
              " 'wasserstein',\n",
              " 'say',\n",
              " 'ba',\n",
              " 'estimated',\n",
              " 'annual',\n",
              " 'surcharge',\n",
              " 'revenuesmwill',\n",
              " 'still',\n",
              " 'way',\n",
              " 'short',\n",
              " 'additional',\n",
              " 'fuel',\n",
              " 'costsa',\n",
              " 'predicted',\n",
              " 'extra',\n",
              " 'turnover',\n",
              " 'quarter',\n",
              " 'bn',\n",
              " 'benefiting',\n",
              " 'rise',\n",
              " 'cargo',\n",
              " 'revenue',\n",
              " 'looking',\n",
              " 'ahead',\n",
              " 'full',\n",
              " 'year',\n",
              " 'result',\n",
              " 'march',\n",
              " 'ba',\n",
              " 'warned',\n",
              " 'yieldsaverage',\n",
              " 'revenue',\n",
              " 'per',\n",
              " 'passengerwere',\n",
              " 'expected',\n",
              " 'decline',\n",
              " 'continues',\n",
              " 'lower',\n",
              " 'price',\n",
              " 'face',\n",
              " 'competition',\n",
              " 'lowcost',\n",
              " 'carrier',\n",
              " 'however',\n",
              " 'said',\n",
              " 'sale',\n",
              " 'would',\n",
              " 'better',\n",
              " 'previously',\n",
              " 'forecast',\n",
              " 'year',\n",
              " 'march',\n",
              " 'total',\n",
              " 'revenue',\n",
              " 'outlook',\n",
              " 'slightly',\n",
              " 'better',\n",
              " 'previous',\n",
              " 'guidance',\n",
              " 'improvement',\n",
              " 'anticipated',\n",
              " 'ba',\n",
              " 'chairman',\n",
              " 'martin',\n",
              " 'broughton',\n",
              " 'said',\n",
              " 'ba',\n",
              " 'previously',\n",
              " 'forecast',\n",
              " 'rise',\n",
              " 'fullyear',\n",
              " 'revenue',\n",
              " 'also',\n",
              " 'reported',\n",
              " 'friday',\n",
              " 'passenger',\n",
              " 'number',\n",
              " 'rose',\n",
              " 'january',\n",
              " 'aviation',\n",
              " 'analyst',\n",
              " 'nick',\n",
              " 'van',\n",
              " 'den',\n",
              " 'brul',\n",
              " 'bnp',\n",
              " 'paribas',\n",
              " 'described',\n",
              " 'ba',\n",
              " 'latest',\n",
              " 'quarterly',\n",
              " 'result',\n",
              " 'pretty',\n",
              " 'modest',\n",
              " 'quite',\n",
              " 'good',\n",
              " 'revenue',\n",
              " 'side',\n",
              " 'show',\n",
              " 'impact',\n",
              " 'fuel',\n",
              " 'surcharge',\n",
              " 'positive',\n",
              " 'cargo',\n",
              " 'development',\n",
              " 'however',\n",
              " 'operating',\n",
              " 'margin',\n",
              " 'cost',\n",
              " 'impact',\n",
              " 'fuel',\n",
              " 'strong',\n",
              " 'said',\n",
              " 'since',\n",
              " 'september',\n",
              " 'attack',\n",
              " 'united',\n",
              " 'state',\n",
              " 'ba',\n",
              " 'cut',\n",
              " 'job',\n",
              " 'part',\n",
              " 'major',\n",
              " 'costcutting',\n",
              " 'drive',\n",
              " 'focus',\n",
              " 'remains',\n",
              " 'reducing',\n",
              " 'controllable',\n",
              " 'cost',\n",
              " 'debt',\n",
              " 'whilst',\n",
              " 'continuing',\n",
              " 'invest',\n",
              " 'product',\n",
              " 'mr',\n",
              " 'eddington',\n",
              " 'said',\n",
              " 'example',\n",
              " 'taken',\n",
              " 'delivery',\n",
              " 'six',\n",
              " 'airbus',\n",
              " 'aircraft',\n",
              " 'next',\n",
              " 'month',\n",
              " 'start',\n",
              " 'improvement',\n",
              " 'club',\n",
              " 'world',\n",
              " 'flat',\n",
              " 'bed',\n",
              " 'ba',\n",
              " 'share',\n",
              " 'closed',\n",
              " 'four',\n",
              " 'penny',\n",
              " 'pennypernod',\n",
              " 'takeover',\n",
              " 'talk',\n",
              " 'lift',\n",
              " 'domecq',\n",
              " 'share',\n",
              " 'uk',\n",
              " 'drink',\n",
              " 'food',\n",
              " 'firm',\n",
              " 'allied',\n",
              " 'domecq',\n",
              " 'risen',\n",
              " 'speculation',\n",
              " 'could',\n",
              " 'target',\n",
              " 'takeover',\n",
              " 'france',\n",
              " 'pernod',\n",
              " 'ricard',\n",
              " 'report',\n",
              " 'wall',\n",
              " 'street',\n",
              " 'journal',\n",
              " 'financial',\n",
              " 'time',\n",
              " 'suggested',\n",
              " 'french',\n",
              " 'spirit',\n",
              " 'firm',\n",
              " 'considering',\n",
              " 'bid',\n",
              " 'yet',\n",
              " 'contact',\n",
              " 'target',\n",
              " 'allied',\n",
              " 'domecq',\n",
              " 'share',\n",
              " 'london',\n",
              " 'rose',\n",
              " 'gmt',\n",
              " 'pernod',\n",
              " 'share',\n",
              " 'paris',\n",
              " 'slipped',\n",
              " 'pernod',\n",
              " 'said',\n",
              " 'seeking',\n",
              " 'acquisition',\n",
              " 'refused',\n",
              " 'comment',\n",
              " 'specific',\n",
              " 'pernod',\n",
              " 'last',\n",
              " 'major',\n",
              " 'purchase',\n",
              " 'third',\n",
              " 'u',\n",
              " 'giant',\n",
              " 'seagram',\n",
              " 'move',\n",
              " 'propelled',\n",
              " 'global',\n",
              " 'top',\n",
              " 'three',\n",
              " 'drink',\n",
              " 'firm',\n",
              " 'twothirds',\n",
              " 'seagram',\n",
              " 'bought',\n",
              " 'market',\n",
              " 'leader',\n",
              " 'diageo',\n",
              " 'term',\n",
              " 'market',\n",
              " 'value',\n",
              " 'pernodat',\n",
              " 'bn',\n",
              " 'euro',\n",
              " 'bnis',\n",
              " 'smaller',\n",
              " 'allied',\n",
              " 'domecq',\n",
              " 'capitalisation',\n",
              " 'âbn',\n",
              " 'bn',\n",
              " 'bn',\n",
              " 'euro',\n",
              " 'last',\n",
              " 'year',\n",
              " 'pernod',\n",
              " 'tried',\n",
              " 'buy',\n",
              " 'glenmorangie',\n",
              " 'one',\n",
              " 'scotland',\n",
              " 'premier',\n",
              " 'whisky',\n",
              " 'firm',\n",
              " 'lost',\n",
              " 'luxury',\n",
              " 'good',\n",
              " 'firm',\n",
              " 'lvmh',\n",
              " 'pernod',\n",
              " 'home',\n",
              " 'brand',\n",
              " 'including',\n",
              " 'chivas',\n",
              " 'regal',\n",
              " 'scotch',\n",
              " 'whisky',\n",
              " 'havana',\n",
              " 'club',\n",
              " 'rum',\n",
              " 'jacos',\n",
              " 'creek',\n",
              " 'wine',\n",
              " 'allied',\n",
              " 'domecq',\n",
              " 'big',\n",
              " 'name',\n",
              " 'include',\n",
              " 'malibu',\n",
              " 'rum',\n",
              " 'courvoisier',\n",
              " 'brandy',\n",
              " 'stolichnaya',\n",
              " 'vodka',\n",
              " 'ballantine',\n",
              " 'whiskyas',\n",
              " 'well',\n",
              " 'snack',\n",
              " 'food',\n",
              " 'chain',\n",
              " 'dunkin',\n",
              " 'donut',\n",
              " 'baskinrobbins',\n",
              " 'ice',\n",
              " 'cream',\n",
              " 'wsj',\n",
              " 'said',\n",
              " 'two',\n",
              " 'ripe',\n",
              " 'consolidation',\n",
              " ...]"
            ]
          },
          "metadata": {},
          "execution_count": 58
        }
      ],
      "source": [
        "all_words = ''.join(df['clean_news']).split()                                    ## Storing all words in list\n",
        "all_words"
      ]
    },
    {
      "cell_type": "code",
      "source": [
        "len(all_words)                                                                   ## Total words in all documents"
      ],
      "metadata": {
        "colab": {
          "base_uri": "https://localhost:8080/"
        },
        "id": "EnkbXQJnGWsG",
        "outputId": "824d3980-40e4-4c09-d154-2e81f981adee"
      },
      "id": "EnkbXQJnGWsG",
      "execution_count": 59,
      "outputs": [
        {
          "output_type": "execute_result",
          "data": {
            "text/plain": [
              "457258"
            ]
          },
          "metadata": {},
          "execution_count": 59
        }
      ]
    },
    {
      "cell_type": "code",
      "source": [
        "all_words = pd.Series(all_words)                                                 ## converting to series for further operations"
      ],
      "metadata": {
        "id": "f9GW736HGba_"
      },
      "id": "f9GW736HGba_",
      "execution_count": 60,
      "outputs": []
    },
    {
      "cell_type": "code",
      "source": [
        "all_words.value_counts()[:20]"
      ],
      "metadata": {
        "colab": {
          "base_uri": "https://localhost:8080/"
        },
        "id": "8lNwy8siGesS",
        "outputId": "ba0fcf1d-f150-4e03-eca1-bc3393b2390f"
      },
      "id": "8lNwy8siGesS",
      "execution_count": 61,
      "outputs": [
        {
          "output_type": "execute_result",
          "data": {
            "text/plain": [
              "said          6820\n",
              "mr            2897\n",
              "year          2654\n",
              "would         2452\n",
              "also          2035\n",
              "people        1871\n",
              "new           1854\n",
              "u             1806\n",
              "one           1699\n",
              "could         1433\n",
              "game          1398\n",
              "time          1374\n",
              "last          1319\n",
              "first         1222\n",
              "say           1201\n",
              "government    1154\n",
              "world         1148\n",
              "two           1131\n",
              "company       1053\n",
              "film          1013\n",
              "dtype: int64"
            ]
          },
          "metadata": {},
          "execution_count": 61
        }
      ]
    },
    {
      "cell_type": "code",
      "source": [
        "useless_words = ['said','say', 'mr','would','make','also','year','take','could','use','time','go','u','two','told']"
      ],
      "metadata": {
        "id": "uBpAmuXiGhdX"
      },
      "id": "uBpAmuXiGhdX",
      "execution_count": 62,
      "outputs": []
    },
    {
      "cell_type": "code",
      "source": [
        "df['clean_news'][0]"
      ],
      "metadata": {
        "colab": {
          "base_uri": "https://localhost:8080/",
          "height": 123
        },
        "id": "EhPuPpU7GqdA",
        "outputId": "f741d1bb-1e8a-455e-dba4-9ab996958eff"
      },
      "id": "EhPuPpU7GqdA",
      "execution_count": 63,
      "outputs": [
        {
          "output_type": "execute_result",
          "data": {
            "text/plain": [
              "'ad sale boost time warner profit quarterly profit u medium giant timewarner jumped bn âm three month december yearearlier firm one biggest investor google benefited sale highspeed internet connection higher advert sale timewarner said fourth quarter sale rose bn bn profit buoyed oneoff gain offset profit dip warner bros le user aol time warner said friday owns searchengine google internet business aol mixed fortune lost subscriber fourth quarter profit lower preceding three quarter however company said aol underlying profit exceptional item rose back stronger internet advertising revenue hope increase subscriber offering online service free timewarner internet customer try sign aol existing customer highspeed broadband timewarner also restate result following probe u security exchange commission sec close concluding time warner fourth quarter profit slightly better analyst expectation film division saw profit slump helped boxoffice flop alexander catwoman sharp contrast yearearlier third final film lord ring trilogy boosted result fullyear timewarner posted profit bn performance revenue grew bn financial performance strong meeting exceeding fullyear objective greatly enhancing flexibility chairman chief executive richard parson said timewarner projecting operating earnings growth around also expects higher revenue wider profit margin timewarner restate account part effort resolve inquiry aol u market regulator already offered pay settle charge deal review sec company said unable estimate amount needed set aside legal reserve previously set intends adjust way account deal german music publisher bertelsmann purchase stake aol europe reported advertising revenue book sale stake aol europe loss value stake'"
            ],
            "application/vnd.google.colaboratory.intrinsic+json": {
              "type": "string"
            }
          },
          "metadata": {},
          "execution_count": 63
        }
      ]
    },
    {
      "cell_type": "code",
      "source": [
        "len(df['clean_news'][0].split())                                                 ## Words in first news before removing useless words "
      ],
      "metadata": {
        "colab": {
          "base_uri": "https://localhost:8080/"
        },
        "id": "EshOF9cTGt1n",
        "outputId": "5979c469-330e-4664-e335-8ef120543019"
      },
      "id": "EshOF9cTGt1n",
      "execution_count": 64,
      "outputs": [
        {
          "output_type": "execute_result",
          "data": {
            "text/plain": [
              "240"
            ]
          },
          "metadata": {},
          "execution_count": 64
        }
      ]
    },
    {
      "cell_type": "code",
      "source": [
        "def remove_words(klp):                                                           ## Defining function to remove useless words\n",
        "    \"\"\" Function to remove useless_words. \"\"\"\n",
        "    return ' '.join(x for x in klp.split() if x not in useless_words)"
      ],
      "metadata": {
        "id": "Aq1_JxAKGvXF"
      },
      "id": "Aq1_JxAKGvXF",
      "execution_count": 65,
      "outputs": []
    },
    {
      "cell_type": "code",
      "source": [
        "df['clean_news'] = df['clean_news'].apply(remove_words)                          ## Applying function"
      ],
      "metadata": {
        "id": "CNkHSwb7Gvm6"
      },
      "id": "CNkHSwb7Gvm6",
      "execution_count": 66,
      "outputs": []
    },
    {
      "cell_type": "code",
      "source": [
        "df['clean_news'][0]"
      ],
      "metadata": {
        "colab": {
          "base_uri": "https://localhost:8080/",
          "height": 123
        },
        "id": "jbRQ3wfHGvyK",
        "outputId": "689856bc-761c-4d4b-8fc8-3df3b902303c"
      },
      "id": "jbRQ3wfHGvyK",
      "execution_count": 67,
      "outputs": [
        {
          "output_type": "execute_result",
          "data": {
            "text/plain": [
              "'ad sale boost warner profit quarterly profit medium giant timewarner jumped bn âm three month december yearearlier firm one biggest investor google benefited sale highspeed internet connection higher advert sale timewarner fourth quarter sale rose bn bn profit buoyed oneoff gain offset profit dip warner bros le user aol warner friday owns searchengine google internet business aol mixed fortune lost subscriber fourth quarter profit lower preceding three quarter however company aol underlying profit exceptional item rose back stronger internet advertising revenue hope increase subscriber offering online service free timewarner internet customer try sign aol existing customer highspeed broadband timewarner restate result following probe security exchange commission sec close concluding warner fourth quarter profit slightly better analyst expectation film division saw profit slump helped boxoffice flop alexander catwoman sharp contrast yearearlier third final film lord ring trilogy boosted result fullyear timewarner posted profit bn performance revenue grew bn financial performance strong meeting exceeding fullyear objective greatly enhancing flexibility chairman chief executive richard parson timewarner projecting operating earnings growth around expects higher revenue wider profit margin timewarner restate account part effort resolve inquiry aol market regulator already offered pay settle charge deal review sec company unable estimate amount needed set aside legal reserve previously set intends adjust way account deal german music publisher bertelsmann purchase stake aol europe reported advertising revenue book sale stake aol europe loss value stake'"
            ],
            "application/vnd.google.colaboratory.intrinsic+json": {
              "type": "string"
            }
          },
          "metadata": {},
          "execution_count": 67
        }
      ]
    },
    {
      "cell_type": "code",
      "source": [
        "len(df['clean_news'][0].split())                                                 ## Total words in first news after removing useless words"
      ],
      "metadata": {
        "colab": {
          "base_uri": "https://localhost:8080/"
        },
        "id": "Vc9mGzGdHCyT",
        "outputId": "b39b9f40-9ed4-48f9-fdf9-fe0f6a40ab26"
      },
      "id": "Vc9mGzGdHCyT",
      "execution_count": 68,
      "outputs": [
        {
          "output_type": "execute_result",
          "data": {
            "text/plain": [
              "227"
            ]
          },
          "metadata": {},
          "execution_count": 68
        }
      ]
    },
    {
      "cell_type": "code",
      "source": [
        "new_words = ''.join(df['clean_news']).split()                                    ## splitting new words after removing useless words"
      ],
      "metadata": {
        "id": "-A2KfgxZHC4_"
      },
      "id": "-A2KfgxZHC4_",
      "execution_count": 69,
      "outputs": []
    },
    {
      "cell_type": "code",
      "source": [
        "new_words = pd.Series(new_words)                                                 ## Again converting to series after useless words are removed"
      ],
      "metadata": {
        "id": "pAqZ1_rmHDBQ"
      },
      "id": "pAqZ1_rmHDBQ",
      "execution_count": 70,
      "outputs": []
    },
    {
      "cell_type": "code",
      "source": [
        "new_list = new_words.value_counts()                                              ## Value counts of each word\n",
        "new_list"
      ],
      "metadata": {
        "colab": {
          "base_uri": "https://localhost:8080/"
        },
        "id": "1r3yXUyjHDKP",
        "outputId": "cc575ddf-434f-48fc-e169-6599095edd24"
      },
      "id": "1r3yXUyjHDKP",
      "execution_count": 71,
      "outputs": [
        {
          "output_type": "execute_result",
          "data": {
            "text/plain": [
              "people           1871\n",
              "new              1854\n",
              "one              1699\n",
              "game             1398\n",
              "last             1311\n",
              "                 ... \n",
              "juliet              1\n",
              "commemorate         1\n",
              "scorsesekeanu       1\n",
              "idaho               1\n",
              "dayslol             1\n",
              "Length: 31956, dtype: int64"
            ]
          },
          "metadata": {},
          "execution_count": 71
        }
      ]
    },
    {
      "cell_type": "code",
      "source": [
        "plt.figure(figsize = (12,9))\n",
        "sns.barplot(x = new_list[:15], y = new_list.index[:15] , palette = 'viridis')     ## Horizontal Barplot of word counts\n",
        "plt.title('Most Frequent Words' , size = 20)\n",
        "plt.yticks(size = 15)\n",
        "plt.xticks(size = 15)\n",
        "plt.show()"
      ],
      "metadata": {
        "colab": {
          "base_uri": "https://localhost:8080/",
          "height": 563
        },
        "id": "3oRcX5OMHcdy",
        "outputId": "15f40f6f-3698-4390-c1ba-5669924d5444"
      },
      "id": "3oRcX5OMHcdy",
      "execution_count": 72,
      "outputs": [
        {
          "output_type": "display_data",
          "data": {
            "text/plain": [
              "<Figure size 864x648 with 1 Axes>"
            ],
            "image/png": "[encoded data removed]"
          },
          "metadata": {
            "needs_background": "light"
          }
        }
      ]
    },
    {
      "cell_type": "code",
      "source": [
        "dall_news = ''.join(df['clean_news'])                                            ## Joining for wordcloud operation\n",
        "type(dall_news)"
      ],
      "metadata": {
        "id": "EiQT50dyHf2v",
        "colab": {
          "base_uri": "https://localhost:8080/"
        },
        "outputId": "4abdf729-749a-40a2-ccb5-385c64da936b"
      },
      "id": "EiQT50dyHf2v",
      "execution_count": 73,
      "outputs": [
        {
          "output_type": "execute_result",
          "data": {
            "text/plain": [
              "str"
            ]
          },
          "metadata": {},
          "execution_count": 73
        }
      ]
    },
    {
      "cell_type": "markdown",
      "source": [
        "## WordCloud"
      ],
      "metadata": {
        "id": "rtOFd-2oIYGE"
      },
      "id": "rtOFd-2oIYGE"
    },
    {
      "cell_type": "code",
      "source": [
        "plt.figure(figsize = (15,15))\n",
        "word_cloud = WordCloud(width= 750 , height= 350 ,background_color ='white',  max_font_size=100).generate(dall_news)\n",
        "plt.imshow(word_cloud)\n",
        "plt.axis('off')\n",
        "plt.show()"
      ],
      "metadata": {
        "colab": {
          "base_uri": "https://localhost:8080/",
          "height": 422
        },
        "id": "3qvOKFalIbtj",
        "outputId": "7edc0598-ab3e-4115-f6e9-1e3516b3c518"
      },
      "id": "3qvOKFalIbtj",
      "execution_count": 74,
      "outputs": [
        {
          "output_type": "display_data",
          "data": {
            "text/plain": [
              "<Figure size 1080x1080 with 1 Axes>"
            ],
            "image/png": "[encoded data removed]"
          },
          "metadata": {
            "needs_background": "light"
          }
        }
      ]
    },
    {
      "cell_type": "markdown",
      "source": [
        "## **CountVectorizer**"
      ],
      "metadata": {
        "id": "yA0ndgDkHDld"
      },
      "id": "yA0ndgDkHDld"
    },
    {
      "cell_type": "markdown",
      "source": [
        "### Count vectorizer converts textual data to machine readable vector matrix"
      ],
      "metadata": {
        "id": "Pa5OzxHjNFm5"
      },
      "id": "Pa5OzxHjNFm5"
    },
    {
      "cell_type": "code",
      "source": [
        "count_vectorizer = CountVectorizer(stop_words='english')                         ## Common for all models\n",
        "count_data = count_vectorizer.fit_transform(df['clean_news'])\n",
        "feature_names = count_vectorizer.get_feature_names()\n",
        "number_topics = 5\n",
        "top_words = 20\n"
      ],
      "metadata": {
        "id": "hheonYTeoJ7c"
      },
      "id": "hheonYTeoJ7c",
      "execution_count": 75,
      "outputs": []
    },
    {
      "cell_type": "code",
      "source": [
        "pd.set_option('display.max_colwidth', None)                                      ## For displaying full data in column"
      ],
      "metadata": {
        "id": "vshzMTrnKM5l"
      },
      "id": "vshzMTrnKM5l",
      "execution_count": 76,
      "outputs": []
    },
    {
      "cell_type": "code",
      "source": [
        "def create_top_words_dict(model, features , n_top_words):                        ## Defining function for top words\n",
        "    \"\"\" This function gives top words.\"\"\"\n",
        "    top_words_dict = {}\n",
        "    for topic_id, topic in enumerate(model.components_):\n",
        "        top_words_dict[topic_id] = [features[i] for i in topic.argsort()[:-n_top_words - 1:-1]]        \n",
        "    return top_words_dict"
      ],
      "metadata": {
        "id": "hAIGHYqwYuUQ"
      },
      "id": "hAIGHYqwYuUQ",
      "execution_count": 77,
      "outputs": []
    },
    {
      "cell_type": "markdown",
      "source": [
        "# **Latent Semantic Analysis/Indexing(LSA/LSI/Truncated SVD)**"
      ],
      "metadata": {
        "id": "TqeUbtIaGBjQ"
      },
      "id": "TqeUbtIaGBjQ"
    },
    {
      "cell_type": "code",
      "source": [
        "svd = TruncatedSVD(n_components=number_topics, algorithm='randomized', n_iter=500, random_state=2336)      ## Defining svd object\n",
        "\n",
        "svd_model = svd.fit_transform(count_data)                                                                  ## fitting the model"
      ],
      "metadata": {
        "id": "cHTkF26DYhLN"
      },
      "id": "cHTkF26DYhLN",
      "execution_count": 78,
      "outputs": []
    },
    {
      "cell_type": "code",
      "source": [
        "print(\"Top 20 words bagged by SVD model using CountVectorizer\")\n",
        "\n",
        "svd_top_words = create_top_words_dict(svd, feature_names , top_words)\n",
        "\n",
        "print(svd_top_words)"
      ],
      "metadata": {
        "colab": {
          "base_uri": "https://localhost:8080/"
        },
        "id": "El302kdHXXAi",
        "outputId": "b85d2125-86aa-40f7-d16d-144b3b7c7f82"
      },
      "id": "El302kdHXXAi",
      "execution_count": 79,
      "outputs": [
        {
          "output_type": "stream",
          "name": "stdout",
          "text": [
            "Top 20 words bagged by SVD model using CountVectorizer\n",
            "{0: ['people', 'new', 'game', 'government', 'music', 'best', 'like', 'world', 'uk', 'way', 'think', 'party', 'good', 'service', 'company', 'labour', 'country', 'mobile', 'song', 'right'], 1: ['best', 'song', 'music', 'award', 'angel', 'robbie', 'film', 'game', 'urban', 'think', 'prize', 'artist', 'british', 'dont', 'stone', 'im', 'williams', 'album', 'brit', 'joss'], 2: ['best', 'song', 'labour', 'government', 'party', 'election', 'blair', 'award', 'tax', 'tory', 'music', 'minister', 'british', 'brown', 'angel', 'public', 'robbie', 'howard', 'britain', 'plan'], 3: ['game', 'england', 'win', 'party', 'wale', 'labour', 'play', 'roddick', 'best', 'election', 'team', 'world', 'ireland', 'blair', 'match', 'point', 'nadal', 'playing', 'cup', 'zealand'], 4: ['music', 'party', 'people', 'labour', 'game', 'election', 'mobile', 'urban', 'phone', 'tory', 'blair', 'ukip', 'kilroysilk', 'like', 'black', 'howard', 'joss', 'mp', 'campaign', 'thing']}\n"
          ]
        }
      ]
    },
    {
      "cell_type": "code",
      "source": [
        "svd_df = pd.DataFrame([svd_top_words]).T\n",
        "svd_df.rename(columns = {0: 'Top 20 words'}, inplace = True)\n",
        "svd_df.rename(index = {0: 'Topic 1', 1: 'Topic 2' , 2: 'Topic 3' , 3: 'Topic 4' , 4 : 'Topic 5'}, inplace = True)\n",
        "svd_df"
      ],
      "metadata": {
        "colab": {
          "base_uri": "https://localhost:8080/",
          "height": 206
        },
        "id": "pvwEfw-LbJp3",
        "outputId": "225c98fb-f2b9-4a45-93e3-e2c403d94e94"
      },
      "id": "pvwEfw-LbJp3",
      "execution_count": 80,
      "outputs": [
        {
          "output_type": "execute_result",
          "data": {
            "text/plain": [
              "                                                                                                                                                      Top 20 words\n",
              "Topic 1             [people, new, game, government, music, best, like, world, uk, way, think, party, good, service, company, labour, country, mobile, song, right]\n",
              "Topic 2                  [best, song, music, award, angel, robbie, film, game, urban, think, prize, artist, british, dont, stone, im, williams, album, brit, joss]\n",
              "Topic 3  [best, song, labour, government, party, election, blair, award, tax, tory, music, minister, british, brown, angel, public, robbie, howard, britain, plan]\n",
              "Topic 4          [game, england, win, party, wale, labour, play, roddick, best, election, team, world, ireland, blair, match, point, nadal, playing, cup, zealand]\n",
              "Topic 5        [music, party, people, labour, game, election, mobile, urban, phone, tory, blair, ukip, kilroysilk, like, black, howard, joss, mp, campaign, thing]"
            ],
            "text/html": [
              "\n",
              "  <div id=\"df-5a044478-e289-47ac-8727-d713bb9b0c05\">\n",
              "    <div class=\"colab-df-container\">\n",
              "      <div>\n",
              "<style scoped>\n",
              "    .dataframe tbody tr th:only-of-type {\n",
              "        vertical-align: middle;\n",
              "    }\n",
              "\n",
              "    .dataframe tbody tr th {\n",
              "        vertical-align: top;\n",
              "    }\n",
              "\n",
              "    .dataframe thead th {\n",
              "        text-align: right;\n",
              "    }\n",
              "</style>\n",
              "<table border=\"1\" class=\"dataframe\">\n",
              "  <thead>\n",
              "    <tr style=\"text-align: right;\">\n",
              "      <th></th>\n",
              "      <th>Top 20 words</th>\n",
              "    </tr>\n",
              "  </thead>\n",
              "  <tbody>\n",
              "    <tr>\n",
              "      <th>Topic 1</th>\n",
              "      <td>[people, new, game, government, music, best, like, world, uk, way, think, party, good, service, company, labour, country, mobile, song, right]</td>\n",
              "    </tr>\n",
              "    <tr>\n",
              "      <th>Topic 2</th>\n",
              "      <td>[best, song, music, award, angel, robbie, film, game, urban, think, prize, artist, british, dont, stone, im, williams, album, brit, joss]</td>\n",
              "    </tr>\n",
              "    <tr>\n",
              "      <th>Topic 3</th>\n",
              "      <td>[best, song, labour, government, party, election, blair, award, tax, tory, music, minister, british, brown, angel, public, robbie, howard, britain, plan]</td>\n",
              "    </tr>\n",
              "    <tr>\n",
              "      <th>Topic 4</th>\n",
              "      <td>[game, england, win, party, wale, labour, play, roddick, best, election, team, world, ireland, blair, match, point, nadal, playing, cup, zealand]</td>\n",
              "    </tr>\n",
              "    <tr>\n",
              "      <th>Topic 5</th>\n",
              "      <td>[music, party, people, labour, game, election, mobile, urban, phone, tory, blair, ukip, kilroysilk, like, black, howard, joss, mp, campaign, thing]</td>\n",
              "    </tr>\n",
              "  </tbody>\n",
              "</table>\n",
              "</div>\n",
              "      <button class=\"colab-df-convert\" onclick=\"convertToInteractive('df-5a044478-e289-47ac-8727-d713bb9b0c05')\"\n",
              "              title=\"Convert this dataframe to an interactive table.\"\n",
              "              style=\"display:none;\">\n",
              "        \n",
              "  <svg xmlns=\"http://www.w3.org/2000/svg\" height=\"24px\"viewBox=\"0 0 24 24\"\n",
              "       width=\"24px\">\n",
              "    <path d=\"M0 0h24v24H0V0z\" fill=\"none\"/>\n",
              "    <path d=\"M18.56 5.44l.94 2.06.94-2.06 2.06-.94-2.06-.94-.94-2.06-.94 2.06-2.06.94zm-11 1L8.5 8.5l.94-2.06 2.06-.94-2.06-.94L8.5 2.5l-.94 2.06-2.06.94zm10 10l.94 2.06.94-2.06 2.06-.94-2.06-.94-.94-2.06-.94 2.06-2.06.94z\"/><path d=\"M17.41 7.96l-1.37-1.37c-.4-.4-.92-.59-1.43-.59-.52 0-1.04.2-1.43.59L10.3 9.45l-7.72 7.72c-.78.78-.78 2.05 0 2.83L4 21.41c.39.39.9.59 1.41.59.51 0 1.02-.2 1.41-.59l7.78-7.78 2.81-2.81c.8-.78.8-2.07 0-2.86zM5.41 20L4 18.59l7.72-7.72 1.47 1.35L5.41 20z\"/>\n",
              "  </svg>\n",
              "      </button>\n",
              "      \n",
              "  <style>\n",
              "    .colab-df-container {\n",
              "      display:flex;\n",
              "      flex-wrap:wrap;\n",
              "      gap: 12px;\n",
              "    }\n",
              "\n",
              "    .colab-df-convert {\n",
              "      background-color: #E8F0FE;\n",
              "      border: none;\n",
              "      border-radius: 50%;\n",
              "      cursor: pointer;\n",
              "      display: none;\n",
              "      fill: #1967D2;\n",
              "      height: 32px;\n",
              "      padding: 0 0 0 0;\n",
              "      width: 32px;\n",
              "    }\n",
              "\n",
              "    .colab-df-convert:hover {\n",
              "      background-color: #E2EBFA;\n",
              "      box-shadow: 0px 1px 2px rgba(60, 64, 67, 0.3), 0px 1px 3px 1px rgba(60, 64, 67, 0.15);\n",
              "      fill: #174EA6;\n",
              "    }\n",
              "\n",
              "    [theme=dark] .colab-df-convert {\n",
              "      background-color: #3B4455;\n",
              "      fill: #D2E3FC;\n",
              "    }\n",
              "\n",
              "    [theme=dark] .colab-df-convert:hover {\n",
              "      background-color: #434B5C;\n",
              "      box-shadow: 0px 1px 3px 1px rgba(0, 0, 0, 0.15);\n",
              "      filter: drop-shadow(0px 1px 2px rgba(0, 0, 0, 0.3));\n",
              "      fill: #FFFFFF;\n",
              "    }\n",
              "  </style>\n",
              "\n",
              "      <script>\n",
              "        const buttonEl =\n",
              "          document.querySelector('#df-5a044478-e289-47ac-8727-d713bb9b0c05 button.colab-df-convert');\n",
              "        buttonEl.style.display =\n",
              "          google.colab.kernel.accessAllowed ? 'block' : 'none';\n",
              "\n",
              "        async function convertToInteractive(key) {\n",
              "          const element = document.querySelector('#df-5a044478-e289-47ac-8727-d713bb9b0c05');\n",
              "          const dataTable =\n",
              "            await google.colab.kernel.invokeFunction('convertToInteractive',\n",
              "                                                     [key], {});\n",
              "          if (!dataTable) return;\n",
              "\n",
              "          const docLinkHtml = 'Like what you see? Visit the ' +\n",
              "            '<a target=\"_blank\" href=https://colab.research.google.com/notebooks/data_table.ipynb>data table notebook</a>'\n",
              "            + ' to learn more about interactive tables.';\n",
              "          element.innerHTML = '';\n",
              "          dataTable['output_type'] = 'display_data';\n",
              "          await google.colab.output.renderOutput(dataTable, element);\n",
              "          const docLink = document.createElement('div');\n",
              "          docLink.innerHTML = docLinkHtml;\n",
              "          element.appendChild(docLink);\n",
              "        }\n",
              "      </script>\n",
              "    </div>\n",
              "  </div>\n",
              "  "
            ]
          },
          "metadata": {},
          "execution_count": 80
        }
      ]
    },
    {
      "cell_type": "markdown",
      "source": [
        "## *Insight* : From above, it is clear that LSA or Truncated SVD poorly represented topics(which are known to us) for given bag of words"
      ],
      "metadata": {
        "id": "NYeWRFuydU6q"
      },
      "id": "NYeWRFuydU6q"
    },
    {
      "cell_type": "markdown",
      "source": [
        "# **Latent Dirichlet Allocation (LDA)**"
      ],
      "metadata": {
        "id": "enVEay22iMGt"
      },
      "id": "enVEay22iMGt"
    },
    {
      "cell_type": "code",
      "source": [
        "lda = LDA(n_components=number_topics, random_state = 555)\n",
        "lda_model = lda.fit_transform(count_data)"
      ],
      "metadata": {
        "id": "dsz_l_TUX6DZ"
      },
      "id": "dsz_l_TUX6DZ",
      "execution_count": 81,
      "outputs": []
    },
    {
      "cell_type": "code",
      "source": [
        "pyLDAvis.sklearn.prepare(lda, count_data, count_vectorizer)"
      ],
      "metadata": {
        "colab": {
          "base_uri": "https://localhost:8080/",
          "height": 862
        },
        "id": "WHaPS3hJHzq7",
        "outputId": "450a655a-5753-4a36-ef2a-5a6fa44eeaed"
      },
      "id": "WHaPS3hJHzq7",
      "execution_count": 82,
      "outputs": [
        {
          "output_type": "execute_result",
          "data": {
            "text/plain": [
              "PreparedData(topic_coordinates=              x         y  topics  cluster       Freq\n",
              "topic                                                \n",
              "4      0.012312 -0.030991       1        1  22.116128\n",
              "1      0.126772 -0.112241       2        1  21.662136\n",
              "2     -0.194314 -0.077291       3        1  19.297555\n",
              "3      0.116200  0.073584       4        1  19.078754\n",
              "0     -0.060969  0.146938       5        1  17.845427, topic_info=            Term         Freq        Total Category  logprob  loglift\n",
              "9639        film   928.000000   928.000000  Default  30.0000  30.0000\n",
              "14597     labour   720.000000   720.000000  Default  29.0000  29.0000\n",
              "10531       game  1326.000000  1326.000000  Default  28.0000  28.0000\n",
              "2895          bn   740.000000   740.000000  Default  27.0000  27.0000\n",
              "1852       award   520.000000   520.000000  Default  26.0000  26.0000\n",
              "...          ...          ...          ...      ...      ...      ...\n",
              "27332         tv   163.315405   451.455547   Topic5  -6.0701   0.7066\n",
              "12953  including   148.194181   335.374980   Topic5  -6.1672   0.9067\n",
              "18284     office   146.139285   322.356636   Topic5  -6.1812   0.9323\n",
              "6430         day   155.328647   609.892828   Topic5  -6.1202   0.3557\n",
              "15106       life   145.370019   390.924457   Topic5  -6.1865   0.7342\n",
              "\n",
              "[382 rows x 6 columns], token_table=       Topic      Freq             Term\n",
              "term                                   \n",
              "233        1  0.156949              act\n",
              "233        2  0.027697              act\n",
              "233        3  0.023081              act\n",
              "233        4  0.106171              act\n",
              "233        5  0.692420              act\n",
              "...      ...       ...              ...\n",
              "29605      2  0.991429          yugansk\n",
              "29607      2  0.976325  yuganskneftegas\n",
              "29617      2  0.995122            yukos\n",
              "29653      1  0.021474          zealand\n",
              "29653      3  0.966328          zealand\n",
              "\n",
              "[890 rows x 3 columns], R=30, lambda_step=0.01, plot_opts={'xlab': 'PC1', 'ylab': 'PC2'}, topic_order=[5, 2, 3, 4, 1])"
            ],
            "text/html": [
              "\n",
              "<link rel=\"stylesheet\" type=\"text/css\" href=\"https://cdn.jsdelivr.net/gh/bmabey/pyLDAvis@3.3.1/pyLDAvis/js/ldavis.v1.0.0.css\">\n",
              "\n",
              "\n",
              "<div id=\"ldavis_el730991400222412797761751058899\"></div>\n",
              "<script type=\"text/javascript\">\n",
              "\n",
              "var ldavis_el730991400222412797761751058899_data = {\"mdsDat\": {\"x\": [0.012311517467973812, 0.12677154772946136, -0.19431366424141214, 0.11619964087372259, -0.060969041829745635], \"y\": [-0.030990641213659822, -0.11224060122044713, -0.07729110811643196, 0.07358396721272467, 0.14693838333781425], \"topics\": [1, 2, 3, 4, 5], \"cluster\": [1, 1, 1, 1, 1], \"Freq\": [22.116127680784597, 21.66213558059192, 19.297555417268196, 19.07875416989209, 17.845427151463202]}, \"tinfo\": {\"Term\": [\"film\", \"labour\", \"game\", \"bn\", \"award\", \"election\", \"phone\", \"mobile\", \"company\", \"blair\", \"technology\", \"party\", \"tory\", \"best\", \"government\", \"market\", \"minister\", \"people\", \"firm\", \"music\", \"player\", \"user\", \"computer\", \"england\", \"brown\", \"bank\", \"tax\", \"price\", \"sale\", \"growth\", \"tory\", \"pension\", \"chancellor\", \"glazer\", \"lib\", \"dems\", \"milburn\", \"gerrard\", \"parry\", \"manifesto\", \"election\", \"benitez\", \"labour\", \"pp\", \"pensioner\", \"prescott\", \"letwin\", \"ronaldo\", \"anfield\", \"taxpayer\", \"livingstone\", \"blair\", \"robben\", \"nh\", \"peston\", \"preelection\", \"juninho\", \"rift\", \"quango\", \"qantas\", \"prime\", \"conservative\", \"brown\", \"dem\", \"asylum\", \"wage\", \"kennedy\", \"howard\", \"liverpool\", \"liberal\", \"cabinet\", \"party\", \"minister\", \"democrat\", \"blunkett\", \"leader\", \"tony\", \"tax\", \"health\", \"mp\", \"government\", \"council\", \"proposal\", \"plan\", \"secretary\", \"public\", \"education\", \"issue\", \"policy\", \"general\", \"people\", \"campaign\", \"new\", \"budget\", \"britain\", \"claim\", \"country\", \"want\", \"bbc\", \"cut\", \"yukos\", \"profit\", \"bankruptcy\", \"gm\", \"oil\", \"gazprom\", \"fiat\", \"currency\", \"worldcom\", \"ebbers\", \"highdefinition\", \"rosneft\", \"yugansk\", \"stock\", \"yen\", \"export\", \"creditor\", \"khodorkovsky\", \"gdp\", \"tobacco\", \"trading\", \"boeing\", \"bluray\", \"lending\", \"parmalat\", \"baikal\", \"yuganskneftegas\", \"carmaker\", \"auto\", \"insurer\", \"china\", \"euro\", \"retail\", \"investor\", \"economist\", \"gas\", \"bank\", \"growth\", \"exchange\", \"price\", \"bn\", \"fraud\", \"dollar\", \"share\", \"sale\", \"market\", \"analyst\", \"economy\", \"deficit\", \"rate\", \"company\", \"india\", \"shareholder\", \"financial\", \"firm\", \"quarter\", \"economic\", \"business\", \"demand\", \"investment\", \"rise\", \"figure\", \"month\", \"consumer\", \"december\", \"expected\", \"uk\", \"chief\", \"country\", \"new\", \"deal\", \"cost\", \"group\", \"world\", \"government\", \"cup\", \"coach\", \"rugby\", \"championship\", \"olympic\", \"roddick\", \"athens\", \"tournament\", \"referee\", \"indoor\", \"tennis\", \"athletics\", \"holmes\", \"nadal\", \"kenteris\", \"iaaf\", \"federer\", \"thanou\", \"ogara\", \"marathon\", \"henman\", \"wenger\", \"sprinter\", \"odriscoll\", \"radcliffe\", \"henson\", \"halftime\", \"dallaglio\", \"conte\", \"semifinal\", \"champion\", \"injury\", \"slam\", \"arsenal\", \"match\", \"zealand\", \"squad\", \"robinson\", \"seed\", \"captain\", \"season\", \"victory\", \"league\", \"ireland\", \"grand\", \"england\", \"game\", \"team\", \"goal\", \"player\", \"win\", \"minute\", \"wale\", \"final\", \"title\", \"sport\", \"play\", \"france\", \"second\", \"world\", \"yearold\", \"playing\", \"im\", \"club\", \"good\", \"set\", \"great\", \"week\", \"new\", \"open\", \"like\", \"user\", \"site\", \"gadget\", \"apple\", \"computer\", \"blog\", \"google\", \"handset\", \"spam\", \"ipod\", \"ibm\", \"laptop\", \"browser\", \"yahoo\", \"malicious\", \"wireless\", \"server\", \"multimedia\", \"download\", \"desktop\", \"domain\", \"web\", \"antivirus\", \"spyware\", \"wifi\", \"computing\", \"nokia\", \"itunes\", \"blogger\", \"mini\", \"phone\", \"device\", \"software\", \"machine\", \"pc\", \"portable\", \"mobile\", \"program\", \"email\", \"microsoft\", \"digital\", \"search\", \"virus\", \"file\", \"online\", \"technology\", \"network\", \"internet\", \"content\", \"net\", \"information\", \"website\", \"broadband\", \"people\", \"using\", \"service\", \"music\", \"video\", \"used\", \"tv\", \"way\", \"new\", \"like\", \"firm\", \"number\", \"company\", \"million\", \"work\", \"oscar\", \"festival\", \"singer\", \"actress\", \"ukip\", \"nomination\", \"actor\", \"kilroysilk\", \"aviator\", \"nominated\", \"lse\", \"starring\", \"boerse\", \"nominee\", \"award\", \"comedy\", \"rapper\", \"elvis\", \"album\", \"drake\", \"scorsese\", \"pop\", \"forsyth\", \"presenter\", \"joss\", \"detention\", \"euronext\", \"sideways\", \"goldsmith\", \"eastwood\", \"theatre\", \"film\", \"documentary\", \"musical\", \"band\", \"drama\", \"rock\", \"ceremony\", \"chart\", \"hunting\", \"category\", \"song\", \"star\", \"best\", \"prize\", \"lord\", \"hollywood\", \"police\", \"british\", \"law\", \"music\", \"act\", \"director\", \"artist\", \"london\", \"uk\", \"movie\", \"right\", \"new\", \"bbc\", \"number\", \"people\", \"role\", \"tv\", \"including\", \"office\", \"day\", \"life\"], \"Freq\": [928.0, 720.0, 1326.0, 740.0, 520.0, 610.0, 509.0, 526.0, 979.0, 530.0, 553.0, 696.0, 470.0, 813.0, 1091.0, 711.0, 671.0, 1756.0, 838.0, 679.0, 697.0, 379.0, 341.0, 564.0, 413.0, 438.0, 497.0, 445.0, 644.0, 398.0, 468.80461169942845, 132.36510815365202, 237.88100978533186, 70.57260203639535, 161.73922414474066, 93.07217334886113, 61.060505271013035, 78.69294091359161, 49.6470681406479, 51.49091875515185, 600.7796762482398, 43.93230723613246, 708.1175978886491, 42.96741679337575, 37.282034310646, 34.4299935557475, 31.576936000762387, 29.663210771959015, 26.81264405088624, 29.58178152195038, 24.91764429726624, 514.5798353348885, 24.89300767154703, 23.96746401837315, 22.06601558154974, 22.065267564327204, 22.05983007151665, 21.113083720506975, 21.11244468141897, 21.10929624898988, 281.7634541147457, 222.95625187783494, 393.03839299702946, 68.33059641439873, 87.89627041996616, 83.16372360634787, 113.96038856927643, 299.02225355561677, 142.12134885885368, 153.8189402110458, 82.25514136958688, 602.2922386908538, 577.0000901714352, 142.20943918664324, 92.58437889442939, 299.3897489131982, 179.46226285907105, 404.61119191109503, 144.6979175634467, 266.5961447127598, 730.0955219254901, 190.2421025243117, 149.7394525038842, 409.8919461151497, 202.82838872591827, 321.6361308239115, 121.09664561459235, 265.7633997871662, 190.43661010330928, 204.89043860758508, 504.91840259469234, 194.85960731133235, 432.52338274063834, 171.37891419684144, 208.79824105917652, 197.72754419662024, 252.49251042047058, 241.62927312090733, 221.5590305094026, 192.46207154525626, 177.12215505255529, 242.36644416777972, 91.41342406253536, 72.98621876978267, 270.72025755847574, 65.61447059410901, 63.77052113500454, 63.770068279004434, 59.16289200869566, 58.24168190300445, 58.21719032004718, 53.634285566178946, 52.71269954914876, 181.75765979915997, 46.2602138979528, 113.25519948056427, 47.00611528709817, 37.04598018869697, 36.123434417545, 35.20155599601255, 94.72897004424404, 44.14745192314133, 29.67252120375054, 33.26497375111214, 27.830770790949295, 26.909295086041464, 26.90927867663434, 26.90811750943619, 26.902373315377, 29.58727935717091, 267.88304213332276, 231.3530388450215, 75.28588119250934, 133.69871396860938, 102.76283969745448, 63.35442260052226, 408.66534377936927, 370.0731702391704, 135.27352604494297, 407.40858217237485, 653.3345894064275, 109.5148728238164, 215.93423679822146, 383.72766334829015, 518.4368449824098, 560.2060358918409, 292.1714313278939, 334.45368094127383, 110.53914371823605, 297.1618923116127, 684.1992910938961, 165.04990567810222, 107.9902384422783, 194.29424624556557, 542.9343756393689, 167.50660039957768, 260.9083902622496, 284.6394744936282, 175.07884376485924, 165.72569823299852, 215.45023084810464, 226.81494018554673, 334.82860855452657, 203.62896264848538, 181.68523225608902, 232.47518025725768, 321.53210415557584, 225.26047927566995, 271.69799456314047, 368.7272847134931, 222.24472665196427, 216.33409054696668, 227.65305559175226, 255.46631795429352, 247.14997953015464, 277.59475948232614, 233.84527810307043, 197.5407059187793, 140.75426148524934, 137.02552917737623, 111.89692208389786, 93.27732051166878, 82.10645979667508, 82.104834132274, 80.24519055170647, 68.14104616386817, 63.48817665357268, 63.48540101680327, 59.765271817450085, 58.83430486603164, 56.04118579743604, 51.38685259783414, 50.4560072989706, 50.455789878535064, 49.52453128662793, 48.594185689307444, 52.236380215808836, 45.80088810340075, 44.87028611817228, 44.8675193853019, 43.00801821325088, 44.83011215016256, 42.07775976437301, 42.076004305264156, 40.215345865067064, 248.26081269158286, 237.56811015183092, 87.65413074503049, 139.70375201979056, 308.7816730485568, 90.26089418052479, 125.42950334267094, 118.43297588951093, 85.82996044694337, 101.42925665127963, 226.79221348878477, 185.93159860171184, 166.34602968767098, 264.9611366709282, 120.49914758858397, 447.06515777779083, 922.8143455711106, 305.3179987224858, 174.70503497282127, 480.85890409802477, 439.7137593146184, 221.24030121801255, 258.1785259101463, 240.3586524938249, 218.09083938875378, 180.83148547040975, 347.09733053881115, 213.04752879803658, 290.5992727021927, 410.6546957427075, 184.53795228384976, 180.1090091372137, 204.7893277612692, 207.96162512105863, 248.6237791983944, 253.5031403159583, 191.09104192494243, 211.84902584448218, 231.49166567504778, 188.0358748236967, 192.4291232199057, 378.89913370319704, 282.91901506401126, 183.9277733762391, 159.5883386574121, 339.2375416520792, 112.70697945054191, 108.01716742529703, 94.8836017169568, 72.3879585098327, 70.51294529718808, 54.56972739178716, 53.63491217616462, 51.759505790010934, 51.75863881097411, 51.75714136514018, 89.60231031988387, 48.93955961933575, 51.68115119095759, 96.84755219215283, 44.25717658404274, 46.09384933710327, 147.21858438697066, 38.63222916232189, 38.631905699218706, 38.6317177950533, 37.69401435391398, 35.806361423525516, 34.87842266802023, 43.13407571331804, 77.07469236775489, 498.2970025787983, 205.2418573209263, 276.55539620172914, 167.9674952797243, 242.36649135547324, 73.1509049959454, 501.92209439224956, 159.0434751596836, 170.20269864911802, 207.57604732943122, 290.9858686615981, 189.01598731759603, 141.07619142543578, 120.10203041437589, 274.2791415070985, 483.50376397132425, 295.55500301433744, 221.10321438680492, 157.22197325711983, 304.1484392747504, 235.68096362502573, 235.05939101129817, 183.79687576125735, 850.5820279692817, 217.62820072731506, 400.41383708999905, 337.6547072327375, 212.90020661540163, 264.1374652360768, 246.17592079987162, 286.6855577481436, 393.41037854134163, 264.16592510303195, 261.8556679740824, 233.46124785113088, 236.87421145728752, 214.11501686991141, 212.60411142318242, 159.86637295128793, 129.0180740127155, 129.9063927170104, 122.66692555405061, 116.30950716827215, 121.7089565810694, 206.36775138818484, 95.44257151861626, 78.18574505382715, 73.67191271034878, 70.94173442154954, 60.062534337211666, 59.148312007964705, 56.43353869652842, 512.6345792554024, 114.40243761779804, 42.82199131758134, 41.91589828770126, 184.37032229470003, 38.28672984022568, 38.24724356319052, 91.6168811794024, 35.565333308637186, 35.55865942729807, 34.65779346183296, 34.65770844075119, 34.65123244752012, 33.75087060326658, 33.75031743524263, 35.50605857496475, 81.40224997922986, 853.7742819494018, 55.49577919992817, 83.28849280410057, 210.1615605242821, 75.79458038195216, 108.60083298359932, 101.23138725769971, 132.63494820498147, 64.93323112891184, 105.92015099697177, 205.74468919624965, 301.7189449161814, 558.8048782923782, 148.2358389647902, 250.7086435220315, 88.91714661022996, 173.04874430140197, 280.05909575819516, 243.42803314265015, 333.1495751255921, 149.55332935741976, 204.74155815678063, 106.19420807936403, 188.22655908241106, 284.0253200327279, 134.5967837113337, 206.49703269250367, 312.9376117837522, 200.6498491439421, 202.4080101753162, 247.03817464149725, 146.03700014378876, 163.3154051397449, 148.19418118722737, 146.13928467986435, 155.32864674101944, 145.37001941898026], \"Total\": [928.0, 720.0, 1326.0, 740.0, 520.0, 610.0, 509.0, 526.0, 979.0, 530.0, 553.0, 696.0, 470.0, 813.0, 1091.0, 711.0, 671.0, 1756.0, 838.0, 679.0, 697.0, 379.0, 341.0, 564.0, 413.0, 438.0, 497.0, 445.0, 644.0, 398.0, 470.72717820508126, 133.13476839907403, 239.61364500137665, 71.31276984061037, 163.52135157847354, 94.12463405404688, 61.80152230213193, 79.85924493829775, 50.38805644685171, 52.2875936680965, 610.2878593979102, 44.681154890533215, 720.4628367917339, 43.72988886799592, 38.023443901685276, 35.17011515195634, 32.31675376639081, 30.41426805725981, 27.560961265380158, 30.411620986108602, 25.65884276105338, 530.0702366084332, 25.658347793881685, 24.707754116170488, 22.805536123824584, 22.805504942316947, 22.80540358787006, 21.854367492404407, 21.854337575873924, 21.854239932041164, 292.5738945883743, 231.6685592639485, 413.78670805467397, 71.20949573917703, 92.07157167473184, 87.37194108007468, 120.53872606965392, 326.86774955411533, 151.93726786763978, 164.97111315357338, 87.34430867083569, 696.8532930721404, 671.8377017962274, 156.2916324138105, 99.54598804940359, 347.5436163042428, 205.28874722180467, 497.31805771740574, 165.78433086664722, 332.4034916941217, 1091.2858386139285, 234.9251244004753, 177.84100741079587, 616.7235188042606, 268.9536762819902, 492.5087924470131, 141.24724992201334, 408.7142496469842, 264.004900609197, 319.24398941146654, 1756.785310826932, 307.45348534831766, 1739.0903234542732, 238.47449691191656, 405.3281417273944, 357.5944926667386, 742.5785879235674, 659.0050319073273, 695.4200659396793, 359.09472042240475, 177.86770556318072, 244.20457579179762, 92.16348828573483, 73.73234361664477, 273.6860793241765, 66.35990969830263, 64.51683342844112, 64.5168323339011, 59.909047082482786, 58.987491591812784, 58.98790256897908, 54.379734563380495, 53.45818365218404, 184.37631941916695, 47.0073052119966, 115.22289290308714, 47.934543191816815, 37.7918097262247, 36.870281736567414, 35.948739822976314, 96.79380360956333, 45.17291576490573, 30.419402675290478, 34.10427917434421, 28.576280363537837, 27.654725419714147, 27.654725776430155, 27.654748376460063, 27.65482894797466, 30.420748906306542, 278.42056808899343, 240.62176380682752, 77.44281148120572, 138.36246226712623, 106.06607175212064, 65.46178964919352, 438.91787745076914, 398.70754976961666, 142.99109635237858, 445.92870005158284, 740.86940909168, 116.18990384894605, 246.5270450254272, 457.7400195869431, 644.9945896070726, 711.2782963966067, 354.9706298423069, 419.1595729176099, 120.91273788349443, 367.7134644257452, 979.1128010524652, 190.98660460187133, 118.24590344274313, 236.06178258431692, 838.3779820134026, 201.3846520338813, 352.0878614891674, 431.98230002359355, 226.7530998834065, 216.10942617325017, 324.46102489009365, 372.40879486839094, 727.9433289715685, 320.87685324603456, 261.542038272474, 440.0674737790862, 942.8266103089716, 417.5876371946509, 742.5785879235674, 1739.0903234542732, 435.7585142111114, 415.54185810710055, 558.9604379158193, 1076.1910726318463, 1091.2858386139285, 278.34518267775104, 234.5916246304079, 198.2856216482334, 141.4992709627754, 137.77557490296687, 112.64060351358248, 94.02211853916202, 82.85103432480763, 82.8510905728216, 80.98918593443524, 68.88718889498645, 64.2325474333141, 64.23253998910032, 60.5088582737475, 59.57793225723943, 56.785163597289504, 52.13054034418867, 51.19961637079071, 51.19962288271037, 50.26868563132407, 49.337769118524044, 53.063230650670725, 46.544991952442444, 45.61407759920238, 45.614000320517455, 43.75223860415962, 45.61487764476584, 42.8212999490516, 42.82128658578073, 40.95945907162643, 253.30117077323553, 243.0517166656389, 89.3884218509136, 144.37543634904284, 326.0214735159152, 93.13607244853436, 131.13043210793776, 123.70880568441032, 89.38777140444458, 106.98115562808343, 251.9641990141691, 206.6622189051667, 184.33856367960166, 305.20967896773396, 131.1297014074301, 564.6593044271383, 1326.857874201624, 383.93965589812007, 205.08836856003913, 697.638639988377, 635.3287338402778, 285.83248394245635, 357.08613309165133, 331.0147622783147, 295.088733770302, 232.59964085414666, 562.1805265043351, 325.39101698529896, 561.620936761531, 1076.1910726318463, 270.3279597659215, 261.0601085298573, 337.4982592928092, 372.5029473493583, 620.8088540939532, 685.8141729714638, 352.86781588588525, 690.0331466001151, 1739.0903234542732, 356.8859805039676, 774.2721191202718, 379.7509044730043, 284.10196482249717, 184.71439283017645, 160.33542351326707, 341.28508802225963, 113.45142179167432, 108.76296258782534, 95.63532529184347, 73.13112553368181, 71.2557716384567, 55.3151841014577, 54.37751650705071, 52.502163367052326, 52.50214456805468, 52.50214304598188, 90.93672046237627, 49.689004844626965, 52.50080559594716, 98.43373188734643, 45.00070735940603, 46.87579022216438, 149.98556055684497, 39.37463015037701, 39.37462400963201, 39.37461826479124, 38.43694349138375, 36.56136969295594, 35.62382085505834, 44.058059844570295, 78.77054827435194, 509.886345694541, 210.9155382297137, 286.75687718514735, 173.4148775327745, 251.38923230472898, 74.98735672061993, 526.5505799878662, 165.08288479719212, 178.2532949377097, 220.14016255192521, 313.6138373712838, 201.48277460044193, 149.00173220976615, 126.4471255652406, 302.33610704780864, 553.8840075492927, 350.39066372456557, 254.3656009531139, 176.08507892714752, 378.9460153130701, 288.7185150238969, 292.98615158670384, 217.8880143521031, 1756.785310826932, 280.95513119894997, 723.7756172974276, 679.7755502621726, 309.1898096459418, 465.23585790330935, 451.45554702124775, 738.2739236894212, 1739.0903234542732, 774.2721191202718, 838.3779820134026, 766.2519613500285, 979.1128010524652, 575.7376259727326, 609.1402387939877, 160.61558250775582, 129.76718900387937, 130.6751317109329, 123.41603905945044, 117.06515344123926, 122.50954628020705, 207.8061946279177, 96.19707746855539, 78.95840537975903, 74.42153697297157, 71.69973477999524, 60.81193956308696, 59.904732398847386, 57.182709107943964, 520.0771289474989, 116.19127323784822, 43.573199053757584, 42.66583668131694, 187.91944922221683, 39.03659196164114, 39.0372118124189, 93.51205164186833, 36.31469819455701, 36.314963072193805, 35.407381449143216, 35.407409173586025, 35.40746935482675, 34.500051341607204, 34.50010740830678, 36.31559633136754, 83.53935390258218, 928.0537895892061, 57.197691667663456, 87.23586730384139, 228.4279322695357, 79.95987724880143, 116.40424760265721, 108.13158402773057, 145.5857398095109, 68.16756601419723, 116.42158967168078, 242.54784109221183, 374.7685808157693, 813.2921312018091, 176.75703022573595, 350.90397215219446, 99.9856870618984, 234.94921232366625, 478.5741755485801, 404.28349334464497, 679.7755502621726, 216.63138941646764, 411.7863432629491, 133.26953676316685, 401.1250180465472, 942.8266103089716, 211.92183974221987, 578.6174674486391, 1739.0903234542732, 695.4200659396793, 766.2519613500285, 1756.785310826932, 280.6370969227394, 451.45554702124775, 335.37497952743854, 322.3566357829468, 609.8928282739935, 390.92445740385824], \"Category\": [\"Default\", \"Default\", \"Default\", \"Default\", \"Default\", \"Default\", \"Default\", \"Default\", \"Default\", \"Default\", \"Default\", \"Default\", \"Default\", \"Default\", \"Default\", \"Default\", \"Default\", \"Default\", \"Default\", \"Default\", \"Default\", \"Default\", \"Default\", \"Default\", \"Default\", \"Default\", \"Default\", \"Default\", \"Default\", \"Default\", \"Topic1\", \"Topic1\", \"Topic1\", \"Topic1\", \"Topic1\", \"Topic1\", \"Topic1\", \"Topic1\", \"Topic1\", \"Topic1\", \"Topic1\", \"Topic1\", \"Topic1\", \"Topic1\", \"Topic1\", \"Topic1\", \"Topic1\", \"Topic1\", \"Topic1\", \"Topic1\", \"Topic1\", \"Topic1\", \"Topic1\", \"Topic1\", \"Topic1\", \"Topic1\", \"Topic1\", \"Topic1\", \"Topic1\", \"Topic1\", \"Topic1\", \"Topic1\", \"Topic1\", \"Topic1\", \"Topic1\", \"Topic1\", \"Topic1\", \"Topic1\", \"Topic1\", \"Topic1\", \"Topic1\", \"Topic1\", \"Topic1\", \"Topic1\", \"Topic1\", \"Topic1\", \"Topic1\", \"Topic1\", \"Topic1\", \"Topic1\", \"Topic1\", \"Topic1\", \"Topic1\", \"Topic1\", \"Topic1\", \"Topic1\", \"Topic1\", \"Topic1\", \"Topic1\", \"Topic1\", \"Topic1\", \"Topic1\", \"Topic1\", \"Topic1\", \"Topic1\", \"Topic1\", \"Topic1\", \"Topic1\", \"Topic1\", \"Topic1\", \"Topic2\", \"Topic2\", \"Topic2\", \"Topic2\", \"Topic2\", \"Topic2\", \"Topic2\", \"Topic2\", \"Topic2\", \"Topic2\", \"Topic2\", \"Topic2\", \"Topic2\", \"Topic2\", \"Topic2\", \"Topic2\", \"Topic2\", \"Topic2\", \"Topic2\", \"Topic2\", \"Topic2\", \"Topic2\", \"Topic2\", \"Topic2\", \"Topic2\", \"Topic2\", \"Topic2\", \"Topic2\", \"Topic2\", \"Topic2\", \"Topic2\", \"Topic2\", \"Topic2\", \"Topic2\", \"Topic2\", \"Topic2\", \"Topic2\", \"Topic2\", \"Topic2\", \"Topic2\", \"Topic2\", \"Topic2\", \"Topic2\", \"Topic2\", \"Topic2\", \"Topic2\", \"Topic2\", \"Topic2\", \"Topic2\", \"Topic2\", \"Topic2\", \"Topic2\", \"Topic2\", \"Topic2\", \"Topic2\", \"Topic2\", \"Topic2\", \"Topic2\", \"Topic2\", \"Topic2\", \"Topic2\", \"Topic2\", \"Topic2\", \"Topic2\", \"Topic2\", \"Topic2\", \"Topic2\", \"Topic2\", \"Topic2\", \"Topic2\", \"Topic2\", \"Topic2\", \"Topic2\", \"Topic2\", \"Topic2\", \"Topic3\", \"Topic3\", \"Topic3\", \"Topic3\", \"Topic3\", \"Topic3\", \"Topic3\", \"Topic3\", \"Topic3\", \"Topic3\", \"Topic3\", \"Topic3\", \"Topic3\", \"Topic3\", \"Topic3\", \"Topic3\", \"Topic3\", \"Topic3\", \"Topic3\", \"Topic3\", \"Topic3\", \"Topic3\", \"Topic3\", \"Topic3\", \"Topic3\", \"Topic3\", \"Topic3\", \"Topic3\", \"Topic3\", \"Topic3\", \"Topic3\", \"Topic3\", \"Topic3\", \"Topic3\", \"Topic3\", \"Topic3\", \"Topic3\", \"Topic3\", \"Topic3\", \"Topic3\", \"Topic3\", \"Topic3\", \"Topic3\", \"Topic3\", \"Topic3\", \"Topic3\", \"Topic3\", \"Topic3\", \"Topic3\", \"Topic3\", \"Topic3\", \"Topic3\", \"Topic3\", \"Topic3\", \"Topic3\", \"Topic3\", \"Topic3\", \"Topic3\", \"Topic3\", \"Topic3\", \"Topic3\", \"Topic3\", \"Topic3\", \"Topic3\", \"Topic3\", \"Topic3\", \"Topic3\", \"Topic3\", \"Topic3\", \"Topic3\", \"Topic3\", \"Topic4\", \"Topic4\", \"Topic4\", \"Topic4\", \"Topic4\", \"Topic4\", \"Topic4\", \"Topic4\", \"Topic4\", \"Topic4\", \"Topic4\", \"Topic4\", \"Topic4\", \"Topic4\", \"Topic4\", \"Topic4\", \"Topic4\", \"Topic4\", \"Topic4\", \"Topic4\", \"Topic4\", \"Topic4\", \"Topic4\", \"Topic4\", \"Topic4\", \"Topic4\", \"Topic4\", \"Topic4\", \"Topic4\", \"Topic4\", \"Topic4\", \"Topic4\", \"Topic4\", \"Topic4\", \"Topic4\", \"Topic4\", \"Topic4\", \"Topic4\", \"Topic4\", \"Topic4\", \"Topic4\", \"Topic4\", \"Topic4\", \"Topic4\", \"Topic4\", \"Topic4\", \"Topic4\", \"Topic4\", \"Topic4\", \"Topic4\", \"Topic4\", \"Topic4\", \"Topic4\", \"Topic4\", \"Topic4\", \"Topic4\", \"Topic4\", \"Topic4\", \"Topic4\", \"Topic4\", \"Topic4\", \"Topic4\", \"Topic4\", \"Topic4\", \"Topic4\", \"Topic4\", \"Topic4\", \"Topic4\", \"Topic5\", \"Topic5\", \"Topic5\", \"Topic5\", \"Topic5\", \"Topic5\", \"Topic5\", \"Topic5\", \"Topic5\", \"Topic5\", \"Topic5\", \"Topic5\", \"Topic5\", \"Topic5\", \"Topic5\", \"Topic5\", \"Topic5\", \"Topic5\", \"Topic5\", \"Topic5\", \"Topic5\", \"Topic5\", \"Topic5\", \"Topic5\", \"Topic5\", \"Topic5\", \"Topic5\", \"Topic5\", \"Topic5\", \"Topic5\", \"Topic5\", \"Topic5\", \"Topic5\", \"Topic5\", \"Topic5\", \"Topic5\", \"Topic5\", \"Topic5\", \"Topic5\", \"Topic5\", \"Topic5\", \"Topic5\", \"Topic5\", \"Topic5\", \"Topic5\", \"Topic5\", \"Topic5\", \"Topic5\", \"Topic5\", \"Topic5\", \"Topic5\", \"Topic5\", \"Topic5\", \"Topic5\", \"Topic5\", \"Topic5\", \"Topic5\", \"Topic5\", \"Topic5\", \"Topic5\", \"Topic5\", \"Topic5\", \"Topic5\", \"Topic5\", \"Topic5\", \"Topic5\", \"Topic5\", \"Topic5\"], \"logprob\": [30.0, 29.0, 28.0, 27.0, 26.0, 25.0, 24.0, 23.0, 22.0, 21.0, 20.0, 19.0, 18.0, 17.0, 16.0, 15.0, 14.0, 13.0, 12.0, 11.0, 10.0, 9.0, 8.0, 7.0, 6.0, 5.0, 4.0, 3.0, 2.0, 1.0, -5.2301, -6.4948, -5.9086, -7.1237, -6.2943, -6.847, -7.2685, -7.0148, -7.4754, -7.4389, -4.9821, -7.5977, -4.8177, -7.6199, -7.7618, -7.8414, -7.9279, -7.9904, -8.0915, -7.9932, -8.1648, -5.137, -8.1657, -8.2036, -8.2863, -8.2863, -8.2866, -8.3304, -8.3305, -8.3306, -5.7393, -5.9734, -5.4064, -7.156, -6.9042, -6.9595, -6.6445, -5.6798, -6.4237, -6.3446, -6.9705, -4.9796, -5.0225, -6.423, -6.8522, -5.6786, -6.1904, -5.3774, -6.4057, -5.7946, -4.7872, -6.132, -6.3714, -5.3644, -6.068, -5.6069, -6.5837, -5.7977, -6.131, -6.0579, -5.1559, -6.1081, -5.3107, -6.2365, -6.039, -6.0934, -5.849, -5.8929, -5.9796, -6.1204, -6.1828, -5.8691, -6.8442, -7.0693, -5.7585, -7.1758, -7.2043, -7.2043, -7.2793, -7.295, -7.2954, -7.3774, -7.3947, -6.1569, -7.5253, -6.6299, -7.5093, -7.7474, -7.7726, -7.7985, -6.8086, -7.5721, -7.9694, -7.8551, -8.0334, -8.0671, -8.0671, -8.0672, -8.0674, -7.9722, -5.769, -5.9156, -7.0383, -6.464, -6.7272, -7.2108, -5.3467, -5.4459, -6.4523, -5.3498, -4.8775, -6.6635, -5.9846, -5.4097, -5.1088, -5.0313, -5.6822, -5.5471, -6.6542, -5.6653, -4.8313, -6.2533, -6.6775, -6.0902, -5.0626, -6.2386, -5.7954, -5.7084, -6.1944, -6.2493, -5.9869, -5.9355, -5.546, -6.0433, -6.1573, -5.9108, -5.5865, -5.9423, -5.7549, -5.4495, -5.9558, -5.9828, -5.9318, -5.8165, -5.8496, -5.6178, -5.7893, -5.9581, -6.297, -6.3238, -6.5264, -6.7084, -6.836, -6.836, -6.8589, -7.0224, -7.0931, -7.0932, -7.1536, -7.1693, -7.2179, -7.3046, -7.3229, -7.3229, -7.3415, -7.3605, -7.2882, -7.4197, -7.4402, -7.4403, -7.4826, -7.4411, -7.5045, -7.5045, -7.5498, -5.7295, -5.7735, -6.7706, -6.3045, -5.5114, -6.7413, -6.4123, -6.4697, -6.7916, -6.6246, -5.82, -6.0186, -6.1299, -5.6644, -6.4524, -5.1413, -4.4166, -5.5226, -6.0809, -5.0684, -5.1579, -5.8448, -5.6904, -5.7619, -5.8591, -6.0464, -5.3944, -5.8825, -5.5721, -5.2263, -6.0261, -6.0504, -5.922, -5.9066, -5.7281, -5.7086, -5.9913, -5.8881, -5.7995, -6.0074, -5.9843, -5.2953, -5.5874, -6.0181, -6.16, -5.4059, -6.5078, -6.5503, -6.6799, -6.9506, -6.9768, -7.2331, -7.2504, -7.286, -7.286, -7.286, -6.7372, -7.342, -7.2875, -6.6595, -7.4426, -7.4019, -6.2407, -7.5785, -7.5785, -7.5785, -7.6031, -7.6545, -7.6807, -7.4683, -6.8878, -5.0214, -5.9084, -5.6102, -6.1088, -5.7421, -6.9401, -5.0142, -6.1634, -6.0956, -5.8971, -5.5593, -5.9908, -6.2833, -6.4443, -5.6185, -5.0515, -5.5437, -5.834, -6.1749, -5.5151, -5.7701, -5.7728, -6.0188, -4.4867, -5.8498, -5.2401, -5.4106, -5.8718, -5.6561, -5.7266, -5.5742, -5.2577, -5.656, -5.6648, -5.7796, -5.7651, -5.8661, -5.8732, -6.0914, -6.3058, -6.299, -6.3563, -6.4095, -6.3641, -5.8361, -6.6072, -6.8067, -6.8662, -6.9039, -7.0704, -7.0857, -7.1327, -4.9262, -6.426, -7.4087, -7.4301, -5.9488, -7.5207, -7.5217, -6.6482, -7.5944, -7.5946, -7.6202, -7.6203, -7.6204, -7.6468, -7.6468, -7.5961, -6.7664, -4.4161, -7.1495, -6.7435, -5.8179, -6.8377, -6.4781, -6.5484, -6.2782, -6.9924, -6.5031, -5.8391, -5.4563, -4.84, -6.167, -5.6415, -6.6781, -6.0122, -5.5308, -5.671, -5.3572, -6.1581, -5.844, -6.5005, -5.9281, -5.5167, -6.2635, -5.8355, -5.4198, -5.8642, -5.8555, -5.6562, -6.1819, -6.0701, -6.1672, -6.1812, -6.1202, -6.1865], \"loglift\": [30.0, 29.0, 28.0, 27.0, 26.0, 25.0, 24.0, 23.0, 22.0, 21.0, 20.0, 19.0, 18.0, 17.0, 16.0, 15.0, 14.0, 13.0, 12.0, 11.0, 10.0, 9.0, 8.0, 7.0, 6.0, 5.0, 4.0, 3.0, 2.0, 1.0, 1.5048, 1.5031, 1.5016, 1.4984, 1.4979, 1.4976, 1.4968, 1.4942, 1.494, 1.4935, 1.4932, 1.492, 1.4916, 1.4913, 1.4892, 1.4876, 1.4857, 1.4839, 1.4813, 1.4812, 1.4796, 1.4792, 1.4786, 1.4784, 1.4759, 1.4759, 1.4756, 1.4744, 1.4743, 1.4742, 1.4712, 1.4705, 1.4574, 1.4676, 1.4625, 1.4595, 1.4527, 1.4198, 1.4421, 1.4389, 1.4488, 1.363, 1.3567, 1.4144, 1.4364, 1.3597, 1.3744, 1.3026, 1.3728, 1.2882, 1.1069, 1.2979, 1.3369, 1.1003, 1.2267, 1.0828, 1.3549, 1.0785, 1.1822, 1.0654, 0.262, 1.0528, 0.1174, 1.1785, 0.8455, 0.9164, 0.4301, 0.5055, 0.365, 0.8852, 1.5254, 1.522, 1.5214, 1.5194, 1.5187, 1.5183, 1.518, 1.518, 1.5171, 1.5169, 1.5165, 1.5158, 1.5156, 1.5153, 1.5136, 1.5124, 1.51, 1.5097, 1.5091, 1.5086, 1.508, 1.5066, 1.5047, 1.5047, 1.5032, 1.5023, 1.5023, 1.5022, 1.502, 1.5018, 1.491, 1.4903, 1.5014, 1.4953, 1.498, 1.4969, 1.4582, 1.4551, 1.4741, 1.4393, 1.4039, 1.4704, 1.3971, 1.3532, 1.3112, 1.2908, 1.3349, 1.3039, 1.4399, 1.3166, 1.1712, 1.3836, 1.4389, 1.3349, 1.0951, 1.3454, 1.2299, 1.1124, 1.271, 1.2642, 1.1202, 1.0337, 0.753, 1.0748, 1.1653, 0.8915, 0.4538, 0.9124, 0.5242, -0.0215, 0.8563, 0.8768, 0.6313, 0.0915, 0.0445, 1.6425, 1.642, 1.6414, 1.6399, 1.6397, 1.6386, 1.6372, 1.6362, 1.6361, 1.636, 1.6343, 1.6335, 1.6335, 1.6328, 1.6326, 1.632, 1.6308, 1.6306, 1.6306, 1.6303, 1.63, 1.6295, 1.6291, 1.6288, 1.6287, 1.628, 1.6278, 1.6277, 1.6276, 1.6269, 1.6251, 1.6224, 1.6256, 1.6123, 1.5909, 1.6138, 1.6007, 1.6016, 1.6046, 1.5919, 1.5399, 1.5395, 1.5425, 1.5038, 1.5606, 1.4117, 1.2821, 1.4161, 1.4848, 1.2731, 1.2772, 1.389, 1.3209, 1.3252, 1.3428, 1.3934, 1.163, 1.2217, 0.9863, 0.6818, 1.2634, 1.274, 1.1456, 1.0623, 0.7301, 0.65, 1.0318, 0.4643, -0.3714, 1.0044, 0.253, 1.6543, 1.6524, 1.6523, 1.6519, 1.6506, 1.65, 1.6497, 1.6487, 1.6464, 1.6461, 1.643, 1.6428, 1.6423, 1.6423, 1.6423, 1.6418, 1.6414, 1.6409, 1.6403, 1.6399, 1.6398, 1.638, 1.6376, 1.6376, 1.6375, 1.6371, 1.6357, 1.6354, 1.6354, 1.6348, 1.6336, 1.6293, 1.6204, 1.6247, 1.62, 1.6318, 1.6087, 1.6193, 1.6104, 1.5978, 1.5817, 1.5927, 1.6019, 1.6051, 1.5592, 1.5207, 1.4864, 1.5165, 1.5433, 1.4367, 1.4536, 1.4363, 1.4864, 0.9313, 1.4012, 1.0646, 0.9569, 1.2835, 1.0905, 1.0502, 0.7107, 0.1703, 0.5812, 0.4929, 0.4681, 0.2375, 0.6675, 0.604, 1.7187, 1.7176, 1.7175, 1.7173, 1.7169, 1.7169, 1.7165, 1.7155, 1.7136, 1.7133, 1.7128, 1.711, 1.7107, 1.7102, 1.709, 1.7079, 1.706, 1.7057, 1.7044, 1.704, 1.703, 1.7029, 1.7026, 1.7024, 1.702, 1.702, 1.7018, 1.7015, 1.7015, 1.7009, 1.6975, 1.64, 1.6932, 1.6771, 1.6401, 1.6699, 1.654, 1.6575, 1.6303, 1.6748, 1.6289, 1.5589, 1.5066, 1.3481, 1.5475, 1.3872, 1.6061, 1.4176, 1.1876, 1.2161, 1.0103, 1.3529, 1.0247, 1.4963, 0.9668, 0.5236, 1.2695, 0.6931, 0.0083, 0.4805, 0.3922, -0.2383, 1.0702, 0.7066, 0.9067, 0.9323, 0.3557, 0.7342]}, \"token.table\": {\"Topic\": [1, 2, 3, 4, 5, 2, 5, 5, 2, 4, 5, 1, 2, 4, 1, 4, 4, 1, 3, 2, 4, 5, 1, 5, 3, 3, 2, 5, 3, 5, 2, 1, 3, 4, 5, 1, 2, 4, 5, 2, 1, 2, 3, 4, 5, 1, 1, 2, 3, 4, 5, 1, 3, 5, 4, 4, 1, 5, 2, 1, 2, 2, 5, 1, 2, 3, 4, 5, 1, 2, 3, 4, 5, 2, 4, 1, 3, 5, 4, 1, 2, 4, 5, 1, 2, 3, 4, 5, 1, 2, 4, 1, 2, 3, 4, 5, 1, 3, 5, 2, 2, 4, 5, 2, 3, 5, 1, 3, 3, 1, 5, 4, 5, 1, 2, 3, 4, 5, 2, 4, 5, 1, 2, 3, 4, 5, 1, 2, 3, 4, 5, 3, 4, 5, 1, 2, 4, 5, 2, 4, 4, 1, 5, 1, 2, 4, 3, 1, 2, 4, 5, 1, 2, 3, 4, 5, 1, 2, 4, 5, 1, 2, 3, 4, 5, 2, 3, 2, 1, 2, 3, 4, 5, 3, 1, 2, 3, 4, 5, 1, 2, 3, 4, 5, 1, 2, 3, 4, 5, 1, 2, 3, 1, 5, 1, 2, 3, 4, 5, 1, 2, 5, 1, 4, 5, 1, 2, 4, 2, 4, 5, 1, 2, 3, 4, 5, 2, 5, 2, 5, 4, 2, 4, 5, 3, 4, 5, 5, 2, 1, 2, 1, 2, 1, 2, 1, 4, 5, 1, 2, 4, 5, 5, 1, 4, 1, 2, 3, 4, 5, 2, 3, 5, 1, 2, 4, 5, 1, 2, 3, 4, 5, 2, 4, 3, 5, 2, 1, 2, 3, 4, 5, 2, 4, 5, 2, 4, 5, 1, 2, 3, 4, 5, 1, 2, 4, 5, 1, 2, 4, 5, 5, 2, 3, 4, 5, 2, 4, 5, 4, 1, 2, 3, 4, 5, 2, 4, 2, 2, 1, 2, 3, 4, 5, 1, 2, 1, 2, 1, 2, 3, 4, 5, 5, 1, 2, 3, 4, 5, 4, 1, 2, 4, 5, 1, 2, 3, 4, 5, 1, 2, 3, 4, 5, 1, 2, 3, 4, 5, 1, 2, 4, 3, 4, 1, 2, 4, 5, 3, 3, 2, 2, 5, 3, 1, 3, 5, 1, 4, 5, 3, 4, 1, 3, 4, 5, 1, 2, 3, 4, 5, 1, 2, 4, 5, 3, 1, 2, 3, 4, 5, 1, 3, 4, 2, 2, 4, 5, 1, 2, 4, 5, 1, 2, 4, 1, 2, 3, 5, 1, 2, 3, 4, 5, 4, 5, 1, 1, 3, 5, 3, 2, 5, 1, 2, 5, 4, 1, 2, 3, 4, 5, 1, 2, 3, 4, 5, 1, 3, 4, 5, 2, 1, 1, 5, 1, 5, 1, 2, 3, 4, 5, 1, 2, 3, 4, 5, 1, 3, 5, 1, 1, 2, 3, 4, 5, 1, 2, 3, 4, 5, 5, 1, 2, 4, 4, 1, 3, 1, 2, 4, 5, 1, 2, 3, 2, 4, 1, 1, 2, 4, 5, 1, 4, 1, 2, 4, 5, 1, 2, 3, 4, 5, 2, 4, 1, 2, 3, 4, 5, 2, 4, 5, 1, 4, 5, 4, 2, 4, 5, 1, 4, 5, 3, 1, 2, 3, 4, 1, 2, 4, 5, 1, 2, 3, 4, 5, 1, 4, 5, 5, 5, 1, 2, 3, 4, 5, 3, 1, 2, 4, 5, 3, 2, 4, 5, 3, 1, 2, 3, 4, 5, 1, 2, 3, 4, 5, 5, 2, 1, 1, 2, 3, 4, 5, 1, 2, 4, 1, 1, 1, 2, 3, 4, 5, 1, 2, 4, 5, 1, 2, 3, 4, 5, 1, 2, 3, 4, 5, 1, 2, 3, 4, 5, 1, 2, 3, 4, 5, 1, 2, 4, 5, 1, 2, 4, 5, 4, 5, 2, 4, 1, 1, 1, 5, 1, 2, 3, 4, 5, 1, 2, 5, 2, 3, 4, 5, 2, 5, 1, 2, 4, 1, 2, 4, 5, 1, 2, 3, 4, 5, 1, 1, 1, 2, 3, 4, 5, 3, 5, 1, 2, 3, 4, 5, 3, 2, 4, 1, 1, 2, 3, 4, 5, 1, 2, 3, 4, 5, 1, 2, 3, 5, 1, 2, 3, 4, 5, 3, 1, 2, 3, 4, 5, 1, 2, 3, 1, 2, 3, 4, 5, 5, 1, 3, 4, 5, 1, 2, 3, 4, 5, 1, 2, 3, 4, 5, 1, 2, 5, 3, 4, 3, 4, 1, 2, 3, 4, 5, 1, 2, 3, 4, 5, 1, 2, 3, 4, 5, 1, 2, 5, 5, 5, 2, 4, 1, 3, 2, 4, 1, 4, 5, 4, 1, 2, 3, 5, 3, 4, 3, 5, 1, 2, 3, 4, 5, 5, 1, 2, 1, 2, 1, 1, 2, 3, 4, 5, 2, 4, 3, 3, 4, 5, 1, 2, 3, 4, 5, 2, 1, 4, 5, 1, 5, 3, 2, 4, 2, 3, 4, 5, 1, 2, 3, 4, 5, 5, 1, 2, 3, 4, 5, 4, 1, 2, 3, 4, 5, 1, 2, 3, 5, 2, 3, 4, 5, 2, 3, 4, 1, 2, 1, 2, 3, 5, 1, 2, 3, 4, 5, 1, 2, 3, 4, 5, 2, 4, 1, 2, 3, 4, 5, 1, 2, 3, 4, 5, 3, 4, 1, 2, 3, 4, 5, 2, 4, 1, 2, 3, 4, 5, 1, 2, 3, 4, 5, 2, 4, 1, 2, 3, 4, 5, 2, 2, 2, 2, 1, 3], \"Freq\": [0.1569486309974958, 0.027696817234852202, 0.023080681029043502, 0.10617113273360011, 0.6924204308713051, 0.004812176084502801, 0.991308273407577, 0.9966289708969672, 0.0053214289640530444, 0.015964286892159132, 0.9791429293857602, 0.005634268955965414, 0.8226032675709505, 0.17184520315694513, 0.9796465275656118, 0.990485494112675, 0.997907988728147, 0.027705543970302386, 0.9696940389605836, 0.030014361099704245, 0.16507898604837334, 0.7953805691421625, 0.9557781886344269, 0.043444463119746674, 0.9891289565153087, 0.9808111699976757, 0.9763213524405973, 0.9878618954479961, 0.013459542076318918, 0.9863921550216578, 0.9763250073982866, 0.03939973500867821, 0.013133245002892736, 0.026266490005785473, 0.9193271502024916, 0.022783305291823392, 0.9318371864355768, 0.018226644233458714, 0.02733996635018807, 0.9873758219510131, 0.319231513258141, 0.06470909052529884, 0.13085616084004878, 0.1984412109442498, 0.2890339376796682, 0.9847552084944533, 0.03073926211859111, 0.046723678420258485, 0.21763397579962507, 0.018443557271154664, 0.6873299009716972, 0.9715693589874851, 0.00565962733390768, 0.02263850933563072, 0.9960210124778934, 0.9759848743157788, 0.9342415683678292, 0.06027364957211802, 0.9862126590792278, 0.11742960221108825, 0.8813968993544901, 0.9740349777063327, 0.9848971464754461, 0.515631604332482, 0.03207277921685295, 0.2121737702037964, 0.03453991607968779, 0.2047723596152919, 0.1170142537169046, 0.09402931102251263, 0.16925275984052274, 0.035522184164060326, 0.5850712685845231, 0.15604346159700466, 0.8444704980543781, 0.9497646791208011, 0.0072501120543572595, 0.04108396830802447, 0.9904353776140307, 0.7170578079179717, 0.2557925513625513, 0.012579961542420555, 0.012579961542420555, 0.17824804394947316, 0.6597492535792188, 0.004629819323362939, 0.15046912800929552, 0.009259638646725878, 0.9388133153474697, 0.04579577148036438, 0.011448942870091095, 0.6342422814920514, 0.02276767164330441, 0.06830301492991324, 0.2049090447897397, 0.06830301492991324, 0.009347440622874443, 0.9440915029103188, 0.03738976249149777, 0.9763241969318589, 0.02576841639476206, 0.06012630492111147, 0.9104840459482594, 0.01849598355543461, 0.046239958888586515, 0.9340471695494477, 0.015791478530436585, 0.9790716688870683, 0.9964715651227154, 0.9932656381010048, 0.004173385034037835, 0.08242565525786515, 0.9135510124413387, 0.26102305310631513, 0.5388090545772559, 0.031131189820019233, 0.10297239709698669, 0.06705179345850296, 0.9625725636560635, 0.028733509362867567, 0.007183377340716892, 0.5536998025988247, 0.20414184641269797, 0.12863732787649462, 0.0419469547423352, 0.06991159123722533, 0.3946277500514205, 0.03221451020827922, 0.5583848436101732, 0.008053627552069806, 0.008053627552069806, 0.9974780658459569, 0.00860649833789978, 0.981140810520575, 0.020426655619762764, 0.6985916221958866, 0.24205586909418875, 0.03881064567754925, 0.0029301016513642022, 0.9933044598124645, 0.9886321998656917, 0.9625820642581365, 0.03453209199132328, 0.003116460379998937, 0.6357579175197832, 0.3615094040798767, 0.9808205999570913, 0.028395364504840714, 0.05679072900968143, 0.8916144454519984, 0.01703721870290443, 0.2382431470345017, 0.5198032298934583, 0.01925197147753549, 0.20695869338350653, 0.016845475042843554, 0.8087683277166569, 0.02554005245421022, 0.017026701636140146, 0.14472696390719123, 0.33935802095324896, 0.3662911972193798, 0.10369272862460384, 0.07002625829194026, 0.1211992931975889, 0.9805037634743465, 0.9987598755098605, 0.9919891861518202, 0.5346778693213576, 0.39265406028287203, 0.03341736683258485, 0.02227824455505657, 0.016708683416292426, 0.98082029387177, 0.19675587978235773, 0.14920654216828794, 0.2410259527333882, 0.15740470382588617, 0.2541430113855454, 0.325868561070055, 0.5094564827996635, 0.04819182945402223, 0.043602131410782015, 0.07114031967022329, 0.04205824835141883, 0.6958728363598389, 0.12235126793140025, 0.07646954245712516, 0.06499911108855638, 0.03308170892511096, 0.9180174226718292, 0.04962256338766644, 0.9549288236651383, 0.028086141872504067, 0.09702182687386464, 0.771764531951196, 0.01323024911916336, 0.09261174383414351, 0.02646049823832672, 0.908557917061287, 0.012796590381144888, 0.07677954228686933, 0.9880516501832973, 0.9777624082347484, 0.9884936745417128, 0.004741234374638029, 0.018964937498552117, 0.9719530468007961, 0.04782952221027694, 0.9278927308793727, 0.025509078512147704, 0.07528175838557309, 0.22341683133782983, 0.08742397748002037, 0.11656530330669382, 0.4978309828723382, 0.01748322302603248, 0.9615772664317865, 0.8761716183217196, 0.12169050254468328, 0.9813167902234045, 0.010159119042082658, 0.9854345470820178, 0.9734456337105519, 0.0375188169769854, 0.0125062723256618, 0.9504766967502969, 0.9913096200186876, 0.9832593052329446, 0.2584582144215721, 0.7412922413629706, 0.028284256694365788, 0.9710928131732254, 0.20040100579191844, 0.7968325706488185, 0.8566538468310538, 0.10619675787161825, 0.03539891929053941, 0.9847811827568169, 0.004915713058686274, 0.003277142039124183, 0.006554284078248366, 0.9843941492044265, 0.039269961334774416, 0.9536990609873786, 0.10980072322176755, 0.06552623805169999, 0.791627794840808, 0.0017709794068027026, 0.030106649915645944, 0.9600129113235496, 0.037403100441177256, 0.9884919944223236, 0.034967212138008255, 0.9441147277262228, 0.006993442427601651, 0.006993442427601651, 0.29086448698604794, 0.5271918826622118, 0.08180563696482598, 0.03408568206867749, 0.06362660652819799, 0.9807078884492443, 0.00867883087123225, 0.9783132816824007, 0.9940879585219617, 0.9919891693225402, 0.2067620342511292, 0.609545217857225, 0.016111327344243833, 0.11546451263374748, 0.05370442448081278, 0.03163377563641171, 0.9490132690923513, 0.015816887818205855, 0.04525599751991842, 0.034480760015175936, 0.9202052829050078, 0.09063039905989517, 0.07552533254991264, 0.7250431924791614, 0.015105066509982529, 0.09365141236189169, 0.12284919516627701, 0.8218187538709566, 0.04659797058031197, 0.00847235828732945, 0.03339782365557446, 0.6476792230348904, 0.31250820706287535, 0.005963897081352583, 0.9913341371344736, 0.2950296565941685, 0.6545970505683113, 0.0030732255895225885, 0.049171609432361416, 0.9467259749436294, 0.04303299886107406, 0.008606599772214812, 0.9961324463176334, 0.04295863265257188, 0.14394910239721453, 0.6956283848828745, 0.11606367418414157, 0.0022609806659248358, 0.9623934869121952, 0.030552174187688737, 0.9945763986126727, 0.9763961191621631, 0.6421420819164743, 0.17854682277677578, 0.01252960159837023, 0.031324003995925574, 0.13469321718247998, 0.9892405076085852, 0.012522031741880825, 0.9956141117318899, 0.9900675391460168, 0.07801515079737951, 0.03413162847385354, 0.8532907118463384, 0.029255681549017316, 0.00487594692483622, 0.9855041782221707, 0.19168541043712392, 0.1498045644592649, 0.401089640326419, 0.16430178037467766, 0.09342650256599318, 0.9929850882168711, 0.6689356483606465, 0.22633850019873927, 0.012828902845272671, 0.09163502032337623, 0.015252074690430703, 0.0076260373452153515, 0.9151244814258421, 0.0076260373452153515, 0.05338226141650746, 0.12185866226435871, 0.0368409909171317, 0.541279174244012, 0.0906855161037088, 0.2068763336115857, 0.12702151204964662, 0.407900066863654, 0.055460096810409094, 0.1860596796220176, 0.2236294226226173, 0.020064831991826095, 0.9279984796219569, 0.05016207997956524, 0.9865202390861527, 0.9933567926924001, 0.8746303057834481, 0.05428739829000712, 0.03619159886000475, 0.03619159886000475, 0.9931539442386902, 0.9828068545025692, 0.9832524547245285, 0.10001431498699682, 0.8901274033842718, 0.9808112836685352, 0.914743043349703, 0.00611868256421206, 0.07648353205265075, 0.014669733107262923, 0.014669733107262923, 0.95353265197209, 0.9861730855816891, 0.99430203285811, 0.06222254314438009, 0.6074105402189485, 0.017777869469822884, 0.3140756939668709, 0.12523295583701644, 0.23257548941160194, 0.0894521113121546, 0.11330600766206249, 0.44129708247329597, 0.031415815850056795, 0.8639349358765619, 0.057595662391770795, 0.0471237237750852, 0.9877861973420002, 0.02078148676922707, 0.07273520369229475, 0.01731790564102256, 0.8174051462562647, 0.07273520369229475, 0.01645740279013423, 0.9792154660129867, 0.008228701395067114, 0.9861690155096965, 0.10221507901452628, 0.8688281716234735, 0.02751944435006477, 0.1897187028164667, 0.7681293821349627, 0.032390998041835775, 0.009254570869095936, 0.02890957514385292, 0.9684707673190728, 0.9964105133861374, 0.04259366886387089, 0.05897584919612892, 0.8682555576096759, 0.02948792459806446, 0.6508214485542168, 0.06361412655041217, 0.03425376045022193, 0.14680183050095114, 0.10520797852568164, 0.9824886595518076, 0.9884944485451896, 0.9646836511896485, 0.9457541465480938, 0.01659217800961568, 0.03318435601923136, 0.9902995583206196, 0.9790481130181167, 0.987555989224863, 0.9827016243513244, 0.008327979867384105, 0.008327979867384105, 0.9930574889899255, 0.16077826839343298, 0.1484107092862458, 0.00494702364287486, 0.08409940192887264, 0.6010633726092955, 0.8603236715424308, 0.040282713717705795, 0.025896030247096583, 0.028773366941218424, 0.04316005041182763, 0.04882320779955124, 0.9005169438583894, 0.005424800866616804, 0.037973606066317625, 0.9676205097694917, 0.9901984658273372, 0.9906963123543934, 0.0061154093355209466, 0.9334967622885574, 0.06667834016346838, 0.16883057263366968, 0.07674116937894077, 0.11255371508911312, 0.2685940928262927, 0.3709156519982137, 0.2001880168126305, 0.05424449487826116, 0.24797483372919388, 0.3409653963776416, 0.15627580667308574, 0.9345962448377272, 0.052653309568322655, 0.006581663696040332, 0.9743229744541164, 0.10719849938407534, 0.2343409056303042, 0.1246494178884597, 0.06481769730199904, 0.4686818112606084, 0.23938173023463932, 0.0113991300111733, 0.00569956500558665, 0.025648042525139927, 0.7152954082011246, 0.9902407619478326, 0.005766517926416119, 0.023066071705664475, 0.9687750116379079, 0.9904357609642315, 0.9753747767344259, 0.9946550098147654, 0.009841436235946696, 0.7873148988757357, 0.19823464418121203, 0.004217758386834298, 0.0368073914597966, 0.015336413108248582, 0.9477903300897624, 0.054510725625404766, 0.9448525775070159, 0.9870307029297193, 0.08684511441391887, 0.3421697507908404, 0.3716970896915728, 0.19800686086373503, 0.012695100159987139, 0.9775227123190098, 0.8588383748892493, 0.09377264751823693, 0.004465364167535091, 0.04316518695283922, 0.06997105340912332, 0.06647250073866716, 0.7731801401708128, 0.0524782900568425, 0.038484079375017834, 0.045579666820522835, 0.9533746976626026, 0.17309039726761646, 0.4602006594019961, 0.1414945310997182, 0.1662217307093777, 0.059070532400853235, 0.04718720832248306, 0.31615429576063653, 0.6370273123535214, 0.8032406598354684, 0.1534279912045277, 0.04211748778163505, 0.9904609921645503, 0.011768590377977846, 0.49722294346956397, 0.48986757448332785, 0.011463174848907194, 0.03438952454672158, 0.951443512459297, 0.9915903507640917, 0.0237500848044663, 0.11875042402233149, 0.05277796623214733, 0.8022250867286395, 0.0028539573211519074, 0.09988850624031677, 0.8447713670609646, 0.05422518910188624, 0.24898074249527907, 0.21217989371999535, 0.13282806354828977, 0.22598021201072674, 0.17997915104162207, 0.9713549797831571, 0.9846458243312449, 0.9943358201117956, 0.9958407626533723, 0.9793170151188297, 0.12398010679492855, 0.1435559131309699, 0.16313171946701124, 0.304077525086509, 0.26362085865869017, 0.9865375421027232, 0.2636831092170637, 0.2140486415997341, 0.06824739297382826, 0.452914517008133, 0.9765696929944483, 0.9901855464084643, 0.003653821204459278, 0.007307642408918556, 0.9943707373131043, 0.003307577152344127, 0.07276669735157079, 0.003307577152344127, 0.9062761397422907, 0.016537885761720633, 0.13729875275797015, 0.05604030724815108, 0.5267788881326202, 0.17932898319408347, 0.10087255304667195, 0.9961673550091188, 0.9798336117854881, 0.9922986422931191, 0.863883411307463, 0.004305066833758121, 0.001435022277919374, 0.015785245057113113, 0.1148017822335499, 0.03182316094709482, 0.003977895118386853, 0.9626506186496184, 0.9914765435601876, 0.973083871510126, 0.28745686617922184, 0.05464526564991148, 0.03301484799682152, 0.4844075111257778, 0.14059771474508473, 0.9646780448637182, 0.01961221375006329, 0.9766882447531517, 0.001961221375006329, 0.6648035748578744, 0.1848478232531651, 0.021079137739396018, 0.07296624602098623, 0.05675152468298928, 0.04802727723047837, 0.030239396774745644, 0.6172394518139258, 0.1600909241015946, 0.14230304364586185, 0.008600441053695023, 0.020067695791955054, 0.6894686911378843, 0.27951433424508826, 0.004300220526847511, 0.06511910263017347, 0.030644283590669865, 0.6894963807900719, 0.07661070897667466, 0.1378992761580144, 0.22558066688466763, 0.012768716993471752, 0.025537433986943504, 0.7363293466235377, 0.7196836102722748, 0.2121172746065652, 0.03787808475117236, 0.02651465932582065, 0.010693808791938302, 0.9838304088583237, 0.013335581406418894, 0.9734974426685793, 0.9833091533756425, 0.9646793638485818, 0.9667298458676997, 0.9913269064443859, 0.03588017545887762, 0.9127019632351994, 0.006727532898539553, 0.04036519739123732, 0.002242510966179851, 0.9638590633547438, 0.03076145946876842, 0.006835879881948538, 0.005657483601771893, 0.14143709004429733, 0.011314967203543786, 0.8373075730622402, 0.9909724222625657, 0.004094927364721346, 0.030287815760807715, 0.006057563152161543, 0.9631525411936853, 0.8434500129293252, 0.10121400155151902, 0.016869000258586505, 0.03936100060336851, 0.6537954345955004, 0.11370355384269572, 0.01015210302166926, 0.07918640356902022, 0.1441598629077035, 0.9609119358670197, 0.9609076425717397, 0.024828108545028503, 0.8342244471129576, 0.0893811907621026, 0.049656217090057006, 0.0049656217090057, 0.9865392134826361, 0.9868451464155659, 0.14413396605634124, 0.8076941116742141, 0.008158526380547617, 0.03535361431570634, 0.005439017587031745, 0.9897274668693281, 0.9684565754460173, 0.02582550867856046, 0.9609063271814503, 0.24195605538373602, 0.06740204399975504, 0.2073909046146309, 0.12616280030723379, 0.356021052921783, 0.2588908792002175, 0.6626373693815091, 0.015410171380965327, 0.04623051414289598, 0.015410171380965327, 0.9743417698142407, 0.008083498943083071, 0.9538528752838026, 0.032333995772332286, 0.034363007213051994, 0.008590751803262998, 0.017181503606525997, 0.008590751803262998, 0.9363919465556668, 0.9943128543917538, 0.2529957756067674, 0.07482973644707204, 0.08195637801345985, 0.06770309488068423, 0.5202448343463104, 0.9863791541364769, 0.9930169838740587, 0.9985595443287356, 0.006201602407915978, 0.8031075118251192, 0.06511682528311778, 0.07286882829301275, 0.05271362046728582, 0.9734301768937059, 0.019852813760046495, 0.019852813760046495, 0.9380454501621969, 0.019852813760046495, 0.003968817807897246, 0.0515946315026642, 0.9009216423926748, 0.007937635615794492, 0.03571936027107521, 0.06766129521295806, 0.14778651322830313, 0.5181430764992315, 0.12641978842421112, 0.14066427162693915, 0.7547768180984458, 0.026026786830980888, 0.21936863186112462, 0.9621002811546084, 0.03356163771469564, 0.9765753969077421, 0.9861336557900199, 0.2445509295559259, 0.14645422899959404, 0.03177780440557229, 0.5526574679229964, 0.024869586056534835, 0.18809760002636688, 0.18372323723505604, 0.370362716330986, 0.16768390700024957, 0.09186161861752802, 0.06335474015614609, 0.8389041455158655, 0.0021846462122808996, 0.08957049470351688, 0.006553938636842699, 0.0761125733574184, 0.9133508802890209, 0.008456952595268711, 0.9855057797840393, 0.9948335103849265, 0.0035198630203940534, 0.9961212347715172, 0.011187131166358985, 0.9844675426395906, 0.034872746900306784, 0.9659750891384979, 0.004122897963127283, 0.1443014287094549, 0.8493169804042202, 0.9845329122801364, 0.06878772444035251, 0.1203785177706169, 0.7781611327314878, 0.030094629442654224, 0.9882910721523104, 0.9904856485857397, 0.9532493563134787, 0.03812997425253915, 0.002668313330384505, 0.01067325332153802, 0.16810373981422383, 0.013341566651922526, 0.8058306257761205, 0.9866483527918947, 0.010847380001404285, 0.9871115801277899, 0.8143681768944248, 0.1849922772204619, 0.9864650099941525, 0.07813727896854869, 0.039068639484274345, 0.7943956695135784, 0.06250982317483895, 0.026045759656182898, 0.12638025118241092, 0.8738291653183841, 0.9871211337083459, 0.9765698172013045, 0.023940812402406916, 0.9696029022974801, 0.02372167825779761, 0.11183076892961731, 0.7387608371714113, 0.020332867078112236, 0.10505314657024656, 0.973608537388286, 0.8719425804990619, 0.019484750402213674, 0.1022949396116218, 0.9963308296502719, 0.0021243727711093216, 0.9897281388006425, 0.981467784685898, 0.020662479677597854, 0.0797420703711182, 0.013290345061853033, 0.5449041475359744, 0.36105437418034075, 0.18879399250480217, 0.34152621116037246, 0.006363842443982095, 0.16333862272887378, 0.3012218756818192, 0.990901191260353, 0.13971408027948923, 0.08382844816769353, 0.1031734746679305, 0.5674541106736177, 0.1031734746679305, 0.9980226394087294, 0.09610075418370187, 0.09254146699171291, 0.007118574383977916, 0.7759246078535929, 0.028474297535911665, 0.0483881381559578, 0.01451644144678734, 0.9000193697008151, 0.03387169670917046, 0.1520101844683059, 0.04204537017208461, 0.6888972189733863, 0.1164333327842343, 0.020133994118783596, 0.026845325491711463, 0.946297723582829, 0.9499617265448197, 0.04578128802625637, 0.2352373621252892, 0.016802668723234944, 0.7225147550991026, 0.025204003084852416, 0.36722026127720264, 0.05766268565509794, 0.22913330352420497, 0.2625169636403143, 0.08345915029027333, 0.21401270575888282, 0.09346124492001845, 0.20724015177917135, 0.38874459843543907, 0.09752477730784534, 0.013334616962957537, 0.980094346777379, 0.06484948144171006, 0.020478783613171597, 0.058023220237319525, 0.8020856915158875, 0.05461008963512426, 0.23042371338741352, 0.19709198126219016, 0.3072316178498847, 0.09129996190822044, 0.17535389509356625, 0.9799629491526769, 0.9904857930997081, 0.10545721676243887, 0.018887859718645768, 0.6925548563503447, 0.015739883098871473, 0.16841674915792476, 0.010996657839818793, 0.9896992055836913, 0.28236519120873693, 0.10670777574748778, 0.11491606618960223, 0.3496731728340754, 0.14774922795806, 0.0864158813105248, 0.23694677133530992, 0.38190244321102895, 0.19699104126700276, 0.09756631760865703, 0.9848262136229406, 0.9904357322508267, 0.04808973519149397, 0.01109763119803707, 0.6843539238789527, 0.00739842079869138, 0.2515463071555069, 0.9785713048758317, 0.9914291204660988, 0.9763249948047515, 0.9951216239033763, 0.021473956839925486, 0.9663280577966468], \"Term\": [\"act\", \"act\", \"act\", \"act\", \"act\", \"actor\", \"actor\", \"actress\", \"album\", \"album\", \"album\", \"analyst\", \"analyst\", \"analyst\", \"anfield\", \"antivirus\", \"apple\", \"arsenal\", \"arsenal\", \"artist\", \"artist\", \"artist\", \"asylum\", \"asylum\", \"athens\", \"athletics\", \"auto\", \"aviator\", \"award\", \"award\", \"baikal\", \"band\", \"band\", \"band\", \"band\", \"bank\", \"bank\", \"bank\", \"bank\", \"bankruptcy\", \"bbc\", \"bbc\", \"bbc\", \"bbc\", \"bbc\", \"benitez\", \"best\", \"best\", \"best\", \"best\", \"best\", \"blair\", \"blair\", \"blair\", \"blog\", \"blogger\", \"blunkett\", \"blunkett\", \"bluray\", \"bn\", \"bn\", \"boeing\", \"boerse\", \"britain\", \"britain\", \"britain\", \"britain\", \"britain\", \"british\", \"british\", \"british\", \"british\", \"british\", \"broadband\", \"broadband\", \"brown\", \"brown\", \"brown\", \"browser\", \"budget\", \"budget\", \"budget\", \"budget\", \"business\", \"business\", \"business\", \"business\", \"business\", \"cabinet\", \"cabinet\", \"cabinet\", \"campaign\", \"campaign\", \"campaign\", \"campaign\", \"campaign\", \"captain\", \"captain\", \"captain\", \"carmaker\", \"category\", \"category\", \"category\", \"ceremony\", \"ceremony\", \"ceremony\", \"champion\", \"champion\", \"championship\", \"chancellor\", \"chancellor\", \"chart\", \"chart\", \"chief\", \"chief\", \"chief\", \"chief\", \"chief\", \"china\", \"china\", \"china\", \"claim\", \"claim\", \"claim\", \"claim\", \"claim\", \"club\", \"club\", \"club\", \"club\", \"club\", \"coach\", \"comedy\", \"comedy\", \"company\", \"company\", \"company\", \"company\", \"computer\", \"computer\", \"computing\", \"conservative\", \"conservative\", \"consumer\", \"consumer\", \"consumer\", \"conte\", \"content\", \"content\", \"content\", \"content\", \"cost\", \"cost\", \"cost\", \"cost\", \"cost\", \"council\", \"council\", \"council\", \"council\", \"country\", \"country\", \"country\", \"country\", \"country\", \"creditor\", \"cup\", \"currency\", \"cut\", \"cut\", \"cut\", \"cut\", \"cut\", \"dallaglio\", \"day\", \"day\", \"day\", \"day\", \"day\", \"deal\", \"deal\", \"deal\", \"deal\", \"deal\", \"december\", \"december\", \"december\", \"december\", \"december\", \"deficit\", \"deficit\", \"deficit\", \"dem\", \"dem\", \"demand\", \"demand\", \"demand\", \"demand\", \"demand\", \"democrat\", \"democrat\", \"democrat\", \"dems\", \"desktop\", \"detention\", \"device\", \"device\", \"device\", \"digital\", \"digital\", \"digital\", \"director\", \"director\", \"director\", \"director\", \"director\", \"documentary\", \"documentary\", \"dollar\", \"dollar\", \"domain\", \"download\", \"download\", \"drake\", \"drama\", \"drama\", \"drama\", \"eastwood\", \"ebbers\", \"economic\", \"economic\", \"economist\", \"economist\", \"economy\", \"economy\", \"education\", \"education\", \"education\", \"election\", \"election\", \"election\", \"election\", \"elvis\", \"email\", \"email\", \"england\", \"england\", \"england\", \"england\", \"england\", \"euro\", \"euro\", \"euronext\", \"exchange\", \"exchange\", \"exchange\", \"exchange\", \"expected\", \"expected\", \"expected\", \"expected\", \"expected\", \"export\", \"export\", \"federer\", \"festival\", \"fiat\", \"figure\", \"figure\", \"figure\", \"figure\", \"figure\", \"file\", \"file\", \"file\", \"film\", \"film\", \"film\", \"final\", \"final\", \"final\", \"final\", \"final\", \"financial\", \"financial\", \"financial\", \"financial\", \"firm\", \"firm\", \"firm\", \"firm\", \"forsyth\", \"france\", \"france\", \"france\", \"france\", \"fraud\", \"fraud\", \"fraud\", \"gadget\", \"game\", \"game\", \"game\", \"game\", \"game\", \"gas\", \"gas\", \"gazprom\", \"gdp\", \"general\", \"general\", \"general\", \"general\", \"general\", \"gerrard\", \"gerrard\", \"glazer\", \"gm\", \"goal\", \"goal\", \"goal\", \"goal\", \"goal\", \"goldsmith\", \"good\", \"good\", \"good\", \"good\", \"good\", \"google\", \"government\", \"government\", \"government\", \"government\", \"grand\", \"grand\", \"grand\", \"grand\", \"grand\", \"great\", \"great\", \"great\", \"great\", \"great\", \"group\", \"group\", \"group\", \"group\", \"group\", \"growth\", \"growth\", \"growth\", \"halftime\", \"handset\", \"health\", \"health\", \"health\", \"health\", \"henman\", \"henson\", \"highdefinition\", \"hollywood\", \"hollywood\", \"holmes\", \"howard\", \"howard\", \"howard\", \"hunting\", \"hunting\", \"hunting\", \"iaaf\", \"ibm\", \"im\", \"im\", \"im\", \"im\", \"including\", \"including\", \"including\", \"including\", \"including\", \"india\", \"india\", \"india\", \"india\", \"indoor\", \"information\", \"information\", \"information\", \"information\", \"information\", \"injury\", \"injury\", \"injury\", \"insurer\", \"internet\", \"internet\", \"internet\", \"investment\", \"investment\", \"investment\", \"investment\", \"investor\", \"investor\", \"ipod\", \"ireland\", \"ireland\", \"ireland\", \"ireland\", \"issue\", \"issue\", \"issue\", \"issue\", \"issue\", \"itunes\", \"joss\", \"juninho\", \"kennedy\", \"kennedy\", \"kennedy\", \"kenteris\", \"khodorkovsky\", \"kilroysilk\", \"labour\", \"labour\", \"labour\", \"laptop\", \"law\", \"law\", \"law\", \"law\", \"law\", \"leader\", \"leader\", \"leader\", \"leader\", \"leader\", \"league\", \"league\", \"league\", \"league\", \"lending\", \"letwin\", \"lib\", \"lib\", \"liberal\", \"liberal\", \"life\", \"life\", \"life\", \"life\", \"life\", \"like\", \"like\", \"like\", \"like\", \"like\", \"liverpool\", \"liverpool\", \"liverpool\", \"livingstone\", \"london\", \"london\", \"london\", \"london\", \"london\", \"lord\", \"lord\", \"lord\", \"lord\", \"lord\", \"lse\", \"machine\", \"machine\", \"machine\", \"malicious\", \"manifesto\", \"marathon\", \"market\", \"market\", \"market\", \"market\", \"match\", \"match\", \"match\", \"microsoft\", \"microsoft\", \"milburn\", \"million\", \"million\", \"million\", \"million\", \"mini\", \"mini\", \"minister\", \"minister\", \"minister\", \"minister\", \"minute\", \"minute\", \"minute\", \"minute\", \"minute\", \"mobile\", \"mobile\", \"month\", \"month\", \"month\", \"month\", \"month\", \"movie\", \"movie\", \"movie\", \"mp\", \"mp\", \"mp\", \"multimedia\", \"music\", \"music\", \"music\", \"musical\", \"musical\", \"musical\", \"nadal\", \"net\", \"net\", \"net\", \"net\", \"network\", \"network\", \"network\", \"network\", \"new\", \"new\", \"new\", \"new\", \"new\", \"nh\", \"nokia\", \"nominated\", \"nomination\", \"nominee\", \"number\", \"number\", \"number\", \"number\", \"number\", \"odriscoll\", \"office\", \"office\", \"office\", \"office\", \"ogara\", \"oil\", \"oil\", \"oil\", \"olympic\", \"online\", \"online\", \"online\", \"online\", \"online\", \"open\", \"open\", \"open\", \"open\", \"open\", \"oscar\", \"parmalat\", \"parry\", \"party\", \"party\", \"party\", \"party\", \"party\", \"pc\", \"pc\", \"pc\", \"pension\", \"pensioner\", \"people\", \"people\", \"people\", \"people\", \"people\", \"peston\", \"phone\", \"phone\", \"phone\", \"plan\", \"plan\", \"plan\", \"plan\", \"plan\", \"play\", \"play\", \"play\", \"play\", \"play\", \"player\", \"player\", \"player\", \"player\", \"player\", \"playing\", \"playing\", \"playing\", \"playing\", \"playing\", \"police\", \"police\", \"police\", \"police\", \"policy\", \"policy\", \"policy\", \"policy\", \"pop\", \"pop\", \"portable\", \"portable\", \"pp\", \"preelection\", \"prescott\", \"presenter\", \"price\", \"price\", \"price\", \"price\", \"price\", \"prime\", \"prime\", \"prime\", \"prize\", \"prize\", \"prize\", \"prize\", \"profit\", \"profit\", \"program\", \"program\", \"program\", \"proposal\", \"proposal\", \"proposal\", \"proposal\", \"public\", \"public\", \"public\", \"public\", \"public\", \"qantas\", \"quango\", \"quarter\", \"quarter\", \"quarter\", \"quarter\", \"quarter\", \"radcliffe\", \"rapper\", \"rate\", \"rate\", \"rate\", \"rate\", \"rate\", \"referee\", \"retail\", \"retail\", \"rift\", \"right\", \"right\", \"right\", \"right\", \"right\", \"rise\", \"rise\", \"rise\", \"rise\", \"rise\", \"robben\", \"robinson\", \"robinson\", \"robinson\", \"rock\", \"rock\", \"rock\", \"rock\", \"rock\", \"roddick\", \"role\", \"role\", \"role\", \"role\", \"role\", \"ronaldo\", \"rosneft\", \"rugby\", \"sale\", \"sale\", \"sale\", \"sale\", \"sale\", \"scorsese\", \"search\", \"search\", \"search\", \"search\", \"season\", \"season\", \"season\", \"season\", \"season\", \"second\", \"second\", \"second\", \"second\", \"second\", \"secretary\", \"secretary\", \"secretary\", \"seed\", \"seed\", \"semifinal\", \"server\", \"service\", \"service\", \"service\", \"service\", \"service\", \"set\", \"set\", \"set\", \"set\", \"set\", \"share\", \"share\", \"share\", \"share\", \"share\", \"shareholder\", \"shareholder\", \"shareholder\", \"sideways\", \"singer\", \"site\", \"site\", \"slam\", \"slam\", \"software\", \"software\", \"song\", \"song\", \"song\", \"spam\", \"sport\", \"sport\", \"sport\", \"sport\", \"sprinter\", \"spyware\", \"squad\", \"squad\", \"star\", \"star\", \"star\", \"star\", \"star\", \"starring\", \"stock\", \"stock\", \"tax\", \"tax\", \"taxpayer\", \"team\", \"team\", \"team\", \"team\", \"team\", \"technology\", \"technology\", \"tennis\", \"thanou\", \"theatre\", \"theatre\", \"title\", \"title\", \"title\", \"title\", \"title\", \"tobacco\", \"tony\", \"tony\", \"tony\", \"tory\", \"tory\", \"tournament\", \"trading\", \"trading\", \"tv\", \"tv\", \"tv\", \"tv\", \"uk\", \"uk\", \"uk\", \"uk\", \"uk\", \"ukip\", \"used\", \"used\", \"used\", \"used\", \"used\", \"user\", \"using\", \"using\", \"using\", \"using\", \"using\", \"victory\", \"victory\", \"victory\", \"victory\", \"video\", \"video\", \"video\", \"video\", \"virus\", \"virus\", \"virus\", \"wage\", \"wage\", \"wale\", \"wale\", \"wale\", \"wale\", \"want\", \"want\", \"want\", \"want\", \"want\", \"way\", \"way\", \"way\", \"way\", \"way\", \"web\", \"web\", \"website\", \"website\", \"website\", \"website\", \"website\", \"week\", \"week\", \"week\", \"week\", \"week\", \"wenger\", \"wifi\", \"win\", \"win\", \"win\", \"win\", \"win\", \"wireless\", \"wireless\", \"work\", \"work\", \"work\", \"work\", \"work\", \"world\", \"world\", \"world\", \"world\", \"world\", \"worldcom\", \"yahoo\", \"yearold\", \"yearold\", \"yearold\", \"yearold\", \"yearold\", \"yen\", \"yugansk\", \"yuganskneftegas\", \"yukos\", \"zealand\", \"zealand\"]}, \"R\": 30, \"lambda.step\": 0.01, \"plot.opts\": {\"xlab\": \"PC1\", \"ylab\": \"PC2\"}, \"topic.order\": [5, 2, 3, 4, 1]};\n",
              "\n",
              "function LDAvis_load_lib(url, callback){\n",
              "  var s = document.createElement('script');\n",
              "  s.src = url;\n",
              "  s.async = true;\n",
              "  s.onreadystatechange = s.onload = callback;\n",
              "  s.onerror = function(){console.warn(\"failed to load library \" + url);};\n",
              "  document.getElementsByTagName(\"head\")[0].appendChild(s);\n",
              "}\n",
              "\n",
              "if(typeof(LDAvis) !== \"undefined\"){\n",
              "   // already loaded: just create the visualization\n",
              "   !function(LDAvis){\n",
              "       new LDAvis(\"#\" + \"ldavis_el730991400222412797761751058899\", ldavis_el730991400222412797761751058899_data);\n",
              "   }(LDAvis);\n",
              "}else if(typeof define === \"function\" && define.amd){\n",
              "   // require.js is available: use it to load d3/LDAvis\n",
              "   require.config({paths: {d3: \"https://d3js.org/d3.v5\"}});\n",
              "   require([\"d3\"], function(d3){\n",
              "      window.d3 = d3;\n",
              "      LDAvis_load_lib(\"https://cdn.jsdelivr.net/gh/bmabey/pyLDAvis@3.3.1/pyLDAvis/js/ldavis.v3.0.0.js\", function(){\n",
              "        new LDAvis(\"#\" + \"ldavis_el730991400222412797761751058899\", ldavis_el730991400222412797761751058899_data);\n",
              "      });\n",
              "    });\n",
              "}else{\n",
              "    // require.js not available: dynamically load d3 & LDAvis\n",
              "    LDAvis_load_lib(\"https://d3js.org/d3.v5.js\", function(){\n",
              "         LDAvis_load_lib(\"https://cdn.jsdelivr.net/gh/bmabey/pyLDAvis@3.3.1/pyLDAvis/js/ldavis.v3.0.0.js\", function(){\n",
              "                 new LDAvis(\"#\" + \"ldavis_el730991400222412797761751058899\", ldavis_el730991400222412797761751058899_data);\n",
              "            })\n",
              "         });\n",
              "}\n",
              "</script>"
            ]
          },
          "metadata": {},
          "execution_count": 82
        }
      ]
    },
    {
      "cell_type": "code",
      "source": [
        "pyLDAvis.sklearn.prepare(lda, count_data, count_vectorizer, mds='mmds')                   ## Multi-dimensional scaling = mmds"
      ],
      "metadata": {
        "colab": {
          "base_uri": "https://localhost:8080/",
          "height": 862
        },
        "id": "_pKOkvUua4WD",
        "outputId": "e59f6afd-ecee-4082-d6e8-7dceaef4a815"
      },
      "id": "_pKOkvUua4WD",
      "execution_count": 83,
      "outputs": [
        {
          "output_type": "execute_result",
          "data": {
            "text/plain": [
              "PreparedData(topic_coordinates=              x         y  topics  cluster       Freq\n",
              "topic                                                \n",
              "4      0.169566 -0.013495       1        1  22.116128\n",
              "1      0.085052  0.169967       2        1  21.662136\n",
              "2     -0.181439 -0.128007       3        1  19.297555\n",
              "3     -0.122797  0.147890       4        1  19.078754\n",
              "0      0.049618 -0.176355       5        1  17.845427, topic_info=            Term         Freq        Total Category  logprob  loglift\n",
              "9639        film   928.000000   928.000000  Default  30.0000  30.0000\n",
              "14597     labour   720.000000   720.000000  Default  29.0000  29.0000\n",
              "10531       game  1326.000000  1326.000000  Default  28.0000  28.0000\n",
              "2895          bn   740.000000   740.000000  Default  27.0000  27.0000\n",
              "1852       award   520.000000   520.000000  Default  26.0000  26.0000\n",
              "...          ...          ...          ...      ...      ...      ...\n",
              "27332         tv   163.315405   451.455547   Topic5  -6.0701   0.7066\n",
              "12953  including   148.194181   335.374980   Topic5  -6.1672   0.9067\n",
              "18284     office   146.139285   322.356636   Topic5  -6.1812   0.9323\n",
              "6430         day   155.328647   609.892828   Topic5  -6.1202   0.3557\n",
              "15106       life   145.370019   390.924457   Topic5  -6.1865   0.7342\n",
              "\n",
              "[382 rows x 6 columns], token_table=       Topic      Freq             Term\n",
              "term                                   \n",
              "233        1  0.156949              act\n",
              "233        2  0.027697              act\n",
              "233        3  0.023081              act\n",
              "233        4  0.106171              act\n",
              "233        5  0.692420              act\n",
              "...      ...       ...              ...\n",
              "29605      2  0.991429          yugansk\n",
              "29607      2  0.976325  yuganskneftegas\n",
              "29617      2  0.995122            yukos\n",
              "29653      1  0.021474          zealand\n",
              "29653      3  0.966328          zealand\n",
              "\n",
              "[890 rows x 3 columns], R=30, lambda_step=0.01, plot_opts={'xlab': 'PC1', 'ylab': 'PC2'}, topic_order=[5, 2, 3, 4, 1])"
            ],
            "text/html": [
              "\n",
              "<link rel=\"stylesheet\" type=\"text/css\" href=\"https://cdn.jsdelivr.net/gh/bmabey/pyLDAvis@3.3.1/pyLDAvis/js/ldavis.v1.0.0.css\">\n",
              "\n",
              "\n",
              "<div id=\"ldavis_el730991400222412793283069468829\"></div>\n",
              "<script type=\"text/javascript\">\n",
              "\n",
              "var ldavis_el730991400222412793283069468829_data = {\"mdsDat\": {\"x\": [0.16956591620438216, 0.08505161278401813, -0.18143853916956232, -0.1227965747600905, 0.049617584941252554], \"y\": [-0.013495138638574359, 0.16996747177975596, -0.1280071928064141, 0.14789001343623795, -0.17635515377100547], \"topics\": [1, 2, 3, 4, 5], \"cluster\": [1, 1, 1, 1, 1], \"Freq\": [22.116127680784597, 21.66213558059192, 19.297555417268196, 19.07875416989209, 17.845427151463202]}, \"tinfo\": {\"Term\": [\"film\", \"labour\", \"game\", \"bn\", \"award\", \"election\", \"phone\", \"mobile\", \"company\", \"blair\", \"technology\", \"party\", \"tory\", \"best\", \"government\", \"market\", \"minister\", \"people\", \"firm\", \"music\", \"player\", \"user\", \"computer\", \"england\", \"brown\", \"bank\", \"tax\", \"price\", \"sale\", \"growth\", \"tory\", \"pension\", \"chancellor\", \"glazer\", \"lib\", \"dems\", \"milburn\", \"gerrard\", \"parry\", \"manifesto\", \"election\", \"benitez\", \"labour\", \"pp\", \"pensioner\", \"prescott\", \"letwin\", \"ronaldo\", \"anfield\", \"taxpayer\", \"livingstone\", \"blair\", \"robben\", \"nh\", \"peston\", \"preelection\", \"juninho\", \"rift\", \"quango\", \"qantas\", \"prime\", \"conservative\", \"brown\", \"dem\", \"asylum\", \"wage\", \"kennedy\", \"howard\", \"liverpool\", \"liberal\", \"cabinet\", \"party\", \"minister\", \"democrat\", \"blunkett\", \"leader\", \"tony\", \"tax\", \"health\", \"mp\", \"government\", \"council\", \"proposal\", \"plan\", \"secretary\", \"public\", \"education\", \"issue\", \"policy\", \"general\", \"people\", \"campaign\", \"new\", \"budget\", \"britain\", \"claim\", \"country\", \"want\", \"bbc\", \"cut\", \"yukos\", \"profit\", \"bankruptcy\", \"gm\", \"oil\", \"gazprom\", \"fiat\", \"currency\", \"worldcom\", \"ebbers\", \"highdefinition\", \"rosneft\", \"yugansk\", \"stock\", \"yen\", \"export\", \"creditor\", \"khodorkovsky\", \"gdp\", \"tobacco\", \"trading\", \"boeing\", \"bluray\", \"lending\", \"parmalat\", \"baikal\", \"yuganskneftegas\", \"carmaker\", \"auto\", \"insurer\", \"china\", \"euro\", \"retail\", \"investor\", \"economist\", \"gas\", \"bank\", \"growth\", \"exchange\", \"price\", \"bn\", \"fraud\", \"dollar\", \"share\", \"sale\", \"market\", \"analyst\", \"economy\", \"deficit\", \"rate\", \"company\", \"india\", \"shareholder\", \"financial\", \"firm\", \"quarter\", \"economic\", \"business\", \"demand\", \"investment\", \"rise\", \"figure\", \"month\", \"consumer\", \"december\", \"expected\", \"uk\", \"chief\", \"country\", \"new\", \"deal\", \"cost\", \"group\", \"world\", \"government\", \"cup\", \"coach\", \"rugby\", \"championship\", \"olympic\", \"roddick\", \"athens\", \"tournament\", \"referee\", \"indoor\", \"tennis\", \"athletics\", \"holmes\", \"nadal\", \"kenteris\", \"iaaf\", \"federer\", \"thanou\", \"ogara\", \"marathon\", \"henman\", \"wenger\", \"sprinter\", \"odriscoll\", \"radcliffe\", \"henson\", \"halftime\", \"dallaglio\", \"conte\", \"semifinal\", \"champion\", \"injury\", \"slam\", \"arsenal\", \"match\", \"zealand\", \"squad\", \"robinson\", \"seed\", \"captain\", \"season\", \"victory\", \"league\", \"ireland\", \"grand\", \"england\", \"game\", \"team\", \"goal\", \"player\", \"win\", \"minute\", \"wale\", \"final\", \"title\", \"sport\", \"play\", \"france\", \"second\", \"world\", \"yearold\", \"playing\", \"im\", \"club\", \"good\", \"set\", \"great\", \"week\", \"new\", \"open\", \"like\", \"user\", \"site\", \"gadget\", \"apple\", \"computer\", \"blog\", \"google\", \"handset\", \"spam\", \"ipod\", \"ibm\", \"laptop\", \"browser\", \"yahoo\", \"malicious\", \"wireless\", \"server\", \"multimedia\", \"download\", \"desktop\", \"domain\", \"web\", \"antivirus\", \"spyware\", \"wifi\", \"computing\", \"nokia\", \"itunes\", \"blogger\", \"mini\", \"phone\", \"device\", \"software\", \"machine\", \"pc\", \"portable\", \"mobile\", \"program\", \"email\", \"microsoft\", \"digital\", \"search\", \"virus\", \"file\", \"online\", \"technology\", \"network\", \"internet\", \"content\", \"net\", \"information\", \"website\", \"broadband\", \"people\", \"using\", \"service\", \"music\", \"video\", \"used\", \"tv\", \"way\", \"new\", \"like\", \"firm\", \"number\", \"company\", \"million\", \"work\", \"oscar\", \"festival\", \"singer\", \"actress\", \"ukip\", \"nomination\", \"actor\", \"kilroysilk\", \"aviator\", \"nominated\", \"lse\", \"starring\", \"boerse\", \"nominee\", \"award\", \"comedy\", \"rapper\", \"elvis\", \"album\", \"drake\", \"scorsese\", \"pop\", \"forsyth\", \"presenter\", \"joss\", \"detention\", \"euronext\", \"sideways\", \"goldsmith\", \"eastwood\", \"theatre\", \"film\", \"documentary\", \"musical\", \"band\", \"drama\", \"rock\", \"ceremony\", \"chart\", \"hunting\", \"category\", \"song\", \"star\", \"best\", \"prize\", \"lord\", \"hollywood\", \"police\", \"british\", \"law\", \"music\", \"act\", \"director\", \"artist\", \"london\", \"uk\", \"movie\", \"right\", \"new\", \"bbc\", \"number\", \"people\", \"role\", \"tv\", \"including\", \"office\", \"day\", \"life\"], \"Freq\": [928.0, 720.0, 1326.0, 740.0, 520.0, 610.0, 509.0, 526.0, 979.0, 530.0, 553.0, 696.0, 470.0, 813.0, 1091.0, 711.0, 671.0, 1756.0, 838.0, 679.0, 697.0, 379.0, 341.0, 564.0, 413.0, 438.0, 497.0, 445.0, 644.0, 398.0, 468.80461169942845, 132.36510815365202, 237.88100978533186, 70.57260203639535, 161.73922414474066, 93.07217334886113, 61.060505271013035, 78.69294091359161, 49.6470681406479, 51.49091875515185, 600.7796762482398, 43.93230723613246, 708.1175978886491, 42.96741679337575, 37.282034310646, 34.4299935557475, 31.576936000762387, 29.663210771959015, 26.81264405088624, 29.58178152195038, 24.91764429726624, 514.5798353348885, 24.89300767154703, 23.96746401837315, 22.06601558154974, 22.065267564327204, 22.05983007151665, 21.113083720506975, 21.11244468141897, 21.10929624898988, 281.7634541147457, 222.95625187783494, 393.03839299702946, 68.33059641439873, 87.89627041996616, 83.16372360634787, 113.96038856927643, 299.02225355561677, 142.12134885885368, 153.8189402110458, 82.25514136958688, 602.2922386908538, 577.0000901714352, 142.20943918664324, 92.58437889442939, 299.3897489131982, 179.46226285907105, 404.61119191109503, 144.6979175634467, 266.5961447127598, 730.0955219254901, 190.2421025243117, 149.7394525038842, 409.8919461151497, 202.82838872591827, 321.6361308239115, 121.09664561459235, 265.7633997871662, 190.43661010330928, 204.89043860758508, 504.91840259469234, 194.85960731133235, 432.52338274063834, 171.37891419684144, 208.79824105917652, 197.72754419662024, 252.49251042047058, 241.62927312090733, 221.5590305094026, 192.46207154525626, 177.12215505255529, 242.36644416777972, 91.41342406253536, 72.98621876978267, 270.72025755847574, 65.61447059410901, 63.77052113500454, 63.770068279004434, 59.16289200869566, 58.24168190300445, 58.21719032004718, 53.634285566178946, 52.71269954914876, 181.75765979915997, 46.2602138979528, 113.25519948056427, 47.00611528709817, 37.04598018869697, 36.123434417545, 35.20155599601255, 94.72897004424404, 44.14745192314133, 29.67252120375054, 33.26497375111214, 27.830770790949295, 26.909295086041464, 26.90927867663434, 26.90811750943619, 26.902373315377, 29.58727935717091, 267.88304213332276, 231.3530388450215, 75.28588119250934, 133.69871396860938, 102.76283969745448, 63.35442260052226, 408.66534377936927, 370.0731702391704, 135.27352604494297, 407.40858217237485, 653.3345894064275, 109.5148728238164, 215.93423679822146, 383.72766334829015, 518.4368449824098, 560.2060358918409, 292.1714313278939, 334.45368094127383, 110.53914371823605, 297.1618923116127, 684.1992910938961, 165.04990567810222, 107.9902384422783, 194.29424624556557, 542.9343756393689, 167.50660039957768, 260.9083902622496, 284.6394744936282, 175.07884376485924, 165.72569823299852, 215.45023084810464, 226.81494018554673, 334.82860855452657, 203.62896264848538, 181.68523225608902, 232.47518025725768, 321.53210415557584, 225.26047927566995, 271.69799456314047, 368.7272847134931, 222.24472665196427, 216.33409054696668, 227.65305559175226, 255.46631795429352, 247.14997953015464, 277.59475948232614, 233.84527810307043, 197.5407059187793, 140.75426148524934, 137.02552917737623, 111.89692208389786, 93.27732051166878, 82.10645979667508, 82.104834132274, 80.24519055170647, 68.14104616386817, 63.48817665357268, 63.48540101680327, 59.765271817450085, 58.83430486603164, 56.04118579743604, 51.38685259783414, 50.4560072989706, 50.455789878535064, 49.52453128662793, 48.594185689307444, 52.236380215808836, 45.80088810340075, 44.87028611817228, 44.8675193853019, 43.00801821325088, 44.83011215016256, 42.07775976437301, 42.076004305264156, 40.215345865067064, 248.26081269158286, 237.56811015183092, 87.65413074503049, 139.70375201979056, 308.7816730485568, 90.26089418052479, 125.42950334267094, 118.43297588951093, 85.82996044694337, 101.42925665127963, 226.79221348878477, 185.93159860171184, 166.34602968767098, 264.9611366709282, 120.49914758858397, 447.06515777779083, 922.8143455711106, 305.3179987224858, 174.70503497282127, 480.85890409802477, 439.7137593146184, 221.24030121801255, 258.1785259101463, 240.3586524938249, 218.09083938875378, 180.83148547040975, 347.09733053881115, 213.04752879803658, 290.5992727021927, 410.6546957427075, 184.53795228384976, 180.1090091372137, 204.7893277612692, 207.96162512105863, 248.6237791983944, 253.5031403159583, 191.09104192494243, 211.84902584448218, 231.49166567504778, 188.0358748236967, 192.4291232199057, 378.89913370319704, 282.91901506401126, 183.9277733762391, 159.5883386574121, 339.2375416520792, 112.70697945054191, 108.01716742529703, 94.8836017169568, 72.3879585098327, 70.51294529718808, 54.56972739178716, 53.63491217616462, 51.759505790010934, 51.75863881097411, 51.75714136514018, 89.60231031988387, 48.93955961933575, 51.68115119095759, 96.84755219215283, 44.25717658404274, 46.09384933710327, 147.21858438697066, 38.63222916232189, 38.631905699218706, 38.6317177950533, 37.69401435391398, 35.806361423525516, 34.87842266802023, 43.13407571331804, 77.07469236775489, 498.2970025787983, 205.2418573209263, 276.55539620172914, 167.9674952797243, 242.36649135547324, 73.1509049959454, 501.92209439224956, 159.0434751596836, 170.20269864911802, 207.57604732943122, 290.9858686615981, 189.01598731759603, 141.07619142543578, 120.10203041437589, 274.2791415070985, 483.50376397132425, 295.55500301433744, 221.10321438680492, 157.22197325711983, 304.1484392747504, 235.68096362502573, 235.05939101129817, 183.79687576125735, 850.5820279692817, 217.62820072731506, 400.41383708999905, 337.6547072327375, 212.90020661540163, 264.1374652360768, 246.17592079987162, 286.6855577481436, 393.41037854134163, 264.16592510303195, 261.8556679740824, 233.46124785113088, 236.87421145728752, 214.11501686991141, 212.60411142318242, 159.86637295128793, 129.0180740127155, 129.9063927170104, 122.66692555405061, 116.30950716827215, 121.7089565810694, 206.36775138818484, 95.44257151861626, 78.18574505382715, 73.67191271034878, 70.94173442154954, 60.062534337211666, 59.148312007964705, 56.43353869652842, 512.6345792554024, 114.40243761779804, 42.82199131758134, 41.91589828770126, 184.37032229470003, 38.28672984022568, 38.24724356319052, 91.6168811794024, 35.565333308637186, 35.55865942729807, 34.65779346183296, 34.65770844075119, 34.65123244752012, 33.75087060326658, 33.75031743524263, 35.50605857496475, 81.40224997922986, 853.7742819494018, 55.49577919992817, 83.28849280410057, 210.1615605242821, 75.79458038195216, 108.60083298359932, 101.23138725769971, 132.63494820498147, 64.93323112891184, 105.92015099697177, 205.74468919624965, 301.7189449161814, 558.8048782923782, 148.2358389647902, 250.7086435220315, 88.91714661022996, 173.04874430140197, 280.05909575819516, 243.42803314265015, 333.1495751255921, 149.55332935741976, 204.74155815678063, 106.19420807936403, 188.22655908241106, 284.0253200327279, 134.5967837113337, 206.49703269250367, 312.9376117837522, 200.6498491439421, 202.4080101753162, 247.03817464149725, 146.03700014378876, 163.3154051397449, 148.19418118722737, 146.13928467986435, 155.32864674101944, 145.37001941898026], \"Total\": [928.0, 720.0, 1326.0, 740.0, 520.0, 610.0, 509.0, 526.0, 979.0, 530.0, 553.0, 696.0, 470.0, 813.0, 1091.0, 711.0, 671.0, 1756.0, 838.0, 679.0, 697.0, 379.0, 341.0, 564.0, 413.0, 438.0, 497.0, 445.0, 644.0, 398.0, 470.72717820508126, 133.13476839907403, 239.61364500137665, 71.31276984061037, 163.52135157847354, 94.12463405404688, 61.80152230213193, 79.85924493829775, 50.38805644685171, 52.2875936680965, 610.2878593979102, 44.681154890533215, 720.4628367917339, 43.72988886799592, 38.023443901685276, 35.17011515195634, 32.31675376639081, 30.41426805725981, 27.560961265380158, 30.411620986108602, 25.65884276105338, 530.0702366084332, 25.658347793881685, 24.707754116170488, 22.805536123824584, 22.805504942316947, 22.80540358787006, 21.854367492404407, 21.854337575873924, 21.854239932041164, 292.5738945883743, 231.6685592639485, 413.78670805467397, 71.20949573917703, 92.07157167473184, 87.37194108007468, 120.53872606965392, 326.86774955411533, 151.93726786763978, 164.97111315357338, 87.34430867083569, 696.8532930721404, 671.8377017962274, 156.2916324138105, 99.54598804940359, 347.5436163042428, 205.28874722180467, 497.31805771740574, 165.78433086664722, 332.4034916941217, 1091.2858386139285, 234.9251244004753, 177.84100741079587, 616.7235188042606, 268.9536762819902, 492.5087924470131, 141.24724992201334, 408.7142496469842, 264.004900609197, 319.24398941146654, 1756.785310826932, 307.45348534831766, 1739.0903234542732, 238.47449691191656, 405.3281417273944, 357.5944926667386, 742.5785879235674, 659.0050319073273, 695.4200659396793, 359.09472042240475, 177.86770556318072, 244.20457579179762, 92.16348828573483, 73.73234361664477, 273.6860793241765, 66.35990969830263, 64.51683342844112, 64.5168323339011, 59.909047082482786, 58.987491591812784, 58.98790256897908, 54.379734563380495, 53.45818365218404, 184.37631941916695, 47.0073052119966, 115.22289290308714, 47.934543191816815, 37.7918097262247, 36.870281736567414, 35.948739822976314, 96.79380360956333, 45.17291576490573, 30.419402675290478, 34.10427917434421, 28.576280363537837, 27.654725419714147, 27.654725776430155, 27.654748376460063, 27.65482894797466, 30.420748906306542, 278.42056808899343, 240.62176380682752, 77.44281148120572, 138.36246226712623, 106.06607175212064, 65.46178964919352, 438.91787745076914, 398.70754976961666, 142.99109635237858, 445.92870005158284, 740.86940909168, 116.18990384894605, 246.5270450254272, 457.7400195869431, 644.9945896070726, 711.2782963966067, 354.9706298423069, 419.1595729176099, 120.91273788349443, 367.7134644257452, 979.1128010524652, 190.98660460187133, 118.24590344274313, 236.06178258431692, 838.3779820134026, 201.3846520338813, 352.0878614891674, 431.98230002359355, 226.7530998834065, 216.10942617325017, 324.46102489009365, 372.40879486839094, 727.9433289715685, 320.87685324603456, 261.542038272474, 440.0674737790862, 942.8266103089716, 417.5876371946509, 742.5785879235674, 1739.0903234542732, 435.7585142111114, 415.54185810710055, 558.9604379158193, 1076.1910726318463, 1091.2858386139285, 278.34518267775104, 234.5916246304079, 198.2856216482334, 141.4992709627754, 137.77557490296687, 112.64060351358248, 94.02211853916202, 82.85103432480763, 82.8510905728216, 80.98918593443524, 68.88718889498645, 64.2325474333141, 64.23253998910032, 60.5088582737475, 59.57793225723943, 56.785163597289504, 52.13054034418867, 51.19961637079071, 51.19962288271037, 50.26868563132407, 49.337769118524044, 53.063230650670725, 46.544991952442444, 45.61407759920238, 45.614000320517455, 43.75223860415962, 45.61487764476584, 42.8212999490516, 42.82128658578073, 40.95945907162643, 253.30117077323553, 243.0517166656389, 89.3884218509136, 144.37543634904284, 326.0214735159152, 93.13607244853436, 131.13043210793776, 123.70880568441032, 89.38777140444458, 106.98115562808343, 251.9641990141691, 206.6622189051667, 184.33856367960166, 305.20967896773396, 131.1297014074301, 564.6593044271383, 1326.857874201624, 383.93965589812007, 205.08836856003913, 697.638639988377, 635.3287338402778, 285.83248394245635, 357.08613309165133, 331.0147622783147, 295.088733770302, 232.59964085414666, 562.1805265043351, 325.39101698529896, 561.620936761531, 1076.1910726318463, 270.3279597659215, 261.0601085298573, 337.4982592928092, 372.5029473493583, 620.8088540939532, 685.8141729714638, 352.86781588588525, 690.0331466001151, 1739.0903234542732, 356.8859805039676, 774.2721191202718, 379.7509044730043, 284.10196482249717, 184.71439283017645, 160.33542351326707, 341.28508802225963, 113.45142179167432, 108.76296258782534, 95.63532529184347, 73.13112553368181, 71.2557716384567, 55.3151841014577, 54.37751650705071, 52.502163367052326, 52.50214456805468, 52.50214304598188, 90.93672046237627, 49.689004844626965, 52.50080559594716, 98.43373188734643, 45.00070735940603, 46.87579022216438, 149.98556055684497, 39.37463015037701, 39.37462400963201, 39.37461826479124, 38.43694349138375, 36.56136969295594, 35.62382085505834, 44.058059844570295, 78.77054827435194, 509.886345694541, 210.9155382297137, 286.75687718514735, 173.4148775327745, 251.38923230472898, 74.98735672061993, 526.5505799878662, 165.08288479719212, 178.2532949377097, 220.14016255192521, 313.6138373712838, 201.48277460044193, 149.00173220976615, 126.4471255652406, 302.33610704780864, 553.8840075492927, 350.39066372456557, 254.3656009531139, 176.08507892714752, 378.9460153130701, 288.7185150238969, 292.98615158670384, 217.8880143521031, 1756.785310826932, 280.95513119894997, 723.7756172974276, 679.7755502621726, 309.1898096459418, 465.23585790330935, 451.45554702124775, 738.2739236894212, 1739.0903234542732, 774.2721191202718, 838.3779820134026, 766.2519613500285, 979.1128010524652, 575.7376259727326, 609.1402387939877, 160.61558250775582, 129.76718900387937, 130.6751317109329, 123.41603905945044, 117.06515344123926, 122.50954628020705, 207.8061946279177, 96.19707746855539, 78.95840537975903, 74.42153697297157, 71.69973477999524, 60.81193956308696, 59.904732398847386, 57.182709107943964, 520.0771289474989, 116.19127323784822, 43.573199053757584, 42.66583668131694, 187.91944922221683, 39.03659196164114, 39.0372118124189, 93.51205164186833, 36.31469819455701, 36.314963072193805, 35.407381449143216, 35.407409173586025, 35.40746935482675, 34.500051341607204, 34.50010740830678, 36.31559633136754, 83.53935390258218, 928.0537895892061, 57.197691667663456, 87.23586730384139, 228.4279322695357, 79.95987724880143, 116.40424760265721, 108.13158402773057, 145.5857398095109, 68.16756601419723, 116.42158967168078, 242.54784109221183, 374.7685808157693, 813.2921312018091, 176.75703022573595, 350.90397215219446, 99.9856870618984, 234.94921232366625, 478.5741755485801, 404.28349334464497, 679.7755502621726, 216.63138941646764, 411.7863432629491, 133.26953676316685, 401.1250180465472, 942.8266103089716, 211.92183974221987, 578.6174674486391, 1739.0903234542732, 695.4200659396793, 766.2519613500285, 1756.785310826932, 280.6370969227394, 451.45554702124775, 335.37497952743854, 322.3566357829468, 609.8928282739935, 390.92445740385824], \"Category\": [\"Default\", \"Default\", \"Default\", \"Default\", \"Default\", \"Default\", \"Default\", \"Default\", \"Default\", \"Default\", \"Default\", \"Default\", \"Default\", \"Default\", \"Default\", \"Default\", \"Default\", \"Default\", \"Default\", \"Default\", \"Default\", \"Default\", \"Default\", \"Default\", \"Default\", \"Default\", \"Default\", \"Default\", \"Default\", \"Default\", \"Topic1\", \"Topic1\", \"Topic1\", \"Topic1\", \"Topic1\", \"Topic1\", \"Topic1\", \"Topic1\", \"Topic1\", \"Topic1\", \"Topic1\", \"Topic1\", \"Topic1\", \"Topic1\", \"Topic1\", \"Topic1\", \"Topic1\", \"Topic1\", \"Topic1\", \"Topic1\", \"Topic1\", \"Topic1\", \"Topic1\", \"Topic1\", \"Topic1\", \"Topic1\", \"Topic1\", \"Topic1\", \"Topic1\", \"Topic1\", \"Topic1\", \"Topic1\", \"Topic1\", \"Topic1\", \"Topic1\", \"Topic1\", \"Topic1\", \"Topic1\", \"Topic1\", \"Topic1\", \"Topic1\", \"Topic1\", \"Topic1\", \"Topic1\", \"Topic1\", \"Topic1\", \"Topic1\", \"Topic1\", \"Topic1\", \"Topic1\", \"Topic1\", \"Topic1\", \"Topic1\", \"Topic1\", \"Topic1\", \"Topic1\", \"Topic1\", \"Topic1\", \"Topic1\", \"Topic1\", \"Topic1\", \"Topic1\", \"Topic1\", \"Topic1\", \"Topic1\", \"Topic1\", \"Topic1\", \"Topic1\", \"Topic1\", \"Topic1\", \"Topic2\", \"Topic2\", \"Topic2\", \"Topic2\", \"Topic2\", \"Topic2\", \"Topic2\", \"Topic2\", \"Topic2\", \"Topic2\", \"Topic2\", \"Topic2\", \"Topic2\", \"Topic2\", \"Topic2\", \"Topic2\", \"Topic2\", \"Topic2\", \"Topic2\", \"Topic2\", \"Topic2\", \"Topic2\", \"Topic2\", \"Topic2\", \"Topic2\", \"Topic2\", \"Topic2\", \"Topic2\", \"Topic2\", \"Topic2\", \"Topic2\", \"Topic2\", \"Topic2\", \"Topic2\", \"Topic2\", \"Topic2\", \"Topic2\", \"Topic2\", \"Topic2\", \"Topic2\", \"Topic2\", \"Topic2\", \"Topic2\", \"Topic2\", \"Topic2\", \"Topic2\", \"Topic2\", \"Topic2\", \"Topic2\", \"Topic2\", \"Topic2\", \"Topic2\", \"Topic2\", \"Topic2\", \"Topic2\", \"Topic2\", \"Topic2\", \"Topic2\", \"Topic2\", \"Topic2\", \"Topic2\", \"Topic2\", \"Topic2\", \"Topic2\", \"Topic2\", \"Topic2\", \"Topic2\", \"Topic2\", \"Topic2\", \"Topic2\", \"Topic2\", \"Topic2\", \"Topic2\", \"Topic2\", \"Topic2\", \"Topic3\", \"Topic3\", \"Topic3\", \"Topic3\", \"Topic3\", \"Topic3\", \"Topic3\", \"Topic3\", \"Topic3\", \"Topic3\", \"Topic3\", \"Topic3\", \"Topic3\", \"Topic3\", \"Topic3\", \"Topic3\", \"Topic3\", \"Topic3\", \"Topic3\", \"Topic3\", \"Topic3\", \"Topic3\", \"Topic3\", \"Topic3\", \"Topic3\", \"Topic3\", \"Topic3\", \"Topic3\", \"Topic3\", \"Topic3\", \"Topic3\", \"Topic3\", \"Topic3\", \"Topic3\", \"Topic3\", \"Topic3\", \"Topic3\", \"Topic3\", \"Topic3\", \"Topic3\", \"Topic3\", \"Topic3\", \"Topic3\", \"Topic3\", \"Topic3\", \"Topic3\", \"Topic3\", \"Topic3\", \"Topic3\", \"Topic3\", \"Topic3\", \"Topic3\", \"Topic3\", \"Topic3\", \"Topic3\", \"Topic3\", \"Topic3\", \"Topic3\", \"Topic3\", \"Topic3\", \"Topic3\", \"Topic3\", \"Topic3\", \"Topic3\", \"Topic3\", \"Topic3\", \"Topic3\", \"Topic3\", \"Topic3\", \"Topic3\", \"Topic3\", \"Topic4\", \"Topic4\", \"Topic4\", \"Topic4\", \"Topic4\", \"Topic4\", \"Topic4\", \"Topic4\", \"Topic4\", \"Topic4\", \"Topic4\", \"Topic4\", \"Topic4\", \"Topic4\", \"Topic4\", \"Topic4\", \"Topic4\", \"Topic4\", \"Topic4\", \"Topic4\", \"Topic4\", \"Topic4\", \"Topic4\", \"Topic4\", \"Topic4\", \"Topic4\", \"Topic4\", \"Topic4\", \"Topic4\", \"Topic4\", \"Topic4\", \"Topic4\", \"Topic4\", \"Topic4\", \"Topic4\", \"Topic4\", \"Topic4\", \"Topic4\", \"Topic4\", \"Topic4\", \"Topic4\", \"Topic4\", \"Topic4\", \"Topic4\", \"Topic4\", \"Topic4\", \"Topic4\", \"Topic4\", \"Topic4\", \"Topic4\", \"Topic4\", \"Topic4\", \"Topic4\", \"Topic4\", \"Topic4\", \"Topic4\", \"Topic4\", \"Topic4\", \"Topic4\", \"Topic4\", \"Topic4\", \"Topic4\", \"Topic4\", \"Topic4\", \"Topic4\", \"Topic4\", \"Topic4\", \"Topic4\", \"Topic5\", \"Topic5\", \"Topic5\", \"Topic5\", \"Topic5\", \"Topic5\", \"Topic5\", \"Topic5\", \"Topic5\", \"Topic5\", \"Topic5\", \"Topic5\", \"Topic5\", \"Topic5\", \"Topic5\", \"Topic5\", \"Topic5\", \"Topic5\", \"Topic5\", \"Topic5\", \"Topic5\", \"Topic5\", \"Topic5\", \"Topic5\", \"Topic5\", \"Topic5\", \"Topic5\", \"Topic5\", \"Topic5\", \"Topic5\", \"Topic5\", \"Topic5\", \"Topic5\", \"Topic5\", \"Topic5\", \"Topic5\", \"Topic5\", \"Topic5\", \"Topic5\", \"Topic5\", \"Topic5\", \"Topic5\", \"Topic5\", \"Topic5\", \"Topic5\", \"Topic5\", \"Topic5\", \"Topic5\", \"Topic5\", \"Topic5\", \"Topic5\", \"Topic5\", \"Topic5\", \"Topic5\", \"Topic5\", \"Topic5\", \"Topic5\", \"Topic5\", \"Topic5\", \"Topic5\", \"Topic5\", \"Topic5\", \"Topic5\", \"Topic5\", \"Topic5\", \"Topic5\", \"Topic5\", \"Topic5\"], \"logprob\": [30.0, 29.0, 28.0, 27.0, 26.0, 25.0, 24.0, 23.0, 22.0, 21.0, 20.0, 19.0, 18.0, 17.0, 16.0, 15.0, 14.0, 13.0, 12.0, 11.0, 10.0, 9.0, 8.0, 7.0, 6.0, 5.0, 4.0, 3.0, 2.0, 1.0, -5.2301, -6.4948, -5.9086, -7.1237, -6.2943, -6.847, -7.2685, -7.0148, -7.4754, -7.4389, -4.9821, -7.5977, -4.8177, -7.6199, -7.7618, -7.8414, -7.9279, -7.9904, -8.0915, -7.9932, -8.1648, -5.137, -8.1657, -8.2036, -8.2863, -8.2863, -8.2866, -8.3304, -8.3305, -8.3306, -5.7393, -5.9734, -5.4064, -7.156, -6.9042, -6.9595, -6.6445, -5.6798, -6.4237, -6.3446, -6.9705, -4.9796, -5.0225, -6.423, -6.8522, -5.6786, -6.1904, -5.3774, -6.4057, -5.7946, -4.7872, -6.132, -6.3714, -5.3644, -6.068, -5.6069, -6.5837, -5.7977, -6.131, -6.0579, -5.1559, -6.1081, -5.3107, -6.2365, -6.039, -6.0934, -5.849, -5.8929, -5.9796, -6.1204, -6.1828, -5.8691, -6.8442, -7.0693, -5.7585, -7.1758, -7.2043, -7.2043, -7.2793, -7.295, -7.2954, -7.3774, -7.3947, -6.1569, -7.5253, -6.6299, -7.5093, -7.7474, -7.7726, -7.7985, -6.8086, -7.5721, -7.9694, -7.8551, -8.0334, -8.0671, -8.0671, -8.0672, -8.0674, -7.9722, -5.769, -5.9156, -7.0383, -6.464, -6.7272, -7.2108, -5.3467, -5.4459, -6.4523, -5.3498, -4.8775, -6.6635, -5.9846, -5.4097, -5.1088, -5.0313, -5.6822, -5.5471, -6.6542, -5.6653, -4.8313, -6.2533, -6.6775, -6.0902, -5.0626, -6.2386, -5.7954, -5.7084, -6.1944, -6.2493, -5.9869, -5.9355, -5.546, -6.0433, -6.1573, -5.9108, -5.5865, -5.9423, -5.7549, -5.4495, -5.9558, -5.9828, -5.9318, -5.8165, -5.8496, -5.6178, -5.7893, -5.9581, -6.297, -6.3238, -6.5264, -6.7084, -6.836, -6.836, -6.8589, -7.0224, -7.0931, -7.0932, -7.1536, -7.1693, -7.2179, -7.3046, -7.3229, -7.3229, -7.3415, -7.3605, -7.2882, -7.4197, -7.4402, -7.4403, -7.4826, -7.4411, -7.5045, -7.5045, -7.5498, -5.7295, -5.7735, -6.7706, -6.3045, -5.5114, -6.7413, -6.4123, -6.4697, -6.7916, -6.6246, -5.82, -6.0186, -6.1299, -5.6644, -6.4524, -5.1413, -4.4166, -5.5226, -6.0809, -5.0684, -5.1579, -5.8448, -5.6904, -5.7619, -5.8591, -6.0464, -5.3944, -5.8825, -5.5721, -5.2263, -6.0261, -6.0504, -5.922, -5.9066, -5.7281, -5.7086, -5.9913, -5.8881, -5.7995, -6.0074, -5.9843, -5.2953, -5.5874, -6.0181, -6.16, -5.4059, -6.5078, -6.5503, -6.6799, -6.9506, -6.9768, -7.2331, -7.2504, -7.286, -7.286, -7.286, -6.7372, -7.342, -7.2875, -6.6595, -7.4426, -7.4019, -6.2407, -7.5785, -7.5785, -7.5785, -7.6031, -7.6545, -7.6807, -7.4683, -6.8878, -5.0214, -5.9084, -5.6102, -6.1088, -5.7421, -6.9401, -5.0142, -6.1634, -6.0956, -5.8971, -5.5593, -5.9908, -6.2833, -6.4443, -5.6185, -5.0515, -5.5437, -5.834, -6.1749, -5.5151, -5.7701, -5.7728, -6.0188, -4.4867, -5.8498, -5.2401, -5.4106, -5.8718, -5.6561, -5.7266, -5.5742, -5.2577, -5.656, -5.6648, -5.7796, -5.7651, -5.8661, -5.8732, -6.0914, -6.3058, -6.299, -6.3563, -6.4095, -6.3641, -5.8361, -6.6072, -6.8067, -6.8662, -6.9039, -7.0704, -7.0857, -7.1327, -4.9262, -6.426, -7.4087, -7.4301, -5.9488, -7.5207, -7.5217, -6.6482, -7.5944, -7.5946, -7.6202, -7.6203, -7.6204, -7.6468, -7.6468, -7.5961, -6.7664, -4.4161, -7.1495, -6.7435, -5.8179, -6.8377, -6.4781, -6.5484, -6.2782, -6.9924, -6.5031, -5.8391, -5.4563, -4.84, -6.167, -5.6415, -6.6781, -6.0122, -5.5308, -5.671, -5.3572, -6.1581, -5.844, -6.5005, -5.9281, -5.5167, -6.2635, -5.8355, -5.4198, -5.8642, -5.8555, -5.6562, -6.1819, -6.0701, -6.1672, -6.1812, -6.1202, -6.1865], \"loglift\": [30.0, 29.0, 28.0, 27.0, 26.0, 25.0, 24.0, 23.0, 22.0, 21.0, 20.0, 19.0, 18.0, 17.0, 16.0, 15.0, 14.0, 13.0, 12.0, 11.0, 10.0, 9.0, 8.0, 7.0, 6.0, 5.0, 4.0, 3.0, 2.0, 1.0, 1.5048, 1.5031, 1.5016, 1.4984, 1.4979, 1.4976, 1.4968, 1.4942, 1.494, 1.4935, 1.4932, 1.492, 1.4916, 1.4913, 1.4892, 1.4876, 1.4857, 1.4839, 1.4813, 1.4812, 1.4796, 1.4792, 1.4786, 1.4784, 1.4759, 1.4759, 1.4756, 1.4744, 1.4743, 1.4742, 1.4712, 1.4705, 1.4574, 1.4676, 1.4625, 1.4595, 1.4527, 1.4198, 1.4421, 1.4389, 1.4488, 1.363, 1.3567, 1.4144, 1.4364, 1.3597, 1.3744, 1.3026, 1.3728, 1.2882, 1.1069, 1.2979, 1.3369, 1.1003, 1.2267, 1.0828, 1.3549, 1.0785, 1.1822, 1.0654, 0.262, 1.0528, 0.1174, 1.1785, 0.8455, 0.9164, 0.4301, 0.5055, 0.365, 0.8852, 1.5254, 1.522, 1.5214, 1.5194, 1.5187, 1.5183, 1.518, 1.518, 1.5171, 1.5169, 1.5165, 1.5158, 1.5156, 1.5153, 1.5136, 1.5124, 1.51, 1.5097, 1.5091, 1.5086, 1.508, 1.5066, 1.5047, 1.5047, 1.5032, 1.5023, 1.5023, 1.5022, 1.502, 1.5018, 1.491, 1.4903, 1.5014, 1.4953, 1.498, 1.4969, 1.4582, 1.4551, 1.4741, 1.4393, 1.4039, 1.4704, 1.3971, 1.3532, 1.3112, 1.2908, 1.3349, 1.3039, 1.4399, 1.3166, 1.1712, 1.3836, 1.4389, 1.3349, 1.0951, 1.3454, 1.2299, 1.1124, 1.271, 1.2642, 1.1202, 1.0337, 0.753, 1.0748, 1.1653, 0.8915, 0.4538, 0.9124, 0.5242, -0.0215, 0.8563, 0.8768, 0.6313, 0.0915, 0.0445, 1.6425, 1.642, 1.6414, 1.6399, 1.6397, 1.6386, 1.6372, 1.6362, 1.6361, 1.636, 1.6343, 1.6335, 1.6335, 1.6328, 1.6326, 1.632, 1.6308, 1.6306, 1.6306, 1.6303, 1.63, 1.6295, 1.6291, 1.6288, 1.6287, 1.628, 1.6278, 1.6277, 1.6276, 1.6269, 1.6251, 1.6224, 1.6256, 1.6123, 1.5909, 1.6138, 1.6007, 1.6016, 1.6046, 1.5919, 1.5399, 1.5395, 1.5425, 1.5038, 1.5606, 1.4117, 1.2821, 1.4161, 1.4848, 1.2731, 1.2772, 1.389, 1.3209, 1.3252, 1.3428, 1.3934, 1.163, 1.2217, 0.9863, 0.6818, 1.2634, 1.274, 1.1456, 1.0623, 0.7301, 0.65, 1.0318, 0.4643, -0.3714, 1.0044, 0.253, 1.6543, 1.6524, 1.6523, 1.6519, 1.6506, 1.65, 1.6497, 1.6487, 1.6464, 1.6461, 1.643, 1.6428, 1.6423, 1.6423, 1.6423, 1.6418, 1.6414, 1.6409, 1.6403, 1.6399, 1.6398, 1.638, 1.6376, 1.6376, 1.6375, 1.6371, 1.6357, 1.6354, 1.6354, 1.6348, 1.6336, 1.6293, 1.6204, 1.6247, 1.62, 1.6318, 1.6087, 1.6193, 1.6104, 1.5978, 1.5817, 1.5927, 1.6019, 1.6051, 1.5592, 1.5207, 1.4864, 1.5165, 1.5433, 1.4367, 1.4536, 1.4363, 1.4864, 0.9313, 1.4012, 1.0646, 0.9569, 1.2835, 1.0905, 1.0502, 0.7107, 0.1703, 0.5812, 0.4929, 0.4681, 0.2375, 0.6675, 0.604, 1.7187, 1.7176, 1.7175, 1.7173, 1.7169, 1.7169, 1.7165, 1.7155, 1.7136, 1.7133, 1.7128, 1.711, 1.7107, 1.7102, 1.709, 1.7079, 1.706, 1.7057, 1.7044, 1.704, 1.703, 1.7029, 1.7026, 1.7024, 1.702, 1.702, 1.7018, 1.7015, 1.7015, 1.7009, 1.6975, 1.64, 1.6932, 1.6771, 1.6401, 1.6699, 1.654, 1.6575, 1.6303, 1.6748, 1.6289, 1.5589, 1.5066, 1.3481, 1.5475, 1.3872, 1.6061, 1.4176, 1.1876, 1.2161, 1.0103, 1.3529, 1.0247, 1.4963, 0.9668, 0.5236, 1.2695, 0.6931, 0.0083, 0.4805, 0.3922, -0.2383, 1.0702, 0.7066, 0.9067, 0.9323, 0.3557, 0.7342]}, \"token.table\": {\"Topic\": [1, 2, 3, 4, 5, 2, 5, 5, 2, 4, 5, 1, 2, 4, 1, 4, 4, 1, 3, 2, 4, 5, 1, 5, 3, 3, 2, 5, 3, 5, 2, 1, 3, 4, 5, 1, 2, 4, 5, 2, 1, 2, 3, 4, 5, 1, 1, 2, 3, 4, 5, 1, 3, 5, 4, 4, 1, 5, 2, 1, 2, 2, 5, 1, 2, 3, 4, 5, 1, 2, 3, 4, 5, 2, 4, 1, 3, 5, 4, 1, 2, 4, 5, 1, 2, 3, 4, 5, 1, 2, 4, 1, 2, 3, 4, 5, 1, 3, 5, 2, 2, 4, 5, 2, 3, 5, 1, 3, 3, 1, 5, 4, 5, 1, 2, 3, 4, 5, 2, 4, 5, 1, 2, 3, 4, 5, 1, 2, 3, 4, 5, 3, 4, 5, 1, 2, 4, 5, 2, 4, 4, 1, 5, 1, 2, 4, 3, 1, 2, 4, 5, 1, 2, 3, 4, 5, 1, 2, 4, 5, 1, 2, 3, 4, 5, 2, 3, 2, 1, 2, 3, 4, 5, 3, 1, 2, 3, 4, 5, 1, 2, 3, 4, 5, 1, 2, 3, 4, 5, 1, 2, 3, 1, 5, 1, 2, 3, 4, 5, 1, 2, 5, 1, 4, 5, 1, 2, 4, 2, 4, 5, 1, 2, 3, 4, 5, 2, 5, 2, 5, 4, 2, 4, 5, 3, 4, 5, 5, 2, 1, 2, 1, 2, 1, 2, 1, 4, 5, 1, 2, 4, 5, 5, 1, 4, 1, 2, 3, 4, 5, 2, 3, 5, 1, 2, 4, 5, 1, 2, 3, 4, 5, 2, 4, 3, 5, 2, 1, 2, 3, 4, 5, 2, 4, 5, 2, 4, 5, 1, 2, 3, 4, 5, 1, 2, 4, 5, 1, 2, 4, 5, 5, 2, 3, 4, 5, 2, 4, 5, 4, 1, 2, 3, 4, 5, 2, 4, 2, 2, 1, 2, 3, 4, 5, 1, 2, 1, 2, 1, 2, 3, 4, 5, 5, 1, 2, 3, 4, 5, 4, 1, 2, 4, 5, 1, 2, 3, 4, 5, 1, 2, 3, 4, 5, 1, 2, 3, 4, 5, 1, 2, 4, 3, 4, 1, 2, 4, 5, 3, 3, 2, 2, 5, 3, 1, 3, 5, 1, 4, 5, 3, 4, 1, 3, 4, 5, 1, 2, 3, 4, 5, 1, 2, 4, 5, 3, 1, 2, 3, 4, 5, 1, 3, 4, 2, 2, 4, 5, 1, 2, 4, 5, 1, 2, 4, 1, 2, 3, 5, 1, 2, 3, 4, 5, 4, 5, 1, 1, 3, 5, 3, 2, 5, 1, 2, 5, 4, 1, 2, 3, 4, 5, 1, 2, 3, 4, 5, 1, 3, 4, 5, 2, 1, 1, 5, 1, 5, 1, 2, 3, 4, 5, 1, 2, 3, 4, 5, 1, 3, 5, 1, 1, 2, 3, 4, 5, 1, 2, 3, 4, 5, 5, 1, 2, 4, 4, 1, 3, 1, 2, 4, 5, 1, 2, 3, 2, 4, 1, 1, 2, 4, 5, 1, 4, 1, 2, 4, 5, 1, 2, 3, 4, 5, 2, 4, 1, 2, 3, 4, 5, 2, 4, 5, 1, 4, 5, 4, 2, 4, 5, 1, 4, 5, 3, 1, 2, 3, 4, 1, 2, 4, 5, 1, 2, 3, 4, 5, 1, 4, 5, 5, 5, 1, 2, 3, 4, 5, 3, 1, 2, 4, 5, 3, 2, 4, 5, 3, 1, 2, 3, 4, 5, 1, 2, 3, 4, 5, 5, 2, 1, 1, 2, 3, 4, 5, 1, 2, 4, 1, 1, 1, 2, 3, 4, 5, 1, 2, 4, 5, 1, 2, 3, 4, 5, 1, 2, 3, 4, 5, 1, 2, 3, 4, 5, 1, 2, 3, 4, 5, 1, 2, 4, 5, 1, 2, 4, 5, 4, 5, 2, 4, 1, 1, 1, 5, 1, 2, 3, 4, 5, 1, 2, 5, 2, 3, 4, 5, 2, 5, 1, 2, 4, 1, 2, 4, 5, 1, 2, 3, 4, 5, 1, 1, 1, 2, 3, 4, 5, 3, 5, 1, 2, 3, 4, 5, 3, 2, 4, 1, 1, 2, 3, 4, 5, 1, 2, 3, 4, 5, 1, 2, 3, 5, 1, 2, 3, 4, 5, 3, 1, 2, 3, 4, 5, 1, 2, 3, 1, 2, 3, 4, 5, 5, 1, 3, 4, 5, 1, 2, 3, 4, 5, 1, 2, 3, 4, 5, 1, 2, 5, 3, 4, 3, 4, 1, 2, 3, 4, 5, 1, 2, 3, 4, 5, 1, 2, 3, 4, 5, 1, 2, 5, 5, 5, 2, 4, 1, 3, 2, 4, 1, 4, 5, 4, 1, 2, 3, 5, 3, 4, 3, 5, 1, 2, 3, 4, 5, 5, 1, 2, 1, 2, 1, 1, 2, 3, 4, 5, 2, 4, 3, 3, 4, 5, 1, 2, 3, 4, 5, 2, 1, 4, 5, 1, 5, 3, 2, 4, 2, 3, 4, 5, 1, 2, 3, 4, 5, 5, 1, 2, 3, 4, 5, 4, 1, 2, 3, 4, 5, 1, 2, 3, 5, 2, 3, 4, 5, 2, 3, 4, 1, 2, 1, 2, 3, 5, 1, 2, 3, 4, 5, 1, 2, 3, 4, 5, 2, 4, 1, 2, 3, 4, 5, 1, 2, 3, 4, 5, 3, 4, 1, 2, 3, 4, 5, 2, 4, 1, 2, 3, 4, 5, 1, 2, 3, 4, 5, 2, 4, 1, 2, 3, 4, 5, 2, 2, 2, 2, 1, 3], \"Freq\": [0.1569486309974958, 0.027696817234852202, 0.023080681029043502, 0.10617113273360011, 0.6924204308713051, 0.004812176084502801, 0.991308273407577, 0.9966289708969672, 0.0053214289640530444, 0.015964286892159132, 0.9791429293857602, 0.005634268955965414, 0.8226032675709505, 0.17184520315694513, 0.9796465275656118, 0.990485494112675, 0.997907988728147, 0.027705543970302386, 0.9696940389605836, 0.030014361099704245, 0.16507898604837334, 0.7953805691421625, 0.9557781886344269, 0.043444463119746674, 0.9891289565153087, 0.9808111699976757, 0.9763213524405973, 0.9878618954479961, 0.013459542076318918, 0.9863921550216578, 0.9763250073982866, 0.03939973500867821, 0.013133245002892736, 0.026266490005785473, 0.9193271502024916, 0.022783305291823392, 0.9318371864355768, 0.018226644233458714, 0.02733996635018807, 0.9873758219510131, 0.319231513258141, 0.06470909052529884, 0.13085616084004878, 0.1984412109442498, 0.2890339376796682, 0.9847552084944533, 0.03073926211859111, 0.046723678420258485, 0.21763397579962507, 0.018443557271154664, 0.6873299009716972, 0.9715693589874851, 0.00565962733390768, 0.02263850933563072, 0.9960210124778934, 0.9759848743157788, 0.9342415683678292, 0.06027364957211802, 0.9862126590792278, 0.11742960221108825, 0.8813968993544901, 0.9740349777063327, 0.9848971464754461, 0.515631604332482, 0.03207277921685295, 0.2121737702037964, 0.03453991607968779, 0.2047723596152919, 0.1170142537169046, 0.09402931102251263, 0.16925275984052274, 0.035522184164060326, 0.5850712685845231, 0.15604346159700466, 0.8444704980543781, 0.9497646791208011, 0.0072501120543572595, 0.04108396830802447, 0.9904353776140307, 0.7170578079179717, 0.2557925513625513, 0.012579961542420555, 0.012579961542420555, 0.17824804394947316, 0.6597492535792188, 0.004629819323362939, 0.15046912800929552, 0.009259638646725878, 0.9388133153474697, 0.04579577148036438, 0.011448942870091095, 0.6342422814920514, 0.02276767164330441, 0.06830301492991324, 0.2049090447897397, 0.06830301492991324, 0.009347440622874443, 0.9440915029103188, 0.03738976249149777, 0.9763241969318589, 0.02576841639476206, 0.06012630492111147, 0.9104840459482594, 0.01849598355543461, 0.046239958888586515, 0.9340471695494477, 0.015791478530436585, 0.9790716688870683, 0.9964715651227154, 0.9932656381010048, 0.004173385034037835, 0.08242565525786515, 0.9135510124413387, 0.26102305310631513, 0.5388090545772559, 0.031131189820019233, 0.10297239709698669, 0.06705179345850296, 0.9625725636560635, 0.028733509362867567, 0.007183377340716892, 0.5536998025988247, 0.20414184641269797, 0.12863732787649462, 0.0419469547423352, 0.06991159123722533, 0.3946277500514205, 0.03221451020827922, 0.5583848436101732, 0.008053627552069806, 0.008053627552069806, 0.9974780658459569, 0.00860649833789978, 0.981140810520575, 0.020426655619762764, 0.6985916221958866, 0.24205586909418875, 0.03881064567754925, 0.0029301016513642022, 0.9933044598124645, 0.9886321998656917, 0.9625820642581365, 0.03453209199132328, 0.003116460379998937, 0.6357579175197832, 0.3615094040798767, 0.9808205999570913, 0.028395364504840714, 0.05679072900968143, 0.8916144454519984, 0.01703721870290443, 0.2382431470345017, 0.5198032298934583, 0.01925197147753549, 0.20695869338350653, 0.016845475042843554, 0.8087683277166569, 0.02554005245421022, 0.017026701636140146, 0.14472696390719123, 0.33935802095324896, 0.3662911972193798, 0.10369272862460384, 0.07002625829194026, 0.1211992931975889, 0.9805037634743465, 0.9987598755098605, 0.9919891861518202, 0.5346778693213576, 0.39265406028287203, 0.03341736683258485, 0.02227824455505657, 0.016708683416292426, 0.98082029387177, 0.19675587978235773, 0.14920654216828794, 0.2410259527333882, 0.15740470382588617, 0.2541430113855454, 0.325868561070055, 0.5094564827996635, 0.04819182945402223, 0.043602131410782015, 0.07114031967022329, 0.04205824835141883, 0.6958728363598389, 0.12235126793140025, 0.07646954245712516, 0.06499911108855638, 0.03308170892511096, 0.9180174226718292, 0.04962256338766644, 0.9549288236651383, 0.028086141872504067, 0.09702182687386464, 0.771764531951196, 0.01323024911916336, 0.09261174383414351, 0.02646049823832672, 0.908557917061287, 0.012796590381144888, 0.07677954228686933, 0.9880516501832973, 0.9777624082347484, 0.9884936745417128, 0.004741234374638029, 0.018964937498552117, 0.9719530468007961, 0.04782952221027694, 0.9278927308793727, 0.025509078512147704, 0.07528175838557309, 0.22341683133782983, 0.08742397748002037, 0.11656530330669382, 0.4978309828723382, 0.01748322302603248, 0.9615772664317865, 0.8761716183217196, 0.12169050254468328, 0.9813167902234045, 0.010159119042082658, 0.9854345470820178, 0.9734456337105519, 0.0375188169769854, 0.0125062723256618, 0.9504766967502969, 0.9913096200186876, 0.9832593052329446, 0.2584582144215721, 0.7412922413629706, 0.028284256694365788, 0.9710928131732254, 0.20040100579191844, 0.7968325706488185, 0.8566538468310538, 0.10619675787161825, 0.03539891929053941, 0.9847811827568169, 0.004915713058686274, 0.003277142039124183, 0.006554284078248366, 0.9843941492044265, 0.039269961334774416, 0.9536990609873786, 0.10980072322176755, 0.06552623805169999, 0.791627794840808, 0.0017709794068027026, 0.030106649915645944, 0.9600129113235496, 0.037403100441177256, 0.9884919944223236, 0.034967212138008255, 0.9441147277262228, 0.006993442427601651, 0.006993442427601651, 0.29086448698604794, 0.5271918826622118, 0.08180563696482598, 0.03408568206867749, 0.06362660652819799, 0.9807078884492443, 0.00867883087123225, 0.9783132816824007, 0.9940879585219617, 0.9919891693225402, 0.2067620342511292, 0.609545217857225, 0.016111327344243833, 0.11546451263374748, 0.05370442448081278, 0.03163377563641171, 0.9490132690923513, 0.015816887818205855, 0.04525599751991842, 0.034480760015175936, 0.9202052829050078, 0.09063039905989517, 0.07552533254991264, 0.7250431924791614, 0.015105066509982529, 0.09365141236189169, 0.12284919516627701, 0.8218187538709566, 0.04659797058031197, 0.00847235828732945, 0.03339782365557446, 0.6476792230348904, 0.31250820706287535, 0.005963897081352583, 0.9913341371344736, 0.2950296565941685, 0.6545970505683113, 0.0030732255895225885, 0.049171609432361416, 0.9467259749436294, 0.04303299886107406, 0.008606599772214812, 0.9961324463176334, 0.04295863265257188, 0.14394910239721453, 0.6956283848828745, 0.11606367418414157, 0.0022609806659248358, 0.9623934869121952, 0.030552174187688737, 0.9945763986126727, 0.9763961191621631, 0.6421420819164743, 0.17854682277677578, 0.01252960159837023, 0.031324003995925574, 0.13469321718247998, 0.9892405076085852, 0.012522031741880825, 0.9956141117318899, 0.9900675391460168, 0.07801515079737951, 0.03413162847385354, 0.8532907118463384, 0.029255681549017316, 0.00487594692483622, 0.9855041782221707, 0.19168541043712392, 0.1498045644592649, 0.401089640326419, 0.16430178037467766, 0.09342650256599318, 0.9929850882168711, 0.6689356483606465, 0.22633850019873927, 0.012828902845272671, 0.09163502032337623, 0.015252074690430703, 0.0076260373452153515, 0.9151244814258421, 0.0076260373452153515, 0.05338226141650746, 0.12185866226435871, 0.0368409909171317, 0.541279174244012, 0.0906855161037088, 0.2068763336115857, 0.12702151204964662, 0.407900066863654, 0.055460096810409094, 0.1860596796220176, 0.2236294226226173, 0.020064831991826095, 0.9279984796219569, 0.05016207997956524, 0.9865202390861527, 0.9933567926924001, 0.8746303057834481, 0.05428739829000712, 0.03619159886000475, 0.03619159886000475, 0.9931539442386902, 0.9828068545025692, 0.9832524547245285, 0.10001431498699682, 0.8901274033842718, 0.9808112836685352, 0.914743043349703, 0.00611868256421206, 0.07648353205265075, 0.014669733107262923, 0.014669733107262923, 0.95353265197209, 0.9861730855816891, 0.99430203285811, 0.06222254314438009, 0.6074105402189485, 0.017777869469822884, 0.3140756939668709, 0.12523295583701644, 0.23257548941160194, 0.0894521113121546, 0.11330600766206249, 0.44129708247329597, 0.031415815850056795, 0.8639349358765619, 0.057595662391770795, 0.0471237237750852, 0.9877861973420002, 0.02078148676922707, 0.07273520369229475, 0.01731790564102256, 0.8174051462562647, 0.07273520369229475, 0.01645740279013423, 0.9792154660129867, 0.008228701395067114, 0.9861690155096965, 0.10221507901452628, 0.8688281716234735, 0.02751944435006477, 0.1897187028164667, 0.7681293821349627, 0.032390998041835775, 0.009254570869095936, 0.02890957514385292, 0.9684707673190728, 0.9964105133861374, 0.04259366886387089, 0.05897584919612892, 0.8682555576096759, 0.02948792459806446, 0.6508214485542168, 0.06361412655041217, 0.03425376045022193, 0.14680183050095114, 0.10520797852568164, 0.9824886595518076, 0.9884944485451896, 0.9646836511896485, 0.9457541465480938, 0.01659217800961568, 0.03318435601923136, 0.9902995583206196, 0.9790481130181167, 0.987555989224863, 0.9827016243513244, 0.008327979867384105, 0.008327979867384105, 0.9930574889899255, 0.16077826839343298, 0.1484107092862458, 0.00494702364287486, 0.08409940192887264, 0.6010633726092955, 0.8603236715424308, 0.040282713717705795, 0.025896030247096583, 0.028773366941218424, 0.04316005041182763, 0.04882320779955124, 0.9005169438583894, 0.005424800866616804, 0.037973606066317625, 0.9676205097694917, 0.9901984658273372, 0.9906963123543934, 0.0061154093355209466, 0.9334967622885574, 0.06667834016346838, 0.16883057263366968, 0.07674116937894077, 0.11255371508911312, 0.2685940928262927, 0.3709156519982137, 0.2001880168126305, 0.05424449487826116, 0.24797483372919388, 0.3409653963776416, 0.15627580667308574, 0.9345962448377272, 0.052653309568322655, 0.006581663696040332, 0.9743229744541164, 0.10719849938407534, 0.2343409056303042, 0.1246494178884597, 0.06481769730199904, 0.4686818112606084, 0.23938173023463932, 0.0113991300111733, 0.00569956500558665, 0.025648042525139927, 0.7152954082011246, 0.9902407619478326, 0.005766517926416119, 0.023066071705664475, 0.9687750116379079, 0.9904357609642315, 0.9753747767344259, 0.9946550098147654, 0.009841436235946696, 0.7873148988757357, 0.19823464418121203, 0.004217758386834298, 0.0368073914597966, 0.015336413108248582, 0.9477903300897624, 0.054510725625404766, 0.9448525775070159, 0.9870307029297193, 0.08684511441391887, 0.3421697507908404, 0.3716970896915728, 0.19800686086373503, 0.012695100159987139, 0.9775227123190098, 0.8588383748892493, 0.09377264751823693, 0.004465364167535091, 0.04316518695283922, 0.06997105340912332, 0.06647250073866716, 0.7731801401708128, 0.0524782900568425, 0.038484079375017834, 0.045579666820522835, 0.9533746976626026, 0.17309039726761646, 0.4602006594019961, 0.1414945310997182, 0.1662217307093777, 0.059070532400853235, 0.04718720832248306, 0.31615429576063653, 0.6370273123535214, 0.8032406598354684, 0.1534279912045277, 0.04211748778163505, 0.9904609921645503, 0.011768590377977846, 0.49722294346956397, 0.48986757448332785, 0.011463174848907194, 0.03438952454672158, 0.951443512459297, 0.9915903507640917, 0.0237500848044663, 0.11875042402233149, 0.05277796623214733, 0.8022250867286395, 0.0028539573211519074, 0.09988850624031677, 0.8447713670609646, 0.05422518910188624, 0.24898074249527907, 0.21217989371999535, 0.13282806354828977, 0.22598021201072674, 0.17997915104162207, 0.9713549797831571, 0.9846458243312449, 0.9943358201117956, 0.9958407626533723, 0.9793170151188297, 0.12398010679492855, 0.1435559131309699, 0.16313171946701124, 0.304077525086509, 0.26362085865869017, 0.9865375421027232, 0.2636831092170637, 0.2140486415997341, 0.06824739297382826, 0.452914517008133, 0.9765696929944483, 0.9901855464084643, 0.003653821204459278, 0.007307642408918556, 0.9943707373131043, 0.003307577152344127, 0.07276669735157079, 0.003307577152344127, 0.9062761397422907, 0.016537885761720633, 0.13729875275797015, 0.05604030724815108, 0.5267788881326202, 0.17932898319408347, 0.10087255304667195, 0.9961673550091188, 0.9798336117854881, 0.9922986422931191, 0.863883411307463, 0.004305066833758121, 0.001435022277919374, 0.015785245057113113, 0.1148017822335499, 0.03182316094709482, 0.003977895118386853, 0.9626506186496184, 0.9914765435601876, 0.973083871510126, 0.28745686617922184, 0.05464526564991148, 0.03301484799682152, 0.4844075111257778, 0.14059771474508473, 0.9646780448637182, 0.01961221375006329, 0.9766882447531517, 0.001961221375006329, 0.6648035748578744, 0.1848478232531651, 0.021079137739396018, 0.07296624602098623, 0.05675152468298928, 0.04802727723047837, 0.030239396774745644, 0.6172394518139258, 0.1600909241015946, 0.14230304364586185, 0.008600441053695023, 0.020067695791955054, 0.6894686911378843, 0.27951433424508826, 0.004300220526847511, 0.06511910263017347, 0.030644283590669865, 0.6894963807900719, 0.07661070897667466, 0.1378992761580144, 0.22558066688466763, 0.012768716993471752, 0.025537433986943504, 0.7363293466235377, 0.7196836102722748, 0.2121172746065652, 0.03787808475117236, 0.02651465932582065, 0.010693808791938302, 0.9838304088583237, 0.013335581406418894, 0.9734974426685793, 0.9833091533756425, 0.9646793638485818, 0.9667298458676997, 0.9913269064443859, 0.03588017545887762, 0.9127019632351994, 0.006727532898539553, 0.04036519739123732, 0.002242510966179851, 0.9638590633547438, 0.03076145946876842, 0.006835879881948538, 0.005657483601771893, 0.14143709004429733, 0.011314967203543786, 0.8373075730622402, 0.9909724222625657, 0.004094927364721346, 0.030287815760807715, 0.006057563152161543, 0.9631525411936853, 0.8434500129293252, 0.10121400155151902, 0.016869000258586505, 0.03936100060336851, 0.6537954345955004, 0.11370355384269572, 0.01015210302166926, 0.07918640356902022, 0.1441598629077035, 0.9609119358670197, 0.9609076425717397, 0.024828108545028503, 0.8342244471129576, 0.0893811907621026, 0.049656217090057006, 0.0049656217090057, 0.9865392134826361, 0.9868451464155659, 0.14413396605634124, 0.8076941116742141, 0.008158526380547617, 0.03535361431570634, 0.005439017587031745, 0.9897274668693281, 0.9684565754460173, 0.02582550867856046, 0.9609063271814503, 0.24195605538373602, 0.06740204399975504, 0.2073909046146309, 0.12616280030723379, 0.356021052921783, 0.2588908792002175, 0.6626373693815091, 0.015410171380965327, 0.04623051414289598, 0.015410171380965327, 0.9743417698142407, 0.008083498943083071, 0.9538528752838026, 0.032333995772332286, 0.034363007213051994, 0.008590751803262998, 0.017181503606525997, 0.008590751803262998, 0.9363919465556668, 0.9943128543917538, 0.2529957756067674, 0.07482973644707204, 0.08195637801345985, 0.06770309488068423, 0.5202448343463104, 0.9863791541364769, 0.9930169838740587, 0.9985595443287356, 0.006201602407915978, 0.8031075118251192, 0.06511682528311778, 0.07286882829301275, 0.05271362046728582, 0.9734301768937059, 0.019852813760046495, 0.019852813760046495, 0.9380454501621969, 0.019852813760046495, 0.003968817807897246, 0.0515946315026642, 0.9009216423926748, 0.007937635615794492, 0.03571936027107521, 0.06766129521295806, 0.14778651322830313, 0.5181430764992315, 0.12641978842421112, 0.14066427162693915, 0.7547768180984458, 0.026026786830980888, 0.21936863186112462, 0.9621002811546084, 0.03356163771469564, 0.9765753969077421, 0.9861336557900199, 0.2445509295559259, 0.14645422899959404, 0.03177780440557229, 0.5526574679229964, 0.024869586056534835, 0.18809760002636688, 0.18372323723505604, 0.370362716330986, 0.16768390700024957, 0.09186161861752802, 0.06335474015614609, 0.8389041455158655, 0.0021846462122808996, 0.08957049470351688, 0.006553938636842699, 0.0761125733574184, 0.9133508802890209, 0.008456952595268711, 0.9855057797840393, 0.9948335103849265, 0.0035198630203940534, 0.9961212347715172, 0.011187131166358985, 0.9844675426395906, 0.034872746900306784, 0.9659750891384979, 0.004122897963127283, 0.1443014287094549, 0.8493169804042202, 0.9845329122801364, 0.06878772444035251, 0.1203785177706169, 0.7781611327314878, 0.030094629442654224, 0.9882910721523104, 0.9904856485857397, 0.9532493563134787, 0.03812997425253915, 0.002668313330384505, 0.01067325332153802, 0.16810373981422383, 0.013341566651922526, 0.8058306257761205, 0.9866483527918947, 0.010847380001404285, 0.9871115801277899, 0.8143681768944248, 0.1849922772204619, 0.9864650099941525, 0.07813727896854869, 0.039068639484274345, 0.7943956695135784, 0.06250982317483895, 0.026045759656182898, 0.12638025118241092, 0.8738291653183841, 0.9871211337083459, 0.9765698172013045, 0.023940812402406916, 0.9696029022974801, 0.02372167825779761, 0.11183076892961731, 0.7387608371714113, 0.020332867078112236, 0.10505314657024656, 0.973608537388286, 0.8719425804990619, 0.019484750402213674, 0.1022949396116218, 0.9963308296502719, 0.0021243727711093216, 0.9897281388006425, 0.981467784685898, 0.020662479677597854, 0.0797420703711182, 0.013290345061853033, 0.5449041475359744, 0.36105437418034075, 0.18879399250480217, 0.34152621116037246, 0.006363842443982095, 0.16333862272887378, 0.3012218756818192, 0.990901191260353, 0.13971408027948923, 0.08382844816769353, 0.1031734746679305, 0.5674541106736177, 0.1031734746679305, 0.9980226394087294, 0.09610075418370187, 0.09254146699171291, 0.007118574383977916, 0.7759246078535929, 0.028474297535911665, 0.0483881381559578, 0.01451644144678734, 0.9000193697008151, 0.03387169670917046, 0.1520101844683059, 0.04204537017208461, 0.6888972189733863, 0.1164333327842343, 0.020133994118783596, 0.026845325491711463, 0.946297723582829, 0.9499617265448197, 0.04578128802625637, 0.2352373621252892, 0.016802668723234944, 0.7225147550991026, 0.025204003084852416, 0.36722026127720264, 0.05766268565509794, 0.22913330352420497, 0.2625169636403143, 0.08345915029027333, 0.21401270575888282, 0.09346124492001845, 0.20724015177917135, 0.38874459843543907, 0.09752477730784534, 0.013334616962957537, 0.980094346777379, 0.06484948144171006, 0.020478783613171597, 0.058023220237319525, 0.8020856915158875, 0.05461008963512426, 0.23042371338741352, 0.19709198126219016, 0.3072316178498847, 0.09129996190822044, 0.17535389509356625, 0.9799629491526769, 0.9904857930997081, 0.10545721676243887, 0.018887859718645768, 0.6925548563503447, 0.015739883098871473, 0.16841674915792476, 0.010996657839818793, 0.9896992055836913, 0.28236519120873693, 0.10670777574748778, 0.11491606618960223, 0.3496731728340754, 0.14774922795806, 0.0864158813105248, 0.23694677133530992, 0.38190244321102895, 0.19699104126700276, 0.09756631760865703, 0.9848262136229406, 0.9904357322508267, 0.04808973519149397, 0.01109763119803707, 0.6843539238789527, 0.00739842079869138, 0.2515463071555069, 0.9785713048758317, 0.9914291204660988, 0.9763249948047515, 0.9951216239033763, 0.021473956839925486, 0.9663280577966468], \"Term\": [\"act\", \"act\", \"act\", \"act\", \"act\", \"actor\", \"actor\", \"actress\", \"album\", \"album\", \"album\", \"analyst\", \"analyst\", \"analyst\", \"anfield\", \"antivirus\", \"apple\", \"arsenal\", \"arsenal\", \"artist\", \"artist\", \"artist\", \"asylum\", \"asylum\", \"athens\", \"athletics\", \"auto\", \"aviator\", \"award\", \"award\", \"baikal\", \"band\", \"band\", \"band\", \"band\", \"bank\", \"bank\", \"bank\", \"bank\", \"bankruptcy\", \"bbc\", \"bbc\", \"bbc\", \"bbc\", \"bbc\", \"benitez\", \"best\", \"best\", \"best\", \"best\", \"best\", \"blair\", \"blair\", \"blair\", \"blog\", \"blogger\", \"blunkett\", \"blunkett\", \"bluray\", \"bn\", \"bn\", \"boeing\", \"boerse\", \"britain\", \"britain\", \"britain\", \"britain\", \"britain\", \"british\", \"british\", \"british\", \"british\", \"british\", \"broadband\", \"broadband\", \"brown\", \"brown\", \"brown\", \"browser\", \"budget\", \"budget\", \"budget\", \"budget\", \"business\", \"business\", \"business\", \"business\", \"business\", \"cabinet\", \"cabinet\", \"cabinet\", \"campaign\", \"campaign\", \"campaign\", \"campaign\", \"campaign\", \"captain\", \"captain\", \"captain\", \"carmaker\", \"category\", \"category\", \"category\", \"ceremony\", \"ceremony\", \"ceremony\", \"champion\", \"champion\", \"championship\", \"chancellor\", \"chancellor\", \"chart\", \"chart\", \"chief\", \"chief\", \"chief\", \"chief\", \"chief\", \"china\", \"china\", \"china\", \"claim\", \"claim\", \"claim\", \"claim\", \"claim\", \"club\", \"club\", \"club\", \"club\", \"club\", \"coach\", \"comedy\", \"comedy\", \"company\", \"company\", \"company\", \"company\", \"computer\", \"computer\", \"computing\", \"conservative\", \"conservative\", \"consumer\", \"consumer\", \"consumer\", \"conte\", \"content\", \"content\", \"content\", \"content\", \"cost\", \"cost\", \"cost\", \"cost\", \"cost\", \"council\", \"council\", \"council\", \"council\", \"country\", \"country\", \"country\", \"country\", \"country\", \"creditor\", \"cup\", \"currency\", \"cut\", \"cut\", \"cut\", \"cut\", \"cut\", \"dallaglio\", \"day\", \"day\", \"day\", \"day\", \"day\", \"deal\", \"deal\", \"deal\", \"deal\", \"deal\", \"december\", \"december\", \"december\", \"december\", \"december\", \"deficit\", \"deficit\", \"deficit\", \"dem\", \"dem\", \"demand\", \"demand\", \"demand\", \"demand\", \"demand\", \"democrat\", \"democrat\", \"democrat\", \"dems\", \"desktop\", \"detention\", \"device\", \"device\", \"device\", \"digital\", \"digital\", \"digital\", \"director\", \"director\", \"director\", \"director\", \"director\", \"documentary\", \"documentary\", \"dollar\", \"dollar\", \"domain\", \"download\", \"download\", \"drake\", \"drama\", \"drama\", \"drama\", \"eastwood\", \"ebbers\", \"economic\", \"economic\", \"economist\", \"economist\", \"economy\", \"economy\", \"education\", \"education\", \"education\", \"election\", \"election\", \"election\", \"election\", \"elvis\", \"email\", \"email\", \"england\", \"england\", \"england\", \"england\", \"england\", \"euro\", \"euro\", \"euronext\", \"exchange\", \"exchange\", \"exchange\", \"exchange\", \"expected\", \"expected\", \"expected\", \"expected\", \"expected\", \"export\", \"export\", \"federer\", \"festival\", \"fiat\", \"figure\", \"figure\", \"figure\", \"figure\", \"figure\", \"file\", \"file\", \"file\", \"film\", \"film\", \"film\", \"final\", \"final\", \"final\", \"final\", \"final\", \"financial\", \"financial\", \"financial\", \"financial\", \"firm\", \"firm\", \"firm\", \"firm\", \"forsyth\", \"france\", \"france\", \"france\", \"france\", \"fraud\", \"fraud\", \"fraud\", \"gadget\", \"game\", \"game\", \"game\", \"game\", \"game\", \"gas\", \"gas\", \"gazprom\", \"gdp\", \"general\", \"general\", \"general\", \"general\", \"general\", \"gerrard\", \"gerrard\", \"glazer\", \"gm\", \"goal\", \"goal\", \"goal\", \"goal\", \"goal\", \"goldsmith\", \"good\", \"good\", \"good\", \"good\", \"good\", \"google\", \"government\", \"government\", \"government\", \"government\", \"grand\", \"grand\", \"grand\", \"grand\", \"grand\", \"great\", \"great\", \"great\", \"great\", \"great\", \"group\", \"group\", \"group\", \"group\", \"group\", \"growth\", \"growth\", \"growth\", \"halftime\", \"handset\", \"health\", \"health\", \"health\", \"health\", \"henman\", \"henson\", \"highdefinition\", \"hollywood\", \"hollywood\", \"holmes\", \"howard\", \"howard\", \"howard\", \"hunting\", \"hunting\", \"hunting\", \"iaaf\", \"ibm\", \"im\", \"im\", \"im\", \"im\", \"including\", \"including\", \"including\", \"including\", \"including\", \"india\", \"india\", \"india\", \"india\", \"indoor\", \"information\", \"information\", \"information\", \"information\", \"information\", \"injury\", \"injury\", \"injury\", \"insurer\", \"internet\", \"internet\", \"internet\", \"investment\", \"investment\", \"investment\", \"investment\", \"investor\", \"investor\", \"ipod\", \"ireland\", \"ireland\", \"ireland\", \"ireland\", \"issue\", \"issue\", \"issue\", \"issue\", \"issue\", \"itunes\", \"joss\", \"juninho\", \"kennedy\", \"kennedy\", \"kennedy\", \"kenteris\", \"khodorkovsky\", \"kilroysilk\", \"labour\", \"labour\", \"labour\", \"laptop\", \"law\", \"law\", \"law\", \"law\", \"law\", \"leader\", \"leader\", \"leader\", \"leader\", \"leader\", \"league\", \"league\", \"league\", \"league\", \"lending\", \"letwin\", \"lib\", \"lib\", \"liberal\", \"liberal\", \"life\", \"life\", \"life\", \"life\", \"life\", \"like\", \"like\", \"like\", \"like\", \"like\", \"liverpool\", \"liverpool\", \"liverpool\", \"livingstone\", \"london\", \"london\", \"london\", \"london\", \"london\", \"lord\", \"lord\", \"lord\", \"lord\", \"lord\", \"lse\", \"machine\", \"machine\", \"machine\", \"malicious\", \"manifesto\", \"marathon\", \"market\", \"market\", \"market\", \"market\", \"match\", \"match\", \"match\", \"microsoft\", \"microsoft\", \"milburn\", \"million\", \"million\", \"million\", \"million\", \"mini\", \"mini\", \"minister\", \"minister\", \"minister\", \"minister\", \"minute\", \"minute\", \"minute\", \"minute\", \"minute\", \"mobile\", \"mobile\", \"month\", \"month\", \"month\", \"month\", \"month\", \"movie\", \"movie\", \"movie\", \"mp\", \"mp\", \"mp\", \"multimedia\", \"music\", \"music\", \"music\", \"musical\", \"musical\", \"musical\", \"nadal\", \"net\", \"net\", \"net\", \"net\", \"network\", \"network\", \"network\", \"network\", \"new\", \"new\", \"new\", \"new\", \"new\", \"nh\", \"nokia\", \"nominated\", \"nomination\", \"nominee\", \"number\", \"number\", \"number\", \"number\", \"number\", \"odriscoll\", \"office\", \"office\", \"office\", \"office\", \"ogara\", \"oil\", \"oil\", \"oil\", \"olympic\", \"online\", \"online\", \"online\", \"online\", \"online\", \"open\", \"open\", \"open\", \"open\", \"open\", \"oscar\", \"parmalat\", \"parry\", \"party\", \"party\", \"party\", \"party\", \"party\", \"pc\", \"pc\", \"pc\", \"pension\", \"pensioner\", \"people\", \"people\", \"people\", \"people\", \"people\", \"peston\", \"phone\", \"phone\", \"phone\", \"plan\", \"plan\", \"plan\", \"plan\", \"plan\", \"play\", \"play\", \"play\", \"play\", \"play\", \"player\", \"player\", \"player\", \"player\", \"player\", \"playing\", \"playing\", \"playing\", \"playing\", \"playing\", \"police\", \"police\", \"police\", \"police\", \"policy\", \"policy\", \"policy\", \"policy\", \"pop\", \"pop\", \"portable\", \"portable\", \"pp\", \"preelection\", \"prescott\", \"presenter\", \"price\", \"price\", \"price\", \"price\", \"price\", \"prime\", \"prime\", \"prime\", \"prize\", \"prize\", \"prize\", \"prize\", \"profit\", \"profit\", \"program\", \"program\", \"program\", \"proposal\", \"proposal\", \"proposal\", \"proposal\", \"public\", \"public\", \"public\", \"public\", \"public\", \"qantas\", \"quango\", \"quarter\", \"quarter\", \"quarter\", \"quarter\", \"quarter\", \"radcliffe\", \"rapper\", \"rate\", \"rate\", \"rate\", \"rate\", \"rate\", \"referee\", \"retail\", \"retail\", \"rift\", \"right\", \"right\", \"right\", \"right\", \"right\", \"rise\", \"rise\", \"rise\", \"rise\", \"rise\", \"robben\", \"robinson\", \"robinson\", \"robinson\", \"rock\", \"rock\", \"rock\", \"rock\", \"rock\", \"roddick\", \"role\", \"role\", \"role\", \"role\", \"role\", \"ronaldo\", \"rosneft\", \"rugby\", \"sale\", \"sale\", \"sale\", \"sale\", \"sale\", \"scorsese\", \"search\", \"search\", \"search\", \"search\", \"season\", \"season\", \"season\", \"season\", \"season\", \"second\", \"second\", \"second\", \"second\", \"second\", \"secretary\", \"secretary\", \"secretary\", \"seed\", \"seed\", \"semifinal\", \"server\", \"service\", \"service\", \"service\", \"service\", \"service\", \"set\", \"set\", \"set\", \"set\", \"set\", \"share\", \"share\", \"share\", \"share\", \"share\", \"shareholder\", \"shareholder\", \"shareholder\", \"sideways\", \"singer\", \"site\", \"site\", \"slam\", \"slam\", \"software\", \"software\", \"song\", \"song\", \"song\", \"spam\", \"sport\", \"sport\", \"sport\", \"sport\", \"sprinter\", \"spyware\", \"squad\", \"squad\", \"star\", \"star\", \"star\", \"star\", \"star\", \"starring\", \"stock\", \"stock\", \"tax\", \"tax\", \"taxpayer\", \"team\", \"team\", \"team\", \"team\", \"team\", \"technology\", \"technology\", \"tennis\", \"thanou\", \"theatre\", \"theatre\", \"title\", \"title\", \"title\", \"title\", \"title\", \"tobacco\", \"tony\", \"tony\", \"tony\", \"tory\", \"tory\", \"tournament\", \"trading\", \"trading\", \"tv\", \"tv\", \"tv\", \"tv\", \"uk\", \"uk\", \"uk\", \"uk\", \"uk\", \"ukip\", \"used\", \"used\", \"used\", \"used\", \"used\", \"user\", \"using\", \"using\", \"using\", \"using\", \"using\", \"victory\", \"victory\", \"victory\", \"victory\", \"video\", \"video\", \"video\", \"video\", \"virus\", \"virus\", \"virus\", \"wage\", \"wage\", \"wale\", \"wale\", \"wale\", \"wale\", \"want\", \"want\", \"want\", \"want\", \"want\", \"way\", \"way\", \"way\", \"way\", \"way\", \"web\", \"web\", \"website\", \"website\", \"website\", \"website\", \"website\", \"week\", \"week\", \"week\", \"week\", \"week\", \"wenger\", \"wifi\", \"win\", \"win\", \"win\", \"win\", \"win\", \"wireless\", \"wireless\", \"work\", \"work\", \"work\", \"work\", \"work\", \"world\", \"world\", \"world\", \"world\", \"world\", \"worldcom\", \"yahoo\", \"yearold\", \"yearold\", \"yearold\", \"yearold\", \"yearold\", \"yen\", \"yugansk\", \"yuganskneftegas\", \"yukos\", \"zealand\", \"zealand\"]}, \"R\": 30, \"lambda.step\": 0.01, \"plot.opts\": {\"xlab\": \"PC1\", \"ylab\": \"PC2\"}, \"topic.order\": [5, 2, 3, 4, 1]};\n",
              "\n",
              "function LDAvis_load_lib(url, callback){\n",
              "  var s = document.createElement('script');\n",
              "  s.src = url;\n",
              "  s.async = true;\n",
              "  s.onreadystatechange = s.onload = callback;\n",
              "  s.onerror = function(){console.warn(\"failed to load library \" + url);};\n",
              "  document.getElementsByTagName(\"head\")[0].appendChild(s);\n",
              "}\n",
              "\n",
              "if(typeof(LDAvis) !== \"undefined\"){\n",
              "   // already loaded: just create the visualization\n",
              "   !function(LDAvis){\n",
              "       new LDAvis(\"#\" + \"ldavis_el730991400222412793283069468829\", ldavis_el730991400222412793283069468829_data);\n",
              "   }(LDAvis);\n",
              "}else if(typeof define === \"function\" && define.amd){\n",
              "   // require.js is available: use it to load d3/LDAvis\n",
              "   require.config({paths: {d3: \"https://d3js.org/d3.v5\"}});\n",
              "   require([\"d3\"], function(d3){\n",
              "      window.d3 = d3;\n",
              "      LDAvis_load_lib(\"https://cdn.jsdelivr.net/gh/bmabey/pyLDAvis@3.3.1/pyLDAvis/js/ldavis.v3.0.0.js\", function(){\n",
              "        new LDAvis(\"#\" + \"ldavis_el730991400222412793283069468829\", ldavis_el730991400222412793283069468829_data);\n",
              "      });\n",
              "    });\n",
              "}else{\n",
              "    // require.js not available: dynamically load d3 & LDAvis\n",
              "    LDAvis_load_lib(\"https://d3js.org/d3.v5.js\", function(){\n",
              "         LDAvis_load_lib(\"https://cdn.jsdelivr.net/gh/bmabey/pyLDAvis@3.3.1/pyLDAvis/js/ldavis.v3.0.0.js\", function(){\n",
              "                 new LDAvis(\"#\" + \"ldavis_el730991400222412793283069468829\", ldavis_el730991400222412793283069468829_data);\n",
              "            })\n",
              "         });\n",
              "}\n",
              "</script>"
            ]
          },
          "metadata": {},
          "execution_count": 83
        }
      ]
    },
    {
      "cell_type": "code",
      "source": [
        "pyLDAvis.sklearn.prepare(lda, count_data, count_vectorizer, mds='tsne')              ## With multi-dimensional scaling = t-sne"
      ],
      "metadata": {
        "colab": {
          "base_uri": "https://localhost:8080/",
          "height": 862
        },
        "id": "H5QW--0ya4Ot",
        "outputId": "d33395a8-5ab9-4fd0-cf35-f601ac988388"
      },
      "id": "H5QW--0ya4Ot",
      "execution_count": 84,
      "outputs": [
        {
          "output_type": "execute_result",
          "data": {
            "text/plain": [
              "PreparedData(topic_coordinates=                x           y  topics  cluster       Freq\n",
              "topic                                                    \n",
              "4      150.222153  -72.269554       1        1  22.116128\n",
              "1       51.163364 -159.968018       2        1  21.662136\n",
              "2      -73.144554   21.523815       3        1  19.297555\n",
              "3      -66.410133 -110.606438       4        1  19.078754\n",
              "0       54.417324   12.443444       5        1  17.845427, topic_info=            Term         Freq        Total Category  logprob  loglift\n",
              "9639        film   928.000000   928.000000  Default  30.0000  30.0000\n",
              "14597     labour   720.000000   720.000000  Default  29.0000  29.0000\n",
              "10531       game  1326.000000  1326.000000  Default  28.0000  28.0000\n",
              "2895          bn   740.000000   740.000000  Default  27.0000  27.0000\n",
              "1852       award   520.000000   520.000000  Default  26.0000  26.0000\n",
              "...          ...          ...          ...      ...      ...      ...\n",
              "27332         tv   163.315405   451.455547   Topic5  -6.0701   0.7066\n",
              "12953  including   148.194181   335.374980   Topic5  -6.1672   0.9067\n",
              "18284     office   146.139285   322.356636   Topic5  -6.1812   0.9323\n",
              "6430         day   155.328647   609.892828   Topic5  -6.1202   0.3557\n",
              "15106       life   145.370019   390.924457   Topic5  -6.1865   0.7342\n",
              "\n",
              "[382 rows x 6 columns], token_table=       Topic      Freq             Term\n",
              "term                                   \n",
              "233        1  0.156949              act\n",
              "233        2  0.027697              act\n",
              "233        3  0.023081              act\n",
              "233        4  0.106171              act\n",
              "233        5  0.692420              act\n",
              "...      ...       ...              ...\n",
              "29605      2  0.991429          yugansk\n",
              "29607      2  0.976325  yuganskneftegas\n",
              "29617      2  0.995122            yukos\n",
              "29653      1  0.021474          zealand\n",
              "29653      3  0.966328          zealand\n",
              "\n",
              "[890 rows x 3 columns], R=30, lambda_step=0.01, plot_opts={'xlab': 'PC1', 'ylab': 'PC2'}, topic_order=[5, 2, 3, 4, 1])"
            ],
            "text/html": [
              "\n",
              "<link rel=\"stylesheet\" type=\"text/css\" href=\"https://cdn.jsdelivr.net/gh/bmabey/pyLDAvis@3.3.1/pyLDAvis/js/ldavis.v1.0.0.css\">\n",
              "\n",
              "\n",
              "<div id=\"ldavis_el730991400221070826401532423463\"></div>\n",
              "<script type=\"text/javascript\">\n",
              "\n",
              "var ldavis_el730991400221070826401532423463_data = {\"mdsDat\": {\"x\": [150.22215270996094, 51.16336441040039, -73.1445541381836, -66.4101333618164, 54.41732406616211], \"y\": [-72.2695541381836, -159.968017578125, 21.523815155029297, -110.60643768310547, 12.44344425201416], \"topics\": [1, 2, 3, 4, 5], \"cluster\": [1, 1, 1, 1, 1], \"Freq\": [22.116127680784597, 21.66213558059192, 19.297555417268196, 19.07875416989209, 17.845427151463202]}, \"tinfo\": {\"Term\": [\"film\", \"labour\", \"game\", \"bn\", \"award\", \"election\", \"phone\", \"mobile\", \"company\", \"blair\", \"technology\", \"party\", \"tory\", \"best\", \"government\", \"market\", \"minister\", \"people\", \"firm\", \"music\", \"player\", \"user\", \"computer\", \"england\", \"brown\", \"bank\", \"tax\", \"price\", \"sale\", \"growth\", \"tory\", \"pension\", \"chancellor\", \"glazer\", \"lib\", \"dems\", \"milburn\", \"gerrard\", \"parry\", \"manifesto\", \"election\", \"benitez\", \"labour\", \"pp\", \"pensioner\", \"prescott\", \"letwin\", \"ronaldo\", \"anfield\", \"taxpayer\", \"livingstone\", \"blair\", \"robben\", \"nh\", \"peston\", \"preelection\", \"juninho\", \"rift\", \"quango\", \"qantas\", \"prime\", \"conservative\", \"brown\", \"dem\", \"asylum\", \"wage\", \"kennedy\", \"howard\", \"liverpool\", \"liberal\", \"cabinet\", \"party\", \"minister\", \"democrat\", \"blunkett\", \"leader\", \"tony\", \"tax\", \"health\", \"mp\", \"government\", \"council\", \"proposal\", \"plan\", \"secretary\", \"public\", \"education\", \"issue\", \"policy\", \"general\", \"people\", \"campaign\", \"new\", \"budget\", \"britain\", \"claim\", \"country\", \"want\", \"bbc\", \"cut\", \"yukos\", \"profit\", \"bankruptcy\", \"gm\", \"oil\", \"gazprom\", \"fiat\", \"currency\", \"worldcom\", \"ebbers\", \"highdefinition\", \"rosneft\", \"yugansk\", \"stock\", \"yen\", \"export\", \"creditor\", \"khodorkovsky\", \"gdp\", \"tobacco\", \"trading\", \"boeing\", \"bluray\", \"lending\", \"parmalat\", \"baikal\", \"yuganskneftegas\", \"carmaker\", \"auto\", \"insurer\", \"china\", \"euro\", \"retail\", \"investor\", \"economist\", \"gas\", \"bank\", \"growth\", \"exchange\", \"price\", \"bn\", \"fraud\", \"dollar\", \"share\", \"sale\", \"market\", \"analyst\", \"economy\", \"deficit\", \"rate\", \"company\", \"india\", \"shareholder\", \"financial\", \"firm\", \"quarter\", \"economic\", \"business\", \"demand\", \"investment\", \"rise\", \"figure\", \"month\", \"consumer\", \"december\", \"expected\", \"uk\", \"chief\", \"country\", \"new\", \"deal\", \"cost\", \"group\", \"world\", \"government\", \"cup\", \"coach\", \"rugby\", \"championship\", \"olympic\", \"roddick\", \"athens\", \"tournament\", \"referee\", \"indoor\", \"tennis\", \"athletics\", \"holmes\", \"nadal\", \"kenteris\", \"iaaf\", \"federer\", \"thanou\", \"ogara\", \"marathon\", \"henman\", \"wenger\", \"sprinter\", \"odriscoll\", \"radcliffe\", \"henson\", \"halftime\", \"dallaglio\", \"conte\", \"semifinal\", \"champion\", \"injury\", \"slam\", \"arsenal\", \"match\", \"zealand\", \"squad\", \"robinson\", \"seed\", \"captain\", \"season\", \"victory\", \"league\", \"ireland\", \"grand\", \"england\", \"game\", \"team\", \"goal\", \"player\", \"win\", \"minute\", \"wale\", \"final\", \"title\", \"sport\", \"play\", \"france\", \"second\", \"world\", \"yearold\", \"playing\", \"im\", \"club\", \"good\", \"set\", \"great\", \"week\", \"new\", \"open\", \"like\", \"user\", \"site\", \"gadget\", \"apple\", \"computer\", \"blog\", \"google\", \"handset\", \"spam\", \"ipod\", \"ibm\", \"laptop\", \"browser\", \"yahoo\", \"malicious\", \"wireless\", \"server\", \"multimedia\", \"download\", \"desktop\", \"domain\", \"web\", \"antivirus\", \"spyware\", \"wifi\", \"computing\", \"nokia\", \"itunes\", \"blogger\", \"mini\", \"phone\", \"device\", \"software\", \"machine\", \"pc\", \"portable\", \"mobile\", \"program\", \"email\", \"microsoft\", \"digital\", \"search\", \"virus\", \"file\", \"online\", \"technology\", \"network\", \"internet\", \"content\", \"net\", \"information\", \"website\", \"broadband\", \"people\", \"using\", \"service\", \"music\", \"video\", \"used\", \"tv\", \"way\", \"new\", \"like\", \"firm\", \"number\", \"company\", \"million\", \"work\", \"oscar\", \"festival\", \"singer\", \"actress\", \"ukip\", \"nomination\", \"actor\", \"kilroysilk\", \"aviator\", \"nominated\", \"lse\", \"starring\", \"boerse\", \"nominee\", \"award\", \"comedy\", \"rapper\", \"elvis\", \"album\", \"drake\", \"scorsese\", \"pop\", \"forsyth\", \"presenter\", \"joss\", \"detention\", \"euronext\", \"sideways\", \"goldsmith\", \"eastwood\", \"theatre\", \"film\", \"documentary\", \"musical\", \"band\", \"drama\", \"rock\", \"ceremony\", \"chart\", \"hunting\", \"category\", \"song\", \"star\", \"best\", \"prize\", \"lord\", \"hollywood\", \"police\", \"british\", \"law\", \"music\", \"act\", \"director\", \"artist\", \"london\", \"uk\", \"movie\", \"right\", \"new\", \"bbc\", \"number\", \"people\", \"role\", \"tv\", \"including\", \"office\", \"day\", \"life\"], \"Freq\": [928.0, 720.0, 1326.0, 740.0, 520.0, 610.0, 509.0, 526.0, 979.0, 530.0, 553.0, 696.0, 470.0, 813.0, 1091.0, 711.0, 671.0, 1756.0, 838.0, 679.0, 697.0, 379.0, 341.0, 564.0, 413.0, 438.0, 497.0, 445.0, 644.0, 398.0, 468.80461169942845, 132.36510815365202, 237.88100978533186, 70.57260203639535, 161.73922414474066, 93.07217334886113, 61.060505271013035, 78.69294091359161, 49.6470681406479, 51.49091875515185, 600.7796762482398, 43.93230723613246, 708.1175978886491, 42.96741679337575, 37.282034310646, 34.4299935557475, 31.576936000762387, 29.663210771959015, 26.81264405088624, 29.58178152195038, 24.91764429726624, 514.5798353348885, 24.89300767154703, 23.96746401837315, 22.06601558154974, 22.065267564327204, 22.05983007151665, 21.113083720506975, 21.11244468141897, 21.10929624898988, 281.7634541147457, 222.95625187783494, 393.03839299702946, 68.33059641439873, 87.89627041996616, 83.16372360634787, 113.96038856927643, 299.02225355561677, 142.12134885885368, 153.8189402110458, 82.25514136958688, 602.2922386908538, 577.0000901714352, 142.20943918664324, 92.58437889442939, 299.3897489131982, 179.46226285907105, 404.61119191109503, 144.6979175634467, 266.5961447127598, 730.0955219254901, 190.2421025243117, 149.7394525038842, 409.8919461151497, 202.82838872591827, 321.6361308239115, 121.09664561459235, 265.7633997871662, 190.43661010330928, 204.89043860758508, 504.91840259469234, 194.85960731133235, 432.52338274063834, 171.37891419684144, 208.79824105917652, 197.72754419662024, 252.49251042047058, 241.62927312090733, 221.5590305094026, 192.46207154525626, 177.12215505255529, 242.36644416777972, 91.41342406253536, 72.98621876978267, 270.72025755847574, 65.61447059410901, 63.77052113500454, 63.770068279004434, 59.16289200869566, 58.24168190300445, 58.21719032004718, 53.634285566178946, 52.71269954914876, 181.75765979915997, 46.2602138979528, 113.25519948056427, 47.00611528709817, 37.04598018869697, 36.123434417545, 35.20155599601255, 94.72897004424404, 44.14745192314133, 29.67252120375054, 33.26497375111214, 27.830770790949295, 26.909295086041464, 26.90927867663434, 26.90811750943619, 26.902373315377, 29.58727935717091, 267.88304213332276, 231.3530388450215, 75.28588119250934, 133.69871396860938, 102.76283969745448, 63.35442260052226, 408.66534377936927, 370.0731702391704, 135.27352604494297, 407.40858217237485, 653.3345894064275, 109.5148728238164, 215.93423679822146, 383.72766334829015, 518.4368449824098, 560.2060358918409, 292.1714313278939, 334.45368094127383, 110.53914371823605, 297.1618923116127, 684.1992910938961, 165.04990567810222, 107.9902384422783, 194.29424624556557, 542.9343756393689, 167.50660039957768, 260.9083902622496, 284.6394744936282, 175.07884376485924, 165.72569823299852, 215.45023084810464, 226.81494018554673, 334.82860855452657, 203.62896264848538, 181.68523225608902, 232.47518025725768, 321.53210415557584, 225.26047927566995, 271.69799456314047, 368.7272847134931, 222.24472665196427, 216.33409054696668, 227.65305559175226, 255.46631795429352, 247.14997953015464, 277.59475948232614, 233.84527810307043, 197.5407059187793, 140.75426148524934, 137.02552917737623, 111.89692208389786, 93.27732051166878, 82.10645979667508, 82.104834132274, 80.24519055170647, 68.14104616386817, 63.48817665357268, 63.48540101680327, 59.765271817450085, 58.83430486603164, 56.04118579743604, 51.38685259783414, 50.4560072989706, 50.455789878535064, 49.52453128662793, 48.594185689307444, 52.236380215808836, 45.80088810340075, 44.87028611817228, 44.8675193853019, 43.00801821325088, 44.83011215016256, 42.07775976437301, 42.076004305264156, 40.215345865067064, 248.26081269158286, 237.56811015183092, 87.65413074503049, 139.70375201979056, 308.7816730485568, 90.26089418052479, 125.42950334267094, 118.43297588951093, 85.82996044694337, 101.42925665127963, 226.79221348878477, 185.93159860171184, 166.34602968767098, 264.9611366709282, 120.49914758858397, 447.06515777779083, 922.8143455711106, 305.3179987224858, 174.70503497282127, 480.85890409802477, 439.7137593146184, 221.24030121801255, 258.1785259101463, 240.3586524938249, 218.09083938875378, 180.83148547040975, 347.09733053881115, 213.04752879803658, 290.5992727021927, 410.6546957427075, 184.53795228384976, 180.1090091372137, 204.7893277612692, 207.96162512105863, 248.6237791983944, 253.5031403159583, 191.09104192494243, 211.84902584448218, 231.49166567504778, 188.0358748236967, 192.4291232199057, 378.89913370319704, 282.91901506401126, 183.9277733762391, 159.5883386574121, 339.2375416520792, 112.70697945054191, 108.01716742529703, 94.8836017169568, 72.3879585098327, 70.51294529718808, 54.56972739178716, 53.63491217616462, 51.759505790010934, 51.75863881097411, 51.75714136514018, 89.60231031988387, 48.93955961933575, 51.68115119095759, 96.84755219215283, 44.25717658404274, 46.09384933710327, 147.21858438697066, 38.63222916232189, 38.631905699218706, 38.6317177950533, 37.69401435391398, 35.806361423525516, 34.87842266802023, 43.13407571331804, 77.07469236775489, 498.2970025787983, 205.2418573209263, 276.55539620172914, 167.9674952797243, 242.36649135547324, 73.1509049959454, 501.92209439224956, 159.0434751596836, 170.20269864911802, 207.57604732943122, 290.9858686615981, 189.01598731759603, 141.07619142543578, 120.10203041437589, 274.2791415070985, 483.50376397132425, 295.55500301433744, 221.10321438680492, 157.22197325711983, 304.1484392747504, 235.68096362502573, 235.05939101129817, 183.79687576125735, 850.5820279692817, 217.62820072731506, 400.41383708999905, 337.6547072327375, 212.90020661540163, 264.1374652360768, 246.17592079987162, 286.6855577481436, 393.41037854134163, 264.16592510303195, 261.8556679740824, 233.46124785113088, 236.87421145728752, 214.11501686991141, 212.60411142318242, 159.86637295128793, 129.0180740127155, 129.9063927170104, 122.66692555405061, 116.30950716827215, 121.7089565810694, 206.36775138818484, 95.44257151861626, 78.18574505382715, 73.67191271034878, 70.94173442154954, 60.062534337211666, 59.148312007964705, 56.43353869652842, 512.6345792554024, 114.40243761779804, 42.82199131758134, 41.91589828770126, 184.37032229470003, 38.28672984022568, 38.24724356319052, 91.6168811794024, 35.565333308637186, 35.55865942729807, 34.65779346183296, 34.65770844075119, 34.65123244752012, 33.75087060326658, 33.75031743524263, 35.50605857496475, 81.40224997922986, 853.7742819494018, 55.49577919992817, 83.28849280410057, 210.1615605242821, 75.79458038195216, 108.60083298359932, 101.23138725769971, 132.63494820498147, 64.93323112891184, 105.92015099697177, 205.74468919624965, 301.7189449161814, 558.8048782923782, 148.2358389647902, 250.7086435220315, 88.91714661022996, 173.04874430140197, 280.05909575819516, 243.42803314265015, 333.1495751255921, 149.55332935741976, 204.74155815678063, 106.19420807936403, 188.22655908241106, 284.0253200327279, 134.5967837113337, 206.49703269250367, 312.9376117837522, 200.6498491439421, 202.4080101753162, 247.03817464149725, 146.03700014378876, 163.3154051397449, 148.19418118722737, 146.13928467986435, 155.32864674101944, 145.37001941898026], \"Total\": [928.0, 720.0, 1326.0, 740.0, 520.0, 610.0, 509.0, 526.0, 979.0, 530.0, 553.0, 696.0, 470.0, 813.0, 1091.0, 711.0, 671.0, 1756.0, 838.0, 679.0, 697.0, 379.0, 341.0, 564.0, 413.0, 438.0, 497.0, 445.0, 644.0, 398.0, 470.72717820508126, 133.13476839907403, 239.61364500137665, 71.31276984061037, 163.52135157847354, 94.12463405404688, 61.80152230213193, 79.85924493829775, 50.38805644685171, 52.2875936680965, 610.2878593979102, 44.681154890533215, 720.4628367917339, 43.72988886799592, 38.023443901685276, 35.17011515195634, 32.31675376639081, 30.41426805725981, 27.560961265380158, 30.411620986108602, 25.65884276105338, 530.0702366084332, 25.658347793881685, 24.707754116170488, 22.805536123824584, 22.805504942316947, 22.80540358787006, 21.854367492404407, 21.854337575873924, 21.854239932041164, 292.5738945883743, 231.6685592639485, 413.78670805467397, 71.20949573917703, 92.07157167473184, 87.37194108007468, 120.53872606965392, 326.86774955411533, 151.93726786763978, 164.97111315357338, 87.34430867083569, 696.8532930721404, 671.8377017962274, 156.2916324138105, 99.54598804940359, 347.5436163042428, 205.28874722180467, 497.31805771740574, 165.78433086664722, 332.4034916941217, 1091.2858386139285, 234.9251244004753, 177.84100741079587, 616.7235188042606, 268.9536762819902, 492.5087924470131, 141.24724992201334, 408.7142496469842, 264.004900609197, 319.24398941146654, 1756.785310826932, 307.45348534831766, 1739.0903234542732, 238.47449691191656, 405.3281417273944, 357.5944926667386, 742.5785879235674, 659.0050319073273, 695.4200659396793, 359.09472042240475, 177.86770556318072, 244.20457579179762, 92.16348828573483, 73.73234361664477, 273.6860793241765, 66.35990969830263, 64.51683342844112, 64.5168323339011, 59.909047082482786, 58.987491591812784, 58.98790256897908, 54.379734563380495, 53.45818365218404, 184.37631941916695, 47.0073052119966, 115.22289290308714, 47.934543191816815, 37.7918097262247, 36.870281736567414, 35.948739822976314, 96.79380360956333, 45.17291576490573, 30.419402675290478, 34.10427917434421, 28.576280363537837, 27.654725419714147, 27.654725776430155, 27.654748376460063, 27.65482894797466, 30.420748906306542, 278.42056808899343, 240.62176380682752, 77.44281148120572, 138.36246226712623, 106.06607175212064, 65.46178964919352, 438.91787745076914, 398.70754976961666, 142.99109635237858, 445.92870005158284, 740.86940909168, 116.18990384894605, 246.5270450254272, 457.7400195869431, 644.9945896070726, 711.2782963966067, 354.9706298423069, 419.1595729176099, 120.91273788349443, 367.7134644257452, 979.1128010524652, 190.98660460187133, 118.24590344274313, 236.06178258431692, 838.3779820134026, 201.3846520338813, 352.0878614891674, 431.98230002359355, 226.7530998834065, 216.10942617325017, 324.46102489009365, 372.40879486839094, 727.9433289715685, 320.87685324603456, 261.542038272474, 440.0674737790862, 942.8266103089716, 417.5876371946509, 742.5785879235674, 1739.0903234542732, 435.7585142111114, 415.54185810710055, 558.9604379158193, 1076.1910726318463, 1091.2858386139285, 278.34518267775104, 234.5916246304079, 198.2856216482334, 141.4992709627754, 137.77557490296687, 112.64060351358248, 94.02211853916202, 82.85103432480763, 82.8510905728216, 80.98918593443524, 68.88718889498645, 64.2325474333141, 64.23253998910032, 60.5088582737475, 59.57793225723943, 56.785163597289504, 52.13054034418867, 51.19961637079071, 51.19962288271037, 50.26868563132407, 49.337769118524044, 53.063230650670725, 46.544991952442444, 45.61407759920238, 45.614000320517455, 43.75223860415962, 45.61487764476584, 42.8212999490516, 42.82128658578073, 40.95945907162643, 253.30117077323553, 243.0517166656389, 89.3884218509136, 144.37543634904284, 326.0214735159152, 93.13607244853436, 131.13043210793776, 123.70880568441032, 89.38777140444458, 106.98115562808343, 251.9641990141691, 206.6622189051667, 184.33856367960166, 305.20967896773396, 131.1297014074301, 564.6593044271383, 1326.857874201624, 383.93965589812007, 205.08836856003913, 697.638639988377, 635.3287338402778, 285.83248394245635, 357.08613309165133, 331.0147622783147, 295.088733770302, 232.59964085414666, 562.1805265043351, 325.39101698529896, 561.620936761531, 1076.1910726318463, 270.3279597659215, 261.0601085298573, 337.4982592928092, 372.5029473493583, 620.8088540939532, 685.8141729714638, 352.86781588588525, 690.0331466001151, 1739.0903234542732, 356.8859805039676, 774.2721191202718, 379.7509044730043, 284.10196482249717, 184.71439283017645, 160.33542351326707, 341.28508802225963, 113.45142179167432, 108.76296258782534, 95.63532529184347, 73.13112553368181, 71.2557716384567, 55.3151841014577, 54.37751650705071, 52.502163367052326, 52.50214456805468, 52.50214304598188, 90.93672046237627, 49.689004844626965, 52.50080559594716, 98.43373188734643, 45.00070735940603, 46.87579022216438, 149.98556055684497, 39.37463015037701, 39.37462400963201, 39.37461826479124, 38.43694349138375, 36.56136969295594, 35.62382085505834, 44.058059844570295, 78.77054827435194, 509.886345694541, 210.9155382297137, 286.75687718514735, 173.4148775327745, 251.38923230472898, 74.98735672061993, 526.5505799878662, 165.08288479719212, 178.2532949377097, 220.14016255192521, 313.6138373712838, 201.48277460044193, 149.00173220976615, 126.4471255652406, 302.33610704780864, 553.8840075492927, 350.39066372456557, 254.3656009531139, 176.08507892714752, 378.9460153130701, 288.7185150238969, 292.98615158670384, 217.8880143521031, 1756.785310826932, 280.95513119894997, 723.7756172974276, 679.7755502621726, 309.1898096459418, 465.23585790330935, 451.45554702124775, 738.2739236894212, 1739.0903234542732, 774.2721191202718, 838.3779820134026, 766.2519613500285, 979.1128010524652, 575.7376259727326, 609.1402387939877, 160.61558250775582, 129.76718900387937, 130.6751317109329, 123.41603905945044, 117.06515344123926, 122.50954628020705, 207.8061946279177, 96.19707746855539, 78.95840537975903, 74.42153697297157, 71.69973477999524, 60.81193956308696, 59.904732398847386, 57.182709107943964, 520.0771289474989, 116.19127323784822, 43.573199053757584, 42.66583668131694, 187.91944922221683, 39.03659196164114, 39.0372118124189, 93.51205164186833, 36.31469819455701, 36.314963072193805, 35.407381449143216, 35.407409173586025, 35.40746935482675, 34.500051341607204, 34.50010740830678, 36.31559633136754, 83.53935390258218, 928.0537895892061, 57.197691667663456, 87.23586730384139, 228.4279322695357, 79.95987724880143, 116.40424760265721, 108.13158402773057, 145.5857398095109, 68.16756601419723, 116.42158967168078, 242.54784109221183, 374.7685808157693, 813.2921312018091, 176.75703022573595, 350.90397215219446, 99.9856870618984, 234.94921232366625, 478.5741755485801, 404.28349334464497, 679.7755502621726, 216.63138941646764, 411.7863432629491, 133.26953676316685, 401.1250180465472, 942.8266103089716, 211.92183974221987, 578.6174674486391, 1739.0903234542732, 695.4200659396793, 766.2519613500285, 1756.785310826932, 280.6370969227394, 451.45554702124775, 335.37497952743854, 322.3566357829468, 609.8928282739935, 390.92445740385824], \"Category\": [\"Default\", \"Default\", \"Default\", \"Default\", \"Default\", \"Default\", \"Default\", \"Default\", \"Default\", \"Default\", \"Default\", \"Default\", \"Default\", \"Default\", \"Default\", \"Default\", \"Default\", \"Default\", \"Default\", \"Default\", \"Default\", \"Default\", \"Default\", \"Default\", \"Default\", \"Default\", \"Default\", \"Default\", \"Default\", \"Default\", \"Topic1\", \"Topic1\", \"Topic1\", \"Topic1\", \"Topic1\", \"Topic1\", \"Topic1\", \"Topic1\", \"Topic1\", \"Topic1\", \"Topic1\", \"Topic1\", \"Topic1\", \"Topic1\", \"Topic1\", \"Topic1\", \"Topic1\", \"Topic1\", \"Topic1\", \"Topic1\", \"Topic1\", \"Topic1\", \"Topic1\", \"Topic1\", \"Topic1\", \"Topic1\", \"Topic1\", \"Topic1\", \"Topic1\", \"Topic1\", \"Topic1\", \"Topic1\", \"Topic1\", \"Topic1\", \"Topic1\", \"Topic1\", \"Topic1\", \"Topic1\", \"Topic1\", \"Topic1\", \"Topic1\", \"Topic1\", \"Topic1\", \"Topic1\", \"Topic1\", \"Topic1\", \"Topic1\", \"Topic1\", \"Topic1\", \"Topic1\", \"Topic1\", \"Topic1\", \"Topic1\", \"Topic1\", \"Topic1\", \"Topic1\", \"Topic1\", \"Topic1\", \"Topic1\", \"Topic1\", \"Topic1\", \"Topic1\", \"Topic1\", \"Topic1\", \"Topic1\", \"Topic1\", \"Topic1\", \"Topic1\", \"Topic1\", \"Topic1\", \"Topic2\", \"Topic2\", \"Topic2\", \"Topic2\", \"Topic2\", \"Topic2\", \"Topic2\", \"Topic2\", \"Topic2\", \"Topic2\", \"Topic2\", \"Topic2\", \"Topic2\", \"Topic2\", \"Topic2\", \"Topic2\", \"Topic2\", \"Topic2\", \"Topic2\", \"Topic2\", \"Topic2\", \"Topic2\", \"Topic2\", \"Topic2\", \"Topic2\", \"Topic2\", \"Topic2\", \"Topic2\", \"Topic2\", \"Topic2\", \"Topic2\", \"Topic2\", \"Topic2\", \"Topic2\", \"Topic2\", \"Topic2\", \"Topic2\", \"Topic2\", \"Topic2\", \"Topic2\", \"Topic2\", \"Topic2\", \"Topic2\", \"Topic2\", \"Topic2\", \"Topic2\", \"Topic2\", \"Topic2\", \"Topic2\", \"Topic2\", \"Topic2\", \"Topic2\", \"Topic2\", \"Topic2\", \"Topic2\", \"Topic2\", \"Topic2\", \"Topic2\", \"Topic2\", \"Topic2\", \"Topic2\", \"Topic2\", \"Topic2\", \"Topic2\", \"Topic2\", \"Topic2\", \"Topic2\", \"Topic2\", \"Topic2\", \"Topic2\", \"Topic2\", \"Topic2\", \"Topic2\", \"Topic2\", \"Topic2\", \"Topic3\", \"Topic3\", \"Topic3\", \"Topic3\", \"Topic3\", \"Topic3\", \"Topic3\", \"Topic3\", \"Topic3\", \"Topic3\", \"Topic3\", \"Topic3\", \"Topic3\", \"Topic3\", \"Topic3\", \"Topic3\", \"Topic3\", \"Topic3\", \"Topic3\", \"Topic3\", \"Topic3\", \"Topic3\", \"Topic3\", \"Topic3\", \"Topic3\", \"Topic3\", \"Topic3\", \"Topic3\", \"Topic3\", \"Topic3\", \"Topic3\", \"Topic3\", \"Topic3\", \"Topic3\", \"Topic3\", \"Topic3\", \"Topic3\", \"Topic3\", \"Topic3\", \"Topic3\", \"Topic3\", \"Topic3\", \"Topic3\", \"Topic3\", \"Topic3\", \"Topic3\", \"Topic3\", \"Topic3\", \"Topic3\", \"Topic3\", \"Topic3\", \"Topic3\", \"Topic3\", \"Topic3\", \"Topic3\", \"Topic3\", \"Topic3\", \"Topic3\", \"Topic3\", \"Topic3\", \"Topic3\", \"Topic3\", \"Topic3\", \"Topic3\", \"Topic3\", \"Topic3\", \"Topic3\", \"Topic3\", \"Topic3\", \"Topic3\", \"Topic3\", \"Topic4\", \"Topic4\", \"Topic4\", \"Topic4\", \"Topic4\", \"Topic4\", \"Topic4\", \"Topic4\", \"Topic4\", \"Topic4\", \"Topic4\", \"Topic4\", \"Topic4\", \"Topic4\", \"Topic4\", \"Topic4\", \"Topic4\", \"Topic4\", \"Topic4\", \"Topic4\", \"Topic4\", \"Topic4\", \"Topic4\", \"Topic4\", \"Topic4\", \"Topic4\", \"Topic4\", \"Topic4\", \"Topic4\", \"Topic4\", \"Topic4\", \"Topic4\", \"Topic4\", \"Topic4\", \"Topic4\", \"Topic4\", \"Topic4\", \"Topic4\", \"Topic4\", \"Topic4\", \"Topic4\", \"Topic4\", \"Topic4\", \"Topic4\", \"Topic4\", \"Topic4\", \"Topic4\", \"Topic4\", \"Topic4\", \"Topic4\", \"Topic4\", \"Topic4\", \"Topic4\", \"Topic4\", \"Topic4\", \"Topic4\", \"Topic4\", \"Topic4\", \"Topic4\", \"Topic4\", \"Topic4\", \"Topic4\", \"Topic4\", \"Topic4\", \"Topic4\", \"Topic4\", \"Topic4\", \"Topic4\", \"Topic5\", \"Topic5\", \"Topic5\", \"Topic5\", \"Topic5\", \"Topic5\", \"Topic5\", \"Topic5\", \"Topic5\", \"Topic5\", \"Topic5\", \"Topic5\", \"Topic5\", \"Topic5\", \"Topic5\", \"Topic5\", \"Topic5\", \"Topic5\", \"Topic5\", \"Topic5\", \"Topic5\", \"Topic5\", \"Topic5\", \"Topic5\", \"Topic5\", \"Topic5\", \"Topic5\", \"Topic5\", \"Topic5\", \"Topic5\", \"Topic5\", \"Topic5\", \"Topic5\", \"Topic5\", \"Topic5\", \"Topic5\", \"Topic5\", \"Topic5\", \"Topic5\", \"Topic5\", \"Topic5\", \"Topic5\", \"Topic5\", \"Topic5\", \"Topic5\", \"Topic5\", \"Topic5\", \"Topic5\", \"Topic5\", \"Topic5\", \"Topic5\", \"Topic5\", \"Topic5\", \"Topic5\", \"Topic5\", \"Topic5\", \"Topic5\", \"Topic5\", \"Topic5\", \"Topic5\", \"Topic5\", \"Topic5\", \"Topic5\", \"Topic5\", \"Topic5\", \"Topic5\", \"Topic5\", \"Topic5\"], \"logprob\": [30.0, 29.0, 28.0, 27.0, 26.0, 25.0, 24.0, 23.0, 22.0, 21.0, 20.0, 19.0, 18.0, 17.0, 16.0, 15.0, 14.0, 13.0, 12.0, 11.0, 10.0, 9.0, 8.0, 7.0, 6.0, 5.0, 4.0, 3.0, 2.0, 1.0, -5.2301, -6.4948, -5.9086, -7.1237, -6.2943, -6.847, -7.2685, -7.0148, -7.4754, -7.4389, -4.9821, -7.5977, -4.8177, -7.6199, -7.7618, -7.8414, -7.9279, -7.9904, -8.0915, -7.9932, -8.1648, -5.137, -8.1657, -8.2036, -8.2863, -8.2863, -8.2866, -8.3304, -8.3305, -8.3306, -5.7393, -5.9734, -5.4064, -7.156, -6.9042, -6.9595, -6.6445, -5.6798, -6.4237, -6.3446, -6.9705, -4.9796, -5.0225, -6.423, -6.8522, -5.6786, -6.1904, -5.3774, -6.4057, -5.7946, -4.7872, -6.132, -6.3714, -5.3644, -6.068, -5.6069, -6.5837, -5.7977, -6.131, -6.0579, -5.1559, -6.1081, -5.3107, -6.2365, -6.039, -6.0934, -5.849, -5.8929, -5.9796, -6.1204, -6.1828, -5.8691, -6.8442, -7.0693, -5.7585, -7.1758, -7.2043, -7.2043, -7.2793, -7.295, -7.2954, -7.3774, -7.3947, -6.1569, -7.5253, -6.6299, -7.5093, -7.7474, -7.7726, -7.7985, -6.8086, -7.5721, -7.9694, -7.8551, -8.0334, -8.0671, -8.0671, -8.0672, -8.0674, -7.9722, -5.769, -5.9156, -7.0383, -6.464, -6.7272, -7.2108, -5.3467, -5.4459, -6.4523, -5.3498, -4.8775, -6.6635, -5.9846, -5.4097, -5.1088, -5.0313, -5.6822, -5.5471, -6.6542, -5.6653, -4.8313, -6.2533, -6.6775, -6.0902, -5.0626, -6.2386, -5.7954, -5.7084, -6.1944, -6.2493, -5.9869, -5.9355, -5.546, -6.0433, -6.1573, -5.9108, -5.5865, -5.9423, -5.7549, -5.4495, -5.9558, -5.9828, -5.9318, -5.8165, -5.8496, -5.6178, -5.7893, -5.9581, -6.297, -6.3238, -6.5264, -6.7084, -6.836, -6.836, -6.8589, -7.0224, -7.0931, -7.0932, -7.1536, -7.1693, -7.2179, -7.3046, -7.3229, -7.3229, -7.3415, -7.3605, -7.2882, -7.4197, -7.4402, -7.4403, -7.4826, -7.4411, -7.5045, -7.5045, -7.5498, -5.7295, -5.7735, -6.7706, -6.3045, -5.5114, -6.7413, -6.4123, -6.4697, -6.7916, -6.6246, -5.82, -6.0186, -6.1299, -5.6644, -6.4524, -5.1413, -4.4166, -5.5226, -6.0809, -5.0684, -5.1579, -5.8448, -5.6904, -5.7619, -5.8591, -6.0464, -5.3944, -5.8825, -5.5721, -5.2263, -6.0261, -6.0504, -5.922, -5.9066, -5.7281, -5.7086, -5.9913, -5.8881, -5.7995, -6.0074, -5.9843, -5.2953, -5.5874, -6.0181, -6.16, -5.4059, -6.5078, -6.5503, -6.6799, -6.9506, -6.9768, -7.2331, -7.2504, -7.286, -7.286, -7.286, -6.7372, -7.342, -7.2875, -6.6595, -7.4426, -7.4019, -6.2407, -7.5785, -7.5785, -7.5785, -7.6031, -7.6545, -7.6807, -7.4683, -6.8878, -5.0214, -5.9084, -5.6102, -6.1088, -5.7421, -6.9401, -5.0142, -6.1634, -6.0956, -5.8971, -5.5593, -5.9908, -6.2833, -6.4443, -5.6185, -5.0515, -5.5437, -5.834, -6.1749, -5.5151, -5.7701, -5.7728, -6.0188, -4.4867, -5.8498, -5.2401, -5.4106, -5.8718, -5.6561, -5.7266, -5.5742, -5.2577, -5.656, -5.6648, -5.7796, -5.7651, -5.8661, -5.8732, -6.0914, -6.3058, -6.299, -6.3563, -6.4095, -6.3641, -5.8361, -6.6072, -6.8067, -6.8662, -6.9039, -7.0704, -7.0857, -7.1327, -4.9262, -6.426, -7.4087, -7.4301, -5.9488, -7.5207, -7.5217, -6.6482, -7.5944, -7.5946, -7.6202, -7.6203, -7.6204, -7.6468, -7.6468, -7.5961, -6.7664, -4.4161, -7.1495, -6.7435, -5.8179, -6.8377, -6.4781, -6.5484, -6.2782, -6.9924, -6.5031, -5.8391, -5.4563, -4.84, -6.167, -5.6415, -6.6781, -6.0122, -5.5308, -5.671, -5.3572, -6.1581, -5.844, -6.5005, -5.9281, -5.5167, -6.2635, -5.8355, -5.4198, -5.8642, -5.8555, -5.6562, -6.1819, -6.0701, -6.1672, -6.1812, -6.1202, -6.1865], \"loglift\": [30.0, 29.0, 28.0, 27.0, 26.0, 25.0, 24.0, 23.0, 22.0, 21.0, 20.0, 19.0, 18.0, 17.0, 16.0, 15.0, 14.0, 13.0, 12.0, 11.0, 10.0, 9.0, 8.0, 7.0, 6.0, 5.0, 4.0, 3.0, 2.0, 1.0, 1.5048, 1.5031, 1.5016, 1.4984, 1.4979, 1.4976, 1.4968, 1.4942, 1.494, 1.4935, 1.4932, 1.492, 1.4916, 1.4913, 1.4892, 1.4876, 1.4857, 1.4839, 1.4813, 1.4812, 1.4796, 1.4792, 1.4786, 1.4784, 1.4759, 1.4759, 1.4756, 1.4744, 1.4743, 1.4742, 1.4712, 1.4705, 1.4574, 1.4676, 1.4625, 1.4595, 1.4527, 1.4198, 1.4421, 1.4389, 1.4488, 1.363, 1.3567, 1.4144, 1.4364, 1.3597, 1.3744, 1.3026, 1.3728, 1.2882, 1.1069, 1.2979, 1.3369, 1.1003, 1.2267, 1.0828, 1.3549, 1.0785, 1.1822, 1.0654, 0.262, 1.0528, 0.1174, 1.1785, 0.8455, 0.9164, 0.4301, 0.5055, 0.365, 0.8852, 1.5254, 1.522, 1.5214, 1.5194, 1.5187, 1.5183, 1.518, 1.518, 1.5171, 1.5169, 1.5165, 1.5158, 1.5156, 1.5153, 1.5136, 1.5124, 1.51, 1.5097, 1.5091, 1.5086, 1.508, 1.5066, 1.5047, 1.5047, 1.5032, 1.5023, 1.5023, 1.5022, 1.502, 1.5018, 1.491, 1.4903, 1.5014, 1.4953, 1.498, 1.4969, 1.4582, 1.4551, 1.4741, 1.4393, 1.4039, 1.4704, 1.3971, 1.3532, 1.3112, 1.2908, 1.3349, 1.3039, 1.4399, 1.3166, 1.1712, 1.3836, 1.4389, 1.3349, 1.0951, 1.3454, 1.2299, 1.1124, 1.271, 1.2642, 1.1202, 1.0337, 0.753, 1.0748, 1.1653, 0.8915, 0.4538, 0.9124, 0.5242, -0.0215, 0.8563, 0.8768, 0.6313, 0.0915, 0.0445, 1.6425, 1.642, 1.6414, 1.6399, 1.6397, 1.6386, 1.6372, 1.6362, 1.6361, 1.636, 1.6343, 1.6335, 1.6335, 1.6328, 1.6326, 1.632, 1.6308, 1.6306, 1.6306, 1.6303, 1.63, 1.6295, 1.6291, 1.6288, 1.6287, 1.628, 1.6278, 1.6277, 1.6276, 1.6269, 1.6251, 1.6224, 1.6256, 1.6123, 1.5909, 1.6138, 1.6007, 1.6016, 1.6046, 1.5919, 1.5399, 1.5395, 1.5425, 1.5038, 1.5606, 1.4117, 1.2821, 1.4161, 1.4848, 1.2731, 1.2772, 1.389, 1.3209, 1.3252, 1.3428, 1.3934, 1.163, 1.2217, 0.9863, 0.6818, 1.2634, 1.274, 1.1456, 1.0623, 0.7301, 0.65, 1.0318, 0.4643, -0.3714, 1.0044, 0.253, 1.6543, 1.6524, 1.6523, 1.6519, 1.6506, 1.65, 1.6497, 1.6487, 1.6464, 1.6461, 1.643, 1.6428, 1.6423, 1.6423, 1.6423, 1.6418, 1.6414, 1.6409, 1.6403, 1.6399, 1.6398, 1.638, 1.6376, 1.6376, 1.6375, 1.6371, 1.6357, 1.6354, 1.6354, 1.6348, 1.6336, 1.6293, 1.6204, 1.6247, 1.62, 1.6318, 1.6087, 1.6193, 1.6104, 1.5978, 1.5817, 1.5927, 1.6019, 1.6051, 1.5592, 1.5207, 1.4864, 1.5165, 1.5433, 1.4367, 1.4536, 1.4363, 1.4864, 0.9313, 1.4012, 1.0646, 0.9569, 1.2835, 1.0905, 1.0502, 0.7107, 0.1703, 0.5812, 0.4929, 0.4681, 0.2375, 0.6675, 0.604, 1.7187, 1.7176, 1.7175, 1.7173, 1.7169, 1.7169, 1.7165, 1.7155, 1.7136, 1.7133, 1.7128, 1.711, 1.7107, 1.7102, 1.709, 1.7079, 1.706, 1.7057, 1.7044, 1.704, 1.703, 1.7029, 1.7026, 1.7024, 1.702, 1.702, 1.7018, 1.7015, 1.7015, 1.7009, 1.6975, 1.64, 1.6932, 1.6771, 1.6401, 1.6699, 1.654, 1.6575, 1.6303, 1.6748, 1.6289, 1.5589, 1.5066, 1.3481, 1.5475, 1.3872, 1.6061, 1.4176, 1.1876, 1.2161, 1.0103, 1.3529, 1.0247, 1.4963, 0.9668, 0.5236, 1.2695, 0.6931, 0.0083, 0.4805, 0.3922, -0.2383, 1.0702, 0.7066, 0.9067, 0.9323, 0.3557, 0.7342]}, \"token.table\": {\"Topic\": [1, 2, 3, 4, 5, 2, 5, 5, 2, 4, 5, 1, 2, 4, 1, 4, 4, 1, 3, 2, 4, 5, 1, 5, 3, 3, 2, 5, 3, 5, 2, 1, 3, 4, 5, 1, 2, 4, 5, 2, 1, 2, 3, 4, 5, 1, 1, 2, 3, 4, 5, 1, 3, 5, 4, 4, 1, 5, 2, 1, 2, 2, 5, 1, 2, 3, 4, 5, 1, 2, 3, 4, 5, 2, 4, 1, 3, 5, 4, 1, 2, 4, 5, 1, 2, 3, 4, 5, 1, 2, 4, 1, 2, 3, 4, 5, 1, 3, 5, 2, 2, 4, 5, 2, 3, 5, 1, 3, 3, 1, 5, 4, 5, 1, 2, 3, 4, 5, 2, 4, 5, 1, 2, 3, 4, 5, 1, 2, 3, 4, 5, 3, 4, 5, 1, 2, 4, 5, 2, 4, 4, 1, 5, 1, 2, 4, 3, 1, 2, 4, 5, 1, 2, 3, 4, 5, 1, 2, 4, 5, 1, 2, 3, 4, 5, 2, 3, 2, 1, 2, 3, 4, 5, 3, 1, 2, 3, 4, 5, 1, 2, 3, 4, 5, 1, 2, 3, 4, 5, 1, 2, 3, 1, 5, 1, 2, 3, 4, 5, 1, 2, 5, 1, 4, 5, 1, 2, 4, 2, 4, 5, 1, 2, 3, 4, 5, 2, 5, 2, 5, 4, 2, 4, 5, 3, 4, 5, 5, 2, 1, 2, 1, 2, 1, 2, 1, 4, 5, 1, 2, 4, 5, 5, 1, 4, 1, 2, 3, 4, 5, 2, 3, 5, 1, 2, 4, 5, 1, 2, 3, 4, 5, 2, 4, 3, 5, 2, 1, 2, 3, 4, 5, 2, 4, 5, 2, 4, 5, 1, 2, 3, 4, 5, 1, 2, 4, 5, 1, 2, 4, 5, 5, 2, 3, 4, 5, 2, 4, 5, 4, 1, 2, 3, 4, 5, 2, 4, 2, 2, 1, 2, 3, 4, 5, 1, 2, 1, 2, 1, 2, 3, 4, 5, 5, 1, 2, 3, 4, 5, 4, 1, 2, 4, 5, 1, 2, 3, 4, 5, 1, 2, 3, 4, 5, 1, 2, 3, 4, 5, 1, 2, 4, 3, 4, 1, 2, 4, 5, 3, 3, 2, 2, 5, 3, 1, 3, 5, 1, 4, 5, 3, 4, 1, 3, 4, 5, 1, 2, 3, 4, 5, 1, 2, 4, 5, 3, 1, 2, 3, 4, 5, 1, 3, 4, 2, 2, 4, 5, 1, 2, 4, 5, 1, 2, 4, 1, 2, 3, 5, 1, 2, 3, 4, 5, 4, 5, 1, 1, 3, 5, 3, 2, 5, 1, 2, 5, 4, 1, 2, 3, 4, 5, 1, 2, 3, 4, 5, 1, 3, 4, 5, 2, 1, 1, 5, 1, 5, 1, 2, 3, 4, 5, 1, 2, 3, 4, 5, 1, 3, 5, 1, 1, 2, 3, 4, 5, 1, 2, 3, 4, 5, 5, 1, 2, 4, 4, 1, 3, 1, 2, 4, 5, 1, 2, 3, 2, 4, 1, 1, 2, 4, 5, 1, 4, 1, 2, 4, 5, 1, 2, 3, 4, 5, 2, 4, 1, 2, 3, 4, 5, 2, 4, 5, 1, 4, 5, 4, 2, 4, 5, 1, 4, 5, 3, 1, 2, 3, 4, 1, 2, 4, 5, 1, 2, 3, 4, 5, 1, 4, 5, 5, 5, 1, 2, 3, 4, 5, 3, 1, 2, 4, 5, 3, 2, 4, 5, 3, 1, 2, 3, 4, 5, 1, 2, 3, 4, 5, 5, 2, 1, 1, 2, 3, 4, 5, 1, 2, 4, 1, 1, 1, 2, 3, 4, 5, 1, 2, 4, 5, 1, 2, 3, 4, 5, 1, 2, 3, 4, 5, 1, 2, 3, 4, 5, 1, 2, 3, 4, 5, 1, 2, 4, 5, 1, 2, 4, 5, 4, 5, 2, 4, 1, 1, 1, 5, 1, 2, 3, 4, 5, 1, 2, 5, 2, 3, 4, 5, 2, 5, 1, 2, 4, 1, 2, 4, 5, 1, 2, 3, 4, 5, 1, 1, 1, 2, 3, 4, 5, 3, 5, 1, 2, 3, 4, 5, 3, 2, 4, 1, 1, 2, 3, 4, 5, 1, 2, 3, 4, 5, 1, 2, 3, 5, 1, 2, 3, 4, 5, 3, 1, 2, 3, 4, 5, 1, 2, 3, 1, 2, 3, 4, 5, 5, 1, 3, 4, 5, 1, 2, 3, 4, 5, 1, 2, 3, 4, 5, 1, 2, 5, 3, 4, 3, 4, 1, 2, 3, 4, 5, 1, 2, 3, 4, 5, 1, 2, 3, 4, 5, 1, 2, 5, 5, 5, 2, 4, 1, 3, 2, 4, 1, 4, 5, 4, 1, 2, 3, 5, 3, 4, 3, 5, 1, 2, 3, 4, 5, 5, 1, 2, 1, 2, 1, 1, 2, 3, 4, 5, 2, 4, 3, 3, 4, 5, 1, 2, 3, 4, 5, 2, 1, 4, 5, 1, 5, 3, 2, 4, 2, 3, 4, 5, 1, 2, 3, 4, 5, 5, 1, 2, 3, 4, 5, 4, 1, 2, 3, 4, 5, 1, 2, 3, 5, 2, 3, 4, 5, 2, 3, 4, 1, 2, 1, 2, 3, 5, 1, 2, 3, 4, 5, 1, 2, 3, 4, 5, 2, 4, 1, 2, 3, 4, 5, 1, 2, 3, 4, 5, 3, 4, 1, 2, 3, 4, 5, 2, 4, 1, 2, 3, 4, 5, 1, 2, 3, 4, 5, 2, 4, 1, 2, 3, 4, 5, 2, 2, 2, 2, 1, 3], \"Freq\": [0.1569486309974958, 0.027696817234852202, 0.023080681029043502, 0.10617113273360011, 0.6924204308713051, 0.004812176084502801, 0.991308273407577, 0.9966289708969672, 0.0053214289640530444, 0.015964286892159132, 0.9791429293857602, 0.005634268955965414, 0.8226032675709505, 0.17184520315694513, 0.9796465275656118, 0.990485494112675, 0.997907988728147, 0.027705543970302386, 0.9696940389605836, 0.030014361099704245, 0.16507898604837334, 0.7953805691421625, 0.9557781886344269, 0.043444463119746674, 0.9891289565153087, 0.9808111699976757, 0.9763213524405973, 0.9878618954479961, 0.013459542076318918, 0.9863921550216578, 0.9763250073982866, 0.03939973500867821, 0.013133245002892736, 0.026266490005785473, 0.9193271502024916, 0.022783305291823392, 0.9318371864355768, 0.018226644233458714, 0.02733996635018807, 0.9873758219510131, 0.319231513258141, 0.06470909052529884, 0.13085616084004878, 0.1984412109442498, 0.2890339376796682, 0.9847552084944533, 0.03073926211859111, 0.046723678420258485, 0.21763397579962507, 0.018443557271154664, 0.6873299009716972, 0.9715693589874851, 0.00565962733390768, 0.02263850933563072, 0.9960210124778934, 0.9759848743157788, 0.9342415683678292, 0.06027364957211802, 0.9862126590792278, 0.11742960221108825, 0.8813968993544901, 0.9740349777063327, 0.9848971464754461, 0.515631604332482, 0.03207277921685295, 0.2121737702037964, 0.03453991607968779, 0.2047723596152919, 0.1170142537169046, 0.09402931102251263, 0.16925275984052274, 0.035522184164060326, 0.5850712685845231, 0.15604346159700466, 0.8444704980543781, 0.9497646791208011, 0.0072501120543572595, 0.04108396830802447, 0.9904353776140307, 0.7170578079179717, 0.2557925513625513, 0.012579961542420555, 0.012579961542420555, 0.17824804394947316, 0.6597492535792188, 0.004629819323362939, 0.15046912800929552, 0.009259638646725878, 0.9388133153474697, 0.04579577148036438, 0.011448942870091095, 0.6342422814920514, 0.02276767164330441, 0.06830301492991324, 0.2049090447897397, 0.06830301492991324, 0.009347440622874443, 0.9440915029103188, 0.03738976249149777, 0.9763241969318589, 0.02576841639476206, 0.06012630492111147, 0.9104840459482594, 0.01849598355543461, 0.046239958888586515, 0.9340471695494477, 0.015791478530436585, 0.9790716688870683, 0.9964715651227154, 0.9932656381010048, 0.004173385034037835, 0.08242565525786515, 0.9135510124413387, 0.26102305310631513, 0.5388090545772559, 0.031131189820019233, 0.10297239709698669, 0.06705179345850296, 0.9625725636560635, 0.028733509362867567, 0.007183377340716892, 0.5536998025988247, 0.20414184641269797, 0.12863732787649462, 0.0419469547423352, 0.06991159123722533, 0.3946277500514205, 0.03221451020827922, 0.5583848436101732, 0.008053627552069806, 0.008053627552069806, 0.9974780658459569, 0.00860649833789978, 0.981140810520575, 0.020426655619762764, 0.6985916221958866, 0.24205586909418875, 0.03881064567754925, 0.0029301016513642022, 0.9933044598124645, 0.9886321998656917, 0.9625820642581365, 0.03453209199132328, 0.003116460379998937, 0.6357579175197832, 0.3615094040798767, 0.9808205999570913, 0.028395364504840714, 0.05679072900968143, 0.8916144454519984, 0.01703721870290443, 0.2382431470345017, 0.5198032298934583, 0.01925197147753549, 0.20695869338350653, 0.016845475042843554, 0.8087683277166569, 0.02554005245421022, 0.017026701636140146, 0.14472696390719123, 0.33935802095324896, 0.3662911972193798, 0.10369272862460384, 0.07002625829194026, 0.1211992931975889, 0.9805037634743465, 0.9987598755098605, 0.9919891861518202, 0.5346778693213576, 0.39265406028287203, 0.03341736683258485, 0.02227824455505657, 0.016708683416292426, 0.98082029387177, 0.19675587978235773, 0.14920654216828794, 0.2410259527333882, 0.15740470382588617, 0.2541430113855454, 0.325868561070055, 0.5094564827996635, 0.04819182945402223, 0.043602131410782015, 0.07114031967022329, 0.04205824835141883, 0.6958728363598389, 0.12235126793140025, 0.07646954245712516, 0.06499911108855638, 0.03308170892511096, 0.9180174226718292, 0.04962256338766644, 0.9549288236651383, 0.028086141872504067, 0.09702182687386464, 0.771764531951196, 0.01323024911916336, 0.09261174383414351, 0.02646049823832672, 0.908557917061287, 0.012796590381144888, 0.07677954228686933, 0.9880516501832973, 0.9777624082347484, 0.9884936745417128, 0.004741234374638029, 0.018964937498552117, 0.9719530468007961, 0.04782952221027694, 0.9278927308793727, 0.025509078512147704, 0.07528175838557309, 0.22341683133782983, 0.08742397748002037, 0.11656530330669382, 0.4978309828723382, 0.01748322302603248, 0.9615772664317865, 0.8761716183217196, 0.12169050254468328, 0.9813167902234045, 0.010159119042082658, 0.9854345470820178, 0.9734456337105519, 0.0375188169769854, 0.0125062723256618, 0.9504766967502969, 0.9913096200186876, 0.9832593052329446, 0.2584582144215721, 0.7412922413629706, 0.028284256694365788, 0.9710928131732254, 0.20040100579191844, 0.7968325706488185, 0.8566538468310538, 0.10619675787161825, 0.03539891929053941, 0.9847811827568169, 0.004915713058686274, 0.003277142039124183, 0.006554284078248366, 0.9843941492044265, 0.039269961334774416, 0.9536990609873786, 0.10980072322176755, 0.06552623805169999, 0.791627794840808, 0.0017709794068027026, 0.030106649915645944, 0.9600129113235496, 0.037403100441177256, 0.9884919944223236, 0.034967212138008255, 0.9441147277262228, 0.006993442427601651, 0.006993442427601651, 0.29086448698604794, 0.5271918826622118, 0.08180563696482598, 0.03408568206867749, 0.06362660652819799, 0.9807078884492443, 0.00867883087123225, 0.9783132816824007, 0.9940879585219617, 0.9919891693225402, 0.2067620342511292, 0.609545217857225, 0.016111327344243833, 0.11546451263374748, 0.05370442448081278, 0.03163377563641171, 0.9490132690923513, 0.015816887818205855, 0.04525599751991842, 0.034480760015175936, 0.9202052829050078, 0.09063039905989517, 0.07552533254991264, 0.7250431924791614, 0.015105066509982529, 0.09365141236189169, 0.12284919516627701, 0.8218187538709566, 0.04659797058031197, 0.00847235828732945, 0.03339782365557446, 0.6476792230348904, 0.31250820706287535, 0.005963897081352583, 0.9913341371344736, 0.2950296565941685, 0.6545970505683113, 0.0030732255895225885, 0.049171609432361416, 0.9467259749436294, 0.04303299886107406, 0.008606599772214812, 0.9961324463176334, 0.04295863265257188, 0.14394910239721453, 0.6956283848828745, 0.11606367418414157, 0.0022609806659248358, 0.9623934869121952, 0.030552174187688737, 0.9945763986126727, 0.9763961191621631, 0.6421420819164743, 0.17854682277677578, 0.01252960159837023, 0.031324003995925574, 0.13469321718247998, 0.9892405076085852, 0.012522031741880825, 0.9956141117318899, 0.9900675391460168, 0.07801515079737951, 0.03413162847385354, 0.8532907118463384, 0.029255681549017316, 0.00487594692483622, 0.9855041782221707, 0.19168541043712392, 0.1498045644592649, 0.401089640326419, 0.16430178037467766, 0.09342650256599318, 0.9929850882168711, 0.6689356483606465, 0.22633850019873927, 0.012828902845272671, 0.09163502032337623, 0.015252074690430703, 0.0076260373452153515, 0.9151244814258421, 0.0076260373452153515, 0.05338226141650746, 0.12185866226435871, 0.0368409909171317, 0.541279174244012, 0.0906855161037088, 0.2068763336115857, 0.12702151204964662, 0.407900066863654, 0.055460096810409094, 0.1860596796220176, 0.2236294226226173, 0.020064831991826095, 0.9279984796219569, 0.05016207997956524, 0.9865202390861527, 0.9933567926924001, 0.8746303057834481, 0.05428739829000712, 0.03619159886000475, 0.03619159886000475, 0.9931539442386902, 0.9828068545025692, 0.9832524547245285, 0.10001431498699682, 0.8901274033842718, 0.9808112836685352, 0.914743043349703, 0.00611868256421206, 0.07648353205265075, 0.014669733107262923, 0.014669733107262923, 0.95353265197209, 0.9861730855816891, 0.99430203285811, 0.06222254314438009, 0.6074105402189485, 0.017777869469822884, 0.3140756939668709, 0.12523295583701644, 0.23257548941160194, 0.0894521113121546, 0.11330600766206249, 0.44129708247329597, 0.031415815850056795, 0.8639349358765619, 0.057595662391770795, 0.0471237237750852, 0.9877861973420002, 0.02078148676922707, 0.07273520369229475, 0.01731790564102256, 0.8174051462562647, 0.07273520369229475, 0.01645740279013423, 0.9792154660129867, 0.008228701395067114, 0.9861690155096965, 0.10221507901452628, 0.8688281716234735, 0.02751944435006477, 0.1897187028164667, 0.7681293821349627, 0.032390998041835775, 0.009254570869095936, 0.02890957514385292, 0.9684707673190728, 0.9964105133861374, 0.04259366886387089, 0.05897584919612892, 0.8682555576096759, 0.02948792459806446, 0.6508214485542168, 0.06361412655041217, 0.03425376045022193, 0.14680183050095114, 0.10520797852568164, 0.9824886595518076, 0.9884944485451896, 0.9646836511896485, 0.9457541465480938, 0.01659217800961568, 0.03318435601923136, 0.9902995583206196, 0.9790481130181167, 0.987555989224863, 0.9827016243513244, 0.008327979867384105, 0.008327979867384105, 0.9930574889899255, 0.16077826839343298, 0.1484107092862458, 0.00494702364287486, 0.08409940192887264, 0.6010633726092955, 0.8603236715424308, 0.040282713717705795, 0.025896030247096583, 0.028773366941218424, 0.04316005041182763, 0.04882320779955124, 0.9005169438583894, 0.005424800866616804, 0.037973606066317625, 0.9676205097694917, 0.9901984658273372, 0.9906963123543934, 0.0061154093355209466, 0.9334967622885574, 0.06667834016346838, 0.16883057263366968, 0.07674116937894077, 0.11255371508911312, 0.2685940928262927, 0.3709156519982137, 0.2001880168126305, 0.05424449487826116, 0.24797483372919388, 0.3409653963776416, 0.15627580667308574, 0.9345962448377272, 0.052653309568322655, 0.006581663696040332, 0.9743229744541164, 0.10719849938407534, 0.2343409056303042, 0.1246494178884597, 0.06481769730199904, 0.4686818112606084, 0.23938173023463932, 0.0113991300111733, 0.00569956500558665, 0.025648042525139927, 0.7152954082011246, 0.9902407619478326, 0.005766517926416119, 0.023066071705664475, 0.9687750116379079, 0.9904357609642315, 0.9753747767344259, 0.9946550098147654, 0.009841436235946696, 0.7873148988757357, 0.19823464418121203, 0.004217758386834298, 0.0368073914597966, 0.015336413108248582, 0.9477903300897624, 0.054510725625404766, 0.9448525775070159, 0.9870307029297193, 0.08684511441391887, 0.3421697507908404, 0.3716970896915728, 0.19800686086373503, 0.012695100159987139, 0.9775227123190098, 0.8588383748892493, 0.09377264751823693, 0.004465364167535091, 0.04316518695283922, 0.06997105340912332, 0.06647250073866716, 0.7731801401708128, 0.0524782900568425, 0.038484079375017834, 0.045579666820522835, 0.9533746976626026, 0.17309039726761646, 0.4602006594019961, 0.1414945310997182, 0.1662217307093777, 0.059070532400853235, 0.04718720832248306, 0.31615429576063653, 0.6370273123535214, 0.8032406598354684, 0.1534279912045277, 0.04211748778163505, 0.9904609921645503, 0.011768590377977846, 0.49722294346956397, 0.48986757448332785, 0.011463174848907194, 0.03438952454672158, 0.951443512459297, 0.9915903507640917, 0.0237500848044663, 0.11875042402233149, 0.05277796623214733, 0.8022250867286395, 0.0028539573211519074, 0.09988850624031677, 0.8447713670609646, 0.05422518910188624, 0.24898074249527907, 0.21217989371999535, 0.13282806354828977, 0.22598021201072674, 0.17997915104162207, 0.9713549797831571, 0.9846458243312449, 0.9943358201117956, 0.9958407626533723, 0.9793170151188297, 0.12398010679492855, 0.1435559131309699, 0.16313171946701124, 0.304077525086509, 0.26362085865869017, 0.9865375421027232, 0.2636831092170637, 0.2140486415997341, 0.06824739297382826, 0.452914517008133, 0.9765696929944483, 0.9901855464084643, 0.003653821204459278, 0.007307642408918556, 0.9943707373131043, 0.003307577152344127, 0.07276669735157079, 0.003307577152344127, 0.9062761397422907, 0.016537885761720633, 0.13729875275797015, 0.05604030724815108, 0.5267788881326202, 0.17932898319408347, 0.10087255304667195, 0.9961673550091188, 0.9798336117854881, 0.9922986422931191, 0.863883411307463, 0.004305066833758121, 0.001435022277919374, 0.015785245057113113, 0.1148017822335499, 0.03182316094709482, 0.003977895118386853, 0.9626506186496184, 0.9914765435601876, 0.973083871510126, 0.28745686617922184, 0.05464526564991148, 0.03301484799682152, 0.4844075111257778, 0.14059771474508473, 0.9646780448637182, 0.01961221375006329, 0.9766882447531517, 0.001961221375006329, 0.6648035748578744, 0.1848478232531651, 0.021079137739396018, 0.07296624602098623, 0.05675152468298928, 0.04802727723047837, 0.030239396774745644, 0.6172394518139258, 0.1600909241015946, 0.14230304364586185, 0.008600441053695023, 0.020067695791955054, 0.6894686911378843, 0.27951433424508826, 0.004300220526847511, 0.06511910263017347, 0.030644283590669865, 0.6894963807900719, 0.07661070897667466, 0.1378992761580144, 0.22558066688466763, 0.012768716993471752, 0.025537433986943504, 0.7363293466235377, 0.7196836102722748, 0.2121172746065652, 0.03787808475117236, 0.02651465932582065, 0.010693808791938302, 0.9838304088583237, 0.013335581406418894, 0.9734974426685793, 0.9833091533756425, 0.9646793638485818, 0.9667298458676997, 0.9913269064443859, 0.03588017545887762, 0.9127019632351994, 0.006727532898539553, 0.04036519739123732, 0.002242510966179851, 0.9638590633547438, 0.03076145946876842, 0.006835879881948538, 0.005657483601771893, 0.14143709004429733, 0.011314967203543786, 0.8373075730622402, 0.9909724222625657, 0.004094927364721346, 0.030287815760807715, 0.006057563152161543, 0.9631525411936853, 0.8434500129293252, 0.10121400155151902, 0.016869000258586505, 0.03936100060336851, 0.6537954345955004, 0.11370355384269572, 0.01015210302166926, 0.07918640356902022, 0.1441598629077035, 0.9609119358670197, 0.9609076425717397, 0.024828108545028503, 0.8342244471129576, 0.0893811907621026, 0.049656217090057006, 0.0049656217090057, 0.9865392134826361, 0.9868451464155659, 0.14413396605634124, 0.8076941116742141, 0.008158526380547617, 0.03535361431570634, 0.005439017587031745, 0.9897274668693281, 0.9684565754460173, 0.02582550867856046, 0.9609063271814503, 0.24195605538373602, 0.06740204399975504, 0.2073909046146309, 0.12616280030723379, 0.356021052921783, 0.2588908792002175, 0.6626373693815091, 0.015410171380965327, 0.04623051414289598, 0.015410171380965327, 0.9743417698142407, 0.008083498943083071, 0.9538528752838026, 0.032333995772332286, 0.034363007213051994, 0.008590751803262998, 0.017181503606525997, 0.008590751803262998, 0.9363919465556668, 0.9943128543917538, 0.2529957756067674, 0.07482973644707204, 0.08195637801345985, 0.06770309488068423, 0.5202448343463104, 0.9863791541364769, 0.9930169838740587, 0.9985595443287356, 0.006201602407915978, 0.8031075118251192, 0.06511682528311778, 0.07286882829301275, 0.05271362046728582, 0.9734301768937059, 0.019852813760046495, 0.019852813760046495, 0.9380454501621969, 0.019852813760046495, 0.003968817807897246, 0.0515946315026642, 0.9009216423926748, 0.007937635615794492, 0.03571936027107521, 0.06766129521295806, 0.14778651322830313, 0.5181430764992315, 0.12641978842421112, 0.14066427162693915, 0.7547768180984458, 0.026026786830980888, 0.21936863186112462, 0.9621002811546084, 0.03356163771469564, 0.9765753969077421, 0.9861336557900199, 0.2445509295559259, 0.14645422899959404, 0.03177780440557229, 0.5526574679229964, 0.024869586056534835, 0.18809760002636688, 0.18372323723505604, 0.370362716330986, 0.16768390700024957, 0.09186161861752802, 0.06335474015614609, 0.8389041455158655, 0.0021846462122808996, 0.08957049470351688, 0.006553938636842699, 0.0761125733574184, 0.9133508802890209, 0.008456952595268711, 0.9855057797840393, 0.9948335103849265, 0.0035198630203940534, 0.9961212347715172, 0.011187131166358985, 0.9844675426395906, 0.034872746900306784, 0.9659750891384979, 0.004122897963127283, 0.1443014287094549, 0.8493169804042202, 0.9845329122801364, 0.06878772444035251, 0.1203785177706169, 0.7781611327314878, 0.030094629442654224, 0.9882910721523104, 0.9904856485857397, 0.9532493563134787, 0.03812997425253915, 0.002668313330384505, 0.01067325332153802, 0.16810373981422383, 0.013341566651922526, 0.8058306257761205, 0.9866483527918947, 0.010847380001404285, 0.9871115801277899, 0.8143681768944248, 0.1849922772204619, 0.9864650099941525, 0.07813727896854869, 0.039068639484274345, 0.7943956695135784, 0.06250982317483895, 0.026045759656182898, 0.12638025118241092, 0.8738291653183841, 0.9871211337083459, 0.9765698172013045, 0.023940812402406916, 0.9696029022974801, 0.02372167825779761, 0.11183076892961731, 0.7387608371714113, 0.020332867078112236, 0.10505314657024656, 0.973608537388286, 0.8719425804990619, 0.019484750402213674, 0.1022949396116218, 0.9963308296502719, 0.0021243727711093216, 0.9897281388006425, 0.981467784685898, 0.020662479677597854, 0.0797420703711182, 0.013290345061853033, 0.5449041475359744, 0.36105437418034075, 0.18879399250480217, 0.34152621116037246, 0.006363842443982095, 0.16333862272887378, 0.3012218756818192, 0.990901191260353, 0.13971408027948923, 0.08382844816769353, 0.1031734746679305, 0.5674541106736177, 0.1031734746679305, 0.9980226394087294, 0.09610075418370187, 0.09254146699171291, 0.007118574383977916, 0.7759246078535929, 0.028474297535911665, 0.0483881381559578, 0.01451644144678734, 0.9000193697008151, 0.03387169670917046, 0.1520101844683059, 0.04204537017208461, 0.6888972189733863, 0.1164333327842343, 0.020133994118783596, 0.026845325491711463, 0.946297723582829, 0.9499617265448197, 0.04578128802625637, 0.2352373621252892, 0.016802668723234944, 0.7225147550991026, 0.025204003084852416, 0.36722026127720264, 0.05766268565509794, 0.22913330352420497, 0.2625169636403143, 0.08345915029027333, 0.21401270575888282, 0.09346124492001845, 0.20724015177917135, 0.38874459843543907, 0.09752477730784534, 0.013334616962957537, 0.980094346777379, 0.06484948144171006, 0.020478783613171597, 0.058023220237319525, 0.8020856915158875, 0.05461008963512426, 0.23042371338741352, 0.19709198126219016, 0.3072316178498847, 0.09129996190822044, 0.17535389509356625, 0.9799629491526769, 0.9904857930997081, 0.10545721676243887, 0.018887859718645768, 0.6925548563503447, 0.015739883098871473, 0.16841674915792476, 0.010996657839818793, 0.9896992055836913, 0.28236519120873693, 0.10670777574748778, 0.11491606618960223, 0.3496731728340754, 0.14774922795806, 0.0864158813105248, 0.23694677133530992, 0.38190244321102895, 0.19699104126700276, 0.09756631760865703, 0.9848262136229406, 0.9904357322508267, 0.04808973519149397, 0.01109763119803707, 0.6843539238789527, 0.00739842079869138, 0.2515463071555069, 0.9785713048758317, 0.9914291204660988, 0.9763249948047515, 0.9951216239033763, 0.021473956839925486, 0.9663280577966468], \"Term\": [\"act\", \"act\", \"act\", \"act\", \"act\", \"actor\", \"actor\", \"actress\", \"album\", \"album\", \"album\", \"analyst\", \"analyst\", \"analyst\", \"anfield\", \"antivirus\", \"apple\", \"arsenal\", \"arsenal\", \"artist\", \"artist\", \"artist\", \"asylum\", \"asylum\", \"athens\", \"athletics\", \"auto\", \"aviator\", \"award\", \"award\", \"baikal\", \"band\", \"band\", \"band\", \"band\", \"bank\", \"bank\", \"bank\", \"bank\", \"bankruptcy\", \"bbc\", \"bbc\", \"bbc\", \"bbc\", \"bbc\", \"benitez\", \"best\", \"best\", \"best\", \"best\", \"best\", \"blair\", \"blair\", \"blair\", \"blog\", \"blogger\", \"blunkett\", \"blunkett\", \"bluray\", \"bn\", \"bn\", \"boeing\", \"boerse\", \"britain\", \"britain\", \"britain\", \"britain\", \"britain\", \"british\", \"british\", \"british\", \"british\", \"british\", \"broadband\", \"broadband\", \"brown\", \"brown\", \"brown\", \"browser\", \"budget\", \"budget\", \"budget\", \"budget\", \"business\", \"business\", \"business\", \"business\", \"business\", \"cabinet\", \"cabinet\", \"cabinet\", \"campaign\", \"campaign\", \"campaign\", \"campaign\", \"campaign\", \"captain\", \"captain\", \"captain\", \"carmaker\", \"category\", \"category\", \"category\", \"ceremony\", \"ceremony\", \"ceremony\", \"champion\", \"champion\", \"championship\", \"chancellor\", \"chancellor\", \"chart\", \"chart\", \"chief\", \"chief\", \"chief\", \"chief\", \"chief\", \"china\", \"china\", \"china\", \"claim\", \"claim\", \"claim\", \"claim\", \"claim\", \"club\", \"club\", \"club\", \"club\", \"club\", \"coach\", \"comedy\", \"comedy\", \"company\", \"company\", \"company\", \"company\", \"computer\", \"computer\", \"computing\", \"conservative\", \"conservative\", \"consumer\", \"consumer\", \"consumer\", \"conte\", \"content\", \"content\", \"content\", \"content\", \"cost\", \"cost\", \"cost\", \"cost\", \"cost\", \"council\", \"council\", \"council\", \"council\", \"country\", \"country\", \"country\", \"country\", \"country\", \"creditor\", \"cup\", \"currency\", \"cut\", \"cut\", \"cut\", \"cut\", \"cut\", \"dallaglio\", \"day\", \"day\", \"day\", \"day\", \"day\", \"deal\", \"deal\", \"deal\", \"deal\", \"deal\", \"december\", \"december\", \"december\", \"december\", \"december\", \"deficit\", \"deficit\", \"deficit\", \"dem\", \"dem\", \"demand\", \"demand\", \"demand\", \"demand\", \"demand\", \"democrat\", \"democrat\", \"democrat\", \"dems\", \"desktop\", \"detention\", \"device\", \"device\", \"device\", \"digital\", \"digital\", \"digital\", \"director\", \"director\", \"director\", \"director\", \"director\", \"documentary\", \"documentary\", \"dollar\", \"dollar\", \"domain\", \"download\", \"download\", \"drake\", \"drama\", \"drama\", \"drama\", \"eastwood\", \"ebbers\", \"economic\", \"economic\", \"economist\", \"economist\", \"economy\", \"economy\", \"education\", \"education\", \"education\", \"election\", \"election\", \"election\", \"election\", \"elvis\", \"email\", \"email\", \"england\", \"england\", \"england\", \"england\", \"england\", \"euro\", \"euro\", \"euronext\", \"exchange\", \"exchange\", \"exchange\", \"exchange\", \"expected\", \"expected\", \"expected\", \"expected\", \"expected\", \"export\", \"export\", \"federer\", \"festival\", \"fiat\", \"figure\", \"figure\", \"figure\", \"figure\", \"figure\", \"file\", \"file\", \"file\", \"film\", \"film\", \"film\", \"final\", \"final\", \"final\", \"final\", \"final\", \"financial\", \"financial\", \"financial\", \"financial\", \"firm\", \"firm\", \"firm\", \"firm\", \"forsyth\", \"france\", \"france\", \"france\", \"france\", \"fraud\", \"fraud\", \"fraud\", \"gadget\", \"game\", \"game\", \"game\", \"game\", \"game\", \"gas\", \"gas\", \"gazprom\", \"gdp\", \"general\", \"general\", \"general\", \"general\", \"general\", \"gerrard\", \"gerrard\", \"glazer\", \"gm\", \"goal\", \"goal\", \"goal\", \"goal\", \"goal\", \"goldsmith\", \"good\", \"good\", \"good\", \"good\", \"good\", \"google\", \"government\", \"government\", \"government\", \"government\", \"grand\", \"grand\", \"grand\", \"grand\", \"grand\", \"great\", \"great\", \"great\", \"great\", \"great\", \"group\", \"group\", \"group\", \"group\", \"group\", \"growth\", \"growth\", \"growth\", \"halftime\", \"handset\", \"health\", \"health\", \"health\", \"health\", \"henman\", \"henson\", \"highdefinition\", \"hollywood\", \"hollywood\", \"holmes\", \"howard\", \"howard\", \"howard\", \"hunting\", \"hunting\", \"hunting\", \"iaaf\", \"ibm\", \"im\", \"im\", \"im\", \"im\", \"including\", \"including\", \"including\", \"including\", \"including\", \"india\", \"india\", \"india\", \"india\", \"indoor\", \"information\", \"information\", \"information\", \"information\", \"information\", \"injury\", \"injury\", \"injury\", \"insurer\", \"internet\", \"internet\", \"internet\", \"investment\", \"investment\", \"investment\", \"investment\", \"investor\", \"investor\", \"ipod\", \"ireland\", \"ireland\", \"ireland\", \"ireland\", \"issue\", \"issue\", \"issue\", \"issue\", \"issue\", \"itunes\", \"joss\", \"juninho\", \"kennedy\", \"kennedy\", \"kennedy\", \"kenteris\", \"khodorkovsky\", \"kilroysilk\", \"labour\", \"labour\", \"labour\", \"laptop\", \"law\", \"law\", \"law\", \"law\", \"law\", \"leader\", \"leader\", \"leader\", \"leader\", \"leader\", \"league\", \"league\", \"league\", \"league\", \"lending\", \"letwin\", \"lib\", \"lib\", \"liberal\", \"liberal\", \"life\", \"life\", \"life\", \"life\", \"life\", \"like\", \"like\", \"like\", \"like\", \"like\", \"liverpool\", \"liverpool\", \"liverpool\", \"livingstone\", \"london\", \"london\", \"london\", \"london\", \"london\", \"lord\", \"lord\", \"lord\", \"lord\", \"lord\", \"lse\", \"machine\", \"machine\", \"machine\", \"malicious\", \"manifesto\", \"marathon\", \"market\", \"market\", \"market\", \"market\", \"match\", \"match\", \"match\", \"microsoft\", \"microsoft\", \"milburn\", \"million\", \"million\", \"million\", \"million\", \"mini\", \"mini\", \"minister\", \"minister\", \"minister\", \"minister\", \"minute\", \"minute\", \"minute\", \"minute\", \"minute\", \"mobile\", \"mobile\", \"month\", \"month\", \"month\", \"month\", \"month\", \"movie\", \"movie\", \"movie\", \"mp\", \"mp\", \"mp\", \"multimedia\", \"music\", \"music\", \"music\", \"musical\", \"musical\", \"musical\", \"nadal\", \"net\", \"net\", \"net\", \"net\", \"network\", \"network\", \"network\", \"network\", \"new\", \"new\", \"new\", \"new\", \"new\", \"nh\", \"nokia\", \"nominated\", \"nomination\", \"nominee\", \"number\", \"number\", \"number\", \"number\", \"number\", \"odriscoll\", \"office\", \"office\", \"office\", \"office\", \"ogara\", \"oil\", \"oil\", \"oil\", \"olympic\", \"online\", \"online\", \"online\", \"online\", \"online\", \"open\", \"open\", \"open\", \"open\", \"open\", \"oscar\", \"parmalat\", \"parry\", \"party\", \"party\", \"party\", \"party\", \"party\", \"pc\", \"pc\", \"pc\", \"pension\", \"pensioner\", \"people\", \"people\", \"people\", \"people\", \"people\", \"peston\", \"phone\", \"phone\", \"phone\", \"plan\", \"plan\", \"plan\", \"plan\", \"plan\", \"play\", \"play\", \"play\", \"play\", \"play\", \"player\", \"player\", \"player\", \"player\", \"player\", \"playing\", \"playing\", \"playing\", \"playing\", \"playing\", \"police\", \"police\", \"police\", \"police\", \"policy\", \"policy\", \"policy\", \"policy\", \"pop\", \"pop\", \"portable\", \"portable\", \"pp\", \"preelection\", \"prescott\", \"presenter\", \"price\", \"price\", \"price\", \"price\", \"price\", \"prime\", \"prime\", \"prime\", \"prize\", \"prize\", \"prize\", \"prize\", \"profit\", \"profit\", \"program\", \"program\", \"program\", \"proposal\", \"proposal\", \"proposal\", \"proposal\", \"public\", \"public\", \"public\", \"public\", \"public\", \"qantas\", \"quango\", \"quarter\", \"quarter\", \"quarter\", \"quarter\", \"quarter\", \"radcliffe\", \"rapper\", \"rate\", \"rate\", \"rate\", \"rate\", \"rate\", \"referee\", \"retail\", \"retail\", \"rift\", \"right\", \"right\", \"right\", \"right\", \"right\", \"rise\", \"rise\", \"rise\", \"rise\", \"rise\", \"robben\", \"robinson\", \"robinson\", \"robinson\", \"rock\", \"rock\", \"rock\", \"rock\", \"rock\", \"roddick\", \"role\", \"role\", \"role\", \"role\", \"role\", \"ronaldo\", \"rosneft\", \"rugby\", \"sale\", \"sale\", \"sale\", \"sale\", \"sale\", \"scorsese\", \"search\", \"search\", \"search\", \"search\", \"season\", \"season\", \"season\", \"season\", \"season\", \"second\", \"second\", \"second\", \"second\", \"second\", \"secretary\", \"secretary\", \"secretary\", \"seed\", \"seed\", \"semifinal\", \"server\", \"service\", \"service\", \"service\", \"service\", \"service\", \"set\", \"set\", \"set\", \"set\", \"set\", \"share\", \"share\", \"share\", \"share\", \"share\", \"shareholder\", \"shareholder\", \"shareholder\", \"sideways\", \"singer\", \"site\", \"site\", \"slam\", \"slam\", \"software\", \"software\", \"song\", \"song\", \"song\", \"spam\", \"sport\", \"sport\", \"sport\", \"sport\", \"sprinter\", \"spyware\", \"squad\", \"squad\", \"star\", \"star\", \"star\", \"star\", \"star\", \"starring\", \"stock\", \"stock\", \"tax\", \"tax\", \"taxpayer\", \"team\", \"team\", \"team\", \"team\", \"team\", \"technology\", \"technology\", \"tennis\", \"thanou\", \"theatre\", \"theatre\", \"title\", \"title\", \"title\", \"title\", \"title\", \"tobacco\", \"tony\", \"tony\", \"tony\", \"tory\", \"tory\", \"tournament\", \"trading\", \"trading\", \"tv\", \"tv\", \"tv\", \"tv\", \"uk\", \"uk\", \"uk\", \"uk\", \"uk\", \"ukip\", \"used\", \"used\", \"used\", \"used\", \"used\", \"user\", \"using\", \"using\", \"using\", \"using\", \"using\", \"victory\", \"victory\", \"victory\", \"victory\", \"video\", \"video\", \"video\", \"video\", \"virus\", \"virus\", \"virus\", \"wage\", \"wage\", \"wale\", \"wale\", \"wale\", \"wale\", \"want\", \"want\", \"want\", \"want\", \"want\", \"way\", \"way\", \"way\", \"way\", \"way\", \"web\", \"web\", \"website\", \"website\", \"website\", \"website\", \"website\", \"week\", \"week\", \"week\", \"week\", \"week\", \"wenger\", \"wifi\", \"win\", \"win\", \"win\", \"win\", \"win\", \"wireless\", \"wireless\", \"work\", \"work\", \"work\", \"work\", \"work\", \"world\", \"world\", \"world\", \"world\", \"world\", \"worldcom\", \"yahoo\", \"yearold\", \"yearold\", \"yearold\", \"yearold\", \"yearold\", \"yen\", \"yugansk\", \"yuganskneftegas\", \"yukos\", \"zealand\", \"zealand\"]}, \"R\": 30, \"lambda.step\": 0.01, \"plot.opts\": {\"xlab\": \"PC1\", \"ylab\": \"PC2\"}, \"topic.order\": [5, 2, 3, 4, 1]};\n",
              "\n",
              "function LDAvis_load_lib(url, callback){\n",
              "  var s = document.createElement('script');\n",
              "  s.src = url;\n",
              "  s.async = true;\n",
              "  s.onreadystatechange = s.onload = callback;\n",
              "  s.onerror = function(){console.warn(\"failed to load library \" + url);};\n",
              "  document.getElementsByTagName(\"head\")[0].appendChild(s);\n",
              "}\n",
              "\n",
              "if(typeof(LDAvis) !== \"undefined\"){\n",
              "   // already loaded: just create the visualization\n",
              "   !function(LDAvis){\n",
              "       new LDAvis(\"#\" + \"ldavis_el730991400221070826401532423463\", ldavis_el730991400221070826401532423463_data);\n",
              "   }(LDAvis);\n",
              "}else if(typeof define === \"function\" && define.amd){\n",
              "   // require.js is available: use it to load d3/LDAvis\n",
              "   require.config({paths: {d3: \"https://d3js.org/d3.v5\"}});\n",
              "   require([\"d3\"], function(d3){\n",
              "      window.d3 = d3;\n",
              "      LDAvis_load_lib(\"https://cdn.jsdelivr.net/gh/bmabey/pyLDAvis@3.3.1/pyLDAvis/js/ldavis.v3.0.0.js\", function(){\n",
              "        new LDAvis(\"#\" + \"ldavis_el730991400221070826401532423463\", ldavis_el730991400221070826401532423463_data);\n",
              "      });\n",
              "    });\n",
              "}else{\n",
              "    // require.js not available: dynamically load d3 & LDAvis\n",
              "    LDAvis_load_lib(\"https://d3js.org/d3.v5.js\", function(){\n",
              "         LDAvis_load_lib(\"https://cdn.jsdelivr.net/gh/bmabey/pyLDAvis@3.3.1/pyLDAvis/js/ldavis.v3.0.0.js\", function(){\n",
              "                 new LDAvis(\"#\" + \"ldavis_el730991400221070826401532423463\", ldavis_el730991400221070826401532423463_data);\n",
              "            })\n",
              "         });\n",
              "}\n",
              "</script>"
            ]
          },
          "metadata": {},
          "execution_count": 84
        }
      ]
    },
    {
      "cell_type": "markdown",
      "source": [
        "## As we hover over the topics bubble , we get the list of words & term frequency on right side."
      ],
      "metadata": {
        "id": "843v0-dFRHFO"
      },
      "id": "843v0-dFRHFO"
    },
    {
      "cell_type": "markdown",
      "source": [
        "## *Insight* : LDA pretty much, correctly gave us the topics we wanted for given bag of words."
      ],
      "metadata": {
        "id": "gsjlyHdQOuBk"
      },
      "id": "gsjlyHdQOuBk"
    },
    {
      "cell_type": "markdown",
      "source": [
        "# **Non-Matrix Factorization(NMF):-**"
      ],
      "metadata": {
        "id": "gluNqrUO2MR4"
      },
      "id": "gluNqrUO2MR4"
    },
    {
      "cell_type": "markdown",
      "source": [
        "## NMF- Model 1 (Frobenius norm:*Default*)"
      ],
      "metadata": {
        "id": "HeMW00Vh7Uu6"
      },
      "id": "HeMW00Vh7Uu6"
    },
    {
      "cell_type": "code",
      "source": [
        "nmf1 = NMF(n_components=number_topics)\n",
        "nmf_model1 = nmf1.fit_transform(count_data)"
      ],
      "metadata": {
        "id": "bmUvgtHT4ipj"
      },
      "id": "bmUvgtHT4ipj",
      "execution_count": 85,
      "outputs": []
    },
    {
      "cell_type": "code",
      "source": [
        "nmf1_top_words = create_top_words_dict(nmf1, feature_names , top_words)\n",
        "print(nmf1_top_words)"
      ],
      "metadata": {
        "colab": {
          "base_uri": "https://localhost:8080/"
        },
        "id": "OvtSkg77qTbp",
        "outputId": "e276672c-e390-481b-9fda-2afca78dafd8"
      },
      "id": "OvtSkg77qTbp",
      "execution_count": 86,
      "outputs": [
        {
          "output_type": "stream",
          "name": "stdout",
          "text": [
            "{0: ['party', 'labour', 'government', 'election', 'blair', 'people', 'tory', 'minister', 'new', 'brown', 'plan', 'tax', 'howard', 'lord', 'prime', 'country', 'public', 'leader', 'britain', 'right'], 1: ['best', 'song', 'music', 'award', 'angel', 'film', 'robbie', 'british', 'think', 'urban', 'dont', 'prize', 'like', 'good', 'artist', 'people', 'stone', 'really', 'album', 'im'], 2: ['people', 'mobile', 'phone', 'technology', 'service', 'music', 'user', 'network', 'digital', 'tv', 'new', 'net', 'firm', 'way', 'computer', 'gadget', 'company', 'number', 'video', 'broadband'], 3: ['game', 'player', 'new', 'world', 'play', 'england', 'win', 'playing', 'wale', 'gaming', 'team', 'roddick', 'point', 'like', 'title', 'set', 'hour', 'match', 'ireland', 'nadal'], 4: ['wage', 'increase', 'bn', 'company', 'minimum', 'business', 'government', 'tax', 'market', 'rate', 'job', 'economy', 'pay', 'firm', 'price', 'bank', 'rise', 'people', 'sale', 'country']}\n"
          ]
        }
      ]
    },
    {
      "cell_type": "code",
      "source": [
        "nmf1_df = pd.DataFrame([nmf1_top_words]).T\n",
        "nmf1_df"
      ],
      "metadata": {
        "colab": {
          "base_uri": "https://localhost:8080/",
          "height": 206
        },
        "id": "05kvejc_8CkL",
        "outputId": "bfc3d7fe-0c78-414a-dbb5-2e191f67a2eb"
      },
      "id": "05kvejc_8CkL",
      "execution_count": 87,
      "outputs": [
        {
          "output_type": "execute_result",
          "data": {
            "text/plain": [
              "                                                                                                                                                           0\n",
              "0  [party, labour, government, election, blair, people, tory, minister, new, brown, plan, tax, howard, lord, prime, country, public, leader, britain, right]\n",
              "1                  [best, song, music, award, angel, film, robbie, british, think, urban, dont, prize, like, good, artist, people, stone, really, album, im]\n",
              "2  [people, mobile, phone, technology, service, music, user, network, digital, tv, new, net, firm, way, computer, gadget, company, number, video, broadband]\n",
              "3                 [game, player, new, world, play, england, win, playing, wale, gaming, team, roddick, point, like, title, set, hour, match, ireland, nadal]\n",
              "4         [wage, increase, bn, company, minimum, business, government, tax, market, rate, job, economy, pay, firm, price, bank, rise, people, sale, country]"
            ],
            "text/html": [
              "\n",
              "  <div id=\"df-71541a06-01f3-4c21-9a53-ca5407ea49a1\">\n",
              "    <div class=\"colab-df-container\">\n",
              "      <div>\n",
              "<style scoped>\n",
              "    .dataframe tbody tr th:only-of-type {\n",
              "        vertical-align: middle;\n",
              "    }\n",
              "\n",
              "    .dataframe tbody tr th {\n",
              "        vertical-align: top;\n",
              "    }\n",
              "\n",
              "    .dataframe thead th {\n",
              "        text-align: right;\n",
              "    }\n",
              "</style>\n",
              "<table border=\"1\" class=\"dataframe\">\n",
              "  <thead>\n",
              "    <tr style=\"text-align: right;\">\n",
              "      <th></th>\n",
              "      <th>0</th>\n",
              "    </tr>\n",
              "  </thead>\n",
              "  <tbody>\n",
              "    <tr>\n",
              "      <th>0</th>\n",
              "      <td>[party, labour, government, election, blair, people, tory, minister, new, brown, plan, tax, howard, lord, prime, country, public, leader, britain, right]</td>\n",
              "    </tr>\n",
              "    <tr>\n",
              "      <th>1</th>\n",
              "      <td>[best, song, music, award, angel, film, robbie, british, think, urban, dont, prize, like, good, artist, people, stone, really, album, im]</td>\n",
              "    </tr>\n",
              "    <tr>\n",
              "      <th>2</th>\n",
              "      <td>[people, mobile, phone, technology, service, music, user, network, digital, tv, new, net, firm, way, computer, gadget, company, number, video, broadband]</td>\n",
              "    </tr>\n",
              "    <tr>\n",
              "      <th>3</th>\n",
              "      <td>[game, player, new, world, play, england, win, playing, wale, gaming, team, roddick, point, like, title, set, hour, match, ireland, nadal]</td>\n",
              "    </tr>\n",
              "    <tr>\n",
              "      <th>4</th>\n",
              "      <td>[wage, increase, bn, company, minimum, business, government, tax, market, rate, job, economy, pay, firm, price, bank, rise, people, sale, country]</td>\n",
              "    </tr>\n",
              "  </tbody>\n",
              "</table>\n",
              "</div>\n",
              "      <button class=\"colab-df-convert\" onclick=\"convertToInteractive('df-71541a06-01f3-4c21-9a53-ca5407ea49a1')\"\n",
              "              title=\"Convert this dataframe to an interactive table.\"\n",
              "              style=\"display:none;\">\n",
              "        \n",
              "  <svg xmlns=\"http://www.w3.org/2000/svg\" height=\"24px\"viewBox=\"0 0 24 24\"\n",
              "       width=\"24px\">\n",
              "    <path d=\"M0 0h24v24H0V0z\" fill=\"none\"/>\n",
              "    <path d=\"M18.56 5.44l.94 2.06.94-2.06 2.06-.94-2.06-.94-.94-2.06-.94 2.06-2.06.94zm-11 1L8.5 8.5l.94-2.06 2.06-.94-2.06-.94L8.5 2.5l-.94 2.06-2.06.94zm10 10l.94 2.06.94-2.06 2.06-.94-2.06-.94-.94-2.06-.94 2.06-2.06.94z\"/><path d=\"M17.41 7.96l-1.37-1.37c-.4-.4-.92-.59-1.43-.59-.52 0-1.04.2-1.43.59L10.3 9.45l-7.72 7.72c-.78.78-.78 2.05 0 2.83L4 21.41c.39.39.9.59 1.41.59.51 0 1.02-.2 1.41-.59l7.78-7.78 2.81-2.81c.8-.78.8-2.07 0-2.86zM5.41 20L4 18.59l7.72-7.72 1.47 1.35L5.41 20z\"/>\n",
              "  </svg>\n",
              "      </button>\n",
              "      \n",
              "  <style>\n",
              "    .colab-df-container {\n",
              "      display:flex;\n",
              "      flex-wrap:wrap;\n",
              "      gap: 12px;\n",
              "    }\n",
              "\n",
              "    .colab-df-convert {\n",
              "      background-color: #E8F0FE;\n",
              "      border: none;\n",
              "      border-radius: 50%;\n",
              "      cursor: pointer;\n",
              "      display: none;\n",
              "      fill: #1967D2;\n",
              "      height: 32px;\n",
              "      padding: 0 0 0 0;\n",
              "      width: 32px;\n",
              "    }\n",
              "\n",
              "    .colab-df-convert:hover {\n",
              "      background-color: #E2EBFA;\n",
              "      box-shadow: 0px 1px 2px rgba(60, 64, 67, 0.3), 0px 1px 3px 1px rgba(60, 64, 67, 0.15);\n",
              "      fill: #174EA6;\n",
              "    }\n",
              "\n",
              "    [theme=dark] .colab-df-convert {\n",
              "      background-color: #3B4455;\n",
              "      fill: #D2E3FC;\n",
              "    }\n",
              "\n",
              "    [theme=dark] .colab-df-convert:hover {\n",
              "      background-color: #434B5C;\n",
              "      box-shadow: 0px 1px 3px 1px rgba(0, 0, 0, 0.15);\n",
              "      filter: drop-shadow(0px 1px 2px rgba(0, 0, 0, 0.3));\n",
              "      fill: #FFFFFF;\n",
              "    }\n",
              "  </style>\n",
              "\n",
              "      <script>\n",
              "        const buttonEl =\n",
              "          document.querySelector('#df-71541a06-01f3-4c21-9a53-ca5407ea49a1 button.colab-df-convert');\n",
              "        buttonEl.style.display =\n",
              "          google.colab.kernel.accessAllowed ? 'block' : 'none';\n",
              "\n",
              "        async function convertToInteractive(key) {\n",
              "          const element = document.querySelector('#df-71541a06-01f3-4c21-9a53-ca5407ea49a1');\n",
              "          const dataTable =\n",
              "            await google.colab.kernel.invokeFunction('convertToInteractive',\n",
              "                                                     [key], {});\n",
              "          if (!dataTable) return;\n",
              "\n",
              "          const docLinkHtml = 'Like what you see? Visit the ' +\n",
              "            '<a target=\"_blank\" href=https://colab.research.google.com/notebooks/data_table.ipynb>data table notebook</a>'\n",
              "            + ' to learn more about interactive tables.';\n",
              "          element.innerHTML = '';\n",
              "          dataTable['output_type'] = 'display_data';\n",
              "          await google.colab.output.renderOutput(dataTable, element);\n",
              "          const docLink = document.createElement('div');\n",
              "          docLink.innerHTML = docLinkHtml;\n",
              "          element.appendChild(docLink);\n",
              "        }\n",
              "      </script>\n",
              "    </div>\n",
              "  </div>\n",
              "  "
            ]
          },
          "metadata": {},
          "execution_count": 87
        }
      ]
    },
    {
      "cell_type": "code",
      "source": [
        "nmf1_df.rename(columns = {0: 'Top 20 words'}, inplace = True)\n",
        "nmf1_df.rename(index = {0: 'Topic 1', 1: 'Topic 2' , 2: 'Topic 3' , 3: 'Topic 4' , 4 : 'Topic 5'}, inplace = True)\n",
        "nmf1_df"
      ],
      "metadata": {
        "colab": {
          "base_uri": "https://localhost:8080/",
          "height": 206
        },
        "id": "ZRwdKDtm8mEI",
        "outputId": "dc4a7fc7-666e-450d-e5fe-a929013f69ee"
      },
      "id": "ZRwdKDtm8mEI",
      "execution_count": 88,
      "outputs": [
        {
          "output_type": "execute_result",
          "data": {
            "text/plain": [
              "                                                                                                                                                      Top 20 words\n",
              "Topic 1  [party, labour, government, election, blair, people, tory, minister, new, brown, plan, tax, howard, lord, prime, country, public, leader, britain, right]\n",
              "Topic 2                  [best, song, music, award, angel, film, robbie, british, think, urban, dont, prize, like, good, artist, people, stone, really, album, im]\n",
              "Topic 3  [people, mobile, phone, technology, service, music, user, network, digital, tv, new, net, firm, way, computer, gadget, company, number, video, broadband]\n",
              "Topic 4                 [game, player, new, world, play, england, win, playing, wale, gaming, team, roddick, point, like, title, set, hour, match, ireland, nadal]\n",
              "Topic 5         [wage, increase, bn, company, minimum, business, government, tax, market, rate, job, economy, pay, firm, price, bank, rise, people, sale, country]"
            ],
            "text/html": [
              "\n",
              "  <div id=\"df-58909f88-802f-4c86-92b3-c50f4b521a95\">\n",
              "    <div class=\"colab-df-container\">\n",
              "      <div>\n",
              "<style scoped>\n",
              "    .dataframe tbody tr th:only-of-type {\n",
              "        vertical-align: middle;\n",
              "    }\n",
              "\n",
              "    .dataframe tbody tr th {\n",
              "        vertical-align: top;\n",
              "    }\n",
              "\n",
              "    .dataframe thead th {\n",
              "        text-align: right;\n",
              "    }\n",
              "</style>\n",
              "<table border=\"1\" class=\"dataframe\">\n",
              "  <thead>\n",
              "    <tr style=\"text-align: right;\">\n",
              "      <th></th>\n",
              "      <th>Top 20 words</th>\n",
              "    </tr>\n",
              "  </thead>\n",
              "  <tbody>\n",
              "    <tr>\n",
              "      <th>Topic 1</th>\n",
              "      <td>[party, labour, government, election, blair, people, tory, minister, new, brown, plan, tax, howard, lord, prime, country, public, leader, britain, right]</td>\n",
              "    </tr>\n",
              "    <tr>\n",
              "      <th>Topic 2</th>\n",
              "      <td>[best, song, music, award, angel, film, robbie, british, think, urban, dont, prize, like, good, artist, people, stone, really, album, im]</td>\n",
              "    </tr>\n",
              "    <tr>\n",
              "      <th>Topic 3</th>\n",
              "      <td>[people, mobile, phone, technology, service, music, user, network, digital, tv, new, net, firm, way, computer, gadget, company, number, video, broadband]</td>\n",
              "    </tr>\n",
              "    <tr>\n",
              "      <th>Topic 4</th>\n",
              "      <td>[game, player, new, world, play, england, win, playing, wale, gaming, team, roddick, point, like, title, set, hour, match, ireland, nadal]</td>\n",
              "    </tr>\n",
              "    <tr>\n",
              "      <th>Topic 5</th>\n",
              "      <td>[wage, increase, bn, company, minimum, business, government, tax, market, rate, job, economy, pay, firm, price, bank, rise, people, sale, country]</td>\n",
              "    </tr>\n",
              "  </tbody>\n",
              "</table>\n",
              "</div>\n",
              "      <button class=\"colab-df-convert\" onclick=\"convertToInteractive('df-58909f88-802f-4c86-92b3-c50f4b521a95')\"\n",
              "              title=\"Convert this dataframe to an interactive table.\"\n",
              "              style=\"display:none;\">\n",
              "        \n",
              "  <svg xmlns=\"http://www.w3.org/2000/svg\" height=\"24px\"viewBox=\"0 0 24 24\"\n",
              "       width=\"24px\">\n",
              "    <path d=\"M0 0h24v24H0V0z\" fill=\"none\"/>\n",
              "    <path d=\"M18.56 5.44l.94 2.06.94-2.06 2.06-.94-2.06-.94-.94-2.06-.94 2.06-2.06.94zm-11 1L8.5 8.5l.94-2.06 2.06-.94-2.06-.94L8.5 2.5l-.94 2.06-2.06.94zm10 10l.94 2.06.94-2.06 2.06-.94-2.06-.94-.94-2.06-.94 2.06-2.06.94z\"/><path d=\"M17.41 7.96l-1.37-1.37c-.4-.4-.92-.59-1.43-.59-.52 0-1.04.2-1.43.59L10.3 9.45l-7.72 7.72c-.78.78-.78 2.05 0 2.83L4 21.41c.39.39.9.59 1.41.59.51 0 1.02-.2 1.41-.59l7.78-7.78 2.81-2.81c.8-.78.8-2.07 0-2.86zM5.41 20L4 18.59l7.72-7.72 1.47 1.35L5.41 20z\"/>\n",
              "  </svg>\n",
              "      </button>\n",
              "      \n",
              "  <style>\n",
              "    .colab-df-container {\n",
              "      display:flex;\n",
              "      flex-wrap:wrap;\n",
              "      gap: 12px;\n",
              "    }\n",
              "\n",
              "    .colab-df-convert {\n",
              "      background-color: #E8F0FE;\n",
              "      border: none;\n",
              "      border-radius: 50%;\n",
              "      cursor: pointer;\n",
              "      display: none;\n",
              "      fill: #1967D2;\n",
              "      height: 32px;\n",
              "      padding: 0 0 0 0;\n",
              "      width: 32px;\n",
              "    }\n",
              "\n",
              "    .colab-df-convert:hover {\n",
              "      background-color: #E2EBFA;\n",
              "      box-shadow: 0px 1px 2px rgba(60, 64, 67, 0.3), 0px 1px 3px 1px rgba(60, 64, 67, 0.15);\n",
              "      fill: #174EA6;\n",
              "    }\n",
              "\n",
              "    [theme=dark] .colab-df-convert {\n",
              "      background-color: #3B4455;\n",
              "      fill: #D2E3FC;\n",
              "    }\n",
              "\n",
              "    [theme=dark] .colab-df-convert:hover {\n",
              "      background-color: #434B5C;\n",
              "      box-shadow: 0px 1px 3px 1px rgba(0, 0, 0, 0.15);\n",
              "      filter: drop-shadow(0px 1px 2px rgba(0, 0, 0, 0.3));\n",
              "      fill: #FFFFFF;\n",
              "    }\n",
              "  </style>\n",
              "\n",
              "      <script>\n",
              "        const buttonEl =\n",
              "          document.querySelector('#df-58909f88-802f-4c86-92b3-c50f4b521a95 button.colab-df-convert');\n",
              "        buttonEl.style.display =\n",
              "          google.colab.kernel.accessAllowed ? 'block' : 'none';\n",
              "\n",
              "        async function convertToInteractive(key) {\n",
              "          const element = document.querySelector('#df-58909f88-802f-4c86-92b3-c50f4b521a95');\n",
              "          const dataTable =\n",
              "            await google.colab.kernel.invokeFunction('convertToInteractive',\n",
              "                                                     [key], {});\n",
              "          if (!dataTable) return;\n",
              "\n",
              "          const docLinkHtml = 'Like what you see? Visit the ' +\n",
              "            '<a target=\"_blank\" href=https://colab.research.google.com/notebooks/data_table.ipynb>data table notebook</a>'\n",
              "            + ' to learn more about interactive tables.';\n",
              "          element.innerHTML = '';\n",
              "          dataTable['output_type'] = 'display_data';\n",
              "          await google.colab.output.renderOutput(dataTable, element);\n",
              "          const docLink = document.createElement('div');\n",
              "          docLink.innerHTML = docLinkHtml;\n",
              "          element.appendChild(docLink);\n",
              "        }\n",
              "      </script>\n",
              "    </div>\n",
              "  </div>\n",
              "  "
            ]
          },
          "metadata": {},
          "execution_count": 88
        }
      ]
    },
    {
      "cell_type": "markdown",
      "source": [
        "## *Insight* : NMF-Model 1 correctly represents the topics for given BoW"
      ],
      "metadata": {
        "id": "zBYtEJ9vEj8v"
      },
      "id": "zBYtEJ9vEj8v"
    },
    {
      "cell_type": "markdown",
      "source": [
        "## NMF-Model 2 (Kullback-Leibler Divergence)"
      ],
      "metadata": {
        "id": "62-NgqNK9A_x"
      },
      "id": "62-NgqNK9A_x"
    },
    {
      "cell_type": "code",
      "source": [
        "nmf2 = NMF(n_components=number_topics, beta_loss='kullback-leibler', solver = 'mu')\n",
        "nmf_model2 = nmf2.fit_transform(count_data)"
      ],
      "metadata": {
        "id": "0vF5EmyZ4ijt"
      },
      "id": "0vF5EmyZ4ijt",
      "execution_count": 89,
      "outputs": []
    },
    {
      "cell_type": "code",
      "source": [
        "nmf2_top_words = create_top_words_dict(nmf2 ,feature_names , top_words)\n",
        "print(nmf2_top_words)"
      ],
      "metadata": {
        "colab": {
          "base_uri": "https://localhost:8080/"
        },
        "id": "xol134dN_ZdA",
        "outputId": "e434b5dd-14b1-4494-a28e-2f28e4d177f7"
      },
      "id": "xol134dN_ZdA",
      "execution_count": 90,
      "outputs": [
        {
          "output_type": "stream",
          "name": "stdout",
          "text": [
            "{0: ['people', 'new', 'government', 'uk', 'labour', 'party', 'minister', 'bbc', 'plan', 'election', 'blair', 'right', 'public', 'number', 'tory', 'way', 'country', 'work', 'come', 'home'], 1: ['film', 'music', 'best', 'award', 'star', 'song', 'band', 'actor', 'album', 'director', 'oscar', 'tv', 'prize', 'british', 'single', 'movie', 'chart', 'including', 'festival', 'role'], 2: ['game', 'technology', 'mobile', 'phone', 'user', 'service', 'net', 'computer', 'network', 'new', 'firm', 'digital', 'company', 'video', 'software', 'way', 'used', 'player', 'online', 'tv'], 3: ['game', 'player', 'win', 'england', 'world', 'match', 'play', 'team', 'club', 'second', 'cup', 'ireland', 'wale', 'champion', 'coach', 'injury', 'final', 'season', 'set', 'good'], 4: ['bn', 'company', 'sale', 'market', 'firm', 'bank', 'price', 'share', 'growth', 'economy', 'month', 'new', 'economic', 'oil', 'rate', 'analyst', 'business', 'country', 'china', 'dollar']}\n"
          ]
        }
      ]
    },
    {
      "cell_type": "code",
      "source": [
        "nmf2_df = pd.DataFrame([nmf2_top_words]).T\n",
        "nmf2_df.rename(columns = {0: 'Top 20 words'}, inplace = True)\n",
        "nmf2_df.rename(index = {0: 'Topic 1', 1: 'Topic 2' , 2: 'Topic 3' , 3: 'Topic 4' , 4 : 'Topic 5'}, inplace = True)\n",
        "nmf2_df"
      ],
      "metadata": {
        "colab": {
          "base_uri": "https://localhost:8080/",
          "height": 206
        },
        "id": "ElNb8Bux_ZaM",
        "outputId": "9564c958-c53a-402b-f8de-56b2fda6d438"
      },
      "id": "ElNb8Bux_ZaM",
      "execution_count": 91,
      "outputs": [
        {
          "output_type": "execute_result",
          "data": {
            "text/plain": [
              "                                                                                                                                                  Top 20 words\n",
              "Topic 1        [people, new, government, uk, labour, party, minister, bbc, plan, election, blair, right, public, number, tory, way, country, work, come, home]\n",
              "Topic 2       [film, music, best, award, star, song, band, actor, album, director, oscar, tv, prize, british, single, movie, chart, including, festival, role]\n",
              "Topic 3  [game, technology, mobile, phone, user, service, net, computer, network, new, firm, digital, company, video, software, way, used, player, online, tv]\n",
              "Topic 4            [game, player, win, england, world, match, play, team, club, second, cup, ireland, wale, champion, coach, injury, final, season, set, good]\n",
              "Topic 5     [bn, company, sale, market, firm, bank, price, share, growth, economy, month, new, economic, oil, rate, analyst, business, country, china, dollar]"
            ],
            "text/html": [
              "\n",
              "  <div id=\"df-a9b5480e-87d0-4d9d-9b55-c6421637bf6f\">\n",
              "    <div class=\"colab-df-container\">\n",
              "      <div>\n",
              "<style scoped>\n",
              "    .dataframe tbody tr th:only-of-type {\n",
              "        vertical-align: middle;\n",
              "    }\n",
              "\n",
              "    .dataframe tbody tr th {\n",
              "        vertical-align: top;\n",
              "    }\n",
              "\n",
              "    .dataframe thead th {\n",
              "        text-align: right;\n",
              "    }\n",
              "</style>\n",
              "<table border=\"1\" class=\"dataframe\">\n",
              "  <thead>\n",
              "    <tr style=\"text-align: right;\">\n",
              "      <th></th>\n",
              "      <th>Top 20 words</th>\n",
              "    </tr>\n",
              "  </thead>\n",
              "  <tbody>\n",
              "    <tr>\n",
              "      <th>Topic 1</th>\n",
              "      <td>[people, new, government, uk, labour, party, minister, bbc, plan, election, blair, right, public, number, tory, way, country, work, come, home]</td>\n",
              "    </tr>\n",
              "    <tr>\n",
              "      <th>Topic 2</th>\n",
              "      <td>[film, music, best, award, star, song, band, actor, album, director, oscar, tv, prize, british, single, movie, chart, including, festival, role]</td>\n",
              "    </tr>\n",
              "    <tr>\n",
              "      <th>Topic 3</th>\n",
              "      <td>[game, technology, mobile, phone, user, service, net, computer, network, new, firm, digital, company, video, software, way, used, player, online, tv]</td>\n",
              "    </tr>\n",
              "    <tr>\n",
              "      <th>Topic 4</th>\n",
              "      <td>[game, player, win, england, world, match, play, team, club, second, cup, ireland, wale, champion, coach, injury, final, season, set, good]</td>\n",
              "    </tr>\n",
              "    <tr>\n",
              "      <th>Topic 5</th>\n",
              "      <td>[bn, company, sale, market, firm, bank, price, share, growth, economy, month, new, economic, oil, rate, analyst, business, country, china, dollar]</td>\n",
              "    </tr>\n",
              "  </tbody>\n",
              "</table>\n",
              "</div>\n",
              "      <button class=\"colab-df-convert\" onclick=\"convertToInteractive('df-a9b5480e-87d0-4d9d-9b55-c6421637bf6f')\"\n",
              "              title=\"Convert this dataframe to an interactive table.\"\n",
              "              style=\"display:none;\">\n",
              "        \n",
              "  <svg xmlns=\"http://www.w3.org/2000/svg\" height=\"24px\"viewBox=\"0 0 24 24\"\n",
              "       width=\"24px\">\n",
              "    <path d=\"M0 0h24v24H0V0z\" fill=\"none\"/>\n",
              "    <path d=\"M18.56 5.44l.94 2.06.94-2.06 2.06-.94-2.06-.94-.94-2.06-.94 2.06-2.06.94zm-11 1L8.5 8.5l.94-2.06 2.06-.94-2.06-.94L8.5 2.5l-.94 2.06-2.06.94zm10 10l.94 2.06.94-2.06 2.06-.94-2.06-.94-.94-2.06-.94 2.06-2.06.94z\"/><path d=\"M17.41 7.96l-1.37-1.37c-.4-.4-.92-.59-1.43-.59-.52 0-1.04.2-1.43.59L10.3 9.45l-7.72 7.72c-.78.78-.78 2.05 0 2.83L4 21.41c.39.39.9.59 1.41.59.51 0 1.02-.2 1.41-.59l7.78-7.78 2.81-2.81c.8-.78.8-2.07 0-2.86zM5.41 20L4 18.59l7.72-7.72 1.47 1.35L5.41 20z\"/>\n",
              "  </svg>\n",
              "      </button>\n",
              "      \n",
              "  <style>\n",
              "    .colab-df-container {\n",
              "      display:flex;\n",
              "      flex-wrap:wrap;\n",
              "      gap: 12px;\n",
              "    }\n",
              "\n",
              "    .colab-df-convert {\n",
              "      background-color: #E8F0FE;\n",
              "      border: none;\n",
              "      border-radius: 50%;\n",
              "      cursor: pointer;\n",
              "      display: none;\n",
              "      fill: #1967D2;\n",
              "      height: 32px;\n",
              "      padding: 0 0 0 0;\n",
              "      width: 32px;\n",
              "    }\n",
              "\n",
              "    .colab-df-convert:hover {\n",
              "      background-color: #E2EBFA;\n",
              "      box-shadow: 0px 1px 2px rgba(60, 64, 67, 0.3), 0px 1px 3px 1px rgba(60, 64, 67, 0.15);\n",
              "      fill: #174EA6;\n",
              "    }\n",
              "\n",
              "    [theme=dark] .colab-df-convert {\n",
              "      background-color: #3B4455;\n",
              "      fill: #D2E3FC;\n",
              "    }\n",
              "\n",
              "    [theme=dark] .colab-df-convert:hover {\n",
              "      background-color: #434B5C;\n",
              "      box-shadow: 0px 1px 3px 1px rgba(0, 0, 0, 0.15);\n",
              "      filter: drop-shadow(0px 1px 2px rgba(0, 0, 0, 0.3));\n",
              "      fill: #FFFFFF;\n",
              "    }\n",
              "  </style>\n",
              "\n",
              "      <script>\n",
              "        const buttonEl =\n",
              "          document.querySelector('#df-a9b5480e-87d0-4d9d-9b55-c6421637bf6f button.colab-df-convert');\n",
              "        buttonEl.style.display =\n",
              "          google.colab.kernel.accessAllowed ? 'block' : 'none';\n",
              "\n",
              "        async function convertToInteractive(key) {\n",
              "          const element = document.querySelector('#df-a9b5480e-87d0-4d9d-9b55-c6421637bf6f');\n",
              "          const dataTable =\n",
              "            await google.colab.kernel.invokeFunction('convertToInteractive',\n",
              "                                                     [key], {});\n",
              "          if (!dataTable) return;\n",
              "\n",
              "          const docLinkHtml = 'Like what you see? Visit the ' +\n",
              "            '<a target=\"_blank\" href=https://colab.research.google.com/notebooks/data_table.ipynb>data table notebook</a>'\n",
              "            + ' to learn more about interactive tables.';\n",
              "          element.innerHTML = '';\n",
              "          dataTable['output_type'] = 'display_data';\n",
              "          await google.colab.output.renderOutput(dataTable, element);\n",
              "          const docLink = document.createElement('div');\n",
              "          docLink.innerHTML = docLinkHtml;\n",
              "          element.appendChild(docLink);\n",
              "        }\n",
              "      </script>\n",
              "    </div>\n",
              "  </div>\n",
              "  "
            ]
          },
          "metadata": {},
          "execution_count": 91
        }
      ]
    },
    {
      "cell_type": "markdown",
      "source": [
        "## *Insight* : NMF-Model 2 correctly represents the topic for given BoW"
      ],
      "metadata": {
        "id": "KfejXt-uE9ua"
      },
      "id": "KfejXt-uE9ua"
    },
    {
      "cell_type": "code",
      "source": [],
      "metadata": {
        "id": "U5wFopPI_gx8"
      },
      "id": "U5wFopPI_gx8",
      "execution_count": 91,
      "outputs": []
    }
  ],
  "metadata": {
    "kernelspec": {
      "display_name": "Python 3 (ipykernel)",
      "language": "python",
      "name": "python3"
    },
    "language_info": {
      "codemirror_mode": {
        "name": "ipython",
        "version": 3
      },
      "file_extension": ".py",
      "mimetype": "text/x-python",
      "name": "python",
      "nbconvert_exporter": "python",
      "pygments_lexer": "ipython3",
      "version": "3.9.13"
    },
    "colab": {
      "provenance": [],
      "include_colab_link": true
    }
  },
  "nbformat": 4,
  "nbformat_minor": 5
}